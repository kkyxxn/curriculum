{
 "cells": [
  {
   "cell_type": "code",
   "execution_count": 1,
   "id": "39e41405",
   "metadata": {},
   "outputs": [
    {
     "name": "stdout",
     "output_type": "stream",
     "text": [
      "Collecting SpeechRecognition\n",
      "  Downloading SpeechRecognition-3.8.1-py2.py3-none-any.whl (32.8 MB)\n",
      "Installing collected packages: SpeechRecognition\n",
      "Successfully installed SpeechRecognition-3.8.1\n"
     ]
    }
   ],
   "source": [
    "!pip install SpeechRecognition"
   ]
  },
  {
   "cell_type": "code",
   "execution_count": 2,
   "id": "f177660b",
   "metadata": {},
   "outputs": [
    {
     "name": "stdout",
     "output_type": "stream",
     "text": [
      "Collecting librosa\n",
      "  Downloading librosa-0.9.0-py3-none-any.whl (211 kB)\n",
      "Collecting pooch>=1.0\n",
      "  Downloading pooch-1.6.0-py3-none-any.whl (56 kB)\n",
      "Requirement already satisfied: decorator>=4.0.10 in c:\\users\\home\\anaconda3\\envs\\cakd5\\lib\\site-packages (from librosa) (5.1.0)\n",
      "Requirement already satisfied: packaging>=20.0 in c:\\users\\home\\anaconda3\\envs\\cakd5\\lib\\site-packages (from librosa) (21.3)\n",
      "Collecting numba>=0.45.1\n",
      "  Downloading numba-0.55.1-cp38-cp38-win_amd64.whl (2.4 MB)\n",
      "Collecting audioread>=2.1.5\n",
      "  Downloading audioread-2.1.9.tar.gz (377 kB)\n",
      "Requirement already satisfied: joblib>=0.14 in c:\\users\\home\\anaconda3\\envs\\cakd5\\lib\\site-packages (from librosa) (1.1.0)\n",
      "Collecting resampy>=0.2.2\n",
      "  Downloading resampy-0.2.2.tar.gz (323 kB)\n",
      "Requirement already satisfied: scikit-learn>=0.19.1 in c:\\users\\home\\anaconda3\\envs\\cakd5\\lib\\site-packages (from librosa) (1.0.2)\n",
      "Requirement already satisfied: numpy>=1.17.0 in c:\\users\\home\\anaconda3\\envs\\cakd5\\lib\\site-packages (from librosa) (1.21.2)\n",
      "Collecting soundfile>=0.10.2\n",
      "  Downloading SoundFile-0.10.3.post1-py2.py3.cp26.cp27.cp32.cp33.cp34.cp35.cp36.pp27.pp32.pp33-none-win_amd64.whl (689 kB)\n",
      "Requirement already satisfied: scipy>=1.2.0 in c:\\users\\home\\anaconda3\\envs\\cakd5\\lib\\site-packages (from librosa) (1.7.1)\n",
      "Collecting llvmlite<0.39,>=0.38.0rc1\n",
      "  Downloading llvmlite-0.38.0-cp38-cp38-win_amd64.whl (23.2 MB)\n",
      "Requirement already satisfied: setuptools in c:\\users\\home\\anaconda3\\envs\\cakd5\\lib\\site-packages (from numba>=0.45.1->librosa) (58.0.4)\n",
      "Requirement already satisfied: pyparsing!=3.0.5,>=2.0.2 in c:\\users\\home\\anaconda3\\envs\\cakd5\\lib\\site-packages (from packaging>=20.0->librosa) (3.0.4)\n",
      "Requirement already satisfied: requests>=2.19.0 in c:\\users\\home\\anaconda3\\envs\\cakd5\\lib\\site-packages (from pooch>=1.0->librosa) (2.27.1)\n",
      "Collecting appdirs>=1.3.0\n",
      "  Downloading appdirs-1.4.4-py2.py3-none-any.whl (9.6 kB)\n",
      "Requirement already satisfied: idna<4,>=2.5 in c:\\users\\home\\anaconda3\\envs\\cakd5\\lib\\site-packages (from requests>=2.19.0->pooch>=1.0->librosa) (3.3)\n",
      "Requirement already satisfied: urllib3<1.27,>=1.21.1 in c:\\users\\home\\anaconda3\\envs\\cakd5\\lib\\site-packages (from requests>=2.19.0->pooch>=1.0->librosa) (1.26.8)\n",
      "Requirement already satisfied: certifi>=2017.4.17 in c:\\users\\home\\anaconda3\\envs\\cakd5\\lib\\site-packages (from requests>=2.19.0->pooch>=1.0->librosa) (2021.10.8)\n",
      "Requirement already satisfied: charset-normalizer~=2.0.0 in c:\\users\\home\\anaconda3\\envs\\cakd5\\lib\\site-packages (from requests>=2.19.0->pooch>=1.0->librosa) (2.0.11)\n",
      "Requirement already satisfied: six>=1.3 in c:\\users\\home\\anaconda3\\envs\\cakd5\\lib\\site-packages (from resampy>=0.2.2->librosa) (1.16.0)\n",
      "Requirement already satisfied: threadpoolctl>=2.0.0 in c:\\users\\home\\anaconda3\\envs\\cakd5\\lib\\site-packages (from scikit-learn>=0.19.1->librosa) (3.0.0)\n",
      "Requirement already satisfied: cffi>=1.0 in c:\\users\\home\\anaconda3\\envs\\cakd5\\lib\\site-packages (from soundfile>=0.10.2->librosa) (1.15.0)\n",
      "Requirement already satisfied: pycparser in c:\\users\\home\\anaconda3\\envs\\cakd5\\lib\\site-packages (from cffi>=1.0->soundfile>=0.10.2->librosa) (2.21)\n",
      "Building wheels for collected packages: audioread, resampy\n",
      "  Building wheel for audioread (setup.py): started\n",
      "  Building wheel for audioread (setup.py): finished with status 'done'\n",
      "  Created wheel for audioread: filename=audioread-2.1.9-py3-none-any.whl size=23154 sha256=8a1a75c48f9a5fb0f2e9360056b5b5c40b774cb4d5a1ecc3a15d10448633e81a\n",
      "  Stored in directory: c:\\users\\home\\appdata\\local\\pip\\cache\\wheels\\49\\5a\\e4\\df590783499a992a88de6c0898991d1167453a3196d0d1eeb7\n",
      "  Building wheel for resampy (setup.py): started\n",
      "  Building wheel for resampy (setup.py): finished with status 'done'\n",
      "  Created wheel for resampy: filename=resampy-0.2.2-py3-none-any.whl size=320731 sha256=b9b4e10f00ec9ddb5eafe8f0fb32d31dfd888993a9fad6e3f657c6d808088feb\n",
      "  Stored in directory: c:\\users\\home\\appdata\\local\\pip\\cache\\wheels\\6f\\d1\\5d\\f13da53b1dcbc2624ff548456c9ffb526c914f53c12c318bb4\n",
      "Successfully built audioread resampy\n",
      "Installing collected packages: llvmlite, numba, appdirs, soundfile, resampy, pooch, audioread, librosa\n",
      "Successfully installed appdirs-1.4.4 audioread-2.1.9 librosa-0.9.0 llvmlite-0.38.0 numba-0.55.1 pooch-1.6.0 resampy-0.2.2 soundfile-0.10.3.post1\n"
     ]
    }
   ],
   "source": [
    "!pip install librosa"
   ]
  },
  {
   "cell_type": "code",
   "execution_count": 3,
   "id": "2b8f9179",
   "metadata": {},
   "outputs": [],
   "source": [
    "import speech_recognition as sr\n",
    "r = sr.Recognizer()\n",
    "\n",
    "import librosa\n",
    "import librosa.display\n",
    "\n",
    "audio_path = 'C:/Users/HOME/Desktop/data/team_project/2020-02-005.명령어(일반남여)_sample/AI로봇/[원천]d_0501/d_0501-3177-01-02-LSY-M-06-C.wav'\n",
    "y, rate = librosa.core.load(audio_path)"
   ]
  },
  {
   "cell_type": "code",
   "execution_count": 4,
   "id": "c0d67787",
   "metadata": {},
   "outputs": [
    {
     "data": {
      "text/plain": [
       "'샤워할 때 수건이 모자라 직원한테 수건 가져 달라고 호출 해 줘'"
      ]
     },
     "execution_count": 4,
     "metadata": {},
     "output_type": "execute_result"
    }
   ],
   "source": [
    "import librosa\n",
    "sample_wav, rate = librosa.core.load(audio_path)\n",
    "\n",
    "sample_audio = sr.AudioFile(audio_path)\n",
    "\n",
    "with sample_audio as source:\n",
    "    audio = r.record(source)\n",
    "r.recognize_google(audio_data = audio, language='ko-KR')"
   ]
  },
  {
   "cell_type": "code",
   "execution_count": 5,
   "id": "ab3bebe8",
   "metadata": {},
   "outputs": [
    {
     "data": {
      "text/plain": [
       "<matplotlib.collections.QuadMesh at 0x26af66dc310>"
      ]
     },
     "execution_count": 5,
     "metadata": {},
     "output_type": "execute_result"
    },
    {
     "data": {
      "image/png": "[encoded data removed]",
      "text/plain": [
       "<Figure size 432x288 with 1 Axes>"
      ]
     },
     "metadata": {},
     "output_type": "display_data"
    }
   ],
   "source": [
    "import numpy as np\n",
    "stft_result = librosa.stft(y, n_fft=4096, win_length =4096, hop_length=512)\n",
    "D = np.abs(stft_result)\n",
    "mfcc = librosa.feature.mfcc(S=librosa.power_to_db(D), sr=sr, n_mfcc=20)\n",
    "librosa.display.specshow(mfcc)"
   ]
  }
 ],
 "metadata": {
  "kernelspec": {
   "display_name": "Python 3 (ipykernel)",
   "language": "python",
   "name": "python3"
  },
  "language_info": {
   "codemirror_mode": {
    "name": "ipython",
    "version": 3
   },
   "file_extension": ".py",
   "mimetype": "text/x-python",
   "name": "python",
   "nbconvert_exporter": "python",
   "pygments_lexer": "ipython3",
   "version": "3.8.12"
  }
 },
 "nbformat": 4,
 "nbformat_minor": 5
}
