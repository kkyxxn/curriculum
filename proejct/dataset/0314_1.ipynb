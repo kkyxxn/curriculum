{
 "cells": [
  {
   "cell_type": "code",
   "execution_count": 1,
   "id": "4b6b3ba5",
   "metadata": {},
   "outputs": [],
   "source": [
    "import cx_Oracle, pandas as pd, numpy as np, matplotlib.pyplot as plt"
   ]
  },
  {
   "cell_type": "code",
   "execution_count": null,
   "id": "550c93f3",
   "metadata": {},
   "outputs": [],
   "source": [
    "c = cx_Oracle.connect('LM_PDB/LM@localhost:1521/xepdb1')\n",
    "cs = c.cursor()\n",
    "cs.execute('SELECT*FROM CUSTOM15')\n",
    "x = cs.fetchall()\n",
    "cs.execute(\"SELECT column_name FROM user_tab_columns WHERE table_name='CUSTOM15'\")\n",
    "col = cs.fetchall()\n",
    "li = []\n",
    "for i in col:\n",
    "    for j in i:\n",
    "        li.append(j)\n",
    "df15 = pd.DataFrame(x, columns = li)\n",
    "cs.close()\n",
    "c.commit()\n",
    "c.close()"
   ]
  },
  {
   "cell_type": "code",
   "execution_count": null,
   "id": "53f88e1a",
   "metadata": {},
   "outputs": [],
   "source": [
    "c = cx_Oracle.connect('LM_PDB/LM@localhost:1521/xepdb1')\n",
    "cs = c.cursor()\n",
    "cs.execute('SELECT*FROM CUSTOM14')\n",
    "x = cs.fetchall()\n",
    "cs.execute(\"SELECT column_name FROM user_tab_columns WHERE table_name='CUSTOM14'\")\n",
    "col = cs.fetchall()\n",
    "li = []\n",
    "for i in col:\n",
    "    for j in i:\n",
    "        li.append(j)\n",
    "df14 = pd.DataFrame(x, columns = li)\n",
    "cs.close()\n",
    "c.commit()\n",
    "c.close()"
   ]
  },
  {
   "cell_type": "code",
   "execution_count": null,
   "id": "bf44a333",
   "metadata": {},
   "outputs": [],
   "source": [
    "display(df14.head(), df15.head())"
   ]
  },
  {
   "cell_type": "code",
   "execution_count": null,
   "id": "1e5c89ec",
   "metadata": {
    "scrolled": false
   },
   "outputs": [],
   "source": [
    "# 14년도와 15년도 분기별 건수와 금액을 만들어 보자\n",
    "a14 = pd.DataFrame(df14.drop('고객번호',axis=1).sum())\n",
    "a15 = pd.DataFrame(df15.drop('고객번호',axis=1).sum())\n",
    "display(a14, a15)"
   ]
  },
  {
   "cell_type": "code",
   "execution_count": 80,
   "id": "7fa6bbb5",
   "metadata": {},
   "outputs": [
    {
     "name": "stdout",
     "output_type": "stream",
     "text": [
      "[('NanumBarunGothic', 'C:\\\\Windows\\\\Fonts\\\\NanumFontSetup_TTF_BARUNGOTHIC\\\\NanumBarunGothicBold.ttf'), ('NanumBarunGothic', 'C:\\\\Users\\\\user\\\\AppData\\\\Local\\\\Microsoft\\\\Windows\\\\Fonts\\\\NanumBarunGothicUltraLight.ttf'), ('NanumBarunGothic', 'C:\\\\Users\\\\user\\\\AppData\\\\Local\\\\Microsoft\\\\Windows\\\\Fonts\\\\NanumBarunGothicLight.ttf'), ('NanumBarunGothic', 'C:\\\\Windows\\\\Fonts\\\\NanumFontSetup_TTF_BARUNGOTHIC\\\\NanumBarunGothicLight.ttf'), ('NanumBarunGothic', 'C:\\\\Users\\\\user\\\\AppData\\\\Local\\\\Microsoft\\\\Windows\\\\Fonts\\\\NanumBarunGothic.ttf'), ('NanumBarunGothic', 'C:\\\\Users\\\\user\\\\AppData\\\\Local\\\\Microsoft\\\\Windows\\\\Fonts\\\\NanumBarunGothicBold.ttf'), ('NanumBarunGothic', 'C:\\\\Windows\\\\Fonts\\\\NanumFontSetup_TTF_BARUNGOTHIC\\\\NanumBarunGothicUltraLight.ttf'), ('NanumBarunGothic', 'C:\\\\Windows\\\\Fonts\\\\NanumFontSetup_TTF_BARUNGOTHIC\\\\NanumBarunGothic.ttf')]\n"
     ]
    }
   ],
   "source": [
    "import matplotlib.font_manager as fm\n",
    "print([(f.name, f.fname) for f in fm.fontManager.ttflist if 'Nanum' in f.name])\n",
    "plt.rc('font', family='NanumBarunGothic') # For Windows"
   ]
  },
  {
   "cell_type": "code",
   "execution_count": null,
   "id": "c644145a",
   "metadata": {},
   "outputs": [],
   "source": [
    "plt.rc('font', family='NanumBarunGothic') # For Windows\n",
    "fig, (ax1, ax2) = plt.subplots(figsize=(14,6), ncols=2)\n",
    "ax1.plot(a14.iloc[[0,2,4,6]], color='mediumseagreen', label='2014')\n",
    "ax1.plot(a15.iloc[[0,2,4,6]], color='cornflowerblue', label='2015')\n",
    "ax1.set_title('분기별 구매건수 변화', fontsize=20)\n",
    "ax1.legend()\n",
    "ax2.plot(a14.iloc[[1,3,5,7]], color='mediumseagreen', label='2014')\n",
    "ax2.plot(a15.iloc[[1,3,5,7]], color='cornflowerblue', label='2015')\n",
    "ax2.set_title('분기별 구매금액 변화', fontsize=20)\n",
    "ax2.legend()\n",
    "plt.show()"
   ]
  },
  {
   "cell_type": "code",
   "execution_count": null,
   "id": "fd4de928",
   "metadata": {},
   "outputs": [],
   "source": [
    "import warnings\n",
    "warnings.filterwarnings('ignore')\n",
    "\n",
    "a = pd.concat([a14.iloc[[1,3,5,7]], a15.iloc[[1,3,5,7]]], axis=1)\n",
    "a.columns=['14년도', '15년도']\n",
    "a['14년도 비율'] = a['14년도'].apply(lambda x:x/a['14년도'].sum())\n",
    "a['15년도 비율'] = a['15년도'].apply(lambda x:x/a['15년도'].sum())\n",
    "a['평균비율'] = (a['14년도 비율']+a['15년도 비율'])/2\n",
    "a['14신장률'] = ''\n",
    "a['15신장률'] = ''\n",
    "for i in range(1,4):\n",
    "    a['14신장률'][i]= (a.iloc[i,0]-a.iloc[i-1,0])/a.iloc[i-1,0]\n",
    "for i in range(1,4):\n",
    "    a['15신장률'][i]= (a.iloc[i,1]-a.iloc[i-1,1])/a.iloc[i-1,1]    \n",
    "a"
   ]
  },
  {
   "cell_type": "code",
   "execution_count": null,
   "id": "effcdf8f",
   "metadata": {},
   "outputs": [],
   "source": [
    "a.평균비율.sum()"
   ]
  },
  {
   "cell_type": "code",
   "execution_count": null,
   "id": "3e2af26a",
   "metadata": {},
   "outputs": [],
   "source": [
    "df14.iloc[0,:]"
   ]
  },
  {
   "cell_type": "code",
   "execution_count": null,
   "id": "112e8cb9",
   "metadata": {},
   "outputs": [],
   "source": [
    "# 2015년 가을 시즌에 무슨 일이 있었는가...\n",
    "# 건수가 평년과 같았다면 매출이 작년 매출과 비슷하게 가지 않았을 텐데?\n",
    "# 가을 시즌 매출에서 뭐가 건수가 떨어졌는지 확인해 보기"
   ]
  },
  {
   "cell_type": "code",
   "execution_count": null,
   "id": "983760e5",
   "metadata": {},
   "outputs": [],
   "source": [
    "df = pd.concat([df14,df15.drop('고객번호',axis=1)],axis=1)\n",
    "df.head()"
   ]
  },
  {
   "cell_type": "code",
   "execution_count": null,
   "id": "90d7a2ad",
   "metadata": {},
   "outputs": [],
   "source": [
    "c = cx_Oracle.connect('LM_PDB/LM@localhost:1521/xepdb1')\n",
    "cs = c.cursor()\n",
    "cs.execute('SELECT*FROM FWPRICE')\n",
    "x = cs.fetchall()\n",
    "cs.execute(\"SELECT column_name FROM user_tab_columns WHERE table_name='FWPRICE'\")\n",
    "col = cs.fetchall()\n",
    "li = []\n",
    "for i in col:\n",
    "    for j in i:\n",
    "        li.append(j)\n",
    "fwprice = pd.DataFrame(x, columns = li)\n",
    "cs.close()\n",
    "c.commit()\n",
    "c.close()"
   ]
  },
  {
   "cell_type": "code",
   "execution_count": null,
   "id": "0fcc726c",
   "metadata": {},
   "outputs": [],
   "source": [
    "c = cx_Oracle.connect('LM_PDB/LM@localhost:1521/xepdb1')\n",
    "cs = c.cursor()\n",
    "cs.execute('SELECT*FROM FWPROD')\n",
    "x = cs.fetchall()\n",
    "cs.execute(\"SELECT column_name FROM user_tab_columns WHERE table_name='FWPROD'\")\n",
    "col = cs.fetchall()\n",
    "li = []\n",
    "for i in col:\n",
    "    for j in i:\n",
    "        li.append(j)\n",
    "fwprod = pd.DataFrame(x, columns = li)\n",
    "cs.close()\n",
    "c.commit()\n",
    "c.close()"
   ]
  },
  {
   "cell_type": "code",
   "execution_count": null,
   "id": "922ed488",
   "metadata": {},
   "outputs": [],
   "source": [
    "fwprice.head()"
   ]
  },
  {
   "cell_type": "code",
   "execution_count": null,
   "id": "7777de5f",
   "metadata": {},
   "outputs": [],
   "source": [
    "display(\n",
    "    len(fwprice[(fwprice['14년 9월']>fwprice['15년 9월'])]),\n",
    "    len(fwprice[(fwprice['14년 10월']>fwprice['15년 10월'])]),\n",
    "    len(fwprice[(fwprice['14년 11월']>fwprice['15년 11월'])]),\n",
    "    len(fwprice[(fwprice['14년 12월']>fwprice['15년 12월'])]))"
   ]
  },
  {
   "cell_type": "code",
   "execution_count": null,
   "id": "62bc87d1",
   "metadata": {},
   "outputs": [],
   "source": [
    "display(\n",
    "    len(fwprod[(fwprod['14년 9월']>fwprod['15년 9월'])]),\n",
    "    len(fwprod[(fwprod['14년 10월']>fwprod['15년 10월'])]),\n",
    "    len(fwprod[(fwprod['14년 11월']>fwprod['15년 11월'])]),\n",
    "    len(fwprod[(fwprod['14년 12월']>fwprod['15년 12월'])]))"
   ]
  },
  {
   "cell_type": "code",
   "execution_count": null,
   "id": "ef602f43",
   "metadata": {},
   "outputs": [],
   "source": [
    "a['십사'] = a['14년도']/a['14년도'].mean()\n",
    "a['십오'] = a['15년도']/a['15년도'].mean()\n",
    "a"
   ]
  },
  {
   "cell_type": "code",
   "execution_count": null,
   "id": "4720f491",
   "metadata": {},
   "outputs": [],
   "source": [
    "# 1,3분기 비수기, 2,4분기 성수기로 잡는다면 각각의 기준치(평균)에서 "
   ]
  },
  {
   "cell_type": "code",
   "execution_count": null,
   "id": "5ce9887c",
   "metadata": {},
   "outputs": [],
   "source": [
    "c = cx_Oracle.connect('LM_PDB/LM@localhost:1521/xepdb1')\n",
    "cs = c.cursor()\n",
    "cs.execute('SELECT*FROM PURDATE')\n",
    "x = cs.fetchall()\n",
    "cs.execute(\"SELECT column_name FROM user_tab_columns WHERE table_name='PURDATE'\")\n",
    "col = cs.fetchall()\n",
    "li = []\n",
    "for i in col:\n",
    "    for j in i:\n",
    "        li.append(j)\n",
    "purdate = pd.DataFrame(x, columns = li)\n",
    "cs.close()\n",
    "c.commit()\n",
    "c.close()"
   ]
  },
  {
   "cell_type": "code",
   "execution_count": null,
   "id": "f0ef380e",
   "metadata": {},
   "outputs": [],
   "source": [
    "purdate.sort_values(by='DATETIME', ascending=False)\n",
    "purdate.tail()"
   ]
  },
  {
   "cell_type": "code",
   "execution_count": null,
   "id": "f64c91c4",
   "metadata": {
    "scrolled": true
   },
   "outputs": [],
   "source": [
    "#purdate['date'] = purdate.DATETIME.apply(lambda x:pd.to_datetime(x))\n",
    "#purdate.sort_values(by='date', ascending=True,inplace=True)\n",
    "#purdate.set_index('date',inplace=True)\n",
    "#purdate.sort_index()\n",
    "#purdate.drop(['구매일자', 'YEAR','MONTH','DAY','DATETIME'], axis=1, inplace=True)\n",
    "purdate.drop('date', axis=1, inplace=True)\n",
    "purdate.tail()"
   ]
  },
  {
   "cell_type": "code",
   "execution_count": null,
   "id": "a5d6b417",
   "metadata": {},
   "outputs": [],
   "source": [
    "purdate"
   ]
  },
  {
   "cell_type": "code",
   "execution_count": null,
   "id": "46a9a83f",
   "metadata": {},
   "outputs": [],
   "source": [
    "purdate.to_pickle('purdate.pkl')"
   ]
  },
  {
   "cell_type": "code",
   "execution_count": null,
   "id": "1d41caa8",
   "metadata": {
    "scrolled": true
   },
   "outputs": [],
   "source": [
    "pdt = pd.read_pickle('purdate.pkl')\n",
    "pdt"
   ]
  },
  {
   "cell_type": "code",
   "execution_count": null,
   "id": "0a28b506",
   "metadata": {
    "scrolled": false
   },
   "outputs": [],
   "source": [
    "!pip install statsmodels"
   ]
  },
  {
   "cell_type": "code",
   "execution_count": null,
   "id": "8ab60056",
   "metadata": {},
   "outputs": [],
   "source": [
    "from statsmodels.graphics.tsaplots import month_plot"
   ]
  },
  {
   "cell_type": "code",
   "execution_count": null,
   "id": "1379f219",
   "metadata": {},
   "outputs": [],
   "source": []
  },
  {
   "cell_type": "code",
   "execution_count": null,
   "id": "97dada5e",
   "metadata": {},
   "outputs": [],
   "source": [
    "import statsmodels.api as sm\n",
    "\n",
    "fig, ax = plt.subplots(nrows=1, ncols=2, figsize=(16, 6))\n",
    "statsmodels.tsa.month_plot(y['구매금액'],ylabel='구매금액', ax=ax[0]);\n",
    "statsmodels.tsa.month_plot(y['구매건수'],ylabel='구매건수', ax=ax[1]);"
   ]
  },
  {
   "cell_type": "code",
   "execution_count": 7,
   "id": "458a7fc7",
   "metadata": {},
   "outputs": [],
   "source": [
    "c = cx_Oracle.connect('LM_PDB/LM@localhost:1521/xepdb1')\n",
    "cs = c.cursor()\n",
    "cs.execute('SELECT*FROM MONTHLY')\n",
    "x = cs.fetchall()\n",
    "cs.execute(\"SELECT column_name FROM user_tab_columns WHERE table_name='MONTHLY'\")\n",
    "col = cs.fetchall()\n",
    "li = []\n",
    "for i in col:\n",
    "    for j in i:\n",
    "        li.append(j)\n",
    "mt = pd.DataFrame(x, columns = li)\n",
    "cs.close()\n",
    "c.commit()\n",
    "c.close()"
   ]
  },
  {
   "cell_type": "code",
   "execution_count": 8,
   "id": "93a832a6",
   "metadata": {},
   "outputs": [
    {
     "data": {
      "text/html": [
       "<div>\n",
       "<style scoped>\n",
       "    .dataframe tbody tr th:only-of-type {\n",
       "        vertical-align: middle;\n",
       "    }\n",
       "\n",
       "    .dataframe tbody tr th {\n",
       "        vertical-align: top;\n",
       "    }\n",
       "\n",
       "    .dataframe thead th {\n",
       "        text-align: right;\n",
       "    }\n",
       "</style>\n",
       "<table border=\"1\" class=\"dataframe\">\n",
       "  <thead>\n",
       "    <tr style=\"text-align: right;\">\n",
       "      <th></th>\n",
       "      <th>MONTH</th>\n",
       "      <th>14년 구매건수</th>\n",
       "      <th>15년 구매건수</th>\n",
       "    </tr>\n",
       "  </thead>\n",
       "  <tbody>\n",
       "    <tr>\n",
       "      <th>0</th>\n",
       "      <td>1</td>\n",
       "      <td>406629</td>\n",
       "      <td>460231</td>\n",
       "    </tr>\n",
       "    <tr>\n",
       "      <th>1</th>\n",
       "      <td>2</td>\n",
       "      <td>365123</td>\n",
       "      <td>418249</td>\n",
       "    </tr>\n",
       "    <tr>\n",
       "      <th>2</th>\n",
       "      <td>3</td>\n",
       "      <td>438207</td>\n",
       "      <td>481183</td>\n",
       "    </tr>\n",
       "    <tr>\n",
       "      <th>3</th>\n",
       "      <td>4</td>\n",
       "      <td>441038</td>\n",
       "      <td>484952</td>\n",
       "    </tr>\n",
       "    <tr>\n",
       "      <th>4</th>\n",
       "      <td>5</td>\n",
       "      <td>479326</td>\n",
       "      <td>520596</td>\n",
       "    </tr>\n",
       "    <tr>\n",
       "      <th>5</th>\n",
       "      <td>6</td>\n",
       "      <td>458670</td>\n",
       "      <td>475026</td>\n",
       "    </tr>\n",
       "    <tr>\n",
       "      <th>6</th>\n",
       "      <td>7</td>\n",
       "      <td>480005</td>\n",
       "      <td>513925</td>\n",
       "    </tr>\n",
       "    <tr>\n",
       "      <th>7</th>\n",
       "      <td>8</td>\n",
       "      <td>456861</td>\n",
       "      <td>491793</td>\n",
       "    </tr>\n",
       "    <tr>\n",
       "      <th>8</th>\n",
       "      <td>9</td>\n",
       "      <td>440294</td>\n",
       "      <td>457212</td>\n",
       "    </tr>\n",
       "    <tr>\n",
       "      <th>9</th>\n",
       "      <td>10</td>\n",
       "      <td>471398</td>\n",
       "      <td>465914</td>\n",
       "    </tr>\n",
       "    <tr>\n",
       "      <th>10</th>\n",
       "      <td>11</td>\n",
       "      <td>463923</td>\n",
       "      <td>459956</td>\n",
       "    </tr>\n",
       "    <tr>\n",
       "      <th>11</th>\n",
       "      <td>12</td>\n",
       "      <td>486241</td>\n",
       "      <td>470187</td>\n",
       "    </tr>\n",
       "  </tbody>\n",
       "</table>\n",
       "</div>"
      ],
      "text/plain": [
       "    MONTH  14년 구매건수  15년 구매건수\n",
       "0       1    406629    460231\n",
       "1       2    365123    418249\n",
       "2       3    438207    481183\n",
       "3       4    441038    484952\n",
       "4       5    479326    520596\n",
       "5       6    458670    475026\n",
       "6       7    480005    513925\n",
       "7       8    456861    491793\n",
       "8       9    440294    457212\n",
       "9      10    471398    465914\n",
       "10     11    463923    459956\n",
       "11     12    486241    470187"
      ]
     },
     "execution_count": 8,
     "metadata": {},
     "output_type": "execute_result"
    }
   ],
   "source": [
    "mt"
   ]
  },
  {
   "cell_type": "code",
   "execution_count": 9,
   "id": "c2bf129d",
   "metadata": {},
   "outputs": [],
   "source": [
    "mt.set_index('MONTH', inplace=True)"
   ]
  },
  {
   "cell_type": "code",
   "execution_count": 10,
   "id": "d768b263",
   "metadata": {},
   "outputs": [
    {
     "data": {
      "image/png": "[encoded data removed]",
      "text/plain": [
       "<Figure size 720x432 with 1 Axes>"
      ]
     },
     "metadata": {
      "needs_background": "light"
     },
     "output_type": "display_data"
    }
   ],
   "source": [
    "import matplotlib.pyplot as plt\n",
    "import numpy as np\n",
    "\n",
    "fig = plt.figure(figsize=(10,6))\n",
    "a14 = fig.add_subplot(111)\n",
    "a14.plot(mt.drop('15년 구매건수',axis=1), color='lightcoral',label='2014')\n",
    "a14.plot(mt.drop('14년 구매건수',axis=1), color='cornflowerblue',label='2015')\n",
    "a14.set_xticks(np.linspace(1,12,12))\n",
    "a14.legend()\n",
    "plt.show()"
   ]
  },
  {
   "cell_type": "code",
   "execution_count": 11,
   "id": "7bd82fd7",
   "metadata": {},
   "outputs": [],
   "source": [
    "c = cx_Oracle.connect('LM_PDB/LM@localhost:1521/xepdb1')\n",
    "cs = c.cursor()\n",
    "cs.execute('SELECT*FROM CUSTOMER')\n",
    "x = cs.fetchall()\n",
    "cs.execute(\"SELECT column_name FROM user_tab_columns WHERE table_name='CUSTOMER'\")\n",
    "col = cs.fetchall()\n",
    "li = []\n",
    "for i in col:\n",
    "    for j in i:\n",
    "        li.append(j)\n",
    "cust = pd.DataFrame(x, columns = li)\n",
    "cs.close()\n",
    "c.commit()\n",
    "c.close()"
   ]
  },
  {
   "cell_type": "code",
   "execution_count": 18,
   "id": "e939fb29",
   "metadata": {},
   "outputs": [
    {
     "data": {
      "text/html": [
       "<div>\n",
       "<style scoped>\n",
       "    .dataframe tbody tr th:only-of-type {\n",
       "        vertical-align: middle;\n",
       "    }\n",
       "\n",
       "    .dataframe tbody tr th {\n",
       "        vertical-align: top;\n",
       "    }\n",
       "\n",
       "    .dataframe thead th {\n",
       "        text-align: right;\n",
       "    }\n",
       "</style>\n",
       "<table border=\"1\" class=\"dataframe\">\n",
       "  <thead>\n",
       "    <tr style=\"text-align: right;\">\n",
       "      <th></th>\n",
       "      <th>고객번호</th>\n",
       "      <th>14년 1분기</th>\n",
       "      <th>14년 2분기</th>\n",
       "      <th>14년 3분기</th>\n",
       "      <th>14년 4분기</th>\n",
       "      <th>15년 1분기</th>\n",
       "      <th>15년 2분기</th>\n",
       "      <th>15년 3분기</th>\n",
       "      <th>15년 4분기</th>\n",
       "    </tr>\n",
       "  </thead>\n",
       "  <tbody>\n",
       "    <tr>\n",
       "      <th>0</th>\n",
       "      <td>00001</td>\n",
       "      <td>9141590.0</td>\n",
       "      <td>10783765.0</td>\n",
       "      <td>10781550.0</td>\n",
       "      <td>23334762.0</td>\n",
       "      <td>9302985.0</td>\n",
       "      <td>8595380.0</td>\n",
       "      <td>7806580.0</td>\n",
       "      <td>5295938.0</td>\n",
       "    </tr>\n",
       "    <tr>\n",
       "      <th>1</th>\n",
       "      <td>00002</td>\n",
       "      <td>14123470.0</td>\n",
       "      <td>10199760.0</td>\n",
       "      <td>14841180.0</td>\n",
       "      <td>7080920.0</td>\n",
       "      <td>18481480.0</td>\n",
       "      <td>9310130.0</td>\n",
       "      <td>13842600.0</td>\n",
       "      <td>12001220.0</td>\n",
       "    </tr>\n",
       "    <tr>\n",
       "      <th>2</th>\n",
       "      <td>00003</td>\n",
       "      <td>302782.0</td>\n",
       "      <td>548433.0</td>\n",
       "      <td>648188.0</td>\n",
       "      <td>394366.0</td>\n",
       "      <td>279310.0</td>\n",
       "      <td>312970.0</td>\n",
       "      <td>421017.0</td>\n",
       "      <td>258101.0</td>\n",
       "    </tr>\n",
       "    <tr>\n",
       "      <th>3</th>\n",
       "      <td>00004</td>\n",
       "      <td>1309643.0</td>\n",
       "      <td>3732463.0</td>\n",
       "      <td>2434410.0</td>\n",
       "      <td>1823100.0</td>\n",
       "      <td>1737292.0</td>\n",
       "      <td>1919645.0</td>\n",
       "      <td>2127112.0</td>\n",
       "      <td>1610145.0</td>\n",
       "    </tr>\n",
       "    <tr>\n",
       "      <th>4</th>\n",
       "      <td>00005</td>\n",
       "      <td>3145330.0</td>\n",
       "      <td>2314820.0</td>\n",
       "      <td>1827290.0</td>\n",
       "      <td>398440.0</td>\n",
       "      <td>2124430.0</td>\n",
       "      <td>810500.0</td>\n",
       "      <td>NaN</td>\n",
       "      <td>2616260.0</td>\n",
       "    </tr>\n",
       "    <tr>\n",
       "      <th>...</th>\n",
       "      <td>...</td>\n",
       "      <td>...</td>\n",
       "      <td>...</td>\n",
       "      <td>...</td>\n",
       "      <td>...</td>\n",
       "      <td>...</td>\n",
       "      <td>...</td>\n",
       "      <td>...</td>\n",
       "      <td>...</td>\n",
       "    </tr>\n",
       "    <tr>\n",
       "      <th>19378</th>\n",
       "      <td>19379</td>\n",
       "      <td>NaN</td>\n",
       "      <td>NaN</td>\n",
       "      <td>130300.0</td>\n",
       "      <td>1060320.0</td>\n",
       "      <td>1131020.0</td>\n",
       "      <td>1264900.0</td>\n",
       "      <td>805550.0</td>\n",
       "      <td>1387190.0</td>\n",
       "    </tr>\n",
       "    <tr>\n",
       "      <th>19379</th>\n",
       "      <td>19380</td>\n",
       "      <td>NaN</td>\n",
       "      <td>NaN</td>\n",
       "      <td>NaN</td>\n",
       "      <td>522700.0</td>\n",
       "      <td>486830.0</td>\n",
       "      <td>351120.0</td>\n",
       "      <td>368907.0</td>\n",
       "      <td>2183420.0</td>\n",
       "    </tr>\n",
       "    <tr>\n",
       "      <th>19380</th>\n",
       "      <td>19381</td>\n",
       "      <td>NaN</td>\n",
       "      <td>NaN</td>\n",
       "      <td>NaN</td>\n",
       "      <td>NaN</td>\n",
       "      <td>1124750.0</td>\n",
       "      <td>1672421.0</td>\n",
       "      <td>1867501.0</td>\n",
       "      <td>1375997.0</td>\n",
       "    </tr>\n",
       "    <tr>\n",
       "      <th>19381</th>\n",
       "      <td>19382</td>\n",
       "      <td>NaN</td>\n",
       "      <td>NaN</td>\n",
       "      <td>NaN</td>\n",
       "      <td>NaN</td>\n",
       "      <td>786399.0</td>\n",
       "      <td>1040340.0</td>\n",
       "      <td>1266187.0</td>\n",
       "      <td>1308847.0</td>\n",
       "    </tr>\n",
       "    <tr>\n",
       "      <th>19382</th>\n",
       "      <td>19383</td>\n",
       "      <td>NaN</td>\n",
       "      <td>NaN</td>\n",
       "      <td>NaN</td>\n",
       "      <td>NaN</td>\n",
       "      <td>NaN</td>\n",
       "      <td>27000.0</td>\n",
       "      <td>1092360.0</td>\n",
       "      <td>1265040.0</td>\n",
       "    </tr>\n",
       "  </tbody>\n",
       "</table>\n",
       "<p>19383 rows × 9 columns</p>\n",
       "</div>"
      ],
      "text/plain": [
       "        고객번호     14년 1분기     14년 2분기     14년 3분기     14년 4분기     15년 1분기  \\\n",
       "0      00001   9141590.0  10783765.0  10781550.0  23334762.0   9302985.0   \n",
       "1      00002  14123470.0  10199760.0  14841180.0   7080920.0  18481480.0   \n",
       "2      00003    302782.0    548433.0    648188.0    394366.0    279310.0   \n",
       "3      00004   1309643.0   3732463.0   2434410.0   1823100.0   1737292.0   \n",
       "4      00005   3145330.0   2314820.0   1827290.0    398440.0   2124430.0   \n",
       "...      ...         ...         ...         ...         ...         ...   \n",
       "19378  19379         NaN         NaN    130300.0   1060320.0   1131020.0   \n",
       "19379  19380         NaN         NaN         NaN    522700.0    486830.0   \n",
       "19380  19381         NaN         NaN         NaN         NaN   1124750.0   \n",
       "19381  19382         NaN         NaN         NaN         NaN    786399.0   \n",
       "19382  19383         NaN         NaN         NaN         NaN         NaN   \n",
       "\n",
       "         15년 2분기     15년 3분기     15년 4분기  \n",
       "0      8595380.0   7806580.0   5295938.0  \n",
       "1      9310130.0  13842600.0  12001220.0  \n",
       "2       312970.0    421017.0    258101.0  \n",
       "3      1919645.0   2127112.0   1610145.0  \n",
       "4       810500.0         NaN   2616260.0  \n",
       "...          ...         ...         ...  \n",
       "19378  1264900.0    805550.0   1387190.0  \n",
       "19379   351120.0    368907.0   2183420.0  \n",
       "19380  1672421.0   1867501.0   1375997.0  \n",
       "19381  1040340.0   1266187.0   1308847.0  \n",
       "19382    27000.0   1092360.0   1265040.0  \n",
       "\n",
       "[19383 rows x 9 columns]"
      ]
     },
     "execution_count": 18,
     "metadata": {},
     "output_type": "execute_result"
    }
   ],
   "source": [
    "#cust.to_pickle('분기별고객.pkl')\n",
    "cust"
   ]
  },
  {
   "cell_type": "code",
   "execution_count": 19,
   "id": "42988b49",
   "metadata": {},
   "outputs": [],
   "source": [
    "regular = cust.dropna()"
   ]
  },
  {
   "cell_type": "code",
   "execution_count": 20,
   "id": "12be8cc4",
   "metadata": {
    "scrolled": false
   },
   "outputs": [
    {
     "data": {
      "text/html": [
       "<div>\n",
       "<style scoped>\n",
       "    .dataframe tbody tr th:only-of-type {\n",
       "        vertical-align: middle;\n",
       "    }\n",
       "\n",
       "    .dataframe tbody tr th {\n",
       "        vertical-align: top;\n",
       "    }\n",
       "\n",
       "    .dataframe thead th {\n",
       "        text-align: right;\n",
       "    }\n",
       "</style>\n",
       "<table border=\"1\" class=\"dataframe\">\n",
       "  <thead>\n",
       "    <tr style=\"text-align: right;\">\n",
       "      <th></th>\n",
       "      <th>14년 1분기</th>\n",
       "      <th>14년 2분기</th>\n",
       "      <th>14년 3분기</th>\n",
       "      <th>14년 4분기</th>\n",
       "      <th>15년 1분기</th>\n",
       "      <th>15년 2분기</th>\n",
       "      <th>15년 3분기</th>\n",
       "      <th>15년 4분기</th>\n",
       "    </tr>\n",
       "    <tr>\n",
       "      <th>고객번호</th>\n",
       "      <th></th>\n",
       "      <th></th>\n",
       "      <th></th>\n",
       "      <th></th>\n",
       "      <th></th>\n",
       "      <th></th>\n",
       "      <th></th>\n",
       "      <th></th>\n",
       "    </tr>\n",
       "  </thead>\n",
       "  <tbody>\n",
       "    <tr>\n",
       "      <th>00001</th>\n",
       "      <td>9141590</td>\n",
       "      <td>10783765</td>\n",
       "      <td>10781550</td>\n",
       "      <td>23334762</td>\n",
       "      <td>9302985</td>\n",
       "      <td>8595380</td>\n",
       "      <td>7806580</td>\n",
       "      <td>5295938</td>\n",
       "    </tr>\n",
       "    <tr>\n",
       "      <th>00002</th>\n",
       "      <td>14123470</td>\n",
       "      <td>10199760</td>\n",
       "      <td>14841180</td>\n",
       "      <td>7080920</td>\n",
       "      <td>18481480</td>\n",
       "      <td>9310130</td>\n",
       "      <td>13842600</td>\n",
       "      <td>12001220</td>\n",
       "    </tr>\n",
       "    <tr>\n",
       "      <th>00003</th>\n",
       "      <td>302782</td>\n",
       "      <td>548433</td>\n",
       "      <td>648188</td>\n",
       "      <td>394366</td>\n",
       "      <td>279310</td>\n",
       "      <td>312970</td>\n",
       "      <td>421017</td>\n",
       "      <td>258101</td>\n",
       "    </tr>\n",
       "    <tr>\n",
       "      <th>00004</th>\n",
       "      <td>1309643</td>\n",
       "      <td>3732463</td>\n",
       "      <td>2434410</td>\n",
       "      <td>1823100</td>\n",
       "      <td>1737292</td>\n",
       "      <td>1919645</td>\n",
       "      <td>2127112</td>\n",
       "      <td>1610145</td>\n",
       "    </tr>\n",
       "    <tr>\n",
       "      <th>00006</th>\n",
       "      <td>2166006</td>\n",
       "      <td>3115284</td>\n",
       "      <td>3163273</td>\n",
       "      <td>2950816</td>\n",
       "      <td>3619234</td>\n",
       "      <td>2769821</td>\n",
       "      <td>3518094</td>\n",
       "      <td>3203889</td>\n",
       "    </tr>\n",
       "    <tr>\n",
       "      <th>...</th>\n",
       "      <td>...</td>\n",
       "      <td>...</td>\n",
       "      <td>...</td>\n",
       "      <td>...</td>\n",
       "      <td>...</td>\n",
       "      <td>...</td>\n",
       "      <td>...</td>\n",
       "      <td>...</td>\n",
       "    </tr>\n",
       "    <tr>\n",
       "      <th>19333</th>\n",
       "      <td>613130</td>\n",
       "      <td>913988</td>\n",
       "      <td>578210</td>\n",
       "      <td>455450</td>\n",
       "      <td>850690</td>\n",
       "      <td>553590</td>\n",
       "      <td>252010</td>\n",
       "      <td>520430</td>\n",
       "    </tr>\n",
       "    <tr>\n",
       "      <th>19334</th>\n",
       "      <td>834049</td>\n",
       "      <td>2705917</td>\n",
       "      <td>2575628</td>\n",
       "      <td>2819868</td>\n",
       "      <td>1699930</td>\n",
       "      <td>767309</td>\n",
       "      <td>484920</td>\n",
       "      <td>465910</td>\n",
       "    </tr>\n",
       "    <tr>\n",
       "      <th>19335</th>\n",
       "      <td>937734</td>\n",
       "      <td>2783122</td>\n",
       "      <td>2320105</td>\n",
       "      <td>2042511</td>\n",
       "      <td>2199423</td>\n",
       "      <td>2852695</td>\n",
       "      <td>1553645</td>\n",
       "      <td>2011244</td>\n",
       "    </tr>\n",
       "    <tr>\n",
       "      <th>19336</th>\n",
       "      <td>449600</td>\n",
       "      <td>3321870</td>\n",
       "      <td>3160370</td>\n",
       "      <td>5886390</td>\n",
       "      <td>2896520</td>\n",
       "      <td>3625250</td>\n",
       "      <td>6322150</td>\n",
       "      <td>4948690</td>\n",
       "    </tr>\n",
       "    <tr>\n",
       "      <th>19337</th>\n",
       "      <td>16520</td>\n",
       "      <td>71970</td>\n",
       "      <td>603219</td>\n",
       "      <td>765510</td>\n",
       "      <td>534370</td>\n",
       "      <td>660260</td>\n",
       "      <td>1216470</td>\n",
       "      <td>1107990</td>\n",
       "    </tr>\n",
       "  </tbody>\n",
       "</table>\n",
       "<p>18866 rows × 8 columns</p>\n",
       "</div>"
      ],
      "text/plain": [
       "        14년 1분기   14년 2분기   14년 3분기   14년 4분기   15년 1분기  15년 2분기   15년 3분기  \\\n",
       "고객번호                                                                         \n",
       "00001   9141590  10783765  10781550  23334762   9302985  8595380   7806580   \n",
       "00002  14123470  10199760  14841180   7080920  18481480  9310130  13842600   \n",
       "00003    302782    548433    648188    394366    279310   312970    421017   \n",
       "00004   1309643   3732463   2434410   1823100   1737292  1919645   2127112   \n",
       "00006   2166006   3115284   3163273   2950816   3619234  2769821   3518094   \n",
       "...         ...       ...       ...       ...       ...      ...       ...   \n",
       "19333    613130    913988    578210    455450    850690   553590    252010   \n",
       "19334    834049   2705917   2575628   2819868   1699930   767309    484920   \n",
       "19335    937734   2783122   2320105   2042511   2199423  2852695   1553645   \n",
       "19336    449600   3321870   3160370   5886390   2896520  3625250   6322150   \n",
       "19337     16520     71970    603219    765510    534370   660260   1216470   \n",
       "\n",
       "        15년 4분기  \n",
       "고객번호             \n",
       "00001   5295938  \n",
       "00002  12001220  \n",
       "00003    258101  \n",
       "00004   1610145  \n",
       "00006   3203889  \n",
       "...         ...  \n",
       "19333    520430  \n",
       "19334    465910  \n",
       "19335   2011244  \n",
       "19336   4948690  \n",
       "19337   1107990  \n",
       "\n",
       "[18866 rows x 8 columns]"
      ]
     },
     "execution_count": 20,
     "metadata": {},
     "output_type": "execute_result"
    }
   ],
   "source": [
    "regular = regular.set_index('고객번호')\n",
    "regular = regular.astype('int64')\n",
    "regular"
   ]
  },
  {
   "cell_type": "code",
   "execution_count": 21,
   "id": "cc0b6254",
   "metadata": {
    "scrolled": true
   },
   "outputs": [
    {
     "data": {
      "text/plain": [
       "Index(['00001', '00002', '00003', '00004', '00006', '00007', '00008', '00009',\n",
       "       '00010', '00011',\n",
       "       ...\n",
       "       '19328', '19329', '19330', '19331', '19332', '19333', '19334', '19335',\n",
       "       '19336', '19337'],\n",
       "      dtype='object', name='고객번호', length=18866)"
      ]
     },
     "execution_count": 21,
     "metadata": {},
     "output_type": "execute_result"
    }
   ],
   "source": [
    "regcust = regular.index\n",
    "regcust"
   ]
  },
  {
   "cell_type": "code",
   "execution_count": 22,
   "id": "21569ced",
   "metadata": {
    "scrolled": false
   },
   "outputs": [
    {
     "data": {
      "text/html": [
       "<div>\n",
       "<style scoped>\n",
       "    .dataframe tbody tr th:only-of-type {\n",
       "        vertical-align: middle;\n",
       "    }\n",
       "\n",
       "    .dataframe tbody tr th {\n",
       "        vertical-align: top;\n",
       "    }\n",
       "\n",
       "    .dataframe thead th {\n",
       "        text-align: right;\n",
       "    }\n",
       "</style>\n",
       "<table border=\"1\" class=\"dataframe\">\n",
       "  <thead>\n",
       "    <tr style=\"text-align: right;\">\n",
       "      <th></th>\n",
       "      <th>count</th>\n",
       "      <th>mean</th>\n",
       "      <th>std</th>\n",
       "      <th>min</th>\n",
       "      <th>25%</th>\n",
       "      <th>50%</th>\n",
       "      <th>75%</th>\n",
       "      <th>max</th>\n",
       "    </tr>\n",
       "  </thead>\n",
       "  <tbody>\n",
       "    <tr>\n",
       "      <th>14년 1분기</th>\n",
       "      <td>1.89</td>\n",
       "      <td>410.49</td>\n",
       "      <td>994.98</td>\n",
       "      <td>0.30</td>\n",
       "      <td>115.55</td>\n",
       "      <td>194.32</td>\n",
       "      <td>422.39</td>\n",
       "      <td>62482.65</td>\n",
       "    </tr>\n",
       "    <tr>\n",
       "      <th>14년 2분기</th>\n",
       "      <td>1.89</td>\n",
       "      <td>423.87</td>\n",
       "      <td>1069.71</td>\n",
       "      <td>0.15</td>\n",
       "      <td>120.54</td>\n",
       "      <td>201.22</td>\n",
       "      <td>441.75</td>\n",
       "      <td>83648.96</td>\n",
       "    </tr>\n",
       "    <tr>\n",
       "      <th>14년 3분기</th>\n",
       "      <td>1.89</td>\n",
       "      <td>393.01</td>\n",
       "      <td>855.51</td>\n",
       "      <td>0.10</td>\n",
       "      <td>124.81</td>\n",
       "      <td>201.50</td>\n",
       "      <td>408.49</td>\n",
       "      <td>61158.75</td>\n",
       "    </tr>\n",
       "    <tr>\n",
       "      <th>14년 4분기</th>\n",
       "      <td>1.89</td>\n",
       "      <td>505.32</td>\n",
       "      <td>1428.38</td>\n",
       "      <td>0.20</td>\n",
       "      <td>134.36</td>\n",
       "      <td>223.86</td>\n",
       "      <td>519.89</td>\n",
       "      <td>131922.97</td>\n",
       "    </tr>\n",
       "    <tr>\n",
       "      <th>15년 1분기</th>\n",
       "      <td>1.89</td>\n",
       "      <td>441.19</td>\n",
       "      <td>905.41</td>\n",
       "      <td>0.20</td>\n",
       "      <td>130.52</td>\n",
       "      <td>212.98</td>\n",
       "      <td>444.78</td>\n",
       "      <td>40114.33</td>\n",
       "    </tr>\n",
       "    <tr>\n",
       "      <th>15년 2분기</th>\n",
       "      <td>1.89</td>\n",
       "      <td>442.82</td>\n",
       "      <td>956.68</td>\n",
       "      <td>0.20</td>\n",
       "      <td>132.40</td>\n",
       "      <td>214.38</td>\n",
       "      <td>457.08</td>\n",
       "      <td>64414.95</td>\n",
       "    </tr>\n",
       "    <tr>\n",
       "      <th>15년 3분기</th>\n",
       "      <td>1.89</td>\n",
       "      <td>413.11</td>\n",
       "      <td>894.95</td>\n",
       "      <td>0.24</td>\n",
       "      <td>131.96</td>\n",
       "      <td>210.39</td>\n",
       "      <td>414.78</td>\n",
       "      <td>61730.36</td>\n",
       "    </tr>\n",
       "    <tr>\n",
       "      <th>15년 4분기</th>\n",
       "      <td>1.89</td>\n",
       "      <td>513.21</td>\n",
       "      <td>1332.43</td>\n",
       "      <td>0.25</td>\n",
       "      <td>124.85</td>\n",
       "      <td>213.02</td>\n",
       "      <td>501.91</td>\n",
       "      <td>88055.02</td>\n",
       "    </tr>\n",
       "  </tbody>\n",
       "</table>\n",
       "</div>"
      ],
      "text/plain": [
       "         count    mean      std   min     25%     50%     75%        max\n",
       "14년 1분기   1.89  410.49   994.98  0.30  115.55  194.32  422.39   62482.65\n",
       "14년 2분기   1.89  423.87  1069.71  0.15  120.54  201.22  441.75   83648.96\n",
       "14년 3분기   1.89  393.01   855.51  0.10  124.81  201.50  408.49   61158.75\n",
       "14년 4분기   1.89  505.32  1428.38  0.20  134.36  223.86  519.89  131922.97\n",
       "15년 1분기   1.89  441.19   905.41  0.20  130.52  212.98  444.78   40114.33\n",
       "15년 2분기   1.89  442.82   956.68  0.20  132.40  214.38  457.08   64414.95\n",
       "15년 3분기   1.89  413.11   894.95  0.24  131.96  210.39  414.78   61730.36\n",
       "15년 4분기   1.89  513.21  1332.43  0.25  124.85  213.02  501.91   88055.02"
      ]
     },
     "execution_count": 22,
     "metadata": {},
     "output_type": "execute_result"
    }
   ],
   "source": [
    "(regular.describe().T*0.0001).round(2)\n",
    "# 단위 1만원"
   ]
  },
  {
   "cell_type": "code",
   "execution_count": 23,
   "id": "8427e024",
   "metadata": {},
   "outputs": [
    {
     "data": {
      "text/plain": [
       "14년 1분기    4.104932e+06\n",
       "14년 2분기    4.238735e+06\n",
       "14년 3분기    3.930073e+06\n",
       "14년 4분기    5.053228e+06\n",
       "15년 1분기    4.411875e+06\n",
       "15년 2분기    4.428151e+06\n",
       "15년 3분기    4.131062e+06\n",
       "15년 4분기    5.132090e+06\n",
       "Name: mean, dtype: float64"
      ]
     },
     "execution_count": 23,
     "metadata": {},
     "output_type": "execute_result"
    }
   ],
   "source": [
    "regular.describe().T['mean']"
   ]
  },
  {
   "cell_type": "code",
   "execution_count": 24,
   "id": "e46d6b1b",
   "metadata": {
    "scrolled": true
   },
   "outputs": [
    {
     "data": {
      "text/html": [
       "<div>\n",
       "<style scoped>\n",
       "    .dataframe tbody tr th:only-of-type {\n",
       "        vertical-align: middle;\n",
       "    }\n",
       "\n",
       "    .dataframe tbody tr th {\n",
       "        vertical-align: top;\n",
       "    }\n",
       "\n",
       "    .dataframe thead th {\n",
       "        text-align: right;\n",
       "    }\n",
       "</style>\n",
       "<table border=\"1\" class=\"dataframe\">\n",
       "  <thead>\n",
       "    <tr style=\"text-align: right;\">\n",
       "      <th></th>\n",
       "      <th>14년 1분기</th>\n",
       "      <th>14년 2분기</th>\n",
       "      <th>14년 3분기</th>\n",
       "      <th>14년 4분기</th>\n",
       "      <th>15년 1분기</th>\n",
       "      <th>15년 2분기</th>\n",
       "      <th>15년 3분기</th>\n",
       "      <th>15년 4분기</th>\n",
       "    </tr>\n",
       "    <tr>\n",
       "      <th>고객번호</th>\n",
       "      <th></th>\n",
       "      <th></th>\n",
       "      <th></th>\n",
       "      <th></th>\n",
       "      <th></th>\n",
       "      <th></th>\n",
       "      <th></th>\n",
       "      <th></th>\n",
       "    </tr>\n",
       "  </thead>\n",
       "  <tbody>\n",
       "    <tr>\n",
       "      <th>00097</th>\n",
       "      <td>149972666</td>\n",
       "      <td>107454112</td>\n",
       "      <td>152340434</td>\n",
       "      <td>96039920</td>\n",
       "      <td>157527159</td>\n",
       "      <td>149845103</td>\n",
       "      <td>97839596</td>\n",
       "      <td>68534916</td>\n",
       "    </tr>\n",
       "    <tr>\n",
       "      <th>00068</th>\n",
       "      <td>78603595</td>\n",
       "      <td>55851379</td>\n",
       "      <td>31037416</td>\n",
       "      <td>31513950</td>\n",
       "      <td>42485202</td>\n",
       "      <td>15391593</td>\n",
       "      <td>19596078</td>\n",
       "      <td>28811632</td>\n",
       "    </tr>\n",
       "    <tr>\n",
       "      <th>00039</th>\n",
       "      <td>70381190</td>\n",
       "      <td>44015980</td>\n",
       "      <td>6750910</td>\n",
       "      <td>17999540</td>\n",
       "      <td>5752510</td>\n",
       "      <td>29878828</td>\n",
       "      <td>14685210</td>\n",
       "      <td>18249174</td>\n",
       "    </tr>\n",
       "    <tr>\n",
       "      <th>00018</th>\n",
       "      <td>41076760</td>\n",
       "      <td>21355512</td>\n",
       "      <td>12067162</td>\n",
       "      <td>880500</td>\n",
       "      <td>1741090</td>\n",
       "      <td>1053230</td>\n",
       "      <td>1466025</td>\n",
       "      <td>968780</td>\n",
       "    </tr>\n",
       "    <tr>\n",
       "      <th>00073</th>\n",
       "      <td>28485950</td>\n",
       "      <td>30636870</td>\n",
       "      <td>38019620</td>\n",
       "      <td>25893100</td>\n",
       "      <td>39186010</td>\n",
       "      <td>20294480</td>\n",
       "      <td>25824620</td>\n",
       "      <td>23867460</td>\n",
       "    </tr>\n",
       "    <tr>\n",
       "      <th>...</th>\n",
       "      <td>...</td>\n",
       "      <td>...</td>\n",
       "      <td>...</td>\n",
       "      <td>...</td>\n",
       "      <td>...</td>\n",
       "      <td>...</td>\n",
       "      <td>...</td>\n",
       "      <td>...</td>\n",
       "    </tr>\n",
       "    <tr>\n",
       "      <th>00071</th>\n",
       "      <td>561515</td>\n",
       "      <td>598066</td>\n",
       "      <td>614773</td>\n",
       "      <td>561802</td>\n",
       "      <td>797832</td>\n",
       "      <td>511519</td>\n",
       "      <td>721969</td>\n",
       "      <td>405158</td>\n",
       "    </tr>\n",
       "    <tr>\n",
       "      <th>00075</th>\n",
       "      <td>544721</td>\n",
       "      <td>729601</td>\n",
       "      <td>732050</td>\n",
       "      <td>774474</td>\n",
       "      <td>584426</td>\n",
       "      <td>523780</td>\n",
       "      <td>602800</td>\n",
       "      <td>670510</td>\n",
       "    </tr>\n",
       "    <tr>\n",
       "      <th>00063</th>\n",
       "      <td>446640</td>\n",
       "      <td>865810</td>\n",
       "      <td>651800</td>\n",
       "      <td>814130</td>\n",
       "      <td>877960</td>\n",
       "      <td>871770</td>\n",
       "      <td>1039100</td>\n",
       "      <td>604170</td>\n",
       "    </tr>\n",
       "    <tr>\n",
       "      <th>00003</th>\n",
       "      <td>302782</td>\n",
       "      <td>548433</td>\n",
       "      <td>648188</td>\n",
       "      <td>394366</td>\n",
       "      <td>279310</td>\n",
       "      <td>312970</td>\n",
       "      <td>421017</td>\n",
       "      <td>258101</td>\n",
       "    </tr>\n",
       "    <tr>\n",
       "      <th>00094</th>\n",
       "      <td>104730</td>\n",
       "      <td>365921</td>\n",
       "      <td>6387770</td>\n",
       "      <td>11029500</td>\n",
       "      <td>4685690</td>\n",
       "      <td>4079446</td>\n",
       "      <td>13398870</td>\n",
       "      <td>32529720</td>\n",
       "    </tr>\n",
       "  </tbody>\n",
       "</table>\n",
       "<p>100 rows × 8 columns</p>\n",
       "</div>"
      ],
      "text/plain": [
       "         14년 1분기    14년 2분기    14년 3분기   14년 4분기    15년 1분기    15년 2분기  \\\n",
       "고객번호                                                                     \n",
       "00097  149972666  107454112  152340434  96039920  157527159  149845103   \n",
       "00068   78603595   55851379   31037416  31513950   42485202   15391593   \n",
       "00039   70381190   44015980    6750910  17999540    5752510   29878828   \n",
       "00018   41076760   21355512   12067162    880500    1741090    1053230   \n",
       "00073   28485950   30636870   38019620  25893100   39186010   20294480   \n",
       "...          ...        ...        ...       ...        ...        ...   \n",
       "00071     561515     598066     614773    561802     797832     511519   \n",
       "00075     544721     729601     732050    774474     584426     523780   \n",
       "00063     446640     865810     651800    814130     877960     871770   \n",
       "00003     302782     548433     648188    394366     279310     312970   \n",
       "00094     104730     365921    6387770  11029500    4685690    4079446   \n",
       "\n",
       "        15년 3분기   15년 4분기  \n",
       "고객번호                       \n",
       "00097  97839596  68534916  \n",
       "00068  19596078  28811632  \n",
       "00039  14685210  18249174  \n",
       "00018   1466025    968780  \n",
       "00073  25824620  23867460  \n",
       "...         ...       ...  \n",
       "00071    721969    405158  \n",
       "00075    602800    670510  \n",
       "00063   1039100    604170  \n",
       "00003    421017    258101  \n",
       "00094  13398870  32529720  \n",
       "\n",
       "[100 rows x 8 columns]"
      ]
     },
     "execution_count": 24,
     "metadata": {},
     "output_type": "execute_result"
    }
   ],
   "source": [
    "regular.head(100).sort_values(by='14년 1분기', ascending=False)"
   ]
  },
  {
   "cell_type": "code",
   "execution_count": 25,
   "id": "46251dc1",
   "metadata": {},
   "outputs": [
    {
     "data": {
      "text/plain": [
       "[<matplotlib.lines.Line2D at 0x2981ecfa070>]"
      ]
     },
     "execution_count": 25,
     "metadata": {},
     "output_type": "execute_result"
    },
    {
     "data": {
      "image/png": "[encoded data removed]",
      "text/plain": [
       "<Figure size 1008x360 with 2 Axes>"
      ]
     },
     "metadata": {
      "needs_background": "light"
     },
     "output_type": "display_data"
    }
   ],
   "source": [
    "fig, ax1 = plt.subplots(figsize=(14,5))\n",
    "ax2 = ax1.twinx()\n",
    "ax1.plot(regular.sum())\n",
    "#ax2.plot(regular.describe().T['50%'], color='crimson')\n",
    "ax2.plot(regular.describe().T['75%'], color='green')"
   ]
  },
  {
   "cell_type": "code",
   "execution_count": 123,
   "id": "5f3386b7",
   "metadata": {},
   "outputs": [
    {
     "data": {
      "image/png": "[encoded data removed]",
      "text/plain": [
       "<Figure size 720x720 with 1 Axes>"
      ]
     },
     "metadata": {
      "needs_background": "light"
     },
     "output_type": "display_data"
    }
   ],
   "source": [
    "plt.figure(figsize=(10,10))\n",
    "plt.plot(regular[0:500].T)\n",
    "plt.show()"
   ]
  },
  {
   "cell_type": "code",
   "execution_count": 26,
   "id": "4a6855c8",
   "metadata": {},
   "outputs": [],
   "source": [
    "c = cx_Oracle.connect('LM_PDB/LM@localhost:1521/xepdb1')\n",
    "cs = c.cursor()\n",
    "cs.execute('SELECT*FROM PRODUCT')\n",
    "x = cs.fetchall()\n",
    "cs.execute(\"SELECT column_name FROM user_tab_columns WHERE table_name='PRODUCT'\")\n",
    "col = cs.fetchall()\n",
    "li = []\n",
    "for i in col:\n",
    "    for j in i:\n",
    "        li.append(j)\n",
    "prod = pd.DataFrame(x, columns = li)\n",
    "cs.close()\n",
    "c.commit()\n",
    "c.close()"
   ]
  },
  {
   "cell_type": "code",
   "execution_count": 148,
   "id": "36833fe4",
   "metadata": {},
   "outputs": [],
   "source": [
    "#prod.to_pickle('product.pkl')"
   ]
  },
  {
   "cell_type": "code",
   "execution_count": 27,
   "id": "08594427",
   "metadata": {
    "scrolled": true
   },
   "outputs": [
    {
     "data": {
      "text/html": [
       "<div>\n",
       "<style scoped>\n",
       "    .dataframe tbody tr th:only-of-type {\n",
       "        vertical-align: middle;\n",
       "    }\n",
       "\n",
       "    .dataframe tbody tr th {\n",
       "        vertical-align: top;\n",
       "    }\n",
       "\n",
       "    .dataframe thead th {\n",
       "        text-align: right;\n",
       "    }\n",
       "</style>\n",
       "<table border=\"1\" class=\"dataframe\">\n",
       "  <thead>\n",
       "    <tr style=\"text-align: right;\">\n",
       "      <th></th>\n",
       "      <th>상품분류</th>\n",
       "      <th>14년 1분기</th>\n",
       "      <th>14년 2분기</th>\n",
       "      <th>14년 3분기</th>\n",
       "      <th>14년 4분기</th>\n",
       "      <th>15년 1분기</th>\n",
       "      <th>15년 2분기</th>\n",
       "      <th>15년 3분기</th>\n",
       "      <th>15년 4분기</th>\n",
       "    </tr>\n",
       "  </thead>\n",
       "  <tbody>\n",
       "    <tr>\n",
       "      <th>0</th>\n",
       "      <td>가구</td>\n",
       "      <td>1564238150</td>\n",
       "      <td>1575012572</td>\n",
       "      <td>1588265591</td>\n",
       "      <td>2195040890</td>\n",
       "      <td>1843042310</td>\n",
       "      <td>1914280650</td>\n",
       "      <td>1864128640</td>\n",
       "      <td>2228246290</td>\n",
       "    </tr>\n",
       "    <tr>\n",
       "      <th>1</th>\n",
       "      <td>가전제품</td>\n",
       "      <td>3284030480</td>\n",
       "      <td>3363428630</td>\n",
       "      <td>3145891250</td>\n",
       "      <td>3512916110</td>\n",
       "      <td>3367669810</td>\n",
       "      <td>3663626690</td>\n",
       "      <td>3845919305</td>\n",
       "      <td>4826948150</td>\n",
       "    </tr>\n",
       "    <tr>\n",
       "      <th>2</th>\n",
       "      <td>공구류</td>\n",
       "      <td>91839430</td>\n",
       "      <td>83342320</td>\n",
       "      <td>90690910</td>\n",
       "      <td>108776520</td>\n",
       "      <td>71873700</td>\n",
       "      <td>63880390</td>\n",
       "      <td>68608890</td>\n",
       "      <td>83906920</td>\n",
       "    </tr>\n",
       "    <tr>\n",
       "      <th>3</th>\n",
       "      <td>귀금속</td>\n",
       "      <td>929146910</td>\n",
       "      <td>1479580620</td>\n",
       "      <td>1564230500</td>\n",
       "      <td>1563038290</td>\n",
       "      <td>882977240</td>\n",
       "      <td>1697627010</td>\n",
       "      <td>1650852430</td>\n",
       "      <td>1791873610</td>\n",
       "    </tr>\n",
       "    <tr>\n",
       "      <th>4</th>\n",
       "      <td>도서/문구/완구</td>\n",
       "      <td>514560815</td>\n",
       "      <td>470556123</td>\n",
       "      <td>517552452</td>\n",
       "      <td>516961501</td>\n",
       "      <td>483098049</td>\n",
       "      <td>446530295</td>\n",
       "      <td>408723400</td>\n",
       "      <td>503674585</td>\n",
       "    </tr>\n",
       "    <tr>\n",
       "      <th>5</th>\n",
       "      <td>명품</td>\n",
       "      <td>6654742230</td>\n",
       "      <td>7039343580</td>\n",
       "      <td>5988397940</td>\n",
       "      <td>9189064310</td>\n",
       "      <td>8185860170</td>\n",
       "      <td>8893693210</td>\n",
       "      <td>7743514880</td>\n",
       "      <td>11086641070</td>\n",
       "    </tr>\n",
       "    <tr>\n",
       "      <th>6</th>\n",
       "      <td>생활</td>\n",
       "      <td>2490702860</td>\n",
       "      <td>2776196430</td>\n",
       "      <td>2641451680</td>\n",
       "      <td>2976335875</td>\n",
       "      <td>2603370640</td>\n",
       "      <td>2792302725</td>\n",
       "      <td>2469218253</td>\n",
       "      <td>3037594489</td>\n",
       "    </tr>\n",
       "    <tr>\n",
       "      <th>7</th>\n",
       "      <td>시설/서비스</td>\n",
       "      <td>1822300764</td>\n",
       "      <td>1816112441</td>\n",
       "      <td>2070611294</td>\n",
       "      <td>2335830429</td>\n",
       "      <td>2275560695</td>\n",
       "      <td>2135790645</td>\n",
       "      <td>2252514762</td>\n",
       "      <td>2221081544</td>\n",
       "    </tr>\n",
       "    <tr>\n",
       "      <th>8</th>\n",
       "      <td>식료품</td>\n",
       "      <td>20326642065</td>\n",
       "      <td>19632303004</td>\n",
       "      <td>21793660292</td>\n",
       "      <td>19124082949</td>\n",
       "      <td>21813883400</td>\n",
       "      <td>19559247141</td>\n",
       "      <td>22825373141</td>\n",
       "      <td>18873045020</td>\n",
       "    </tr>\n",
       "    <tr>\n",
       "      <th>9</th>\n",
       "      <td>잡화</td>\n",
       "      <td>1512649396</td>\n",
       "      <td>1332301797</td>\n",
       "      <td>1585243330</td>\n",
       "      <td>1543220810</td>\n",
       "      <td>1708587185</td>\n",
       "      <td>1656823454</td>\n",
       "      <td>1721993947</td>\n",
       "      <td>1586221850</td>\n",
       "    </tr>\n",
       "    <tr>\n",
       "      <th>10</th>\n",
       "      <td>취미/스포츠/레저</td>\n",
       "      <td>697679430</td>\n",
       "      <td>1047133442</td>\n",
       "      <td>1027364794</td>\n",
       "      <td>1100973560</td>\n",
       "      <td>941377164</td>\n",
       "      <td>1263481151</td>\n",
       "      <td>1452533912</td>\n",
       "      <td>3916001184</td>\n",
       "    </tr>\n",
       "    <tr>\n",
       "      <th>11</th>\n",
       "      <td>패션/의류</td>\n",
       "      <td>32250064565</td>\n",
       "      <td>33667042513</td>\n",
       "      <td>27169572100</td>\n",
       "      <td>45841948680</td>\n",
       "      <td>34201500162</td>\n",
       "      <td>34508544782</td>\n",
       "      <td>27303201949</td>\n",
       "      <td>41832752085</td>\n",
       "    </tr>\n",
       "    <tr>\n",
       "      <th>12</th>\n",
       "      <td>화장/세정/세면</td>\n",
       "      <td>5556165648</td>\n",
       "      <td>6263613925</td>\n",
       "      <td>5766782524</td>\n",
       "      <td>6403205860</td>\n",
       "      <td>6075675430</td>\n",
       "      <td>6238846047</td>\n",
       "      <td>5929967491</td>\n",
       "      <td>6603628418</td>\n",
       "    </tr>\n",
       "  </tbody>\n",
       "</table>\n",
       "</div>"
      ],
      "text/plain": [
       "         상품분류      14년 1분기      14년 2분기      14년 3분기      14년 4분기  \\\n",
       "0          가구   1564238150   1575012572   1588265591   2195040890   \n",
       "1        가전제품   3284030480   3363428630   3145891250   3512916110   \n",
       "2         공구류     91839430     83342320     90690910    108776520   \n",
       "3         귀금속    929146910   1479580620   1564230500   1563038290   \n",
       "4    도서/문구/완구    514560815    470556123    517552452    516961501   \n",
       "5          명품   6654742230   7039343580   5988397940   9189064310   \n",
       "6          생활   2490702860   2776196430   2641451680   2976335875   \n",
       "7      시설/서비스   1822300764   1816112441   2070611294   2335830429   \n",
       "8         식료품  20326642065  19632303004  21793660292  19124082949   \n",
       "9          잡화   1512649396   1332301797   1585243330   1543220810   \n",
       "10  취미/스포츠/레저    697679430   1047133442   1027364794   1100973560   \n",
       "11      패션/의류  32250064565  33667042513  27169572100  45841948680   \n",
       "12   화장/세정/세면   5556165648   6263613925   5766782524   6403205860   \n",
       "\n",
       "        15년 1분기      15년 2분기      15년 3분기      15년 4분기  \n",
       "0    1843042310   1914280650   1864128640   2228246290  \n",
       "1    3367669810   3663626690   3845919305   4826948150  \n",
       "2      71873700     63880390     68608890     83906920  \n",
       "3     882977240   1697627010   1650852430   1791873610  \n",
       "4     483098049    446530295    408723400    503674585  \n",
       "5    8185860170   8893693210   7743514880  11086641070  \n",
       "6    2603370640   2792302725   2469218253   3037594489  \n",
       "7    2275560695   2135790645   2252514762   2221081544  \n",
       "8   21813883400  19559247141  22825373141  18873045020  \n",
       "9    1708587185   1656823454   1721993947   1586221850  \n",
       "10    941377164   1263481151   1452533912   3916001184  \n",
       "11  34201500162  34508544782  27303201949  41832752085  \n",
       "12   6075675430   6238846047   5929967491   6603628418  "
      ]
     },
     "execution_count": 27,
     "metadata": {},
     "output_type": "execute_result"
    }
   ],
   "source": [
    "prod"
   ]
  },
  {
   "cell_type": "code",
   "execution_count": 30,
   "id": "358498f2",
   "metadata": {},
   "outputs": [
    {
     "data": {
      "text/plain": [
       "고객번호\n",
       "00001   -18038824\n",
       "00002     4920300\n",
       "00003     -136265\n",
       "00004     -212955\n",
       "00006      253073\n",
       "           ...   \n",
       "19333       64980\n",
       "19334    -2353958\n",
       "19335      -31267\n",
       "19336     -937700\n",
       "19337      342480\n",
       "Length: 18866, dtype: int64"
      ]
     },
     "execution_count": 30,
     "metadata": {},
     "output_type": "execute_result"
    }
   ],
   "source": [
    "regular['15년 4분기']-regular['14년 4분기']"
   ]
  },
  {
   "cell_type": "code",
   "execution_count": 32,
   "id": "61195d29",
   "metadata": {},
   "outputs": [
    {
     "name": "stderr",
     "output_type": "stream",
     "text": [
      "C:\\Users\\user\\AppData\\Local\\Temp/ipykernel_17608/3403941896.py:10: SettingWithCopyWarning: \n",
      "A value is trying to be set on a copy of a slice from a DataFrame\n",
      "\n",
      "See the caveats in the documentation: https://pandas.pydata.org/pandas-docs/stable/user_guide/indexing.html#returning-a-view-versus-a-copy\n",
      "  regular.증감여부[regular['15년 4분기']-regular['14년 4분기']>=0] = 1\n",
      "C:\\Users\\user\\AppData\\Local\\Temp/ipykernel_17608/3403941896.py:11: SettingWithCopyWarning: \n",
      "A value is trying to be set on a copy of a slice from a DataFrame\n",
      "\n",
      "See the caveats in the documentation: https://pandas.pydata.org/pandas-docs/stable/user_guide/indexing.html#returning-a-view-versus-a-copy\n",
      "  regular.증감여부[regular['15년 4분기']-regular['14년 4분기']<0] = 0\n"
     ]
    },
    {
     "data": {
      "text/html": [
       "<div>\n",
       "<style scoped>\n",
       "    .dataframe tbody tr th:only-of-type {\n",
       "        vertical-align: middle;\n",
       "    }\n",
       "\n",
       "    .dataframe tbody tr th {\n",
       "        vertical-align: top;\n",
       "    }\n",
       "\n",
       "    .dataframe thead th {\n",
       "        text-align: right;\n",
       "    }\n",
       "</style>\n",
       "<table border=\"1\" class=\"dataframe\">\n",
       "  <thead>\n",
       "    <tr style=\"text-align: right;\">\n",
       "      <th></th>\n",
       "      <th>14년 1분기</th>\n",
       "      <th>14년 2분기</th>\n",
       "      <th>14년 3분기</th>\n",
       "      <th>14년 4분기</th>\n",
       "      <th>15년 1분기</th>\n",
       "      <th>15년 2분기</th>\n",
       "      <th>15년 3분기</th>\n",
       "      <th>15년 4분기</th>\n",
       "      <th>증감여부</th>\n",
       "    </tr>\n",
       "    <tr>\n",
       "      <th>고객번호</th>\n",
       "      <th></th>\n",
       "      <th></th>\n",
       "      <th></th>\n",
       "      <th></th>\n",
       "      <th></th>\n",
       "      <th></th>\n",
       "      <th></th>\n",
       "      <th></th>\n",
       "      <th></th>\n",
       "    </tr>\n",
       "  </thead>\n",
       "  <tbody>\n",
       "    <tr>\n",
       "      <th>00001</th>\n",
       "      <td>9141590</td>\n",
       "      <td>10783765</td>\n",
       "      <td>10781550</td>\n",
       "      <td>23334762</td>\n",
       "      <td>9302985</td>\n",
       "      <td>8595380</td>\n",
       "      <td>7806580</td>\n",
       "      <td>5295938</td>\n",
       "      <td>0</td>\n",
       "    </tr>\n",
       "    <tr>\n",
       "      <th>00002</th>\n",
       "      <td>14123470</td>\n",
       "      <td>10199760</td>\n",
       "      <td>14841180</td>\n",
       "      <td>7080920</td>\n",
       "      <td>18481480</td>\n",
       "      <td>9310130</td>\n",
       "      <td>13842600</td>\n",
       "      <td>12001220</td>\n",
       "      <td>1</td>\n",
       "    </tr>\n",
       "    <tr>\n",
       "      <th>00003</th>\n",
       "      <td>302782</td>\n",
       "      <td>548433</td>\n",
       "      <td>648188</td>\n",
       "      <td>394366</td>\n",
       "      <td>279310</td>\n",
       "      <td>312970</td>\n",
       "      <td>421017</td>\n",
       "      <td>258101</td>\n",
       "      <td>0</td>\n",
       "    </tr>\n",
       "    <tr>\n",
       "      <th>00004</th>\n",
       "      <td>1309643</td>\n",
       "      <td>3732463</td>\n",
       "      <td>2434410</td>\n",
       "      <td>1823100</td>\n",
       "      <td>1737292</td>\n",
       "      <td>1919645</td>\n",
       "      <td>2127112</td>\n",
       "      <td>1610145</td>\n",
       "      <td>0</td>\n",
       "    </tr>\n",
       "    <tr>\n",
       "      <th>00006</th>\n",
       "      <td>2166006</td>\n",
       "      <td>3115284</td>\n",
       "      <td>3163273</td>\n",
       "      <td>2950816</td>\n",
       "      <td>3619234</td>\n",
       "      <td>2769821</td>\n",
       "      <td>3518094</td>\n",
       "      <td>3203889</td>\n",
       "      <td>1</td>\n",
       "    </tr>\n",
       "    <tr>\n",
       "      <th>...</th>\n",
       "      <td>...</td>\n",
       "      <td>...</td>\n",
       "      <td>...</td>\n",
       "      <td>...</td>\n",
       "      <td>...</td>\n",
       "      <td>...</td>\n",
       "      <td>...</td>\n",
       "      <td>...</td>\n",
       "      <td>...</td>\n",
       "    </tr>\n",
       "    <tr>\n",
       "      <th>19333</th>\n",
       "      <td>613130</td>\n",
       "      <td>913988</td>\n",
       "      <td>578210</td>\n",
       "      <td>455450</td>\n",
       "      <td>850690</td>\n",
       "      <td>553590</td>\n",
       "      <td>252010</td>\n",
       "      <td>520430</td>\n",
       "      <td>1</td>\n",
       "    </tr>\n",
       "    <tr>\n",
       "      <th>19334</th>\n",
       "      <td>834049</td>\n",
       "      <td>2705917</td>\n",
       "      <td>2575628</td>\n",
       "      <td>2819868</td>\n",
       "      <td>1699930</td>\n",
       "      <td>767309</td>\n",
       "      <td>484920</td>\n",
       "      <td>465910</td>\n",
       "      <td>0</td>\n",
       "    </tr>\n",
       "    <tr>\n",
       "      <th>19335</th>\n",
       "      <td>937734</td>\n",
       "      <td>2783122</td>\n",
       "      <td>2320105</td>\n",
       "      <td>2042511</td>\n",
       "      <td>2199423</td>\n",
       "      <td>2852695</td>\n",
       "      <td>1553645</td>\n",
       "      <td>2011244</td>\n",
       "      <td>0</td>\n",
       "    </tr>\n",
       "    <tr>\n",
       "      <th>19336</th>\n",
       "      <td>449600</td>\n",
       "      <td>3321870</td>\n",
       "      <td>3160370</td>\n",
       "      <td>5886390</td>\n",
       "      <td>2896520</td>\n",
       "      <td>3625250</td>\n",
       "      <td>6322150</td>\n",
       "      <td>4948690</td>\n",
       "      <td>0</td>\n",
       "    </tr>\n",
       "    <tr>\n",
       "      <th>19337</th>\n",
       "      <td>16520</td>\n",
       "      <td>71970</td>\n",
       "      <td>603219</td>\n",
       "      <td>765510</td>\n",
       "      <td>534370</td>\n",
       "      <td>660260</td>\n",
       "      <td>1216470</td>\n",
       "      <td>1107990</td>\n",
       "      <td>1</td>\n",
       "    </tr>\n",
       "  </tbody>\n",
       "</table>\n",
       "<p>18866 rows × 9 columns</p>\n",
       "</div>"
      ],
      "text/plain": [
       "        14년 1분기   14년 2분기   14년 3분기   14년 4분기   15년 1분기  15년 2분기   15년 3분기  \\\n",
       "고객번호                                                                         \n",
       "00001   9141590  10783765  10781550  23334762   9302985  8595380   7806580   \n",
       "00002  14123470  10199760  14841180   7080920  18481480  9310130  13842600   \n",
       "00003    302782    548433    648188    394366    279310   312970    421017   \n",
       "00004   1309643   3732463   2434410   1823100   1737292  1919645   2127112   \n",
       "00006   2166006   3115284   3163273   2950816   3619234  2769821   3518094   \n",
       "...         ...       ...       ...       ...       ...      ...       ...   \n",
       "19333    613130    913988    578210    455450    850690   553590    252010   \n",
       "19334    834049   2705917   2575628   2819868   1699930   767309    484920   \n",
       "19335    937734   2783122   2320105   2042511   2199423  2852695   1553645   \n",
       "19336    449600   3321870   3160370   5886390   2896520  3625250   6322150   \n",
       "19337     16520     71970    603219    765510    534370   660260   1216470   \n",
       "\n",
       "        15년 4분기 증감여부  \n",
       "고객번호                  \n",
       "00001   5295938    0  \n",
       "00002  12001220    1  \n",
       "00003    258101    0  \n",
       "00004   1610145    0  \n",
       "00006   3203889    1  \n",
       "...         ...  ...  \n",
       "19333    520430    1  \n",
       "19334    465910    0  \n",
       "19335   2011244    0  \n",
       "19336   4948690    0  \n",
       "19337   1107990    1  \n",
       "\n",
       "[18866 rows x 9 columns]"
      ]
     },
     "execution_count": 32,
     "metadata": {},
     "output_type": "execute_result"
    }
   ],
   "source": [
    "# 기존고객 중 매출 대목인 4분기에서 매출 감소한 비율을 찾아보자\n",
    "\n",
    "def check(df):\n",
    "    if df['15년 4분기']-df['14년 4분기']>=0:\n",
    "        c=1\n",
    "    else: c=0\n",
    "    return c\n",
    "\n",
    "regular['증감여부'] = ''\n",
    "regular.증감여부[regular['15년 4분기']-regular['14년 4분기']>=0] = 1\n",
    "regular.증감여부[regular['15년 4분기']-regular['14년 4분기']<0] = 0\n",
    "regular"
   ]
  },
  {
   "cell_type": "code",
   "execution_count": 35,
   "id": "1658ba36",
   "metadata": {},
   "outputs": [
    {
     "data": {
      "text/plain": [
       "0    9889\n",
       "1    8977\n",
       "Name: 증감여부, dtype: int64"
      ]
     },
     "metadata": {},
     "output_type": "display_data"
    },
    {
     "data": {
      "text/plain": [
       "52.417046538746945"
      ]
     },
     "metadata": {},
     "output_type": "display_data"
    }
   ],
   "source": [
    "display(regular.증감여부.value_counts(), (9889/18866)*100)"
   ]
  },
  {
   "cell_type": "code",
   "execution_count": 42,
   "id": "d29fcd1e",
   "metadata": {
    "scrolled": true
   },
   "outputs": [
    {
     "data": {
      "text/plain": [
       "14년 4분기    60073296080\n",
       "15년 4분기    33398817027\n",
       "증감여부                 0\n",
       "dtype: object"
      ]
     },
     "execution_count": 42,
     "metadata": {},
     "output_type": "execute_result"
    }
   ],
   "source": [
    "regular[['14년 4분기','15년 4분기','증감여부']][regular.증감여부==0].sum()"
   ]
  },
  {
   "cell_type": "code",
   "execution_count": 71,
   "id": "a34fd320",
   "metadata": {},
   "outputs": [
    {
     "name": "stderr",
     "output_type": "stream",
     "text": [
      "C:\\Users\\user\\AppData\\Local\\Temp/ipykernel_17608/3698488725.py:2: SettingWithCopyWarning: \n",
      "A value is trying to be set on a copy of a slice from a DataFrame.\n",
      "Try using .loc[row_indexer,col_indexer] = value instead\n",
      "\n",
      "See the caveats in the documentation: https://pandas.pydata.org/pandas-docs/stable/user_guide/indexing.html#returning-a-view-versus-a-copy\n",
      "  r4['증감여부'] = ''\n",
      "C:\\Users\\user\\AppData\\Local\\Temp/ipykernel_17608/3698488725.py:3: SettingWithCopyWarning: \n",
      "A value is trying to be set on a copy of a slice from a DataFrame\n",
      "\n",
      "See the caveats in the documentation: https://pandas.pydata.org/pandas-docs/stable/user_guide/indexing.html#returning-a-view-versus-a-copy\n",
      "  r4.증감여부[r4['15년 4분기']-r4['14년 4분기']>=0]=1\n",
      "C:\\Users\\user\\AppData\\Local\\Temp/ipykernel_17608/3698488725.py:4: SettingWithCopyWarning: \n",
      "A value is trying to be set on a copy of a slice from a DataFrame\n",
      "\n",
      "See the caveats in the documentation: https://pandas.pydata.org/pandas-docs/stable/user_guide/indexing.html#returning-a-view-versus-a-copy\n",
      "  r4.증감여부[r4['15년 4분기']-r4['14년 4분기']<0]=0\n"
     ]
    },
    {
     "data": {
      "text/plain": [
       "14년 4분기    60073296080\n",
       "15년 4분기    33398817027\n",
       "증감여부                 0\n",
       "dtype: object"
      ]
     },
     "execution_count": 71,
     "metadata": {},
     "output_type": "execute_result"
    }
   ],
   "source": [
    "r4 = regular[['14년 4분기','15년 4분기']]\n",
    "r4['증감여부'] = ''\n",
    "r4.증감여부[r4['15년 4분기']-r4['14년 4분기']>=0]=1\n",
    "r4.증감여부[r4['15년 4분기']-r4['14년 4분기']<0]=0\n",
    "r4[r4.증감여부==0].sum()"
   ]
  },
  {
   "cell_type": "code",
   "execution_count": 52,
   "id": "7187cb37",
   "metadata": {},
   "outputs": [
    {
     "data": {
      "text/plain": [
       "상품분류\n",
       "패션/의류        276774626836\n",
       "식료품          163948237012\n",
       "명품            64781257390\n",
       "화장/세정/세면      48837885343\n",
       "가전제품          29010430425\n",
       "생활            21787172952\n",
       "시설/서비스        16929802574\n",
       "가구            14772255093\n",
       "잡화            12647041769\n",
       "귀금속           11559326610\n",
       "취미/스포츠/레저     11446544637\n",
       "도서/문구/완구       3861657220\n",
       "공구류             662919080\n",
       "dtype: int64"
      ]
     },
     "execution_count": 52,
     "metadata": {},
     "output_type": "execute_result"
    }
   ],
   "source": [
    "pr = prod.set_index('상품분류').T\n",
    "pr.sum().sort_values(ascending=False)"
   ]
  },
  {
   "cell_type": "code",
   "execution_count": 57,
   "id": "35867d0b",
   "metadata": {
    "scrolled": false
   },
   "outputs": [
    {
     "name": "stdout",
     "output_type": "stream",
     "text": [
      "-0.418239312999523\n"
     ]
    },
    {
     "name": "stderr",
     "output_type": "stream",
     "text": [
      "C:\\Users\\user\\AppData\\Local\\Temp/ipykernel_17608/938259156.py:2: SettingWithCopyWarning: \n",
      "A value is trying to be set on a copy of a slice from a DataFrame.\n",
      "Try using .loc[row_indexer,col_indexer] = value instead\n",
      "\n",
      "See the caveats in the documentation: https://pandas.pydata.org/pandas-docs/stable/user_guide/indexing.html#returning-a-view-versus-a-copy\n",
      "  r1['증감여부'] = ''\n",
      "C:\\Users\\user\\AppData\\Local\\Temp/ipykernel_17608/938259156.py:3: SettingWithCopyWarning: \n",
      "A value is trying to be set on a copy of a slice from a DataFrame\n",
      "\n",
      "See the caveats in the documentation: https://pandas.pydata.org/pandas-docs/stable/user_guide/indexing.html#returning-a-view-versus-a-copy\n",
      "  r1.증감여부[regular['15년 1분기']-regular['14년 1분기']>=0]=1\n",
      "C:\\Users\\user\\AppData\\Local\\Temp/ipykernel_17608/938259156.py:4: SettingWithCopyWarning: \n",
      "A value is trying to be set on a copy of a slice from a DataFrame\n",
      "\n",
      "See the caveats in the documentation: https://pandas.pydata.org/pandas-docs/stable/user_guide/indexing.html#returning-a-view-versus-a-copy\n",
      "  r1.증감여부[regular['15년 1분기']-regular['14년 1분기']<0]=0\n"
     ]
    },
    {
     "data": {
      "text/plain": [
       "14년 1분기    46985286969\n",
       "15년 1분기    27334192826\n",
       "증감여부                 0\n",
       "dtype: object"
      ]
     },
     "execution_count": 57,
     "metadata": {},
     "output_type": "execute_result"
    }
   ],
   "source": [
    "r1 = regular[['14년 1분기','15년 1분기']]\n",
    "r1['증감여부'] = ''\n",
    "r1.증감여부[regular['15년 1분기']-regular['14년 1분기']>=0]=1\n",
    "r1.증감여부[regular['15년 1분기']-regular['14년 1분기']<0]=0\n",
    "print()\n",
    "r1[r1.증감여부==0].sum()"
   ]
  },
  {
   "cell_type": "code",
   "execution_count": 74,
   "id": "614a9be6",
   "metadata": {
    "scrolled": true
   },
   "outputs": [
    {
     "data": {
      "text/plain": [
       "1.84"
      ]
     },
     "execution_count": 74,
     "metadata": {},
     "output_type": "execute_result"
    }
   ],
   "source": [
    "a1 = r1[r1.증감여부==1].sum()\n",
    "(a1[1]/a1[0]).round(2)"
   ]
  },
  {
   "cell_type": "code",
   "execution_count": 75,
   "id": "45b5eb4e",
   "metadata": {},
   "outputs": [
    {
     "data": {
      "text/plain": [
       "1.76"
      ]
     },
     "execution_count": 75,
     "metadata": {},
     "output_type": "execute_result"
    }
   ],
   "source": [
    "a2 = r2[r2.증감여부==1].sum()\n",
    "(a2[1]/a2[0]).round(2)"
   ]
  },
  {
   "cell_type": "code",
   "execution_count": 76,
   "id": "57b84a71",
   "metadata": {},
   "outputs": [
    {
     "data": {
      "text/plain": [
       "1.81"
      ]
     },
     "execution_count": 76,
     "metadata": {},
     "output_type": "execute_result"
    }
   ],
   "source": [
    "a3 = r3[r3.증감여부==1].sum()\n",
    "(a3[1]/a3[0]).round(2)"
   ]
  },
  {
   "cell_type": "code",
   "execution_count": 77,
   "id": "19065cb7",
   "metadata": {},
   "outputs": [
    {
     "data": {
      "text/plain": [
       "1.8"
      ]
     },
     "execution_count": 77,
     "metadata": {},
     "output_type": "execute_result"
    }
   ],
   "source": [
    "a4 = r4[r4.증감여부==1].sum()\n",
    "(a4[1]/a4[0]).round(2)"
   ]
  },
  {
   "cell_type": "code",
   "execution_count": null,
   "id": "dcd9934b",
   "metadata": {},
   "outputs": [],
   "source": []
  },
  {
   "cell_type": "code",
   "execution_count": 58,
   "id": "e4bd79c5",
   "metadata": {},
   "outputs": [
    {
     "name": "stderr",
     "output_type": "stream",
     "text": [
      "C:\\Users\\user\\AppData\\Local\\Temp/ipykernel_17608/1315096329.py:2: SettingWithCopyWarning: \n",
      "A value is trying to be set on a copy of a slice from a DataFrame.\n",
      "Try using .loc[row_indexer,col_indexer] = value instead\n",
      "\n",
      "See the caveats in the documentation: https://pandas.pydata.org/pandas-docs/stable/user_guide/indexing.html#returning-a-view-versus-a-copy\n",
      "  r2['증감여부'] = ''\n",
      "C:\\Users\\user\\AppData\\Local\\Temp/ipykernel_17608/1315096329.py:3: SettingWithCopyWarning: \n",
      "A value is trying to be set on a copy of a slice from a DataFrame\n",
      "\n",
      "See the caveats in the documentation: https://pandas.pydata.org/pandas-docs/stable/user_guide/indexing.html#returning-a-view-versus-a-copy\n",
      "  r2.증감여부[r2['15년 2분기']-r2['14년 2분기']>=0]=1\n",
      "C:\\Users\\user\\AppData\\Local\\Temp/ipykernel_17608/1315096329.py:4: SettingWithCopyWarning: \n",
      "A value is trying to be set on a copy of a slice from a DataFrame\n",
      "\n",
      "See the caveats in the documentation: https://pandas.pydata.org/pandas-docs/stable/user_guide/indexing.html#returning-a-view-versus-a-copy\n",
      "  r2.증감여부[r2['15년 2분기']-r2['14년 2분기']<0]=0\n"
     ]
    },
    {
     "data": {
      "text/plain": [
       "14년 2분기    48093220784\n",
       "15년 2분기    27313296929\n",
       "증감여부                 0\n",
       "dtype: object"
      ]
     },
     "execution_count": 58,
     "metadata": {},
     "output_type": "execute_result"
    }
   ],
   "source": [
    "r2 = regular[['14년 2분기','15년 2분기']]\n",
    "r2['증감여부'] = ''\n",
    "r2.증감여부[r2['15년 2분기']-r2['14년 2분기']>=0]=1\n",
    "r2.증감여부[r2['15년 2분기']-r2['14년 2분기']<0]=0\n",
    "r2[r2.증감여부==0].sum()"
   ]
  },
  {
   "cell_type": "code",
   "execution_count": 60,
   "id": "613edc8c",
   "metadata": {},
   "outputs": [
    {
     "name": "stderr",
     "output_type": "stream",
     "text": [
      "C:\\Users\\user\\AppData\\Local\\Temp/ipykernel_17608/1319170163.py:2: SettingWithCopyWarning: \n",
      "A value is trying to be set on a copy of a slice from a DataFrame.\n",
      "Try using .loc[row_indexer,col_indexer] = value instead\n",
      "\n",
      "See the caveats in the documentation: https://pandas.pydata.org/pandas-docs/stable/user_guide/indexing.html#returning-a-view-versus-a-copy\n",
      "  r3['증감여부'] = ''\n",
      "C:\\Users\\user\\AppData\\Local\\Temp/ipykernel_17608/1319170163.py:3: SettingWithCopyWarning: \n",
      "A value is trying to be set on a copy of a slice from a DataFrame\n",
      "\n",
      "See the caveats in the documentation: https://pandas.pydata.org/pandas-docs/stable/user_guide/indexing.html#returning-a-view-versus-a-copy\n",
      "  r3.증감여부[r3['15년 3분기']-r3['14년 3분기']>=0]=1\n",
      "C:\\Users\\user\\AppData\\Local\\Temp/ipykernel_17608/1319170163.py:4: SettingWithCopyWarning: \n",
      "A value is trying to be set on a copy of a slice from a DataFrame\n",
      "\n",
      "See the caveats in the documentation: https://pandas.pydata.org/pandas-docs/stable/user_guide/indexing.html#returning-a-view-versus-a-copy\n",
      "  r3.증감여부[r3['15년 3분기']-r3['14년 3분기']<0]=0\n"
     ]
    },
    {
     "data": {
      "text/plain": [
       "14년 3분기    45540614301\n",
       "15년 3분기    26067858849\n",
       "증감여부                 0\n",
       "dtype: object"
      ]
     },
     "execution_count": 60,
     "metadata": {},
     "output_type": "execute_result"
    }
   ],
   "source": [
    "r3 = regular[['14년 3분기','15년 3분기']]\n",
    "r3['증감여부'] = ''\n",
    "r3.증감여부[r3['15년 3분기']-r3['14년 3분기']>=0]=1\n",
    "r3.증감여부[r3['15년 3분기']-r3['14년 3분기']<0]=0\n",
    "r3[r3.증감여부==0].sum()"
   ]
  },
  {
   "cell_type": "code",
   "execution_count": 73,
   "id": "804c83b6",
   "metadata": {},
   "outputs": [
    {
     "data": {
      "text/plain": [
       "1    10609\n",
       "0     8257\n",
       "Name: 증감여부, dtype: int64"
      ]
     },
     "metadata": {},
     "output_type": "display_data"
    },
    {
     "data": {
      "text/plain": [
       "1    10558\n",
       "0     8308\n",
       "Name: 증감여부, dtype: int64"
      ]
     },
     "metadata": {},
     "output_type": "display_data"
    },
    {
     "data": {
      "text/plain": [
       "1    10143\n",
       "0     8723\n",
       "Name: 증감여부, dtype: int64"
      ]
     },
     "metadata": {},
     "output_type": "display_data"
    },
    {
     "data": {
      "text/plain": [
       "0    9889\n",
       "1    8977\n",
       "Name: 증감여부, dtype: int64"
      ]
     },
     "metadata": {},
     "output_type": "display_data"
    }
   ],
   "source": [
    "display(r1.증감여부.value_counts(),\n",
    "        r2.증감여부.value_counts(),\n",
    "        r3.증감여부.value_counts(),\n",
    "        r4.증감여부.value_counts())"
   ]
  },
  {
   "cell_type": "code",
   "execution_count": null,
   "id": "beda38f6",
   "metadata": {},
   "outputs": [],
   "source": []
  },
  {
   "cell_type": "code",
   "execution_count": null,
   "id": "39694251",
   "metadata": {},
   "outputs": [],
   "source": []
  },
  {
   "cell_type": "code",
   "execution_count": null,
   "id": "67183a5b",
   "metadata": {},
   "outputs": [],
   "source": []
  },
  {
   "cell_type": "code",
   "execution_count": null,
   "id": "d279fee4",
   "metadata": {},
   "outputs": [],
   "source": []
  }
 ],
 "metadata": {
  "kernelspec": {
   "display_name": "Python 3 (ipykernel)",
   "language": "python",
   "name": "python3"
  },
  "language_info": {
   "codemirror_mode": {
    "name": "ipython",
    "version": 3
   },
   "file_extension": ".py",
   "mimetype": "text/x-python",
   "name": "python",
   "nbconvert_exporter": "python",
   "pygments_lexer": "ipython3",
   "version": "3.8.12"
  }
 },
 "nbformat": 4,
 "nbformat_minor": 5
}
