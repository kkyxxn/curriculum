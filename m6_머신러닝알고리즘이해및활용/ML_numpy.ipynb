{
 "cells": [
  {
   "cell_type": "code",
   "execution_count": 80,
   "id": "8e2e9807",
   "metadata": {},
   "outputs": [
    {
     "name": "stdout",
     "output_type": "stream",
     "text": [
      "[1 2 3] <class 'numpy.ndarray'> (3,)\n",
      "[[1 2 3]\n",
      " [2 3 4]] <class 'numpy.ndarray'> (2, 3)\n",
      "[[[1 2 3]]] <class 'numpy.ndarray'> (1, 1, 3)\n"
     ]
    }
   ],
   "source": [
    "import numpy as np\n",
    "array1 = np.array([1,2,3])\n",
    "array2 = np.array([[1,2,3],\n",
    "                [2,3,4]])\n",
    "array3 = np.array([[[1,2,3]]])\n",
    "                \n",
    "print(array1, type(array1), array1.shape)\n",
    "print(array2, type(array2), array2.shape)\n",
    "print(array3, type(array3), array3.shape)         "
   ]
  },
  {
   "cell_type": "code",
   "execution_count": 81,
   "id": "da00834c",
   "metadata": {},
   "outputs": [
    {
     "name": "stdout",
     "output_type": "stream",
     "text": [
      "float64\n",
      "int32\n"
     ]
    }
   ],
   "source": [
    "# astype 형변환\n",
    "array_int = np.array([1,2,3])\n",
    "array_float = array_int.astype('float64')\n",
    "print(array_float.dtype)\n",
    "array_int2 = array_float.astype('int32')\n",
    "print(array_int2.dtype)"
   ]
  },
  {
   "cell_type": "code",
   "execution_count": 11,
   "id": "8f6f8194",
   "metadata": {},
   "outputs": [
    {
     "name": "stdout",
     "output_type": "stream",
     "text": [
      "[[0 0]\n",
      " [0 0]\n",
      " [0 0]]\n"
     ]
    },
    {
     "data": {
      "text/plain": [
       "(3, 2)"
      ]
     },
     "execution_count": 11,
     "metadata": {},
     "output_type": "execute_result"
    }
   ],
   "source": [
    "# np.zeros\n",
    "zero_array = np.zeros((3,2), dtype='int32') \n",
    "print(zero_array)\n",
    "zero_array.ndim # 2차원\n",
    "zero_array.shape # 3행 2열"
   ]
  },
  {
   "cell_type": "code",
   "execution_count": 82,
   "id": "1c207741",
   "metadata": {},
   "outputs": [
    {
     "name": "stdout",
     "output_type": "stream",
     "text": [
      "[[1. 1.]\n",
      " [1. 1.]\n",
      " [1. 1.]] float64\n"
     ]
    }
   ],
   "source": [
    "one_array = np.ones((3,2))\n",
    "print(one_array, one_array.dtype)"
   ]
  },
  {
   "cell_type": "code",
   "execution_count": 88,
   "id": "9db5d1cb",
   "metadata": {},
   "outputs": [
    {
     "name": "stdout",
     "output_type": "stream",
     "text": [
      "[0 1 2 3 4 5 6 7 8 9] (10,)\n"
     ]
    }
   ],
   "source": [
    "# reshape ; 1-> 2,3 차원\n",
    "ar1 = np.arange(10)\n",
    "print(ar1, ar1.shape)"
   ]
  },
  {
   "cell_type": "code",
   "execution_count": 89,
   "id": "be8175ee",
   "metadata": {},
   "outputs": [
    {
     "name": "stdout",
     "output_type": "stream",
     "text": [
      "[0 1 2 3 4 5 6 7 8 9] \n",
      "\n",
      "[[0 1 2 3 4]\n",
      " [5 6 7 8 9]] \n",
      "\n",
      "[[[0 1 2 3 4]\n",
      "  [5 6 7 8 9]]]\n"
     ]
    }
   ],
   "source": [
    "print(ar1,'\\n')\n",
    "print(ar1.reshape(2,5),'\\n')\n",
    "print(ar1.reshape(1,2,5))"
   ]
  },
  {
   "cell_type": "code",
   "execution_count": 92,
   "id": "17a45cbf",
   "metadata": {},
   "outputs": [
    {
     "name": "stdout",
     "output_type": "stream",
     "text": [
      "[0 1 2 3 4 5 6 7 8 9] (10,)\n",
      "[[0 1 2 3 4]\n",
      " [5 6 7 8 9]]\n",
      "[[[0 1]\n",
      "  [2 3]\n",
      "  [4 5]\n",
      "  [6 7]\n",
      "  [8 9]]]\n"
     ]
    }
   ],
   "source": [
    "# reshape, -1\n",
    "ar1 = np.arange(10)\n",
    "print(ar1, ar1.shape)\n",
    "print(ar1.reshape(2,-1)) # 2행 5열\n",
    "print(ar1.reshape(-1,5,2)) "
   ]
  },
  {
   "cell_type": "code",
   "execution_count": 101,
   "id": "4cd87219",
   "metadata": {},
   "outputs": [
    {
     "name": "stdout",
     "output_type": "stream",
     "text": [
      "[[[0 1]\n",
      "  [2 3]]\n",
      "\n",
      " [[4 5]\n",
      "  [6 7]]] 3\n"
     ]
    }
   ],
   "source": [
    "# 3차원 -> 2,1차원\n",
    "ar3 = np.arange(8).reshape((2,2,2))\n",
    "print(ar3, ar3.ndim)"
   ]
  },
  {
   "cell_type": "code",
   "execution_count": 107,
   "id": "5622943f",
   "metadata": {},
   "outputs": [
    {
     "name": "stdout",
     "output_type": "stream",
     "text": [
      "[[[0 1]\n",
      "  [2 3]]\n",
      "\n",
      " [[4 5]\n",
      "  [6 7]]] (2, 2, 2)\n",
      "[[0 1]\n",
      " [2 3]\n",
      " [4 5]\n",
      " [6 7]] (4, 2)\n",
      "[0 1 2 3 4 5 6 7] (8,)\n"
     ]
    }
   ],
   "source": [
    "ar3 = np.arange(8).reshape((2,2,2))\n",
    "ar2 = ar3.reshape(-1,2) # 2차원\n",
    "ar1 = ar3.reshape(-1,) # 1차원\n",
    "print(ar3, ar3.shape)\n",
    "print(ar2, ar2.shape)\n",
    "print(ar1, ar1.shape)"
   ]
  },
  {
   "cell_type": "code",
   "execution_count": 110,
   "id": "f40dfa24",
   "metadata": {},
   "outputs": [
    {
     "name": "stdout",
     "output_type": "stream",
     "text": [
      "[1 2 3 4 5 6 7 8 9]\n",
      "2\n",
      "9\n",
      "7\n"
     ]
    }
   ],
   "source": [
    "# 1D_indexing\n",
    "ar1 = np.arange(1,10)\n",
    "print(ar1)\n",
    "value = ar1[1]  # 0번째 index부터 시작함 -> 1번째 index\n",
    "print(value)\n",
    "print(ar1[-1]) # 마지막번째 인덱스\n",
    "print(ar1[-3]) # 마지막에서 세번째 인덱스"
   ]
  },
  {
   "cell_type": "code",
   "execution_count": 112,
   "id": "cbbfa8fb",
   "metadata": {},
   "outputs": [
    {
     "name": "stdout",
     "output_type": "stream",
     "text": [
      "[[1 2 3]\n",
      " [4 5 6]\n",
      " [7 8 9]] \n",
      "\n",
      "1 \n",
      "\n",
      "2 \n",
      "\n",
      "4 \n",
      "\n",
      "9\n"
     ]
    }
   ],
   "source": [
    "# 2D_indexing \n",
    "ar2d = np.arange(1,10).reshape(3,3)\n",
    "print(ar2d,'\\n')\n",
    "print(ar2d[0,0],'\\n')\n",
    "print(ar2d[0,1],'\\n')\n",
    "print(ar2d[1,0],'\\n')\n",
    "print(ar2d[2,2])"
   ]
  },
  {
   "cell_type": "code",
   "execution_count": 125,
   "id": "1e9b2b04",
   "metadata": {},
   "outputs": [
    {
     "name": "stdout",
     "output_type": "stream",
     "text": [
      "[ 1  2  3  4  5  6  7  8  9 10 11 12 13 14 15 16 17 18 19]\n",
      "[4 5 6]\n",
      "[16 17 18]\n"
     ]
    }
   ],
   "source": [
    "# 1D_slicing \n",
    "ar1 = np.arange(1,20)\n",
    "print(ar1)\n",
    "print(ar1[3:6])\n",
    "print(ar1[-4:-1])"
   ]
  },
  {
   "cell_type": "code",
   "execution_count": 114,
   "id": "db2bb388",
   "metadata": {},
   "outputs": [
    {
     "name": "stdout",
     "output_type": "stream",
     "text": [
      "[[1 2 3]\n",
      " [4 5 6]\n",
      " [7 8 9]] \n",
      "\n",
      "[[1 2]\n",
      " [4 5]] \n",
      "\n",
      "[[4 5 6]\n",
      " [7 8 9]] \n",
      "\n",
      "[[4 5 6]\n",
      " [7 8 9]] \n",
      "\n",
      "[[2 3]\n",
      " [5 6]] \n",
      "\n",
      "[[1]\n",
      " [4]] \n",
      "\n",
      "[1 4]\n"
     ]
    }
   ],
   "source": [
    "ar2d = np.arange(1,10).reshape(3,3)\n",
    "print(ar2d,'\\n')\n",
    "print(ar2d[:2,:2],'\\n')\n",
    "print(ar2d[1:3,:],'\\n')\n",
    "print(ar2d[1:3, 0:3],'\\n')\n",
    "print(ar2d[:2,1:],'\\n')\n",
    "print(ar2d[:2,:1],'\\n')\n",
    "print(ar2d[:2,0]) "
   ]
  },
  {
   "cell_type": "code",
   "execution_count": 131,
   "id": "abf18188",
   "metadata": {},
   "outputs": [
    {
     "name": "stdout",
     "output_type": "stream",
     "text": [
      "[[1 2 3]\n",
      " [4 5 6]\n",
      " [7 8 9]] \n",
      "\n",
      "[3 6] \n",
      "\n",
      "[[1 2 3]\n",
      " [4 5 6]] \n",
      "\n",
      "[[1 2 3]\n",
      " [4 5 6]]\n"
     ]
    }
   ],
   "source": [
    "# fancy indexing\n",
    "ar2 = np.arange(1,10).reshape(3,3)\n",
    "print(ar2,'\\n')\n",
    "print(ar2[[0,1],2],'\\n')\n",
    "print(ar2[[0,1],:3],'\\n')\n",
    "print(ar2[[0,1]])"
   ]
  },
  {
   "cell_type": "code",
   "execution_count": 117,
   "id": "e449c630",
   "metadata": {},
   "outputs": [
    {
     "name": "stdout",
     "output_type": "stream",
     "text": [
      "[6 7 8 9]\n"
     ]
    }
   ],
   "source": [
    "# boolean indexing\n",
    "ar1 = np.arange(1,10)\n",
    "ar2 = ar1[ar1 > 5]\n",
    "print(ar2)"
   ]
  },
  {
   "cell_type": "code",
   "execution_count": 59,
   "id": "64e4c642",
   "metadata": {},
   "outputs": [
    {
     "name": "stdout",
     "output_type": "stream",
     "text": [
      "[3 1 9 5]\n",
      "[1 3 5 9]\n"
     ]
    }
   ],
   "source": [
    "# np.sort() -> 원본 미반영\n",
    "ar = np.array([3,1,9,5])\n",
    "print(ar)\n",
    "sort_ar = np.sort(ar)\n",
    "print(sort_ar)"
   ]
  },
  {
   "cell_type": "code",
   "execution_count": 69,
   "id": "3b44ece5",
   "metadata": {},
   "outputs": [
    {
     "name": "stdout",
     "output_type": "stream",
     "text": [
      "[3 1 9 5]\n",
      "None\n",
      "[1 3 5 9]\n"
     ]
    }
   ],
   "source": [
    "# ndarray.sort() -> 원본 반영\n",
    "ar = np.array([3,1,9,5])\n",
    "print(ar)\n",
    "sort_ar1 = ar.sort()\n",
    "print(sort_ar1)\n",
    "print(ar) # 원본이 바뀜"
   ]
  },
  {
   "cell_type": "code",
   "execution_count": 64,
   "id": "a5bf6557",
   "metadata": {},
   "outputs": [
    {
     "name": "stdout",
     "output_type": "stream",
     "text": [
      "[9 5 3 1]\n"
     ]
    }
   ],
   "source": [
    "# 내림차순\n",
    "sort_ar_desc = np.sort(ar)[::-1]\n",
    "print(sort_ar_desc)"
   ]
  },
  {
   "cell_type": "code",
   "execution_count": 75,
   "id": "39fed1ca",
   "metadata": {},
   "outputs": [
    {
     "name": "stdout",
     "output_type": "stream",
     "text": [
      "[[ 8 12]\n",
      " [ 7  1]] \n",
      "\n",
      "[[ 7  1]\n",
      " [ 8 12]] \n",
      "\n",
      "[[ 8 12]\n",
      " [ 1  7]]\n"
     ]
    }
   ],
   "source": [
    "ar2 = np.array([[8,12],\n",
    "               [7,1]])\n",
    "print(ar2,'\\n')\n",
    "\n",
    "sort_ar2_axis0 = np.sort(ar2, axis=0)\n",
    "print(sort_ar2_axis0,'\\n')\n",
    "\n",
    "sort_ar2_axis1 = np.sort(ar2, axis=1)\n",
    "print(sort_ar2_axis1)"
   ]
  },
  {
   "cell_type": "code",
   "execution_count": 79,
   "id": "f7771ca4",
   "metadata": {},
   "outputs": [
    {
     "name": "stdout",
     "output_type": "stream",
     "text": [
      "[3 1 9 5] \n",
      "\n",
      "[1 0 3 2]\n"
     ]
    }
   ],
   "source": [
    "# 정렬 행렬의 인덱스 변환\n",
    "ar = np.array([3,1,9,5])\n",
    "print(ar,'\\n')\n",
    "\n",
    "sort_indices = np.argsort(ar)\n",
    "print(sort_indices)"
   ]
  },
  {
   "cell_type": "code",
   "execution_count": 1,
   "id": "ad8b4059",
   "metadata": {},
   "outputs": [],
   "source": [
    "# 행렬 내적\n",
    "a = np.array([[1,2,3],\n",
    "             [4,5,6]])\n",
    "b = np.array([[7,8],\n",
    "             [9,10],\n",
    "             [11,12]])"
   ]
  },
  {
   "cell_type": "code",
   "execution_count": 2,
   "id": "4c2cce24",
   "metadata": {},
   "outputs": [
    {
     "data": {
      "text/plain": [
       "array([[ 58,  64],\n",
       "       [139, 154]])"
      ]
     },
     "execution_count": 2,
     "metadata": {},
     "output_type": "execute_result"
    }
   ],
   "source": [
    "np.dot(a,b)"
   ]
  },
  {
   "cell_type": "code",
   "execution_count": 3,
   "id": "489d98ce",
   "metadata": {},
   "outputs": [
    {
     "data": {
      "text/plain": [
       "array([[1, 3],\n",
       "       [2, 4]])"
      ]
     },
     "execution_count": 3,
     "metadata": {},
     "output_type": "execute_result"
    }
   ],
   "source": [
    "# 전치 행렬\n",
    "a = np.array([[1,2],\n",
    "             [3,4]])\n",
    "# a.T\n",
    "b = a.transpose()\n",
    "b"
   ]
  }
 ],
 "metadata": {
  "kernelspec": {
   "display_name": "Python 3 (ipykernel)",
   "language": "python",
   "name": "python3"
  },
  "language_info": {
   "codemirror_mode": {
    "name": "ipython",
    "version": 3
   },
   "file_extension": ".py",
   "mimetype": "text/x-python",
   "name": "python",
   "nbconvert_exporter": "python",
   "pygments_lexer": "ipython3",
   "version": "3.8.12"
  }
 },
 "nbformat": 4,
 "nbformat_minor": 5
}
