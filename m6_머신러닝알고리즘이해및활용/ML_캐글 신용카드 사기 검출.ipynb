{
 "cells": [
  {
   "cell_type": "markdown",
   "id": "d4ccac96",
   "metadata": {},
   "source": [
    "캐글 신용카드 거래내용이 포함된 데이터 셋을 아래 사이트에서 다운받아 다음 사항을 수행하세요.\n",
    "\n",
    "https://www.kaggle.com/mlg-ulb/creditcardfraud\n",
    "\n",
    "데이터 설명<br>\n",
    "데이터 세트에는 유럽 카드 소지자가 2013년 9월에 신용 카드로 거래한 내용이 포함되어 있습니다.\n",
    "이 데이터 세트는 284,807건의 거래 중 492건의 사기가 발생한 이틀 동안 발생한 거래를 보여줍니다. 데이터 세트는 매우 불균형하며 긍정적 클래스(사기)는 모든 거래의 0.172%를 차지합니다.\n",
    "\n",
    "여기에는 PCA 변환의 결과인 숫자 입력 변수만 포함됩니다. 안타깝게도 기밀 문제로 인해 데이터에 대한 원래 기능과 추가 배경 정보를 제공할 수 없습니다. 기능 V1, V2, … V28은 PCA로 얻은 주요 구성 요소이며 PCA로 변환되지 않은 유일한 기능은 '시간'과 '양'입니다. 기능 '시간'에는 각 트랜잭션과 데이터 세트의 첫 번째 트랜잭션 사이에 경과된 초가 포함됩니다. 'Amount' 기능은 거래 금액이며, 이 기능은 예제 종속 비용에 민감한 학습에 사용할 수 있습니다. 기능 'Class'는 응답 변수이며 사기의 경우 값 1, 그렇지 않은 경우 0을 취합니다.\n",
    "\n",
    "- 데이터 전처리 후 로지스틱 리그레션을 적용한 모델 학습 및 평가(정확도, 정밀도, 재현율, F1 score, AUC)\n",
    "- Amount 피처를 정규분포 및 로그 변환 후 모델 학습 및 평가\n",
    "- 상관성이 높은 피처 한개를 선택하여 이상치 데이터 제거 후 모델 학습 및 평가\n",
    "- SMOTE 오버 샘플링 적용 후 모델 학습 및 평가\n",
    "- SMOTE 적용 시 인사이트 요약"
   ]
  },
  {
   "cell_type": "markdown",
   "id": "f81dd7b8",
   "metadata": {},
   "source": [
    "##### 오버 샘플링\n",
    "- SMOTE \n",
    "    - 적은 데이터 세트에 있는 개별 데이터들의 K 최근접 이웃을 찾아서 이 데이터와 K개 이웃들의 차이를 일정 값으로 만들어서 기존 데이터와 약간 차이가 나는 새로운 데이터를 생성하는 방식"
   ]
  },
  {
   "cell_type": "code",
   "execution_count": 1,
   "id": "88c8b60f",
   "metadata": {},
   "outputs": [
    {
     "name": "stdout",
     "output_type": "stream",
     "text": [
      "Requirement already satisfied: imbalanced-learn in c:\\users\\home\\anaconda3\\envs\\cakd5\\lib\\site-packages (0.9.0)\n",
      "Requirement already satisfied: numpy>=1.14.6 in c:\\users\\home\\anaconda3\\envs\\cakd5\\lib\\site-packages (from imbalanced-learn) (1.22.2)\n",
      "Requirement already satisfied: threadpoolctl>=2.0.0 in c:\\users\\home\\anaconda3\\envs\\cakd5\\lib\\site-packages (from imbalanced-learn) (3.0.0)\n",
      "Requirement already satisfied: scipy>=1.1.0 in c:\\users\\home\\anaconda3\\envs\\cakd5\\lib\\site-packages (from imbalanced-learn) (1.8.0)\n",
      "Requirement already satisfied: scikit-learn>=1.0.1 in c:\\users\\home\\anaconda3\\envs\\cakd5\\lib\\site-packages (from imbalanced-learn) (1.0.2)\n",
      "Requirement already satisfied: joblib>=0.11 in c:\\users\\home\\anaconda3\\envs\\cakd5\\lib\\site-packages (from imbalanced-learn) (1.1.0)\n"
     ]
    }
   ],
   "source": [
    "# SMOTE를 구현할 패키지\n",
    "!pip install imbalanced-learn"
   ]
  },
  {
   "cell_type": "markdown",
   "id": "3dece7ea",
   "metadata": {},
   "source": [
    "### 분석 프로세스\n",
    "\n",
    "1. 데이터 뜯어보기\n",
    "\n",
    "2. 학습용/테스트용 데이터 나누기\n",
    "\n",
    "3. 데이터 전처리 후 모델 학습/예측/평가\n",
    "\n",
    "  3-1. 데이터 분포도 변환\n",
    "\n",
    "  3-2. 이상치 데이터 제거\n",
    "\n",
    "4. 결과\n"
   ]
  },
  {
   "cell_type": "code",
   "execution_count": 2,
   "id": "04a5859a",
   "metadata": {},
   "outputs": [
    {
     "ename": "SyntaxError",
     "evalue": "invalid syntax (Temp/ipykernel_22912/1135595807.py, line 1)",
     "output_type": "error",
     "traceback": [
      "\u001b[1;36m  File \u001b[1;32m\"C:\\Users\\HOME\\AppData\\Local\\Temp/ipykernel_22912/1135595807.py\"\u001b[1;36m, line \u001b[1;32m1\u001b[0m\n\u001b[1;33m    1. 데이터 뜯어보기\u001b[0m\n\u001b[1;37m       ^\u001b[0m\n\u001b[1;31mSyntaxError\u001b[0m\u001b[1;31m:\u001b[0m invalid syntax\n"
     ]
    }
   ],
   "source": [
    "1. 데이터 뜯어보기"
   ]
  },
  {
   "cell_type": "code",
   "execution_count": 6,
   "id": "351b1102",
   "metadata": {},
   "outputs": [
    {
     "data": {
      "text/html": [
       "<div>\n",
       "<style scoped>\n",
       "    .dataframe tbody tr th:only-of-type {\n",
       "        vertical-align: middle;\n",
       "    }\n",
       "\n",
       "    .dataframe tbody tr th {\n",
       "        vertical-align: top;\n",
       "    }\n",
       "\n",
       "    .dataframe thead th {\n",
       "        text-align: right;\n",
       "    }\n",
       "</style>\n",
       "<table border=\"1\" class=\"dataframe\">\n",
       "  <thead>\n",
       "    <tr style=\"text-align: right;\">\n",
       "      <th></th>\n",
       "      <th>Time</th>\n",
       "      <th>V1</th>\n",
       "      <th>V2</th>\n",
       "      <th>V3</th>\n",
       "      <th>V4</th>\n",
       "      <th>V5</th>\n",
       "      <th>V6</th>\n",
       "      <th>V7</th>\n",
       "      <th>V8</th>\n",
       "      <th>V9</th>\n",
       "      <th>...</th>\n",
       "      <th>V21</th>\n",
       "      <th>V22</th>\n",
       "      <th>V23</th>\n",
       "      <th>V24</th>\n",
       "      <th>V25</th>\n",
       "      <th>V26</th>\n",
       "      <th>V27</th>\n",
       "      <th>V28</th>\n",
       "      <th>Amount</th>\n",
       "      <th>Class</th>\n",
       "    </tr>\n",
       "  </thead>\n",
       "  <tbody>\n",
       "    <tr>\n",
       "      <th>0</th>\n",
       "      <td>0.0</td>\n",
       "      <td>-1.359807</td>\n",
       "      <td>-0.072781</td>\n",
       "      <td>2.536347</td>\n",
       "      <td>1.378155</td>\n",
       "      <td>-0.338321</td>\n",
       "      <td>0.462388</td>\n",
       "      <td>0.239599</td>\n",
       "      <td>0.098698</td>\n",
       "      <td>0.363787</td>\n",
       "      <td>...</td>\n",
       "      <td>-0.018307</td>\n",
       "      <td>0.277838</td>\n",
       "      <td>-0.110474</td>\n",
       "      <td>0.066928</td>\n",
       "      <td>0.128539</td>\n",
       "      <td>-0.189115</td>\n",
       "      <td>0.133558</td>\n",
       "      <td>-0.021053</td>\n",
       "      <td>149.62</td>\n",
       "      <td>0</td>\n",
       "    </tr>\n",
       "    <tr>\n",
       "      <th>1</th>\n",
       "      <td>0.0</td>\n",
       "      <td>1.191857</td>\n",
       "      <td>0.266151</td>\n",
       "      <td>0.166480</td>\n",
       "      <td>0.448154</td>\n",
       "      <td>0.060018</td>\n",
       "      <td>-0.082361</td>\n",
       "      <td>-0.078803</td>\n",
       "      <td>0.085102</td>\n",
       "      <td>-0.255425</td>\n",
       "      <td>...</td>\n",
       "      <td>-0.225775</td>\n",
       "      <td>-0.638672</td>\n",
       "      <td>0.101288</td>\n",
       "      <td>-0.339846</td>\n",
       "      <td>0.167170</td>\n",
       "      <td>0.125895</td>\n",
       "      <td>-0.008983</td>\n",
       "      <td>0.014724</td>\n",
       "      <td>2.69</td>\n",
       "      <td>0</td>\n",
       "    </tr>\n",
       "    <tr>\n",
       "      <th>2</th>\n",
       "      <td>1.0</td>\n",
       "      <td>-1.358354</td>\n",
       "      <td>-1.340163</td>\n",
       "      <td>1.773209</td>\n",
       "      <td>0.379780</td>\n",
       "      <td>-0.503198</td>\n",
       "      <td>1.800499</td>\n",
       "      <td>0.791461</td>\n",
       "      <td>0.247676</td>\n",
       "      <td>-1.514654</td>\n",
       "      <td>...</td>\n",
       "      <td>0.247998</td>\n",
       "      <td>0.771679</td>\n",
       "      <td>0.909412</td>\n",
       "      <td>-0.689281</td>\n",
       "      <td>-0.327642</td>\n",
       "      <td>-0.139097</td>\n",
       "      <td>-0.055353</td>\n",
       "      <td>-0.059752</td>\n",
       "      <td>378.66</td>\n",
       "      <td>0</td>\n",
       "    </tr>\n",
       "    <tr>\n",
       "      <th>3</th>\n",
       "      <td>1.0</td>\n",
       "      <td>-0.966272</td>\n",
       "      <td>-0.185226</td>\n",
       "      <td>1.792993</td>\n",
       "      <td>-0.863291</td>\n",
       "      <td>-0.010309</td>\n",
       "      <td>1.247203</td>\n",
       "      <td>0.237609</td>\n",
       "      <td>0.377436</td>\n",
       "      <td>-1.387024</td>\n",
       "      <td>...</td>\n",
       "      <td>-0.108300</td>\n",
       "      <td>0.005274</td>\n",
       "      <td>-0.190321</td>\n",
       "      <td>-1.175575</td>\n",
       "      <td>0.647376</td>\n",
       "      <td>-0.221929</td>\n",
       "      <td>0.062723</td>\n",
       "      <td>0.061458</td>\n",
       "      <td>123.50</td>\n",
       "      <td>0</td>\n",
       "    </tr>\n",
       "    <tr>\n",
       "      <th>4</th>\n",
       "      <td>2.0</td>\n",
       "      <td>-1.158233</td>\n",
       "      <td>0.877737</td>\n",
       "      <td>1.548718</td>\n",
       "      <td>0.403034</td>\n",
       "      <td>-0.407193</td>\n",
       "      <td>0.095921</td>\n",
       "      <td>0.592941</td>\n",
       "      <td>-0.270533</td>\n",
       "      <td>0.817739</td>\n",
       "      <td>...</td>\n",
       "      <td>-0.009431</td>\n",
       "      <td>0.798278</td>\n",
       "      <td>-0.137458</td>\n",
       "      <td>0.141267</td>\n",
       "      <td>-0.206010</td>\n",
       "      <td>0.502292</td>\n",
       "      <td>0.219422</td>\n",
       "      <td>0.215153</td>\n",
       "      <td>69.99</td>\n",
       "      <td>0</td>\n",
       "    </tr>\n",
       "  </tbody>\n",
       "</table>\n",
       "<p>5 rows × 31 columns</p>\n",
       "</div>"
      ],
      "text/plain": [
       "   Time        V1        V2        V3        V4        V5        V6        V7  \\\n",
       "0   0.0 -1.359807 -0.072781  2.536347  1.378155 -0.338321  0.462388  0.239599   \n",
       "1   0.0  1.191857  0.266151  0.166480  0.448154  0.060018 -0.082361 -0.078803   \n",
       "2   1.0 -1.358354 -1.340163  1.773209  0.379780 -0.503198  1.800499  0.791461   \n",
       "3   1.0 -0.966272 -0.185226  1.792993 -0.863291 -0.010309  1.247203  0.237609   \n",
       "4   2.0 -1.158233  0.877737  1.548718  0.403034 -0.407193  0.095921  0.592941   \n",
       "\n",
       "         V8        V9  ...       V21       V22       V23       V24       V25  \\\n",
       "0  0.098698  0.363787  ... -0.018307  0.277838 -0.110474  0.066928  0.128539   \n",
       "1  0.085102 -0.255425  ... -0.225775 -0.638672  0.101288 -0.339846  0.167170   \n",
       "2  0.247676 -1.514654  ...  0.247998  0.771679  0.909412 -0.689281 -0.327642   \n",
       "3  0.377436 -1.387024  ... -0.108300  0.005274 -0.190321 -1.175575  0.647376   \n",
       "4 -0.270533  0.817739  ... -0.009431  0.798278 -0.137458  0.141267 -0.206010   \n",
       "\n",
       "        V26       V27       V28  Amount  Class  \n",
       "0 -0.189115  0.133558 -0.021053  149.62      0  \n",
       "1  0.125895 -0.008983  0.014724    2.69      0  \n",
       "2 -0.139097 -0.055353 -0.059752  378.66      0  \n",
       "3 -0.221929  0.062723  0.061458  123.50      0  \n",
       "4  0.502292  0.219422  0.215153   69.99      0  \n",
       "\n",
       "[5 rows x 31 columns]"
      ]
     },
     "metadata": {},
     "output_type": "display_data"
    },
    {
     "data": {
      "text/plain": [
       "(284807, 31)"
      ]
     },
     "metadata": {},
     "output_type": "display_data"
    },
    {
     "data": {
      "text/plain": [
       "Index(['Time', 'V1', 'V2', 'V3', 'V4', 'V5', 'V6', 'V7', 'V8', 'V9', 'V10',\n",
       "       'V11', 'V12', 'V13', 'V14', 'V15', 'V16', 'V17', 'V18', 'V19', 'V20',\n",
       "       'V21', 'V22', 'V23', 'V24', 'V25', 'V26', 'V27', 'V28', 'Amount',\n",
       "       'Class'],\n",
       "      dtype='object')"
      ]
     },
     "metadata": {},
     "output_type": "display_data"
    }
   ],
   "source": [
    "import pandas as pd\n",
    "import numpy as np\n",
    "import matplotlib.pyplot as plt\n",
    "import warnings\n",
    "warnings.filterwarnings(\"ignore\")\n",
    "%matplotlib inline\n",
    "\n",
    "card_df=pd.read_csv('./dataset/creditcard.csv')\n",
    "display(card_df.head(5))\n",
    "display(card_df.shape)\n",
    "display(card_df.columns)\n",
    "\n",
    "# 데이터는 284807행, 31열로 이루어져 있고 칼럼 중 Class는 1이 사기이고 0이 정상 데이터를 뜻하는 target 값이고\n",
    "# Amount 피처는 신용카드 사용 금액을 의미합니다.\n",
    "# Time 피처는 의미가 없는 피처임으로 삭제해도 될 것 같습니다.\n",
    "# V1~V28 피처는 의미를 알 수 없습니다. 개인정보에 관련된 피처 같습니다."
   ]
  },
  {
   "cell_type": "code",
   "execution_count": 7,
   "id": "4ce2177f",
   "metadata": {},
   "outputs": [
    {
     "name": "stdout",
     "output_type": "stream",
     "text": [
      "결측치\n",
      "Time      0\n",
      "V1        0\n",
      "V2        0\n",
      "V3        0\n",
      "V4        0\n",
      "V5        0\n",
      "V6        0\n",
      "V7        0\n",
      "V8        0\n",
      "V9        0\n",
      "V10       0\n",
      "V11       0\n",
      "V12       0\n",
      "V13       0\n",
      "V14       0\n",
      "V15       0\n",
      "V16       0\n",
      "V17       0\n",
      "V18       0\n",
      "V19       0\n",
      "V20       0\n",
      "V21       0\n",
      "V22       0\n",
      "V23       0\n",
      "V24       0\n",
      "V25       0\n",
      "V26       0\n",
      "V27       0\n",
      "V28       0\n",
      "Amount    0\n",
      "Class     0\n",
      "dtype: int64\n"
     ]
    }
   ],
   "source": [
    "# 결측치를 살펴보겠습니다.\n",
    "print('결측치')\n",
    "print(card_df.isna().sum())\n",
    "# 결측치가 없는 깔끔한 데이터입니다."
   ]
  },
  {
   "cell_type": "code",
   "execution_count": 8,
   "id": "cbc88913",
   "metadata": {},
   "outputs": [
    {
     "name": "stdout",
     "output_type": "stream",
     "text": [
      "클래스 값 분포\n",
      "0    284315\n",
      "1       492\n",
      "Name: Class, dtype: int64\n"
     ]
    }
   ],
   "source": [
    "# 데이터의 구조를 살펴봤으니 Class 피처와 Amount 피처에 대해 자세히 알아보겠습니다.\n",
    "print('클래스 값 분포')\n",
    "print(card_df.iloc[:,-1].value_counts())  # card_df.iloc[:,-1] -> class열을 의미함 그것의 구성요소 -> value_counts() \n",
    "# 클래스 값들이 상당히 불균형한 형태  why? 당연히 사기인 데이터에 비해 정상인 데이터가 많기 때문입니다."
   ]
  },
  {
   "cell_type": "code",
   "execution_count": 9,
   "id": "ad1e4a06",
   "metadata": {},
   "outputs": [
    {
     "data": {
      "text/plain": [
       "<AxesSubplot:xlabel='Amount', ylabel='Density'>"
      ]
     },
     "execution_count": 9,
     "metadata": {},
     "output_type": "execute_result"
    },
    {
     "data": {
      "image/png": "[encoded data removed]",
      "text/plain": [
       "<Figure size 720x360 with 1 Axes>"
      ]
     },
     "metadata": {
      "needs_background": "light"
     },
     "output_type": "display_data"
    }
   ],
   "source": [
    "# Amount 피처를 살펴보겠습니다.\n",
    "import seaborn as sns\n",
    "plt.figure(figsize=(10,5))\n",
    "plt.xticks(range(0,30000,1000),rotation=60)\n",
    "sns.distplot(card_df['Amount'])\n",
    "# 카드 사용 금액이 0에서 1000달러 이하인 데이터가 대부분입니다. \n",
    "# 신용 카드로 10만원 이상 쓰는 사람이 많지 않아 보입니다."
   ]
  },
  {
   "cell_type": "code",
   "execution_count": null,
   "id": "f6de1b45",
   "metadata": {},
   "outputs": [],
   "source": [
    "2. 학습용/테스트용 데이터 나누기"
   ]
  },
  {
   "cell_type": "code",
   "execution_count": 10,
   "id": "0d8caa5f",
   "metadata": {},
   "outputs": [
    {
     "name": "stdout",
     "output_type": "stream",
     "text": [
      "학습 데이터 레이블 값 비율\n",
      "0    99.827451\n",
      "1     0.172549\n",
      "Name: Class, dtype: float64\n",
      "테스트 데이터 레이블 값 비율\n",
      "0    99.826785\n",
      "1     0.173215\n",
      "Name: Class, dtype: float64\n"
     ]
    }
   ],
   "source": [
    "# 데이터를 뜯어봤으니 학습과 예측을 위해 데이터를 학습용과 테스트용으로 나눠야 합니다.\n",
    "# 이때, 불균형한 데이터이기 때문에 Stratified 방식으로 나눠야 Class의 분포가 균등하게 나눠질 수 있습니다.\n",
    "# 데이터의 원본을 유지한 채로 데이터를 전처리하고 나누기 위해 get_preprocessed_df 와 get_train_test_dataset 함수를 만들어 진행하였습니다.  \n",
    "from sklearn.model_selection import train_test_split\n",
    "\n",
    "# 데이터 전처리 함수 -> Time drop\n",
    "def get_preprocessed_df(df=None):\n",
    "    df_copy = df.copy()\n",
    "    df_copy.drop('Time',axis=1,inplace=True)\n",
    "    return df_copy\n",
    "\n",
    "# 데이터를 학습용과 테스트용으로 나누는 함수 \n",
    "def get_train_test_dataset(df=None):\n",
    "    df_copy = get_preprocessed_df(df)\n",
    "    X_features = df_copy.iloc[:,:-1] # 독립변수에 Class 빼고 전체 열\n",
    "    y_target = df_copy.iloc[:,-1] # 종속변수에 Class열만 선택\n",
    "    X_train,X_test,y_train,y_test = train_test_split(X_features, y_target, test_size=0.3, random_state=0, stratify=y_target)\n",
    "    return X_train,X_test,y_train,y_test\n",
    "\n",
    "X_train, X_test, y_train, y_test = get_train_test_dataset(card_df)\n",
    "\n",
    "print('학습 데이터 레이블 값 비율')\n",
    "print(y_train.value_counts()/y_train.shape[0]*100)\n",
    "print('테스트 데이터 레이블 값 비율')\n",
    "print(y_test.value_counts()/y_test.shape[0]*100)\n",
    "\n",
    "# 테스트 세트를 전체의 30%가 되도록 나누었고 나누어진 target값의 비율은 위와 같습니다.\n",
    "# Straified 방식으로 나누었기에 매우 적었던 Class 값이 1인 데이터가 학습 데이터와 테스트 데이터에 \n",
    "# 0.172%와 0.173%로 큰 차이 없이 잘 분할된 것을 확인할 수 있습니다."
   ]
  },
  {
   "cell_type": "code",
   "execution_count": null,
   "id": "3e205b12",
   "metadata": {},
   "outputs": [],
   "source": [
    "3. 데이터 전처리 후 모델 학습/예측/평가"
   ]
  },
  {
   "cell_type": "code",
   "execution_count": 11,
   "id": "a130d5e0",
   "metadata": {},
   "outputs": [],
   "source": [
    "# 각 데이터 전처리 후 모델의 예측 성능 평가를 매번 할 것이기 때문에\n",
    "# get_model_train_eval() 함수를 만들어 중복되는 작업을 편리하게 하도록 하였습니다.\n",
    "# 평가는 정확도, 정밀도, 재현율, f1 스코어, roc-auc 스코어를 통해 진행하였습니다.\n",
    "\n",
    "from sklearn.metrics import accuracy_score, precision_score, recall_score, confusion_matrix, f1_score, roc_auc_score\n",
    "    \n",
    "def get_model_train_eval(model, feature_train=None, feature_test=None, target_train=None, target_test=None):\n",
    "    model.fit(feature_train, target_train)\n",
    "    pred = model.predict(feature_test)\n",
    "    pred_proba = model.predict_proba(feature_test)[:,1] # Class 예측값을 pred_proba에 담기\n",
    "    \n",
    "    confusion = confusion_matrix(target_test, pred)\n",
    "    accuracy = accuracy_score(target_test, pred)\n",
    "    precision = precision_score(target_test, pred)\n",
    "    recall = recall_score(target_test, pred)\n",
    "    f1 = f1_score(target_test, pred)\n",
    "    roc_auc = roc_auc_score(target_test, pred_proba)\n",
    "    print('정확도: {0:.4f}, 정밀도: {1:.4f}, 재현율: {2:.4f}, F1: {3:.4f}, AUC: {4:.4f}'.format(accuracy,precision,recall,f1,roc_auc))"
   ]
  },
  {
   "cell_type": "code",
   "execution_count": 12,
   "id": "d7b18480",
   "metadata": {},
   "outputs": [
    {
     "name": "stdout",
     "output_type": "stream",
     "text": [
      "로지스틱 회귀 성능\n",
      "정확도: 0.9992, 정밀도: 0.8738, 재현율: 0.6081, F1: 0.7171, AUC: 0.9597\n",
      "LightGBM 성능\n",
      "정확도: 0.9995, 정밀도: 0.9573, 재현율: 0.7568, F1: 0.8453, AUC: 0.9790\n"
     ]
    }
   ],
   "source": [
    "# 데이터 전처리 후의 성능을 비교해보기 위해 원본 데이터를 모델을 학습시키고 예측하고 모델의 예측 성능을 평가해보겠습니다.\n",
    "# 모델은 분류에 대표적으로 쓰이는 로지스틱 회귀 모델과 앙상블 방법인 LightGBM 모델을 사용하였습니다.  \n",
    " \n",
    "from sklearn.linear_model import LogisticRegression # 로지스틱 회귀 모델\n",
    "from lightgbm import LGBMClassifier # LightGBM\n",
    "\n",
    "lr_clf=LogisticRegression()\n",
    "lgbm_clf=LGBMClassifier(n_estimators=1000,num_leaves=64,n_jobs=-1,boost_from_average=False)\n",
    "\n",
    "print('로지스틱 회귀 성능')\n",
    "get_model_train_eval(lr_clf,X_train,X_test,y_train,y_test)\n",
    "print('LightGBM 성능')\n",
    "get_model_train_eval(lgbm_clf, X_train,X_test,y_train,y_test)\n",
    "# 로지스틱 회귀보다 LightGBM 성능이 좋게 나옴"
   ]
  },
  {
   "cell_type": "code",
   "execution_count": null,
   "id": "98a54dd1",
   "metadata": {},
   "outputs": [],
   "source": [
    "3-1. 데이터 분포도 변환\n",
    "# 데이터 세트에서 Amount 피처의 값이 한쪽에 쏠려있는 상당히 불균형한 분포를 가지고 있었기 때문에\n",
    "# 이러한 분포를 StandardScaler를 통해 정규 분포 형태로 변환해서 평가해보고,\n",
    "# 데이터 분포도가 많이 왜곡되어 있을 경우 적용하는 중요 기법 중 하나인 로그 변환을 통해 변환하여 평가해보겠습니다"
   ]
  },
  {
   "cell_type": "code",
   "execution_count": 13,
   "id": "4d1ef613",
   "metadata": {},
   "outputs": [
    {
     "data": {
      "image/png": "[encoded data removed]",
      "text/plain": [
       "<Figure size 432x288 with 1 Axes>"
      ]
     },
     "metadata": {
      "needs_background": "light"
     },
     "output_type": "display_data"
    }
   ],
   "source": [
    "# 정규화\n",
    "from sklearn.preprocessing import StandardScaler\n",
    "\n",
    "def get_preprocessed_df(df=None):\n",
    "    df_copy=df.copy()\n",
    "    scaler=StandardScaler()\n",
    "    amount_StandardScaled=scaler.fit_transform(df_copy['Amount'].values.reshape(-1,1)) # fit_transform하려면 2차원 변환\n",
    "    df_copy.insert(0,'Amount_scaled',amount_StandardScaled)\n",
    "    df_copy.drop(['Time','Amount'],axis=1,inplace=True)\n",
    "    sns.distplot(df_copy['Amount_scaled'])\n",
    "    return df_copy\n",
    "\n",
    "X_train, X_test, y_train, y_test=get_train_test_dataset(card_df)\n",
    "\n",
    "# Amount 피처값이 0에서 26000이 아닌 0에서 100으로 분포가 많이 줄어들었고\n",
    "# 분포의 형태는 스케일링 전의 분포와 많이 유사한 것을 볼 수 있습니다."
   ]
  },
  {
   "cell_type": "code",
   "execution_count": 14,
   "id": "b135abd3",
   "metadata": {},
   "outputs": [
    {
     "name": "stdout",
     "output_type": "stream",
     "text": [
      "로지스틱 회귀 성능\n",
      "정확도: 0.9992, 정밀도: 0.8654, 재현율: 0.6081, F1: 0.7143, AUC: 0.9702\n",
      "LightGBM 성능\n",
      "정확도: 0.9995, 정밀도: 0.9569, 재현율: 0.7500, F1: 0.8409, AUC: 0.9779\n"
     ]
    }
   ],
   "source": [
    "# Amount 피처값이 스케일링된 데이터 세트로 모델을 학습시키고 예측하고 모델의 예측 성능을 평가해보겠습니다. \n",
    "from sklearn.linear_model import LogisticRegression\n",
    "from lightgbm import LGBMClassifier\n",
    "\n",
    "lr_clf=LogisticRegression()\n",
    "lgbm_clf=LGBMClassifier(n_estimators=1000,num_leaves=64,n_jobs=-1,boost_from_average=False)\n",
    "\n",
    "print('로지스틱 회귀 성능')\n",
    "get_model_train_eval(lr_clf,X_train,X_test,y_train,y_test)\n",
    "print('LightGBM 성능')\n",
    "get_model_train_eval(lgbm_clf, X_train,X_test,y_train,y_test)\n",
    "\n",
    "# Amout 피처값을 정규화 한 데이터 세트를 이용한 모델의 성능은 원본 데이터를 이용한 모델에 비해 성능이 개선되지 않았음을 확인할 수 있습니다."
   ]
  },
  {
   "cell_type": "code",
   "execution_count": 15,
   "id": "c66bdafb",
   "metadata": {},
   "outputs": [
    {
     "data": {
      "image/png": "[encoded data removed]",
      "text/plain": [
       "<Figure size 432x288 with 1 Axes>"
      ]
     },
     "metadata": {
      "needs_background": "light"
     },
     "output_type": "display_data"
    }
   ],
   "source": [
    "# 로그 변환\n",
    "def get_preprocessed_df(df):\n",
    "    df_copy=df.copy()\n",
    "    amount_log_Scaled=np.log1p(df_copy['Amount'])\n",
    "    df_copy.insert(0,'Amount_Scaled',amount_log_Scaled)\n",
    "    df_copy.drop(['Time','Amount'],axis=1,inplace=True)\n",
    "    sns.distplot(df_copy['Amount_Scaled'])\n",
    "    return df_copy\n",
    "\n",
    "X_train, X_test, y_train, y_test=get_train_test_dataset(card_df) "
   ]
  },
  {
   "cell_type": "code",
   "execution_count": 16,
   "id": "1a63e850",
   "metadata": {},
   "outputs": [
    {
     "name": "stdout",
     "output_type": "stream",
     "text": [
      "로지스틱 회귀 성능\n",
      "정확도: 0.9992, 정밀도: 0.8812, 재현율: 0.6014, F1: 0.7149, AUC: 0.9727\n",
      "LightGBM 성능\n",
      "정확도: 0.9995, 정밀도: 0.9576, 재현율: 0.7635, F1: 0.8496, AUC: 0.9796\n"
     ]
    }
   ],
   "source": [
    "lr_clf=LogisticRegression()\n",
    "lgbm_clf=LGBMClassifier(n_estimators=1000,num_leaves=64,n_jobs=-1,boost_from_average=False)\n",
    "\n",
    "print('로지스틱 회귀 성능')\n",
    "get_model_train_eval(lr_clf,X_train,X_test,y_train,y_test)\n",
    "print('LightGBM 성능')\n",
    "get_model_train_eval(lgbm_clf, X_train,X_test,y_train,y_test)\n",
    "# Amount 피처값을 로그 변환한 데이터 세트를 이용한 모델의 성능은 원본 데이터를 이용한 모델에 비해 성능이 약간씩 개선되었음을 확인할 수 있습니다."
   ]
  },
  {
   "cell_type": "code",
   "execution_count": null,
   "id": "4cd1c2aa",
   "metadata": {},
   "outputs": [],
   "source": [
    "3-2. 이상치 데이터 제거\n",
    "# 이상치 데이터란 전체 데이터의 패턴에서 벗어난 이상 값을 가진 데이터를 말합니다.\n",
    "# 이상치 데이터는 머신러닝 모델의 성능을 저하시킬 가능성이 높습니다\n",
    "# 이상치를 찾는 방법 중 대표적인 방법은 IQR 방법입니다\n",
    "# IQR은 사분위 값의 편차를 이용하는 기법입니다.\n",
    "# 사분위는 전체 데이터를 값이 높은 순으로 정렬하고 이를 Q1(25%), Q2(50%), Q3(75%), Q4(100%)로 4등분한 것을 말합니다.\n",
    "# 여기서 IQR이란 Q1 ~ Q3 구간을 뜻합니다.\n",
    "# 이상치 데이터는 IQR에 1.5를 곱해서 생성된 범위를 벗어난 데이터를 말합니다.\n",
    "# 즉, Q1-(IQR*1.5) 에서 Q3+(IQR*1.5) 구간을 벗어나면 이상치 데이터로 간주합니다."
   ]
  },
  {
   "cell_type": "code",
   "execution_count": 17,
   "id": "5cc32a60",
   "metadata": {},
   "outputs": [
    {
     "data": {
      "text/plain": [
       "<AxesSubplot:>"
      ]
     },
     "execution_count": 17,
     "metadata": {},
     "output_type": "execute_result"
    },
    {
     "data": {
      "image/png": "[encoded data removed]",
      "text/plain": [
       "<Figure size 648x648 with 2 Axes>"
      ]
     },
     "metadata": {
      "needs_background": "light"
     },
     "output_type": "display_data"
    }
   ],
   "source": [
    "# 이상치 데이터를 제거하기 위해 먼저 어떤 피처의 이상치 데이터를 제거할 것인지가 필요합니다.\n",
    "# target값과 가장 상관성이 높은 피처들을 위주로 이상치를 제거하는 것이 좋습니다.\n",
    "# 피처들의 상관도를 히트맵을 통해 알아보겠습니다.\n",
    "plt.figure(figsize=(9,9))\n",
    "corr=card_df.corr()\n",
    "sns.heatmap(corr,cmap='RdBu')\n",
    "# 맨 아래줄을 보면 Class와 다른 피처들의 상관관계를 볼 수가 있는데\n",
    "# 음의 상관관계가 가장 높은 피처인 V14와 V17에 대해서 이상치를 검출하고 제거해 보겠습니다. "
   ]
  },
  {
   "cell_type": "code",
   "execution_count": 18,
   "id": "a1e0eaa2",
   "metadata": {},
   "outputs": [
    {
     "name": "stdout",
     "output_type": "stream",
     "text": [
      "V14 이상치 데이터 인덱스:  Int64Index([8296, 8615, 9035, 9252], dtype='int64')\n",
      "V17 이상치 데이터 인덱스:  Int64Index([], dtype='int64')\n"
     ]
    }
   ],
   "source": [
    "import numpy as np\n",
    "\n",
    "def get_outlier(df,column,weight=1.5):\n",
    "    fraud=df[df['Class']==1][column]\n",
    "    quantile_25=np.percentile(fraud.values,25)\n",
    "    quantile_75=np.percentile(fraud.values,75)\n",
    "    iqr=quantile_75-quantile_25\n",
    "    iqr_weighted=iqr*weight\n",
    "    lowest_val=quantile_25-iqr_weighted\n",
    "    highest_val=quantile_75+iqr_weighted\n",
    "    outlier_index=fraud[(fraud<lowest_val)|(fraud>highest_val)].index\n",
    "    return outlier_index\n",
    "\n",
    "outlier_index_V14=get_outlier(card_df,'V14',1.5)\n",
    "print('V14 이상치 데이터 인덱스: ',outlier_index_V14)\n",
    "outlier_index_V17=get_outlier(card_df,'V17',1.5)\n",
    "print('V17 이상치 데이터 인덱스: ',outlier_index_V17)\n",
    "# V14의 이상치 데이터는 총 4개가 나왔고 V17은 나오지 않았습니다."
   ]
  },
  {
   "cell_type": "code",
   "execution_count": 19,
   "id": "682a0e23",
   "metadata": {},
   "outputs": [
    {
     "name": "stdout",
     "output_type": "stream",
     "text": [
      "V14 이상치 제거\n",
      "로지스틱 회귀 성능\n",
      "정확도: 0.9993, 정밀도: 0.8750, 재현율: 0.6712, F1: 0.7597, AUC: 0.9743\n",
      "LightGBM 성능\n",
      "정확도: 0.9996, 정밀도: 0.9603, 재현율: 0.8288, F1: 0.8897, AUC: 0.9780\n"
     ]
    }
   ],
   "source": [
    "# V14의 이상치를 제거하고 모델에 적용하여 모델을 평가해보겠습니다.\n",
    "def get_preprocessed_df(df):\n",
    "    df_copy=df.copy()\n",
    "    amount_log_Scaled=np.log1p(df_copy['Amount'])\n",
    "    df_copy.insert(0,'Amount_Scaled',amount_log_Scaled)\n",
    "    df_copy.drop(['Time','Amount'],axis=1,inplace=True)\n",
    "    outlier_index_V14=get_outlier(df_copy,'V14',1.5)\n",
    "    df_copy.drop(outlier_index_V14,axis=0,inplace=True)\n",
    "    return df_copy\n",
    "\n",
    "print('V14 이상치 제거')\n",
    "X_train, X_test, y_train, y_test = get_train_test_dataset(card_df)\n",
    "print('로지스틱 회귀 성능')\n",
    "get_model_train_eval(lr_clf,X_train,X_test,y_train,y_test)\n",
    "print('LightGBM 성능')\n",
    "get_model_train_eval(lgbm_clf, X_train,X_test, y_train, y_test)\n",
    "# 전체적으로 성능이 많이 개선된 것을 볼 수 있는데 재현율이 로지스틱 회귀는 약 67%, LightGBM은 약 83%로 많이 개선된 것을 확인할 수 있습니다."
   ]
  },
  {
   "cell_type": "markdown",
   "id": "374a1dd6",
   "metadata": {},
   "source": [
    "### 인싸이트\n",
    "- 불균형한 분포를 가진 피처를 로그 변환을 통해 불균형한 분포를 감소시켜주고 target값과 상관관계가 높은 피처의 이상치 데이터를 제거한 결과가 가장 좋게 나왔습니다.\n",
    "- 재현율에서 상당히 큰 성능 개선을 볼 수 있습니다.\n",
    "- 사기 적발 모델의 경우 실제 사기인 경우(1) 을 정상(0) 이라고 판단하게 되면 큰 문제가 발생할 수 있기 때문에 재현율이 중요한 지표로 사용됩니다.\n",
    "    - 양성을 양성으로 판단하는 평가지표 -> 재현율 TP/(TP/FN)\n",
    "    \n",
    "이번 실습을 통해 데이터를 분석하고 전처리한 후 데이터에 맞는 머신러닝 알고리즘을 이용하여 학습, 예측, 성능 평가하는 전반적인 과정에 대해 이해할 수 있었습니다. "
   ]
  },
  {
   "cell_type": "code",
   "execution_count": null,
   "id": "e82a948a",
   "metadata": {},
   "outputs": [],
   "source": [
    "# SMOTE사용해보기"
   ]
  },
  {
   "cell_type": "code",
   "execution_count": null,
   "id": "ad0615c4",
   "metadata": {},
   "outputs": [],
   "source": []
  },
  {
   "cell_type": "code",
   "execution_count": null,
   "id": "591e48fc",
   "metadata": {},
   "outputs": [],
   "source": [
    "smote를 적용하면 재현율은 높아지나 정밀도는 낮아지는 것이 일반적이며, 좋은 smote 패키지일수록 재현율은 개선하고 정밀도 감소율은 낮출 수 있도록 효과적으로 데이터를 증식한다."
   ]
  }
 ],
 "metadata": {
  "kernelspec": {
   "display_name": "Python 3 (ipykernel)",
   "language": "python",
   "name": "python3"
  },
  "language_info": {
   "codemirror_mode": {
    "name": "ipython",
    "version": 3
   },
   "file_extension": ".py",
   "mimetype": "text/x-python",
   "name": "python",
   "nbconvert_exporter": "python",
   "pygments_lexer": "ipython3",
   "version": "3.8.12"
  }
 },
 "nbformat": 4,
 "nbformat_minor": 5
}
