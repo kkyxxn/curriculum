{
 "cells": [
  {
   "cell_type": "code",
   "execution_count": null,
   "id": "cf54e940",
   "metadata": {},
   "outputs": [],
   "source": [
    "!pip install cx_oracle"
   ]
  },
  {
   "cell_type": "code",
   "execution_count": null,
   "id": "353f71f2",
   "metadata": {},
   "outputs": [],
   "source": [
    "# Python & Oracle 연동\n",
    "import cx_Oracle\n",
    "dsn = cx_Oracle.makedsn('localhost',1521,'xe')\n",
    "dsn"
   ]
  },
  {
   "cell_type": "code",
   "execution_count": null,
   "id": "e578bb5a",
   "metadata": {},
   "outputs": [],
   "source": [
    "db = cx_Oracle.connect('C##CAKD5','CAKD5',dsn)\n",
    "db"
   ]
  },
  {
   "cell_type": "code",
   "execution_count": null,
   "id": "2113837d",
   "metadata": {},
   "outputs": [],
   "source": [
    "import pandas as pd\n",
    "cursor = db.cursor()\n",
    "cursor.execute('select * from book')\n",
    "x = cursor.fetchall() #  fetchall() 레코드를 배열형식으로 저장해 주는 일을 합니다\n",
    " # why? 파이썬에서 sql구문을 쓰면 튜플형태로 나오기때문에 배열 형식으로 저장해줘야함\n",
    "columns = ['BOOKID','BOOKNAME','PUBLISHER','PRICE']\n",
    "df = pd.DataFrame(x, columns=columns)\n",
    "df.head()"
   ]
  },
  {
   "cell_type": "code",
   "execution_count": null,
   "id": "4ddbd99f",
   "metadata": {},
   "outputs": [],
   "source": [
    "# create\n",
    "import cx_Oracle\n",
    "con = cx_Oracle.connect('C##CAKD5/CAKD5@localhost:1521/xe')\n",
    "cursor = con.cursor()\n",
    "sql = 'create table sample1(id varchar2(10), score number)'\n",
    "cursor.execute(sql)\n",
    "cursor.close()\n",
    "con.commit()\n",
    "con.close()"
   ]
  },
  {
   "cell_type": "code",
   "execution_count": null,
   "id": "703a43f9",
   "metadata": {},
   "outputs": [],
   "source": [
    "# insert\n",
    "def insert(t):              \n",
    "    con = cx_Oracle.connect('C##CAKD5/CAKD5@localhost:1521/xe')\n",
    "    cursor = con.cursor()\n",
    "    sql  ='insert into sample01 (id,score) values (:1,:2)'\n",
    "    cursor.execute(sql,t)\n",
    "    cursor.close()\n",
    "    con.commit()\n",
    "    con.close()\n",
    "insert(('111',80))"
   ]
  },
  {
   "cell_type": "code",
   "execution_count": null,
   "id": "cff5f6b8",
   "metadata": {},
   "outputs": [],
   "source": [
    "# insert - executemany\n",
    "rows = [('112',90),('113',70),('114',80),('115',90),('116',85)]\n",
    "def insertmany(t):\n",
    "    con = cx_Oracle.connect('C##CAKD5/CAKD5@localhost:1521/xe')\n",
    "    cursor = con.cursor()\n",
    "    sql = 'insert into sample1 (id,score) values (:1,:2)'\n",
    "    cursor.executemany(sql,t) # 뭔 의미인지?\n",
    "    cursor.close()\n",
    "    con.commit()\n",
    "    con.close()\n",
    "insertmany(rows)"
   ]
  },
  {
   "cell_type": "code",
   "execution_count": null,
   "id": "0fc171b0",
   "metadata": {},
   "outputs": [],
   "source": [
    "# Q. 3개의 속성(col01, col02, col03)으로 구성되는 테이블 sample2을 생성하고 10개의 데이터를 입력하세요.(사용자 함수 사용)\n",
    "# 단, col01에 대하여 제약조건 primary key 설정(제약조건 이름 sample_pk)"
   ]
  },
  {
   "cell_type": "code",
   "execution_count": 3,
   "id": "b8975de1",
   "metadata": {},
   "outputs": [],
   "source": [
    "import cx_Oracle\n",
    "con = cx_Oracle.connect('C##CAKD5/CAKD5@localhost:1521/xe')\n",
    "cursor = con.cursor()\n",
    "sql = \"create table sample2 (col01 varchar2(10), col02 varchar2(10), col03 varchar2(10), constraint sample_pk primary key (col01))\"\n",
    "cursor.execute(sql)\n",
    "cursor.close()\n",
    "con.commit()\n",
    "con.close()"
   ]
  },
  {
   "cell_type": "code",
   "execution_count": 4,
   "id": "e32d2ccc",
   "metadata": {},
   "outputs": [],
   "source": [
    "def insertcol(t):\n",
    "    con = cx_Oracle.connect('C##CAKD5/CAKD5@localhost:1521/xe')\n",
    "    cursor = con.cursor()\n",
    "    sql=\"insert into sample2 (col01,col02,col03) values(:1,:2,:3)\"\n",
    "    cursor.executemany(sql,t)\n",
    "    cursor.close()\n",
    "    con.commit()\n",
    "    con.close()\n",
    "\n",
    "rows = [('1','1','1'),('2','1','1'),('3','1','1'),('4','1','1'),('5','1','1'),('6','1','1'),('7','1','1'),('8','1','1'),('9','1','1'),('10','1','1')]\n",
    "insertcol(rows)"
   ]
  },
  {
   "cell_type": "code",
   "execution_count": 14,
   "id": "7a8a650b",
   "metadata": {},
   "outputs": [],
   "source": [
    "# update 이해안감\n",
    "def updatecol(t):\n",
    "    con = cx_Oracle.connect('C##CAKD5/CAKD5@localhost:1521/xe')\n",
    "    cursor = con.cursor()\n",
    "    sql=\"update sample2 set col03=:1 where col01=:2\"\n",
    "    cursor.execute(sql,t)\n",
    "    cursor.close()\n",
    "    con.commit()\n",
    "    con.close()\n",
    "updatecol(('3','1'))"
   ]
  },
  {
   "cell_type": "code",
   "execution_count": 16,
   "id": "18a16cd7",
   "metadata": {},
   "outputs": [],
   "source": [
    "# delete\n",
    "def deletecol(t):\n",
    "    con = cx_Oracle.connect('C##CAKD5/CAKD5@localhost:1521/xe')\n",
    "    cursor = con.cursor()\n",
    "    sql=\"delete from sample2 where col01=:1\"\n",
    "    cursor.execute(sql,t)\n",
    "    cursor.close()\n",
    "    con.commit()\n",
    "    con.close()\n",
    "deletecol(('10',))"
   ]
  },
  {
   "cell_type": "code",
   "execution_count": 17,
   "id": "78f92309",
   "metadata": {},
   "outputs": [
    {
     "data": {
      "text/html": [
       "<div>\n",
       "<style scoped>\n",
       "    .dataframe tbody tr th:only-of-type {\n",
       "        vertical-align: middle;\n",
       "    }\n",
       "\n",
       "    .dataframe tbody tr th {\n",
       "        vertical-align: top;\n",
       "    }\n",
       "\n",
       "    .dataframe thead th {\n",
       "        text-align: right;\n",
       "    }\n",
       "</style>\n",
       "<table border=\"1\" class=\"dataframe\">\n",
       "  <thead>\n",
       "    <tr style=\"text-align: right;\">\n",
       "      <th></th>\n",
       "      <th>COL01</th>\n",
       "      <th>COL02</th>\n",
       "      <th>COL03</th>\n",
       "    </tr>\n",
       "  </thead>\n",
       "  <tbody>\n",
       "    <tr>\n",
       "      <th>0</th>\n",
       "      <td>1</td>\n",
       "      <td>1</td>\n",
       "      <td>3</td>\n",
       "    </tr>\n",
       "    <tr>\n",
       "      <th>1</th>\n",
       "      <td>2</td>\n",
       "      <td>1</td>\n",
       "      <td>1</td>\n",
       "    </tr>\n",
       "    <tr>\n",
       "      <th>2</th>\n",
       "      <td>3</td>\n",
       "      <td>1</td>\n",
       "      <td>1</td>\n",
       "    </tr>\n",
       "    <tr>\n",
       "      <th>3</th>\n",
       "      <td>4</td>\n",
       "      <td>1</td>\n",
       "      <td>1</td>\n",
       "    </tr>\n",
       "    <tr>\n",
       "      <th>4</th>\n",
       "      <td>5</td>\n",
       "      <td>1</td>\n",
       "      <td>1</td>\n",
       "    </tr>\n",
       "  </tbody>\n",
       "</table>\n",
       "</div>"
      ],
      "text/plain": [
       "  COL01 COL02 COL03\n",
       "0     1     1     3\n",
       "1     2     1     1\n",
       "2     3     1     1\n",
       "3     4     1     1\n",
       "4     5     1     1"
      ]
     },
     "execution_count": 17,
     "metadata": {},
     "output_type": "execute_result"
    }
   ],
   "source": [
    "import pandas as pd\n",
    "con = cx_Oracle.connect('C##CAKD5/CAKD5@localhost:1521/xe')\n",
    "cursor = con.cursor()\n",
    "# sql = 'select * from sample1'\n",
    "cursor.execute('select * from sample2')\n",
    "x = cursor.fetchall()\n",
    "df_col = pd.DataFrame(x)\n",
    "\n",
    "cursor.execute(\"select column_name from user_tab_columns where table_name = 'SAMPLE2'\")\n",
    "col = cursor.fetchall()\n",
    "\n",
    "# 리스트로 컬럼명 뽑아주기\n",
    "list_py = []\n",
    "for i in col:\n",
    "    for j in i:\n",
    "        list_py.append(j)\n",
    "df_col.columns = list_py\n",
    "df_col.head()"
   ]
  },
  {
   "cell_type": "code",
   "execution_count": 18,
   "id": "8c263680",
   "metadata": {},
   "outputs": [],
   "source": [
    "df_col.to_csv('./data/col3.csv')"
   ]
  },
  {
   "cell_type": "code",
   "execution_count": 26,
   "id": "893defe4",
   "metadata": {},
   "outputs": [
    {
     "data": {
      "text/plain": [
       "[('COL01', 'COL02', 'COL03'),\n",
       " ('1', '1', '3'),\n",
       " ('2', '1', '1'),\n",
       " ('3', '1', '1'),\n",
       " ('4', '1', '1'),\n",
       " ('5', '1', '1'),\n",
       " ('6', '1', '1'),\n",
       " ('7', '1', '7'),\n",
       " ('8', '1', '1'),\n",
       " ('9', '1', '1')]"
      ]
     },
     "execution_count": 26,
     "metadata": {},
     "output_type": "execute_result"
    }
   ],
   "source": [
    "import csv\n",
    "with open('./data/col3.csv','r') as csv_file:\n",
    "    csv_reader = csv.reader(csv_file)\n",
    "    data = []\n",
    "    for line in csv_reader:\n",
    "        data.append((line[1], line[2], line[3]))\n",
    "data"
   ]
  },
  {
   "cell_type": "code",
   "execution_count": 29,
   "id": "296f4259",
   "metadata": {},
   "outputs": [],
   "source": [
    "con = cx_Oracle.connect('C##CAKD5/CAKD5@localhost:1521/xe')\n",
    "cursor = con.cursor()\n",
    "sql=\"alter table sample2 drop constraint sample_pk\"\n",
    "cursor.execute(sql)\n",
    "cursor.close()\n",
    "con.commit()\n",
    "con.close()"
   ]
  },
  {
   "cell_type": "code",
   "execution_count": 33,
   "id": "8e3bbbd4",
   "metadata": {},
   "outputs": [],
   "source": [
    "with open('./data/col3.csv','r') as csv_file:\n",
    "    csv_reader = csv.reader(csv_file)\n",
    "    next(csv_reader)\n",
    "    \n",
    "    con = cx_Oracle.connect('C##CAKD5/CAKD5@localhost:1521/xe')\n",
    "    cursor = con.cursor()\n",
    "    sql = 'insert into sample2 (col01, col02, col03) values (:1,:2,:3)'\n",
    "    data =[]\n",
    "    \n",
    "    for line in csv_reader:\n",
    "        data.append((line[1],line[2], line[3]))\n",
    "        \n",
    "    cursor.executemany(sql,data)\n",
    "    cursor.close()\n",
    "    con.commit()\n",
    "    con.close()"
   ]
  },
  {
   "cell_type": "code",
   "execution_count": 34,
   "id": "247da61d",
   "metadata": {},
   "outputs": [],
   "source": [
    "import cx_Oracle\n",
    "con = cx_Oracle.connect('C##CAKD5/CAKD5@localhost:1521/xe')\n",
    "cursor = con.cursor()\n",
    "sql ='create table sample3(id varchar2(10), sales number)'\n",
    "cursor.execute(sql)\n",
    "cursor.close()\n",
    "con.commit()\n",
    "con.close()"
   ]
  },
  {
   "cell_type": "code",
   "execution_count": 44,
   "id": "9d2bccc0",
   "metadata": {},
   "outputs": [
    {
     "data": {
      "text/html": [
       "<div>\n",
       "<style scoped>\n",
       "    .dataframe tbody tr th:only-of-type {\n",
       "        vertical-align: middle;\n",
       "    }\n",
       "\n",
       "    .dataframe tbody tr th {\n",
       "        vertical-align: top;\n",
       "    }\n",
       "\n",
       "    .dataframe thead th {\n",
       "        text-align: right;\n",
       "    }\n",
       "</style>\n",
       "<table border=\"1\" class=\"dataframe\">\n",
       "  <thead>\n",
       "    <tr style=\"text-align: right;\">\n",
       "      <th></th>\n",
       "      <th>id</th>\n",
       "      <th>sales</th>\n",
       "    </tr>\n",
       "  </thead>\n",
       "  <tbody>\n",
       "    <tr>\n",
       "      <th>0</th>\n",
       "      <td>0</td>\n",
       "      <td>39</td>\n",
       "    </tr>\n",
       "    <tr>\n",
       "      <th>1</th>\n",
       "      <td>1</td>\n",
       "      <td>39</td>\n",
       "    </tr>\n",
       "    <tr>\n",
       "      <th>2</th>\n",
       "      <td>2</td>\n",
       "      <td>93</td>\n",
       "    </tr>\n",
       "    <tr>\n",
       "      <th>3</th>\n",
       "      <td>3</td>\n",
       "      <td>30</td>\n",
       "    </tr>\n",
       "    <tr>\n",
       "      <th>4</th>\n",
       "      <td>4</td>\n",
       "      <td>30</td>\n",
       "    </tr>\n",
       "  </tbody>\n",
       "</table>\n",
       "</div>"
      ],
      "text/plain": [
       "   id  sales\n",
       "0   0     39\n",
       "1   1     39\n",
       "2   2     93\n",
       "3   3     30\n",
       "4   4     30"
      ]
     },
     "execution_count": 44,
     "metadata": {},
     "output_type": "execute_result"
    }
   ],
   "source": [
    "import numpy as np\n",
    "import pandas as pd\n",
    "\n",
    "df = pd.DataFrame()\n",
    "df['id'] = np.arange(10000)\n",
    "df['sales'] = np.random.randint(1,100,size=10000)\n",
    "df.head()"
   ]
  },
  {
   "cell_type": "code",
   "execution_count": 45,
   "id": "9917b74e",
   "metadata": {},
   "outputs": [
    {
     "name": "stdout",
     "output_type": "stream",
     "text": [
      "<class 'pandas.core.frame.DataFrame'>\n",
      "RangeIndex: 10000 entries, 0 to 9999\n",
      "Data columns (total 2 columns):\n",
      " #   Column  Non-Null Count  Dtype\n",
      "---  ------  --------------  -----\n",
      " 0   id      10000 non-null  int32\n",
      " 1   sales   10000 non-null  int32\n",
      "dtypes: int32(2)\n",
      "memory usage: 78.2 KB\n"
     ]
    }
   ],
   "source": [
    "df.info()"
   ]
  },
  {
   "cell_type": "code",
   "execution_count": 46,
   "id": "f871e823",
   "metadata": {},
   "outputs": [],
   "source": [
    "df['id'] = df.id.astype('str')"
   ]
  },
  {
   "cell_type": "code",
   "execution_count": 47,
   "id": "2360e1df",
   "metadata": {},
   "outputs": [
    {
     "data": {
      "text/plain": [
       "[('0', 39),\n",
       " ('1', 39),\n",
       " ('2', 93),\n",
       " ('3', 30),\n",
       " ('4', 30),\n",
       " ('5', 13),\n",
       " ('6', 39),\n",
       " ('7', 56),\n",
       " ('8', 65),\n",
       " ('9', 10)]"
      ]
     },
     "execution_count": 47,
     "metadata": {},
     "output_type": "execute_result"
    }
   ],
   "source": [
    "ar = df.values\n",
    "results = list([tuple(e) for e in ar])\n",
    "results[:10]"
   ]
  },
  {
   "cell_type": "code",
   "execution_count": 48,
   "id": "5bba99c5",
   "metadata": {},
   "outputs": [],
   "source": [
    "con = cx_Oracle.connect('C##CAKD5/CAKD5@localhost:1521/xe')\n",
    "cursor = con.cursor()\n",
    "sql=\"insert into sample3 (id,sales) values(:1,:2)\"\n",
    "# data = []\n",
    "# for r in results:\n",
    "#     data.append((r[0],r[1]))\n",
    "cursor.executemany(sql,results)\n",
    "cursor.close()\n",
    "con.commit()\n",
    "con.close()"
   ]
  },
  {
   "cell_type": "code",
   "execution_count": null,
   "id": "34b2a659",
   "metadata": {},
   "outputs": [],
   "source": [
    "# Q. ID의 자료 타입을 NUMBER로 변경하여 ID 기준으로 올림차순 정렬하여 출력하세요."
   ]
  },
  {
   "cell_type": "code",
   "execution_count": 56,
   "id": "d09baf40",
   "metadata": {},
   "outputs": [],
   "source": [
    "con = cx_Oracle.connect('C##CAKD5/CAKD5@localhost:1521/xe')\n",
    "cursor = con.cursor()\n",
    "sql=\"alter table sample3 modify id number\"\n",
    "# sql = 'truncate table sample3' -> 테이블 내에 모든 행 삭제\n",
    "cursor.execute(sql)\n",
    "cursor.close()\n",
    "con.commit()\n",
    "con.close()"
   ]
  },
  {
   "cell_type": "code",
   "execution_count": 55,
   "id": "4ae2b992",
   "metadata": {},
   "outputs": [],
   "source": [
    "con = cx_Oracle.connect('C##CAKD5/CAKD5@localhost:1521/xe')\n",
    "cursor = con.cursor()\n",
    "sql ='insert into sample3 (id,sales) values(:1,:2)'\n",
    "\n",
    "cursor.executemany(sql,results)\n",
    "cursor.close()\n",
    "con.commit()\n",
    "con.close()"
   ]
  },
  {
   "cell_type": "markdown",
   "id": "57b43a12",
   "metadata": {},
   "source": [
    "### employees 테이블을 불러와서 다음사항을 수행하세요.\n",
    "\n",
    "- 컬럼명을 포함하여 employees 테이블을 데이터프레임으로 출력\n",
    "- department_id별 평균 연봉을 출력\n",
    "- 부서별 평균 연봉을 수평 그래프로 시각화"
   ]
  },
  {
   "cell_type": "markdown",
   "id": "76bb10eb",
   "metadata": {},
   "source": [
    "### PURPROD 테이블을 불러와서 다음사항을 수행하세요.\n",
    "\n",
    "- 데이터프레임으로 출력\n",
    "- 고객별 2014년 2015년 총구매액 및 평균구매액 출력\n",
    "- 고객별 2014 VS 2015 총구매액 기준 성장율"
   ]
  }
 ],
 "metadata": {
  "kernelspec": {
   "display_name": "Python 3 (ipykernel)",
   "language": "python",
   "name": "python3"
  },
  "language_info": {
   "codemirror_mode": {
    "name": "ipython",
    "version": 3
   },
   "file_extension": ".py",
   "mimetype": "text/x-python",
   "name": "python",
   "nbconvert_exporter": "python",
   "pygments_lexer": "ipython3",
   "version": "3.8.12"
  }
 },
 "nbformat": 4,
 "nbformat_minor": 5
}
