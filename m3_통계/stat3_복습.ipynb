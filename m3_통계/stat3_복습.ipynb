{
 "cells": [
  {
   "cell_type": "code",
   "execution_count": 1,
   "id": "80c94582",
   "metadata": {},
   "outputs": [],
   "source": [
    "#1차원 이산확률분포 -> 동전던지기 앞 뒤면\n",
    "import numpy as np\n",
    "import matplotlib.pyplot as plt\n",
    "\n",
    "x_set = np.array([1,2,3,4,5,6]) # 불균형 주사위 \n",
    "\n",
    "def f(x): # 사용자 함수 정의\n",
    "    if x in x_set: # 리스트배열에 파라미터가 있다면\n",
    "        return x / 21 # 불균형하게 리턴\n",
    "    else:\n",
    "        return 0\n",
    "X =[x_set, f]"
   ]
  },
  {
   "cell_type": "code",
   "execution_count": 2,
   "id": "d90d1e77",
   "metadata": {},
   "outputs": [
    {
     "name": "stdout",
     "output_type": "stream",
     "text": [
      "[0.04761905 0.0952381  0.14285714 0.19047619 0.23809524 0.28571429] \n",
      "\n"
     ]
    },
    {
     "data": {
      "text/plain": [
       "{1: 0.047619047619047616,\n",
       " 2: 0.09523809523809523,\n",
       " 3: 0.14285714285714285,\n",
       " 4: 0.19047619047619047,\n",
       " 5: 0.23809523809523808,\n",
       " 6: 0.2857142857142857}"
      ]
     },
     "execution_count": 2,
     "metadata": {},
     "output_type": "execute_result"
    }
   ],
   "source": [
    "prob = np.array([f(x_k) for x_k in x_set]) # 확률함수 만들어줌\n",
    "print(prob, '\\n')\n",
    "dict(zip(x_set, prob)) # 집함수써서 각각의 확률변수에 대해 확률 구함  key,value 형태"
   ]
  },
  {
   "cell_type": "code",
   "execution_count": 3,
   "id": "42052624",
   "metadata": {},
   "outputs": [
    {
     "data": {
      "image/png": "[encoded data removed]",
      "text/plain": [
       "<Figure size 504x360 with 1 Axes>"
      ]
     },
     "metadata": {
      "needs_background": "light"
     },
     "output_type": "display_data"
    }
   ],
   "source": [
    "plt.figure(figsize=(7,5))\n",
    "plt.bar(x_set,prob,color='palegreen')\n",
    "plt.xlabel('X')\n",
    "plt.ylabel('Probability')\n",
    "plt.show()"
   ]
  },
  {
   "cell_type": "code",
   "execution_count": 4,
   "id": "165127e5",
   "metadata": {},
   "outputs": [
    {
     "data": {
      "text/plain": [
       "Text(0.5, 1.0, 'bar garph')"
      ]
     },
     "execution_count": 4,
     "metadata": {},
     "output_type": "execute_result"
    },
    {
     "data": {
      "image/png": "[encoded data removed]",
      "text/plain": [
       "<Figure size 432x288 with 1 Axes>"
      ]
     },
     "metadata": {
      "needs_background": "light"
     },
     "output_type": "display_data"
    }
   ],
   "source": [
    "import warnings\n",
    "warnings.filterwarnings('ignore')\n",
    "import seaborn as sns\n",
    "sns.barplot(x_set,prob)\n",
    "plt.title('bar garph',fontsize=20)"
   ]
  },
  {
   "cell_type": "code",
   "execution_count": 5,
   "id": "64dfcbe9",
   "metadata": {},
   "outputs": [
    {
     "data": {
      "text/plain": [
       "True"
      ]
     },
     "execution_count": 5,
     "metadata": {},
     "output_type": "execute_result"
    }
   ],
   "source": [
    "# np.all은 모든 요소가 참일 때만 참을 반환하는 함수\n",
    "np.all(prob>=0) # 확률이란것은 모두 0보다 크거나 같아야함"
   ]
  },
  {
   "cell_type": "code",
   "execution_count": 6,
   "id": "2f8f7481",
   "metadata": {},
   "outputs": [
    {
     "data": {
      "text/plain": [
       "0.9999999999999999"
      ]
     },
     "execution_count": 6,
     "metadata": {},
     "output_type": "execute_result"
    }
   ],
   "source": [
    "np.sum(prob) # 그 합계는 항상 1"
   ]
  },
  {
   "cell_type": "code",
   "execution_count": 7,
   "id": "6a607f2c",
   "metadata": {},
   "outputs": [],
   "source": [
    "# 확률함수는 확률변수 X가 x가 될 때의 확률을 반환하는 함수 이지만,\n",
    "# 확률변수 X가 x이하가 될때의 확률을 반환하는 함수로도 자주 사용된다.\n",
    "# 이와 같은 함수 f(x)를 누적분포함수 또는 분포함수라 한다. -> 특정확률변수까지의 합계\n",
    "def F(x):\n",
    "    return np.sum([f(x_k) for x_k in x_set if x_k <= x])\n",
    "# prob = np.array([f(x_k) for x_k in x_set]) 처음에 만들어준 확률변수"
   ]
  },
  {
   "cell_type": "code",
   "execution_count": 8,
   "id": "b8d92602",
   "metadata": {},
   "outputs": [
    {
     "data": {
      "text/plain": [
       "0.9999999999999999"
      ]
     },
     "execution_count": 8,
     "metadata": {},
     "output_type": "execute_result"
    }
   ],
   "source": [
    "F(6)  # 확률변수 끝에 있는 6까지 하면 1로 가까워짐"
   ]
  },
  {
   "cell_type": "code",
   "execution_count": 9,
   "id": "c4279031",
   "metadata": {},
   "outputs": [
    {
     "data": {
      "text/plain": [
       "{5: 0.047619047619047616,\n",
       " 7: 0.09523809523809523,\n",
       " 9: 0.14285714285714285,\n",
       " 11: 0.19047619047619047,\n",
       " 13: 0.23809523809523808,\n",
       " 15: 0.2857142857142857}"
      ]
     },
     "execution_count": 9,
     "metadata": {},
     "output_type": "execute_result"
    }
   ],
   "source": [
    "# 확률변수의 변환: 확률변수 X에 2를 곱하고 3을 더한 2X + 3도 확률변수가 된다.\n",
    "# 확률변수 x를 변환해도 확률변수가 된다\n",
    "y_set = np.array([2* x_k +3 for x_k in x_set])\n",
    "prob = np.array([f(x_k) for x_k in x_set])\n",
    "dict(zip(y_set , prob))"
   ]
  },
  {
   "cell_type": "code",
   "execution_count": 10,
   "id": "8b9bd791",
   "metadata": {},
   "outputs": [
    {
     "data": {
      "text/plain": [
       "4.333333333333333"
      ]
     },
     "execution_count": 10,
     "metadata": {},
     "output_type": "execute_result"
    }
   ],
   "source": [
    "# 1차원 이산형 확률변수의 지표\n",
    "# 확률 변수의 평균 : 확률변수의 평균은 확률변수의 중심을 나타내는 지표가 되며 기댓값이라고도 부름\n",
    "np.sum([x_k * f(x_k) for x_k in x_set])"
   ]
  },
  {
   "cell_type": "code",
   "execution_count": 11,
   "id": "f22577ff",
   "metadata": {},
   "outputs": [
    {
     "data": {
      "text/plain": [
       "4.331934"
      ]
     },
     "execution_count": 11,
     "metadata": {},
     "output_type": "execute_result"
    }
   ],
   "source": [
    "# 확률변수의 기댓값은 확률변수를 무제한 시행하여 얻은 실현값의 평균\n",
    "sample = np.random.choice(x_set, int(1e6), p = prob)\n",
    "np.mean(sample)"
   ]
  },
  {
   "cell_type": "code",
   "execution_count": 12,
   "id": "93780e63",
   "metadata": {},
   "outputs": [],
   "source": [
    "# 일반화를 통해서 기댓값의 선형성을 확인\n",
    "def E(X,g=lambda x :x):\n",
    "    x_set, f = X \n",
    "    return np.sum([g(x_k) * f(x_k) for x_k in x_set])"
   ]
  },
  {
   "cell_type": "code",
   "execution_count": 13,
   "id": "11daf32a",
   "metadata": {},
   "outputs": [
    {
     "data": {
      "text/plain": [
       "4.333333333333333"
      ]
     },
     "execution_count": 13,
     "metadata": {},
     "output_type": "execute_result"
    }
   ],
   "source": [
    "E(X)"
   ]
  },
  {
   "cell_type": "code",
   "execution_count": 14,
   "id": "5d729482",
   "metadata": {},
   "outputs": [
    {
     "data": {
      "text/plain": [
       "11.666666666666664"
      ]
     },
     "execution_count": 14,
     "metadata": {},
     "output_type": "execute_result"
    }
   ],
   "source": [
    "E(X , g=lambda x: 2*x+3) # 즉 2x+3으로 변환해서 구한 기댓값과"
   ]
  },
  {
   "cell_type": "code",
   "execution_count": 15,
   "id": "41a878b5",
   "metadata": {},
   "outputs": [
    {
     "data": {
      "text/plain": [
       "11.666666666666666"
      ]
     },
     "execution_count": 15,
     "metadata": {},
     "output_type": "execute_result"
    }
   ],
   "source": [
    "# x의 기대값을 가지고 구한것과 동일\n",
    "2 * E(X) + 3  # 기댓값의 선형성 확인"
   ]
  },
  {
   "cell_type": "code",
   "execution_count": 16,
   "id": "0fed246f",
   "metadata": {},
   "outputs": [
    {
     "data": {
      "text/plain": [
       "2.2222222222222223"
      ]
     },
     "execution_count": 16,
     "metadata": {},
     "output_type": "execute_result"
    }
   ],
   "source": [
    "# 분산\n",
    "mean = E(X)\n",
    "np.sum([(x_k - mean)**2 * f(x_k) for x_k in x_set])"
   ]
  },
  {
   "cell_type": "code",
   "execution_count": 19,
   "id": "e5f3a739",
   "metadata": {},
   "outputs": [
    {
     "data": {
      "text/plain": [
       "8.88888888888889"
      ]
     },
     "execution_count": 19,
     "metadata": {},
     "output_type": "execute_result"
    }
   ],
   "source": [
    "# 일반화\n",
    "def V(X, g = lambda x:x):\n",
    "    x_set,f = X\n",
    "    mean = E(X,g)\n",
    "    return np.sum([(g(i)-mean)** 2 * f(i) for i in x_set])\n",
    "\n",
    "V(X, lambda x : 2 * x + 3)"
   ]
  },
  {
   "cell_type": "code",
   "execution_count": 20,
   "id": "47ff810f",
   "metadata": {},
   "outputs": [
    {
     "data": {
      "text/plain": [
       "8.88888888888889"
      ]
     },
     "execution_count": 20,
     "metadata": {},
     "output_type": "execute_result"
    }
   ],
   "source": [
    "# 분산의 공식 -> square한것이므로 풀어서는 2의 자승을 해줘야함\n",
    "2 * 2 * V(X) # 상수는 제외"
   ]
  },
  {
   "cell_type": "code",
   "execution_count": 29,
   "id": "30623c5b",
   "metadata": {},
   "outputs": [],
   "source": [
    "# 2차원 이산형 확률분포 \n",
    "x_set = np.arange(2,13)  # 두개의 확률변수가 동시에 작동 -> 결합확률분포의 경우\n",
    "y_set = np.arange(1,7)"
   ]
  },
  {
   "cell_type": "code",
   "execution_count": 30,
   "id": "66c1b48b",
   "metadata": {},
   "outputs": [],
   "source": [
    "def f_XY(x,y):\n",
    "    if 1 <=y <=6 and 1 <= x-y <=6:\n",
    "        return y*(x-y) / 441 # 441은 21의 자승\n",
    "    else:\n",
    "        return 0"
   ]
  },
  {
   "cell_type": "code",
   "execution_count": 31,
   "id": "9927a2ec",
   "metadata": {},
   "outputs": [],
   "source": [
    "XY=[x_set,y_set, f_XY] # 결합확률함수와 x확률변수 y확률 변수를 x,y에 저장해놓고 그림을 그려줌"
   ]
  },
  {
   "cell_type": "code",
   "execution_count": 32,
   "id": "85eabc84",
   "metadata": {},
   "outputs": [
    {
     "data": {
      "text/plain": [
       "<matplotlib.colorbar.Colorbar at 0x237eb032c40>"
      ]
     },
     "execution_count": 32,
     "metadata": {},
     "output_type": "execute_result"
    },
    {
     "data": {
      "image/png": "[encoded data removed]",
      "text/plain": [
       "<Figure size 720x576 with 2 Axes>"
      ]
     },
     "metadata": {
      "needs_background": "light"
     },
     "output_type": "display_data"
    }
   ],
   "source": [
    "prob = np.array([[f_XY(x_i,y_j) for y_j in y_set] for x_i in x_set])\n",
    "\n",
    "fig = plt.figure(figsize=(10,8))\n",
    "ax = fig.add_subplot(111)\n",
    "\n",
    "c = ax.pcolor(prob)\n",
    "x = ax.pcolor(prob)\n",
    "\n",
    "ax.set_xticks(np.arange(prob.shape[1]) + 0.5, minor=False)\n",
    "ax.set_yticks(np.arange(prob.shape[0]) + 0.5, minor=False)\n",
    "ax.set_xticklabels(np.arange(1,7) , minor=False)\n",
    "ax.set_yticklabels(np.arange(2,13) , minor=False)\n",
    "\n",
    "\n",
    "# y축을 내림차순으로 역전\n",
    "ax.invert_yaxis()\n",
    "\n",
    "# x축 눈금을 그래프 위쪽에 표시\n",
    "ax.xaxis.tick_top()\n",
    "fig.colorbar(c,ax=ax) # 두개의 변수의 결합확률이 어떻게 작용하는지 살펴봄\n",
    "# 밝은색이 확률 높음 -> 12와 6일 때 높음"
   ]
  },
  {
   "cell_type": "code",
   "execution_count": 33,
   "id": "19cd82c2",
   "metadata": {},
   "outputs": [
    {
     "data": {
      "text/plain": [
       "True"
      ]
     },
     "execution_count": 33,
     "metadata": {},
     "output_type": "execute_result"
    }
   ],
   "source": [
    "np.all(prob >=0)  # 역시 확률은 0보다 크거나 같고"
   ]
  },
  {
   "cell_type": "code",
   "execution_count": 34,
   "id": "e03c9c58",
   "metadata": {},
   "outputs": [
    {
     "data": {
      "text/plain": [
       "1.0"
      ]
     },
     "execution_count": 34,
     "metadata": {},
     "output_type": "execute_result"
    }
   ],
   "source": [
    "np.sum(prob)  # 모두의 합은 1"
   ]
  },
  {
   "cell_type": "code",
   "execution_count": 36,
   "id": "21b461ec",
   "metadata": {},
   "outputs": [],
   "source": [
    "# 주변확률분포 : 확률변수 (X,Y)는 결합확률분포에 의해 동시에 정의되지만 개별 확률변수에만 관심을 가질 수 있다.\n",
    "# 확률변수 X만의 움직임 즉 확률변수 X의 확률함수를 알고 싶은 상황에서는 \n",
    "# 결합확률함수 f xy에서 확률변수 Y의 영향을 제거하면 확률변수 X의 확률함수만 남는다고 생각하면 된다.\n",
    "def f_X(x):\n",
    "    return np.sum(f_XY(x, y_k) for y_k in y_set)"
   ]
  },
  {
   "cell_type": "code",
   "execution_count": 37,
   "id": "99c27141",
   "metadata": {},
   "outputs": [],
   "source": [
    "def f_Y(y):\n",
    "    return np.sum([f_XY(x_k, y) for x_k in x_set])"
   ]
  },
  {
   "cell_type": "code",
   "execution_count": 38,
   "id": "53285a68",
   "metadata": {},
   "outputs": [],
   "source": [
    "# 주변분포를 구해보면 X와 Y를 각각 독립이라고 생각할 수 있다.\n",
    "X = [x_set, f_X] # x의 확률변수와 그때의 확률함수\n",
    "Y = [y_set, f_Y] # y의 확률변수와 그때의 확률함수"
   ]
  },
  {
   "cell_type": "code",
   "execution_count": 39,
   "id": "a68173e2",
   "metadata": {},
   "outputs": [
    {
     "data": {
      "text/plain": [
       "[array([ 2,  3,  4,  5,  6,  7,  8,  9, 10, 11, 12]),\n",
       " <function __main__.f_X(x)>]"
      ]
     },
     "execution_count": 39,
     "metadata": {},
     "output_type": "execute_result"
    }
   ],
   "source": [
    "X # x의 확률변수와 그때의 각각의 개별 확률함수가 출력"
   ]
  },
  {
   "cell_type": "code",
   "execution_count": 40,
   "id": "dfc35fc4",
   "metadata": {},
   "outputs": [
    {
     "data": {
      "text/plain": [
       "[array([1, 2, 3, 4, 5, 6]), <function __main__.f_Y(y)>]"
      ]
     },
     "execution_count": 40,
     "metadata": {},
     "output_type": "execute_result"
    }
   ],
   "source": [
    "Y # y의 확률변수와 그때의 각각의 개별 확률함수가 출력"
   ]
  },
  {
   "cell_type": "code",
   "execution_count": 41,
   "id": "6f910655",
   "metadata": {},
   "outputs": [
    {
     "data": {
      "text/plain": [
       "Text(0, 0.5, 'probability')"
      ]
     },
     "execution_count": 41,
     "metadata": {},
     "output_type": "execute_result"
    },
    {
     "data": {
      "image/png": "[encoded data removed]",
      "text/plain": [
       "<Figure size 864x288 with 2 Axes>"
      ]
     },
     "metadata": {
      "needs_background": "light"
     },
     "output_type": "display_data"
    }
   ],
   "source": [
    "# 그걸 가지고 그림을 그려보면 x확률변수에 대응되는 확률함수에서 구해지는 확률과\n",
    "# y확률변수에 대응되는 확률함수에서 구해지는 확률과의 대응되는 그림을 볼 수 있음\n",
    "prob_x = np.array([f_X(x_k) for x_k in x_set])\n",
    "prob_y = np.array([f_Y(y_k) for y_k in y_set])\n",
    "\n",
    "fig = plt.figure(figsize =(12,4))\n",
    "ax1 = fig.add_subplot(121)\n",
    "ax2 = fig.add_subplot(122)\n",
    "\n",
    "ax1.bar(x_set,prob_x)\n",
    "ax2.bar(y_set,prob_y)\n",
    "\n",
    "ax1.set_title('X_marginal probability distribution')\n",
    "ax1.set_xlabel('Xlabel')\n",
    "ax1.set_ylabel('probability')\n",
    "\n",
    "ax2.set_title('Y_marginal probability distribution')\n",
    "ax2.set_xlabel('Ylabel')\n",
    "ax2.set_ylabel('probability')"
   ]
  },
  {
   "cell_type": "code",
   "execution_count": 42,
   "id": "cc39a3da",
   "metadata": {},
   "outputs": [
    {
     "data": {
      "text/plain": [
       "8.666666666666666"
      ]
     },
     "execution_count": 42,
     "metadata": {},
     "output_type": "execute_result"
    }
   ],
   "source": [
    "# 2차원 이산형 확률분포의 지표\n",
    "# 기댓값 \n",
    "np.sum([x_i * f_XY(x_i,y_j) for x_i in x_set for y_j in y_set])"
   ]
  },
  {
   "cell_type": "code",
   "execution_count": 44,
   "id": "2b88afb6",
   "metadata": {},
   "outputs": [
    {
     "data": {
      "text/plain": [
       "8.666666666666666"
      ]
     },
     "execution_count": 44,
     "metadata": {},
     "output_type": "execute_result"
    }
   ],
   "source": [
    "sum = 0\n",
    "for y_j in y_set:\n",
    "    for x_i in x_set:\n",
    "        sum+=((x_i*f_XY(x_i,y_j)))\n",
    "sum"
   ]
  },
  {
   "cell_type": "code",
   "execution_count": 45,
   "id": "945837cc",
   "metadata": {},
   "outputs": [
    {
     "data": {
      "text/plain": [
       "8.666666666666666"
      ]
     },
     "execution_count": 45,
     "metadata": {},
     "output_type": "execute_result"
    }
   ],
   "source": [
    "def E(XY, g):\n",
    "    x_set,y_set, f_XY = XY\n",
    "    return np.sum([g(x_i,y_j) * f_XY(x_i,y_j) for x_i in x_set for y_j in y_set])\n",
    "mean_X = E(XY,lambda x,y:x)\n",
    "mean_X"
   ]
  },
  {
   "cell_type": "code",
   "execution_count": 46,
   "id": "35b4ad2e",
   "metadata": {},
   "outputs": [
    {
     "data": {
      "text/plain": [
       "37.55555555555555"
      ]
     },
     "execution_count": 46,
     "metadata": {},
     "output_type": "execute_result"
    }
   ],
   "source": [
    "E(XY,lambda x,y:y) * mean_X"
   ]
  },
  {
   "cell_type": "code",
   "execution_count": 47,
   "id": "24a7dd92",
   "metadata": {},
   "outputs": [
    {
     "data": {
      "text/plain": [
       "39.77777777777778"
      ]
     },
     "execution_count": 47,
     "metadata": {},
     "output_type": "execute_result"
    }
   ],
   "source": [
    "np.sum([x_i  * y_j * f_XY(x_i,y_j) for x_i in x_set for y_j in y_set])"
   ]
  },
  {
   "cell_type": "code",
   "execution_count": 48,
   "id": "5c4e0262",
   "metadata": {},
   "outputs": [],
   "source": [
    "a,b = 2,3"
   ]
  },
  {
   "cell_type": "code",
   "execution_count": 49,
   "id": "98d6cd33",
   "metadata": {},
   "outputs": [
    {
     "data": {
      "text/plain": [
       "30.333333333333332"
      ]
     },
     "execution_count": 49,
     "metadata": {},
     "output_type": "execute_result"
    }
   ],
   "source": [
    "# 기댓값의 선형성\n",
    "E(XY , lambda x,y: a*x+ b*y)"
   ]
  },
  {
   "cell_type": "code",
   "execution_count": 50,
   "id": "9ca1b2fc",
   "metadata": {},
   "outputs": [
    {
     "data": {
      "text/plain": [
       "4.444444444444444"
      ]
     },
     "execution_count": 50,
     "metadata": {},
     "output_type": "execute_result"
    }
   ],
   "source": [
    "# 분산 : X의 분산이라면 X관한 편차제곱의 기댓값으로 구할 수 있다.\n",
    "np.sum([(x_i - mean_X)**2 * f_XY(x_i,y_j) for x_i in x_set for y_j in y_set])"
   ]
  },
  {
   "cell_type": "code",
   "execution_count": 51,
   "id": "79abed58",
   "metadata": {},
   "outputs": [
    {
     "data": {
      "text/plain": [
       "2.2222222222222223"
      ]
     },
     "execution_count": 51,
     "metadata": {},
     "output_type": "execute_result"
    }
   ],
   "source": [
    "def V(XY, g ):\n",
    "    x_set,y_set, f_XY = XY\n",
    "    mean = E(XY , g)\n",
    "    return np.sum([(g(x_i,y_j) - mean)**2 * f_XY(x_i,y_j) for x_i in x_set for y_j in y_set])\n",
    "V(XY,lambda x,y:y)"
   ]
  },
  {
   "cell_type": "code",
   "execution_count": 53,
   "id": "9ddcdd8f",
   "metadata": {},
   "outputs": [],
   "source": [
    "# 공분산\n",
    "def Cov(XY):\n",
    "    x_set, y_set, f_XY = XY\n",
    "    mean_Y = E(XY, lambda x,y: y)\n",
    "    mean_X = E(XY, lambda x,y: x)\n",
    "    return np.sum([(x_i -mean_X) * (y_j - mean_Y) * f_XY(x_i,y_j) for x_i in x_set for y_j in y_set ])"
   ]
  },
  {
   "cell_type": "code",
   "execution_count": 54,
   "id": "be94afad",
   "metadata": {},
   "outputs": [],
   "source": [
    "cov_xy = Cov(XY)"
   ]
  },
  {
   "cell_type": "code",
   "execution_count": 55,
   "id": "69fc2f18",
   "metadata": {},
   "outputs": [
    {
     "data": {
      "text/plain": [
       "64.44444444444444"
      ]
     },
     "execution_count": 55,
     "metadata": {},
     "output_type": "execute_result"
    }
   ],
   "source": [
    "V(XY, lambda x,y:a*x+b*y)"
   ]
  },
  {
   "cell_type": "code",
   "execution_count": 56,
   "id": "6257ca10",
   "metadata": {},
   "outputs": [],
   "source": [
    "var_X = V(XY, lambda x,y:x)\n",
    "var_Y = V(XY, lambda x,y:y)"
   ]
  },
  {
   "cell_type": "code",
   "execution_count": 57,
   "id": "ce2884ea",
   "metadata": {},
   "outputs": [
    {
     "data": {
      "text/plain": [
       "64.44444444444443"
      ]
     },
     "execution_count": 57,
     "metadata": {},
     "output_type": "execute_result"
    }
   ],
   "source": [
    "# 분산과 공분산의 공식\n",
    "a**2 * var_X + b**2 * var_Y + 2*a*b *cov_xy"
   ]
  },
  {
   "cell_type": "code",
   "execution_count": null,
   "id": "316cf7e0",
   "metadata": {},
   "outputs": [],
   "source": [
    "# 확률변수의 상관계수 : 공분산을 각각의 표준편차로 나누어 산출\n",
    "cov_xy/np.sqrt(var_X * var_Y)"
   ]
  },
  {
   "cell_type": "markdown",
   "id": "fc5ba7e6",
   "metadata": {},
   "source": [
    "## 대표적인 이산형 확률분포\n",
    "   - 베르누이 분포\n",
    "   - 이항분포\n",
    "   - 기하분포\n",
    "   - 포아송 분포"
   ]
  },
  {
   "cell_type": "code",
   "execution_count": null,
   "id": "a774a568",
   "metadata": {},
   "outputs": [],
   "source": [
    "# 그래프를 위한 사용자 함수\n",
    "import numpy as np\n",
    "import matplotlib.pyplot as plt\n",
    "from scipy import stats\n",
    "\n",
    "linestyles = ['-','--',':']\n",
    "\n",
    "def E(X,g=lambda x:x):\n",
    "    x_set, f =X\n",
    "    return np.sum([g(x_k) * f(x_k) for x_k in x_set])\n",
    "\n",
    "def V(X, g=lambda x:x):\n",
    "    x_set, f =X\n",
    "    mean_X = E(X,g)\n",
    "    return np.sum([(g(x_k)-mean_X)**2 *f(x_k) for x_k in x_set])\n",
    "\n",
    "def check_prob(X):  # 확률분포를 인수로 가지면 기댓값과 분산 계산 결과를 반환\n",
    "    x_set, f = X\n",
    "    prob = np.array([f(x_k) for x_k in x_set])\n",
    "    assert np.all(prob >= 0), f'minus probability'    # 조건식이 True 가 아니면 문구 출력\n",
    "    prob_sum = np.round(np.sum(prob),6)\n",
    "    assert prob_sum == 1, f'sum of probability{prob_sum}'\n",
    "    print(f'expected value {E(X): .4}')\n",
    "    print(f'variance {(V(X)):.4}')\n",
    "    \n",
    "def plot_prob(X): # 확률분포를 인수로 가지며 그 확률변수의 확률함수와 기댓값을 그리기 위한 함수\n",
    "    x_set, f = X\n",
    "    prob = np.array([f(x_k) for x_k in x_set])\n",
    "    fig = plt.figure(figsize=(6,4))\n",
    "    ax = fig.add_subplot(111)\n",
    "    ax.bar(x_set, prob, label ='prob', color='lightsteelblue')\n",
    "    ax.vlines(E(X), 0, 1, label='mean', color='slateblue')\n",
    "    ax.set_xticks(np.append(x_set, E(X)))\n",
    "    ax.set_ylim(0,prob.max()*1.2)\n",
    "    ax.legend()"
   ]
  },
  {
   "cell_type": "markdown",
   "id": "3c3438cb",
   "metadata": {},
   "source": [
    "### 베르누이 분포\n",
    "- 가장 기본적인 이산형 확률분포로 확률변수가 취할 수 있는 값이 0과 1밖에 없는 분포이다.\n",
    "- 베르누이 분포를 따르는 확률변수의 시행을 베르누이 시행이라 하며 1이 나오면 성공, 0이 나오면 실패\n",
    "- 동전을 던져 앞면이 나올 확률, 주사위를 한번 굴려 6이 나오지 않을 확률"
   ]
  },
  {
   "cell_type": "code",
   "execution_count": null,
   "id": "cc6dac78",
   "metadata": {},
   "outputs": [],
   "source": [
    "# 파라미터를 정하면 확률분포가 확정되므로 파라미터 p를 인수로 취하고 x_set와 f를 반환하는 함수로 구현\n",
    "def Bern(p):\n",
    "    x_set = np.array([0,1]) # 확률변수가 취할 수 있는 값이 0과 1\n",
    "    def f(x):\n",
    "        if x in x_set:\n",
    "            return p ** x * (1-p) ** (1-x) # 수식\n",
    "        else:\n",
    "            return 0\n",
    "    return x_set, f"
   ]
  },
  {
   "cell_type": "code",
   "execution_count": null,
   "id": "05d63a52",
   "metadata": {},
   "outputs": [],
   "source": [
    "# Bern(0.3)을 따르는 확률변수 x를 작성\n",
    "p = 0.3 # 성공할 확률이 0.3\n",
    "X = Bern(p)\n",
    "X"
   ]
  },
  {
   "cell_type": "code",
   "execution_count": null,
   "id": "53dc0600",
   "metadata": {},
   "outputs": [],
   "source": [
    "# 기댓값과 분산 계산 \n",
    "# 기댓값 0.3\n",
    "# 분산 0.3 * 0.7 = 0.21 \n",
    "check_prob(X)"
   ]
  },
  {
   "cell_type": "code",
   "execution_count": null,
   "id": "fbff6a2a",
   "metadata": {},
   "outputs": [],
   "source": [
    "# 확률변수 x를 그리면 중앙의 세로선이 확률변수 x의 기댓값을 나타내고 있음\n",
    "plot_prob(X)"
   ]
  },
  {
   "cell_type": "code",
   "execution_count": null,
   "id": "ee60c1c0",
   "metadata": {},
   "outputs": [],
   "source": [
    "# scipy stats를 사용하여 구현\n",
    "# scipy.stats에는 베르누이 분포를 따르는 확률변수를 생성할 수 있는 bernoulli 함수가 존재\n",
    "# bernoulli 함수는 인수로 파라미터 p를 취하고 Bern(p)를  따르는 fv_frozen object를 반환\n",
    "rv = stats.bernoulli(p)"
   ]
  },
  {
   "cell_type": "code",
   "execution_count": null,
   "id": "3b62c602",
   "metadata": {},
   "outputs": [],
   "source": [
    "# 확률질량함수(probability mass function)\n",
    "rv.pmf(0) , rv.pmf(1) # 0과 1을 각각 넘겨주면 그 값을 취하는 확률이 반환"
   ]
  },
  {
   "cell_type": "code",
   "execution_count": null,
   "id": "6b8c0ee7",
   "metadata": {},
   "outputs": [],
   "source": [
    "rv.pmf([0,1]) # 인수로 리스트를 넘길 수 있음 -> 리스트의 각 요소에 대한 확률이 저장된 Numpy의 array가 반환"
   ]
  },
  {
   "cell_type": "code",
   "execution_count": null,
   "id": "34f56756",
   "metadata": {},
   "outputs": [],
   "source": [
    "# 누적밀도함수(cumulative distribution function)\n",
    "rv.cdf([0,1]) # 인수로 리스트를 넘겨 줄 수 있음"
   ]
  },
  {
   "cell_type": "code",
   "execution_count": null,
   "id": "8d2de35f",
   "metadata": {},
   "outputs": [],
   "source": [
    "# 기댓값, 분산\n",
    "rv.mean(), rv.var() "
   ]
  },
  {
   "cell_type": "markdown",
   "id": "d559836f",
   "metadata": {},
   "source": [
    "# 이항분포\n",
    "- 성공확률이 p인 베르누이 시행을 n번 했을 때의 성공 횟수가 따르는 분포\n",
    "- 성공하는 횟수는 0부터 n번까지이므로, 확률변수가 취할 수 있는 값은 {0,1,..n}\n",
    "- 성공확률 p는 0 <= p <= 1 시행횟수 n은 1이상인 정수여야 함\n",
    "f(x) = $_{n}\\mathrm{C}_{x}p^x(1-p)^{n-x}$ $(x \\in \\{0,1,..,n\\}$)0                (otherwise)\n"
   ]
  },
  {
   "cell_type": "code",
   "execution_count": null,
   "id": "8cef6c29",
   "metadata": {},
   "outputs": [],
   "source": [
    "# 조합을 계산할 때는 scipy.special에 있는 comb함수 \n",
    "from scipy.special import comb\n",
    "\n",
    "def Bin(n,p):\n",
    "    x_set = np.arange(n+1)\n",
    "    def f(x):\n",
    "        if x in x_set:\n",
    "            \n",
    "            return comb(n,x) * p **x * (1-p)**(n-x)\n",
    "        else:\n",
    "            return 0\n",
    "    return x_set, f"
   ]
  },
  {
   "cell_type": "code",
   "execution_count": null,
   "id": "6eecf9a3",
   "metadata": {},
   "outputs": [],
   "source": [
    "# Bin(10,0.3)을 따르는 확률변수 X\n",
    "n = 10 # 전체 시행 횟수\n",
    "p = 0.3 # 성공확률\n",
    "X = Bin(n,p)\n",
    "X"
   ]
  },
  {
   "cell_type": "code",
   "execution_count": null,
   "id": "5682edfe",
   "metadata": {},
   "outputs": [],
   "source": [
    "check_prob(X)\n",
    "# 기댓값은 전체 시행 횟수(10) * 성공확률(0.3) = 기댓값(3)\n",
    "# 분산은 전체 시앻 횟수 (10) * 성공확률(0.3) * 실패확률(0.7) = 분산(2.1) "
   ]
  },
  {
   "cell_type": "code",
   "execution_count": null,
   "id": "3958a9fa",
   "metadata": {},
   "outputs": [],
   "source": [
    "# 이항분포는 기댓값이 정상이 되는 산 모양의 분포를 이룬다\n",
    "plot_prob(X)"
   ]
  },
  {
   "cell_type": "code",
   "execution_count": null,
   "id": "1c6d5ed1",
   "metadata": {},
   "outputs": [],
   "source": [
    "# scipy.stats에서 이항분포의 확률변수는 binom함수로 생성할 수 있다\n",
    "# n을 10으로 고정하고 p를 0.3, 0.5, 0.7로 변화시켜 이항분포가 어떠한 형태가 되는지 관찰\n",
    "# n 인수는 전체 시행 횟수 p는 베르누이 확률분포의 기댓값\n",
    "fig = plt.figure(figsize=(10,6))\n",
    "ax = fig.add_subplot(111)\n",
    "\n",
    "x_set = np.arange(n+1)\n",
    "for p ,ls in zip([0.3 ,0.5, 0.7], linestyles):\n",
    "    rv = stats.binom(n,p)\n",
    "    ax.plot(x_set, rv.pmf(x_set), label=f'p:{p}', ls=ls, color='k')\n",
    "    \n",
    "ax.set_xticks(x_set)\n",
    "ax.legend()\n",
    "plt.show()\n",
    "# p=0.5일 때 좌우대칭 형태로 분포하고 -> (정규분포)\n",
    "# p = 0.3과 p = 0.7 대칭 관계에 있다는 것을 확인\n",
    "# p = 0.5일 때는 좌우 대칭으로 중앙에서 높은 확률을 갖게 되며, \n",
    "# p=0.3인 경우에는 작은 값 쪽에 확률이 치우쳐 있는 것을 볼 수 있다. \n",
    "# 반대로 p=0.9인 경우에는 큰 값에 확률이 치우쳐 있는데, p=0.3보다 더욱 끝 쪽으로 치우쳐 있는 것을 볼 수 있다."
   ]
  },
  {
   "cell_type": "markdown",
   "id": "d08c27ac",
   "metadata": {},
   "source": [
    "# 기하분포\n",
    "- 베르누이 시행에서 처음 성공할때까지 시행 횟수가 따르는 분포\n",
    "- 기하분포의 파라미터는 베르누이 시행의 성공 확률 파라미터 p가 되며 파라미터 p의 기하분포를 Ge(p)로 표기\n",
    "\n",
    "f(x) = $(1-p)^{x-1}p$ $(x \\in \\{1,2,3,/,,,\\})$\n",
    "         0                  otherwise\n",
    "    \n",
    "- 기하분포의 기댓값과 분산 : E(x) = 1/p , V(x) = (1-p)/p^2"
   ]
  },
  {
   "cell_type": "markdown",
   "id": "13a0d74c",
   "metadata": {},
   "source": [
    "#### 위키\n",
    "- 베르누이 시행에서 처음 성공까지 시도한 횟수 X의 분포. 지지집합은 {1, 2, 3...}이다.\n",
    "- 베르누이 시행에서 처음 성공할 때까지 실패한 횟수 Y=X-1의 분포. 지지집합은 {0, 1, 2, ...}이다.\n",
    "- 성공확률 p인 베르누이 시행에 대해, n번 시행시 첫 번째 성공을 얻을 확률\n",
    "\n",
    "    * 예시) 어떤 사람이 운전시험에 합격할 확률을 0.5라할 때 적어도 3번안에 시험에서 합격할 확률은?\n",
    "        * (1-0.5)^(3-1) * 0.5  = 0.125 "
   ]
  },
  {
   "cell_type": "code",
   "execution_count": null,
   "id": "66cf6f6d",
   "metadata": {},
   "outputs": [],
   "source": [
    "# [과제] 사용자 함수를 구하세요.(단, 확를변수를 1 이상 29 이하인 정수으로 설정)\n",
    "def Ge(p):\n",
    "    x_set=np.arange(1,30)\n",
    "    def f(x):\n",
    "        if x in x_set:\n",
    "            return (1-p)**(x-1) * p\n",
    "        else:\n",
    "            return 0\n",
    "    return x_set, f"
   ]
  },
  {
   "cell_type": "code",
   "execution_count": null,
   "id": "77b8a10b",
   "metadata": {},
   "outputs": [],
   "source": [
    "# [과제] 성공확률이 0.5일때 기하분포의 기댓값과 분산을 구하세요.\n",
    "p = 0.5      # p는 베르누이시행의 성공확률파라미터\n",
    "X = Ge(p)\n",
    "print(\"기하분포의 기댓값: \", 1/0.5)    #기하분포의 기댓값은 1/p\n",
    "print(\"기하분포의 분산: \", (1-0.5)/0.5**2)   #분산은 (1-p)/p^2"
   ]
  },
  {
   "cell_type": "code",
   "execution_count": null,
   "id": "ef95726a",
   "metadata": {},
   "outputs": [],
   "source": [
    "check_prob(X)\n",
    "# 기댓값 2\n",
    "# 분산 2"
   ]
  },
  {
   "cell_type": "code",
   "execution_count": null,
   "id": "247c819d",
   "metadata": {},
   "outputs": [],
   "source": [
    "# 상기 기하분포의 확률함수와 기댓값을 시각화 하세요.\n",
    "# check_prob(X)\n",
    "plot_prob(X)       # 확률변수값이 커질수록 확률은 지수적으로 감소\n",
    "# 11 이상인 값을 취하는 확률은 거의 0이 되므로 그래프에서 확인이 어렵다"
   ]
  },
  {
   "cell_type": "code",
   "execution_count": null,
   "id": "e51c8656",
   "metadata": {},
   "outputs": [],
   "source": [
    "# scipy.stats에서 기하분포는 geom 함수로 생성할 수 있음\n",
    "# 파라미터 p가 0.2 0.5 0.8일때의 기하분포 -> 성공확률이 0.2, 0.5, 0.8로 변할 때 확률함수가 변화는 모습을 시각화 \n",
    "fig = plt.figure(figsize=(10,6))\n",
    "ax = fig.add_subplot(111)\n",
    "\n",
    "x_set = np.arange(1,15)\n",
    "for p ,ls in zip([0.2 ,0.5, 0.8], linestyles):\n",
    "    rv = stats.geom(p)\n",
    "    ax.plot(x_set, rv.pmf(x_set), label=f'p:{p}', ls=ls, color='k')\n",
    "    \n",
    "ax.set_xticks(x_set)\n",
    "ax.legend()\n",
    "plt.show() \n",
    "# 성공확률이 클수록 초반에 '성공'할 확률이 높고, 성공확률이 작을 수록 초반에 '성공' 확률이 낮다\n",
    "# 파라미터 p가 무엇이든지 간에, 값이 커질수록 확률이 지수적으로 감소하는 분포가 되는 것을 확인"
   ]
  },
  {
   "cell_type": "code",
   "execution_count": null,
   "id": "f7f133e5",
   "metadata": {},
   "outputs": [],
   "source": [
    "# 어떤 사람이 운전시험에 합격할 확률을 0.5라할 때 기댓값, 분산, 기하분포 그래프\n",
    "def Ge_1(p): # 사용자함수 기하분포\n",
    "    x_set = np.arange(1,31)\n",
    "    def f(x):\n",
    "        if x in x_set:\n",
    "            return p*((1-p)**(x-1)) # 수식\n",
    "        else:\n",
    "            return 0\n",
    "    return x_set, f\n",
    "\n",
    "p = 0.5 # 합격할 확률\n",
    "X = Ge_1(p)\n",
    "\n",
    "plot_prob(X) \n",
    "check_prob(X)"
   ]
  },
  {
   "cell_type": "code",
   "execution_count": null,
   "id": "bc2d84eb",
   "metadata": {},
   "outputs": [],
   "source": [
    "# 빨간공7개 검정공3개가 주머니에 있을때 검정이면 성공 빨강이면 실패\n",
    "# 이때 1번만에 성공할 확률\n",
    "0.3*(1-0.3)**(1-1)"
   ]
  },
  {
   "cell_type": "code",
   "execution_count": null,
   "id": "0838c087",
   "metadata": {},
   "outputs": [],
   "source": [
    "def Ge_1(p):\n",
    "    x_set= [10]\n",
    "    def f(x):\n",
    "        if x in x_set:\n",
    "            return p*(1-p)**(x-1)\n",
    "        else:\n",
    "            return 0\n",
    "    return x_set, f\n",
    "p=0.25\n",
    "X=Ge_1(p)\n",
    "plot_prob(X)  "
   ]
  },
  {
   "cell_type": "markdown",
   "id": "76331af8",
   "metadata": {},
   "source": [
    "#### 포아송 분포\n",
    "- 임의의 사건이 단위 시간당 발생하는 건수가 따르는 확률분포이며 포아송 분포의 파라미터는 $\\lambda$로 나타낸다.\n",
    "- 하루에 평균 2건의 교통사고가 발생하는 지역에서 하루 교통사고 발생건수는 Poi(2)를 따른다.\n",
    "- 하루에 한번도 교통사고가 발생하지 않은 확률:  \n",
    "P(X=0) = 2!/0! * $e^{-2}$ = 0.135\n",
    "- 포아송 분포의 기댓값과 분산은 모두 $\\lambda$가 된다.\n",
    "\n",
    "f(x) = $\\lambda^x/x!*e^{-\\lambda}$ $(x \\in \\{0,1,2,...\\})$"
   ]
  },
  {
   "cell_type": "code",
   "execution_count": null,
   "id": "360d9f51",
   "metadata": {},
   "outputs": [],
   "source": [
    "# [과제] 사용자 함수를 구하세요.(단, 확를변수를 1 이상 19 이하인 정수으로 설정)\n",
    "import math\n",
    "\n",
    "def Poi(lam):\n",
    "    x_set=np.arange(20)\n",
    "    def f(x):\n",
    "        if x in x_set:\n",
    "            return (lam**x) / (math.factorial(x)) * 1/(2.71828182846)**(lam)\n",
    "        else:\n",
    "            return 0\n",
    "    return x_set , f"
   ]
  },
  {
   "cell_type": "code",
   "execution_count": null,
   "id": "f3248d93",
   "metadata": {},
   "outputs": [],
   "source": [
    "# 팩토리얼 x!은 scipy.special의 factorial을 사용 \n",
    "# 취할 수 있는 값은 0 이상인 정수 전부지만 구현의 편의상 19 이하인 정수로 설정\n",
    "from scipy.special import factorial\n",
    "\n",
    "def Poi(lam):\n",
    "    x_set=np.arange(20)\n",
    "    def f(x):\n",
    "        if x in x_set:\n",
    "            return np.power(lam,x) / factorial(x) *np.exp(-lam)\n",
    "        else:\n",
    "            return 0\n",
    "    return x_set , f"
   ]
  },
  {
   "cell_type": "code",
   "execution_count": null,
   "id": "5c88cfd1",
   "metadata": {},
   "outputs": [],
   "source": [
    "lam = 3\n",
    "X = Poi(lam)"
   ]
  },
  {
   "cell_type": "code",
   "execution_count": null,
   "id": "0a533f8a",
   "metadata": {},
   "outputs": [],
   "source": [
    "# [과제] 𝜆 가 0.3일때 포아송분포의 기댓값과 분산을 구하세요.\n",
    "X= Poi(3)\n",
    "# Poi_E = np.sum(x_i * f(x_i) for x_i in x_set)\n",
    "# print(\"포아송 분포의 기댓값: \",Poi_E)\n",
    "# print(\"포아송 분포의 분산: \",np.sum((x_i - Poi_E)**2 * f(x_i) for x_i in x_set))\n",
    "check_prob(X)\n",
    "# 기댓값 분산 모두 3"
   ]
  },
  {
   "cell_type": "code",
   "execution_count": null,
   "id": "6ca48ac9",
   "metadata": {},
   "outputs": [],
   "source": [
    "# [과제] 상기 포아송분포의 확률함수와 기댓값을 시각화 하세요.\n",
    "plot_prob(X)\n",
    "# 포아송 분포도 이항분포와 마찬가지로 기댓값이 정상이 되는 산의 형태"
   ]
  },
  {
   "cell_type": "code",
   "execution_count": null,
   "id": "3eb3da8e",
   "metadata": {},
   "outputs": [],
   "source": [
    "# scipy.stats에서 포아송 분포는 poisson 함수로 생성 가능\n",
    "# 파라미터 lambda를 3, 5, 8로 변화시킬 때 포아송 분포의 형태를 그림으로\n",
    "fig = plt.figure(figsize=(10,6))\n",
    "ax = fig.add_subplot(111)\n",
    "\n",
    "x_set = np.arange(20)\n",
    "for lam, ls in zip([3,5,8], linestyles):\n",
    "    rv = stats.poisson(lam)\n",
    "    ax.plot(x_set, rv.pmf(x_set), label=f'lam:{lam}', ls=ls,color='gray')\n",
    "    \n",
    "ax.set_xticks(x_set)\n",
    "ax.legend()\n",
    "\n",
    "plt.show()\n",
    "# 어떠한 파라미터라도 분포의 정상에는 람다가 있고 람다가 커질수록 경사면이 더욱 완만해지는 것을 확인"
   ]
  },
  {
   "cell_type": "code",
   "execution_count": null,
   "id": "21ce0609",
   "metadata": {},
   "outputs": [],
   "source": [
    "# [과제] 베르누이, 이항, 기하, 포아송분포의 사례를 각각 2개씩 제시 및 설명 하세요\n",
    "# 베르누이\n",
    "# 빨간공 7개 검정공 3개가 주머니에 있을때 빨강이면 성공 검정이면 실패\n",
    "# 게임에서 강화성공이 뜰 확률 10% 아닐확률 90%\n",
    "\n",
    "# 이항분포\n",
    "# 4지선다형 문제 5개에서 임의로 답을 선택할때 정답을 선택한 문제수\n",
    "# 게임에서 강화성공이 뜰 확률 10% 아닐확률 90% 에서 10번돌렸을때 성공할 횟수\n",
    "\n",
    "# 기하분포\n",
    "# 어느 야구선수가 홈런 칠 확률은 0.05라고 한다. 이 야구선수가 6타석만에 홈런칠 확률은?\n",
    "# 어떤 사람이 운전시험에 합격할 확률을 0.25라할 때 적어도 3번안에 시험에서 합격할 확률은?\n",
    "\n",
    "# 포아송 분포\n",
    "# 고객상담 부서의 1시간 평균 상담건수는 240건일때 1분동안 상담요청 건수가 2건 들어올 경우\n",
    "# 일일 평균매출이 100만 일때 1시간당 매출이 30일 확률"
   ]
  },
  {
   "cell_type": "markdown",
   "id": "5da8f2c8",
   "metadata": {},
   "source": [
    "### 연속형 확률변수\n",
    "- 이산형 확률변수와 연속형 확률변수의 주된 차이는 확률변수가 취할 수 있는 값이 이산적인가 연속적인가이다.<br><br>\n",
    "- 확률변수의 경우 계산 과정에 적분이 포함된다. 적분은 SciPy의 integral모듈을 사용하여 구현한다.<br><br>\n",
    "- 이산형은 값이 딱 떨어지는 것, 연속형은 딱 떨어지지 않음 범위에 대한 면적을 구하는 것"
   ]
  },
  {
   "cell_type": "markdown",
   "id": "71dabd64",
   "metadata": {},
   "source": [
    "### 연속형 확률분포와 확률밀도함수\n",
    "- 특정값이 될 확률은 0이란것은 값이 딱 끊어지지 않기 때문이다.<br><br>\n",
    "- 특정 값이 범위에 들어갈 확률은 확률밀도함수를 적분하여 계산(적분은 곡선 아래 면적의 크기)<br><br>\n",
    "- x의 변화가 무한소 0으로 가기 때문에 면적은 높이와 같다.<br><br>\n",
    "- 정규분포는 연속확률분포로 가장 자주 쓰이는 확률분포, 모양은 평균을 중심으로 하나의 봉우리 형태를 띄며 한 집단의 많은 사람들의 키, 몸무게, 시험성적 등의 데이터에 잘 나타나는 분포-> 평균이 가장 정점\n",
    "    - 표준 정규분포, t분포가 정규분포에 속함\n",
    "    - 모집단의 분산을 모르는 경우 t분포, 샘플이 자유도로 표현할 수 있는데 수가 30개 미만이면 t분포  그 이상은 표준정규분포 씀 -> 이 분류는 절대적 기준이 아닌 통계적 가이드임<br><br>\n",
    "- 누적분포함수(cumulative density function) \n",
    "    * 연속형 확률분포에 대한 확률 밀도함수를 누적으로 표현한 것\n",
    "    * 확률분포에서 얻은 확률변수(퍼센트포인트)x가  3일때 누적확률분포가 어떻게 되는지\n",
    "    * stats.norm.cdf(loc=4,scale=0.8,x=3)<br><br>\n",
    "- 정규분포의 확률밀도(Probability density function) \n",
    "    * 확률변수 3일 때의 확률밀도 N(3|4, 0.8**2) \n",
    "    * stats.norm.pdf(loc=4,scale=0.8,x=3)<br><br>\n",
    "- 하측확률 : '확률변수 x가 N보다 낮을 확률은 M퍼센트이다'에서 N을 고정하고 M을 구하는 경우\n",
    "    * 이 때의 M이 하측확률이며 M(확률)을 고정하고 N(변수)을 구하는 경우\n",
    "    * 이때의 N이 퍼센트포인트 하측확률이 2.5%가 되는 퍼센트 포인트<br><br>\n",
    "    \n",
    "- 확률밀도함수(probability density function)\n",
    "    * stats.norm.pdf(x=x)로 하여 loc와 scale을 지정하지 않을 경우 표준정규분포가 됨.<br><br>\n",
    "- 정규확률분포로 부터 난수 생성\n",
    "    * stats.norm.rvs(size = 4, random_state = 50) -> 정규확률분포를 따르는 4개 난수생성, random_stata 인자로 초기값 고정\n",
    "    * 평균 loc 0, 표준편차 scale 1 -> 정규확률 샘플 구하는것"
   ]
  },
  {
   "cell_type": "markdown",
   "id": "a0d5848a",
   "metadata": {},
   "source": [
    "# 요약\n",
    "- Python에서 scipy.stats 패키지를 이용해 정규확률분포에 대한 함수를 사용할 수 있음.\n",
    "\n",
    "- 정규확률분포는 norm.함수명을 사용.\n",
    "\n",
    "- 정규확률밀도함수는 norm.pdf()함수를사용함.\n",
    "\n",
    "- 정규누적확률밀도함수는 norm.cdf()함수를 사용함.\n",
    "\n",
    "- 정규확률분포의 분위수는 norm.ppf()함수를 사용함.\n",
    "\n",
    "- 정규확률분포의 랜덤난수생성은 norm.rvs()함수를 사용함.\n",
    "\n",
    "- 랜덤난수를 생성할 때, norm.rvs() 함수의 random_state 인자로 초기값을 고정할 수 있음."
   ]
  },
  {
   "cell_type": "code",
   "execution_count": 1,
   "id": "5d1ae9c8",
   "metadata": {},
   "outputs": [],
   "source": [
    "import numpy as np\n",
    "import matplotlib.pyplot as plt\n",
    "from scipy import integrate\n",
    "from scipy import stats\n",
    "import scipy as sp\n",
    "import seaborn as sns\n",
    "import warnings\n",
    "warnings.filterwarnings('ignore')"
   ]
  },
  {
   "cell_type": "markdown",
   "id": "4aba9cdc",
   "metadata": {},
   "source": [
    "### linspace( ) 함수는 파이썬의 numpy 모듈에 포함된 함수로서 1차원의 배열 만들기, 그래프 그리기에서 수평축의 간격 만들기 등에 매우 편리하게 사용할 수 있는 함수\n",
    "-  x=np.linspace(start, stop, num) \n",
    "     * start는 배열의 시작값, stop은 배열의 끝값, num은 start와 stop 사이를 몇 개의 일정한 간격으로 요소를 만들 것인지를나타냄"
   ]
  },
  {
   "cell_type": "code",
   "execution_count": 60,
   "id": "702400d2",
   "metadata": {},
   "outputs": [
    {
     "data": {
      "text/plain": [
       "Text(0.5, 1.0, '확률밀도함수')"
      ]
     },
     "execution_count": 60,
     "metadata": {},
     "output_type": "execute_result"
    },
    {
     "data": {
      "image/png": "[encoded data removed]",
      "text/plain": [
       "<Figure size 576x432 with 1 Axes>"
      ]
     },
     "metadata": {
      "needs_background": "light"
     },
     "output_type": "display_data"
    }
   ],
   "source": [
    "from matplotlib import rc\n",
    "rc('font',family='Malgun Gothic')\n",
    "plt.rcParams['axes.unicode_minus'] = False\n",
    "\n",
    "# 평균 0이고 표준편차 1인 정규분포 객체 만들기\n",
    "rv = stats.norm(loc = 0, scale = 1) \n",
    "xx = np.linspace(-3, 3, 100) # -3에서 3까지 100개 요소 만들기\n",
    "\n",
    "# 정규확률 밀도함수\n",
    "pdf = rv.pdf(xx)\n",
    "\n",
    "plt.figure(figsize=(8,6))\n",
    "plt.plot(xx,pdf)\n",
    "plt.title('확률밀도함수')\n",
    "# 평균 0.4를 정점으로해서 좌우대칭인 종모양 형태"
   ]
  },
  {
   "cell_type": "code",
   "execution_count": 61,
   "id": "dfdb101e",
   "metadata": {},
   "outputs": [
    {
     "data": {
      "text/plain": [
       "Text(0.5, 1.0, '누적분포함수')"
      ]
     },
     "execution_count": 61,
     "metadata": {},
     "output_type": "execute_result"
    },
    {
     "data": {
      "image/png": "[encoded data removed]",
      "text/plain": [
       "<Figure size 576x432 with 1 Axes>"
      ]
     },
     "metadata": {
      "needs_background": "light"
     },
     "output_type": "display_data"
    }
   ],
   "source": [
    "xx = np.linspace(-4,4,100)\n",
    "\n",
    "# 정규누적확률 밀도함수\n",
    "cdf = rv.cdf(xx)\n",
    "\n",
    "plt.figure(figsize=(8,6))\n",
    "plt.plot(xx,cdf)\n",
    "plt.title('누적분포함수')\n",
    "# 그것을 누적으로 만든 누적분포함수 -> 끝 값은 1에 근접"
   ]
  },
  {
   "cell_type": "code",
   "execution_count": 62,
   "id": "dfe045df",
   "metadata": {},
   "outputs": [],
   "source": [
    "# 불공정한 룰렛을 예로 들어 구현\n",
    "x_range = np.array([0,1]) # 취할 수 있는 값의 구간에 대해 하한과 상한을 x_range로 정의\n",
    "\n",
    "def f(x): # x_range를 정의역으로 하는 밀도함수를 구현\n",
    "    if x_range[0] <= x <=x_range[1]:\n",
    "        return 2 * x # 2를 곱하는 것은 확률의 성질을 만족하기 위한 것\n",
    "    else:\n",
    "        return 0\n",
    "    \n",
    "# x_range와 f의 세트가 확률분포 -> 이 확률분포에 의해 확률변수 X의 움직임이 결정됨    \n",
    "X = [x_range, f] # 따라서 X는 x_range와 f를 요소로 하는 리스트로 구현"
   ]
  },
  {
   "cell_type": "code",
   "execution_count": 65,
   "id": "fe318502",
   "metadata": {},
   "outputs": [
    {
     "data": {
      "text/plain": [
       "<matplotlib.legend.Legend at 0x237ea81e970>"
      ]
     },
     "execution_count": 65,
     "metadata": {},
     "output_type": "execute_result"
    },
    {
     "data": {
      "image/png": "[encoded data removed]",
      "text/plain": [
       "<Figure size 720x432 with 1 Axes>"
      ]
     },
     "metadata": {
      "needs_background": "light"
     },
     "output_type": "display_data"
    }
   ],
   "source": [
    "# y = 2x라는 함수식을 그려서 0.4에서 0.6사이의 면적을 구함\n",
    "# 정의된 확률변수 X가 정의됨 -> 이것으로 밀도함수 f(x)를 그림\n",
    "xs = np.linspace(x_range[0], x_range[1], 100) # 0.0부터 1.0까지 동일하게 100개 나누기\n",
    "fig = plt.figure(figsize=(10,6))\n",
    "ax = fig.add_subplot(111)\n",
    "\n",
    "ax.plot(xs, [f(x) for x in xs], label=\"f(x)\", color=\"springgreen\") # x, y, 범례, 색상지정\n",
    "ax.hlines(0, -0.2, 1.2 ,alpha = 0.3) # 수평선 지정 -> y, xmin, xmax, 음영도\n",
    "ax.vlines(0, -0.2, 1.2, alpha = 1) # 수직선 지정 -> x, ymin, ymax, 음영도\n",
    "ax.vlines(xs.max(), 0, 2.2, linestyles=\":\", color=\"b\") # 수직선 지정 -> x, ymin, ymax, 선 스타일, 색상지정\n",
    "\n",
    "# 0.4부터 0.6까지의 x좌표를 준비\n",
    "xs = np.linspace(0.4, 0.6, 100)\n",
    "\n",
    "# xs의 범위로 f(x)와 x축으로 둘러싸인 영역에 색을 적용\n",
    "# fill_between  차트의 내부를 채우거나 두 개의 선분을 사이를 특정한 색으로 채워 강조할 수 있다.\n",
    "ax.fill_between(xs,[f(x) for x in xs], label=\"prob\", color=\"palegreen\") \n",
    "\n",
    "# set_xticks : 전체 데이터 범위에 맞춰 눈금을 어디에 배치할지 지정\n",
    "ax.set_xticks(np.arange(-0.2, 1.3, 0.2))\n",
    "ax.set_xlim(-0.1, 1.1) # plt.xlim([최솟값, 최댓값])\n",
    "ax.set_ylim(-0.2, 2.1)\n",
    "ax.legend() # 둘러싸인 영역의 면적은 사다리꼴 면적 공식 사용도 가능하지만 적분으로 쉽게 구할 수 있음"
   ]
  },
  {
   "cell_type": "code",
   "execution_count": 66,
   "id": "ca2fa42c",
   "metadata": {},
   "outputs": [
    {
     "data": {
      "text/plain": [
       "(0.19999999999999996, 2.2204460492503127e-15)"
      ]
     },
     "execution_count": 66,
     "metadata": {},
     "output_type": "execute_result"
    }
   ],
   "source": [
    "# 파이썬에서 손쉽게 적분으로 면적을 구해주는것이 integrate.quad\n",
    "# 첫번째 인수는 피적분 함수와 범위 넣어주면 반한하는값, 두번째인수와 세번째 인수는 적분범위\n",
    "integrate.quad(f, 0.4, 0.6) # quad 함수는 확률과 추정오차를 반환\n",
    "# 앞에 값이 확률 추정오차"
   ]
  },
  {
   "cell_type": "markdown",
   "id": "a9f06632",
   "metadata": {},
   "source": [
    "연속형 확률변수에서는 확률의 성질이 수식을 만족해야함\n",
    "- f(x)가 항상 0이상의 값을 취함   = 확률은 음수일 수 없다\n",
    "- f(x)에 대하여 무한대 범위의 적분 결과는 1   = 확률의 합은 1\n",
    "- 누적분포함수 맨끝에는 1 \n",
    "- 확률밀도함수 안에 넓이는 1"
   ]
  },
  {
   "cell_type": "code",
   "execution_count": 69,
   "id": "e8bf5a3b",
   "metadata": {},
   "outputs": [
    {
     "data": {
      "text/plain": [
       "0"
      ]
     },
     "execution_count": 69,
     "metadata": {},
     "output_type": "execute_result"
    }
   ],
   "source": [
    "# minimize_scalar는 함수의 최솟값을 구하는 함수 -> f(x)의 최솟값이 0이상으로 나오면 f(x)가 항상 0 이상의 값을 취함\n",
    "from scipy.optimize import minimize_scalar\n",
    "\n",
    "res = minimize_scalar(f)\n",
    "res.fun # 함수의 최솟값은 fun이라는 인스턴스 변수로 구함"
   ]
  },
  {
   "cell_type": "code",
   "execution_count": 70,
   "id": "ff328c1f",
   "metadata": {},
   "outputs": [
    {
     "data": {
      "text/plain": [
       "1.0"
      ]
     },
     "execution_count": 70,
     "metadata": {},
     "output_type": "execute_result"
    }
   ],
   "source": [
    "# f(x)를 음의 무한대부터 양의 무한대까지 적분한 결과가 1이라는 것은 -> 삼각형의 면적이 1이 되는 것과 같다.\n",
    "integrate.quad(f,-np.inf,np.inf)[0] # Infinitie (무한)을 의미"
   ]
  },
  {
   "cell_type": "code",
   "execution_count": 71,
   "id": "6e7f5a46",
   "metadata": {},
   "outputs": [
    {
     "data": {
      "text/plain": [
       "0.22831135673627742"
      ]
     },
     "execution_count": 71,
     "metadata": {},
     "output_type": "execute_result"
    }
   ],
   "source": [
    "# 정규분포의 확률밀도(Probability density function) 계산 \n",
    "# 확률변수 3일때 확률밀도 N(3|4.0, 0.8**2)\n",
    "# stats.norm.pdf(loc=4,scale=0.8,x=3)\n",
    "\n",
    "x = 3 # 확률변수\n",
    "mu = 4 # 평균\n",
    "sigma = 0.8 # 표준편차\n",
    "\n",
    "1/(np.sqrt(2* np.pi * sigma **2)) * sp.exp(-((x-mu)**2) / (2 * sigma**2))  # 수식에 집어넣어서 사용"
   ]
  },
  {
   "cell_type": "code",
   "execution_count": 72,
   "id": "fa5dcbb7",
   "metadata": {},
   "outputs": [
    {
     "data": {
      "text/plain": [
       "0.2283113567362774"
      ]
     },
     "execution_count": 72,
     "metadata": {},
     "output_type": "execute_result"
    }
   ],
   "source": [
    "# 확률변수가 3일때의 퍼센트포인트 확률\n",
    "stats.norm.pdf(loc=4, scale=0.8 ,x=3)"
   ]
  },
  {
   "cell_type": "code",
   "execution_count": 73,
   "id": "eaf82319",
   "metadata": {},
   "outputs": [
    {
     "data": {
      "text/plain": [
       "0.24197072451914337"
      ]
     },
     "execution_count": 73,
     "metadata": {},
     "output_type": "execute_result"
    }
   ],
   "source": [
    "# 표준정규분포에서 확률변수가 1일때의 확률밀도(확률)\n",
    "stats.norm.pdf(loc=0,scale=1,x=1) # 표준정규분포에서 x가 1일때 값"
   ]
  },
  {
   "cell_type": "code",
   "execution_count": 74,
   "id": "67cabdb2",
   "metadata": {},
   "outputs": [
    {
     "data": {
      "text/plain": [
       "0.2283113567362774"
      ]
     },
     "execution_count": 74,
     "metadata": {},
     "output_type": "execute_result"
    }
   ],
   "source": [
    "# 정규분포 인스턴스 생성 -> 객체를 만들어서 그 객체로 이용해서 구할수 있음\n",
    "norm_dist = stats.norm(loc=4,scale=0.8)\n",
    "norm_dist.pdf(x=3)"
   ]
  },
  {
   "cell_type": "code",
   "execution_count": 76,
   "id": "9a58553f",
   "metadata": {},
   "outputs": [
    {
     "data": {
      "text/plain": [
       "array([1. , 1.1, 1.2, 1.3, 1.4, 1.5, 1.6, 1.7, 1.8, 1.9, 2. , 2.1, 2.2,\n",
       "       2.3, 2.4, 2.5, 2.6, 2.7, 2.8, 2.9, 3. , 3.1, 3.2, 3.3, 3.4, 3.5,\n",
       "       3.6, 3.7, 3.8, 3.9, 4. , 4.1, 4.2, 4.3, 4.4, 4.5, 4.6, 4.7, 4.8,\n",
       "       4.9, 5. , 5.1, 5.2, 5.3, 5.4, 5.5, 5.6, 5.7, 5.8, 5.9, 6. , 6.1,\n",
       "       6.2, 6.3, 6.4, 6.5, 6.6, 6.7, 6.8, 6.9, 7. ])"
      ]
     },
     "execution_count": 76,
     "metadata": {},
     "output_type": "execute_result"
    }
   ],
   "source": [
    "x_plot = np.arange(1, 7.1, 0.1)\n",
    "x_plot"
   ]
  },
  {
   "cell_type": "code",
   "execution_count": 77,
   "id": "2bafdb87",
   "metadata": {},
   "outputs": [
    {
     "data": {
      "text/plain": [
       "[<matplotlib.lines.Line2D at 0x237ea7839d0>]"
      ]
     },
     "execution_count": 77,
     "metadata": {},
     "output_type": "execute_result"
    },
    {
     "data": {
      "image/png": "[encoded data removed]",
      "text/plain": [
       "<Figure size 576x432 with 1 Axes>"
      ]
     },
     "metadata": {
      "needs_background": "light"
     },
     "output_type": "display_data"
    }
   ],
   "source": [
    "mu = np.mean(x_plot)\n",
    "std = np.std(x_plot)\n",
    "rv = stats.norm(loc = mu, scale = std) # loc는 평균, scale은 표준편차\n",
    "\n",
    "xx = np.linspace(0, 8, 70)    # 0부터 8까지 동일하게 70개로 구분 \n",
    "pdf = rv.pdf(xx) # 정규분포의 확률밀도\n",
    "\n",
    "plt.figure(figsize=(8, 6))\n",
    "plt.plot(xx,pdf)"
   ]
  },
  {
   "cell_type": "code",
   "execution_count": 78,
   "id": "66e95341",
   "metadata": {},
   "outputs": [
    {
     "name": "stdout",
     "output_type": "stream",
     "text": [
      "Wall time: 4 ms\n"
     ]
    },
    {
     "data": {
      "text/plain": [
       "array([5.29947629, 3.51059487, 3.5774626 , 3.1416251 , 4.6923261 ,\n",
       "       2.15876904, 5.39584941, 3.39103448, 4.25523128, 3.8005037 ])"
      ]
     },
     "execution_count": 78,
     "metadata": {},
     "output_type": "execute_result"
    }
   ],
   "source": [
    "%%time\n",
    "# 표본이 어떤값 이하가 되는 비율\n",
    "np.random.seed(1)\n",
    "simulated_sample = stats.norm.rvs(loc = 4, scale=0.8 ,size=100000) # 기댓값 4 표준편차 0.8인 랜덤난수 100000개 생성\n",
    "simulated_sample[:10]"
   ]
  },
  {
   "cell_type": "code",
   "execution_count": 79,
   "id": "a50888f8",
   "metadata": {},
   "outputs": [
    {
     "data": {
      "text/html": [
       "<div>\n",
       "<style scoped>\n",
       "    .dataframe tbody tr th:only-of-type {\n",
       "        vertical-align: middle;\n",
       "    }\n",
       "\n",
       "    .dataframe tbody tr th {\n",
       "        vertical-align: top;\n",
       "    }\n",
       "\n",
       "    .dataframe thead th {\n",
       "        text-align: right;\n",
       "    }\n",
       "</style>\n",
       "<table border=\"1\" class=\"dataframe\">\n",
       "  <thead>\n",
       "    <tr style=\"text-align: right;\">\n",
       "      <th></th>\n",
       "      <th>0</th>\n",
       "    </tr>\n",
       "  </thead>\n",
       "  <tbody>\n",
       "    <tr>\n",
       "      <th>count</th>\n",
       "      <td>100000.000</td>\n",
       "    </tr>\n",
       "    <tr>\n",
       "      <th>mean</th>\n",
       "      <td>4.004</td>\n",
       "    </tr>\n",
       "    <tr>\n",
       "      <th>std</th>\n",
       "      <td>0.799</td>\n",
       "    </tr>\n",
       "    <tr>\n",
       "      <th>min</th>\n",
       "      <td>0.538</td>\n",
       "    </tr>\n",
       "    <tr>\n",
       "      <th>25%</th>\n",
       "      <td>3.466</td>\n",
       "    </tr>\n",
       "    <tr>\n",
       "      <th>50%</th>\n",
       "      <td>4.005</td>\n",
       "    </tr>\n",
       "    <tr>\n",
       "      <th>75%</th>\n",
       "      <td>4.540</td>\n",
       "    </tr>\n",
       "    <tr>\n",
       "      <th>max</th>\n",
       "      <td>7.334</td>\n",
       "    </tr>\n",
       "  </tbody>\n",
       "</table>\n",
       "</div>"
      ],
      "text/plain": [
       "                0\n",
       "count  100000.000\n",
       "mean        4.004\n",
       "std         0.799\n",
       "min         0.538\n",
       "25%         3.466\n",
       "50%         4.005\n",
       "75%         4.540\n",
       "max         7.334"
      ]
     },
     "execution_count": 79,
     "metadata": {},
     "output_type": "execute_result"
    }
   ],
   "source": [
    "import pandas as pd\n",
    "df = pd.DataFrame(simulated_sample)\n",
    "# df.head()\n",
    "df.describe().round(3)"
   ]
  },
  {
   "cell_type": "code",
   "execution_count": 80,
   "id": "ab2492e5",
   "metadata": {},
   "outputs": [
    {
     "data": {
      "text/plain": [
       "27151.549504137874"
      ]
     },
     "execution_count": 80,
     "metadata": {},
     "output_type": "execute_result"
    }
   ],
   "source": [
    "# Q. 3보다 작은 샘플의 합계와 3이하가 되는 확률\n",
    "a = pd.Series(simulated_sample)\n",
    "# a\n",
    "a[a<=3].sum() # 3보다 작은 샘플의 합계\n",
    "\n",
    "# print(df.loc[df[0]<=3].sum())\n",
    "# print(len(df.loc[df[0]<=3])/len(simulated_sample))"
   ]
  },
  {
   "cell_type": "code",
   "execution_count": 81,
   "id": "935e610c",
   "metadata": {},
   "outputs": [
    {
     "data": {
      "text/plain": [
       "100000"
      ]
     },
     "execution_count": 81,
     "metadata": {},
     "output_type": "execute_result"
    }
   ],
   "source": [
    "len(simulated_sample)"
   ]
  },
  {
   "cell_type": "code",
   "execution_count": 82,
   "id": "b3e0913e",
   "metadata": {},
   "outputs": [
    {
     "data": {
      "text/plain": [
       "0.10371"
      ]
     },
     "execution_count": 82,
     "metadata": {},
     "output_type": "execute_result"
    }
   ],
   "source": [
    "# 3보다 작은 샘플의 확률 -> 전체 샘플개수에서 3보다 작은 샘플의 개수 나누기\n",
    "len(a[a<=3])/len(simulated_sample)"
   ]
  },
  {
   "cell_type": "code",
   "execution_count": 83,
   "id": "caf22930",
   "metadata": {},
   "outputs": [
    {
     "data": {
      "text/plain": [
       "0.10564977366685535"
      ]
     },
     "execution_count": 83,
     "metadata": {},
     "output_type": "execute_result"
    }
   ],
   "source": [
    "# 누적분포함수: 확률분포에서 얻은 확률변수 3이하가 되는 확률(loc=4,scale=0.8)\n",
    "rv = stats.norm(loc=4, scale=0.8)\n",
    "# rv=stats.norm.cdf(loc=4,scale=0.8, x=3) 평균 4 표준편차 0.8 일때 3이하가 될 확률\n",
    "rv.cdf(3)"
   ]
  },
  {
   "cell_type": "code",
   "execution_count": 3,
   "id": "0c5ebdd9",
   "metadata": {},
   "outputs": [
    {
     "data": {
      "text/plain": [
       "0.5"
      ]
     },
     "execution_count": 3,
     "metadata": {},
     "output_type": "execute_result"
    }
   ],
   "source": [
    "# 정규분포는 평균에 대해 좌우대칭 \n",
    "# 데이터가 평균값 이하가 될 확률은? 50%\n",
    "rv = stats.norm.cdf(loc=4, scale=1 ,x=4)\n",
    "rv"
   ]
  },
  {
   "cell_type": "code",
   "execution_count": 4,
   "id": "1102c4ec",
   "metadata": {},
   "outputs": [
    {
     "data": {
      "text/plain": [
       "2.4320288123679563"
      ]
     },
     "execution_count": 4,
     "metadata": {},
     "output_type": "execute_result"
    }
   ],
   "source": [
    "# 하측확률 : '확률변수 X가 N보다 작을 확률은 M퍼센트이다' 에서 M을 고정하고 N을 구하는 경우\n",
    "# 하측확률 -> 퍼센트포인트\n",
    "# 용어를 달리함 -> 하측확률 = 확률밀도 = 확률\n",
    "# 퍼센트 포인트 = 확률변수\n",
    "stats.norm.ppf(loc=4, scale=0.8, q=0.025) # 확률밀도함수(probability density function)"
   ]
  },
  {
   "cell_type": "code",
   "execution_count": 5,
   "id": "6af3444d",
   "metadata": {},
   "outputs": [
    {
     "data": {
      "text/plain": [
       "0.024999999999999977"
      ]
     },
     "execution_count": 5,
     "metadata": {},
     "output_type": "execute_result"
    }
   ],
   "source": [
    "# 퍼센트포인트(확률변수) -> 하측확률\n",
    "# 확률밀도함수의 누적밀도를 구하는 함수인 scipy 패키지의 norm.cdf() 함수\n",
    "stats.norm.cdf(loc = 4, scale = 0.8, x=2.4320288123679563)"
   ]
  },
  {
   "cell_type": "code",
   "execution_count": 6,
   "id": "77266f2c",
   "metadata": {},
   "outputs": [
    {
     "data": {
      "text/plain": [
       "4.0"
      ]
     },
     "execution_count": 6,
     "metadata": {},
     "output_type": "execute_result"
    }
   ],
   "source": [
    "# 하측확률이 50%가 되는 퍼센트포인트는 평균과 일치\n",
    "# 누적분포함수의 역함수(inverse cumulative distribution function)\n",
    "stats.norm.ppf(loc=4, scale=0.8, q=0.5)"
   ]
  },
  {
   "cell_type": "code",
   "execution_count": 7,
   "id": "e6e63388",
   "metadata": {},
   "outputs": [
    {
     "name": "stdout",
     "output_type": "stream",
     "text": [
      "94.75599487291959\n",
      "0.2999999999999998\n"
     ]
    }
   ],
   "source": [
    "#[과제] 평균이 100, 표준편차 10인 정규분포에서 하측확률이 0.3일 경우의 퍼센트포인트를 구하고 그 ppf를 적용하여 하측확률을 구하세요\n",
    "a = stats.norm.ppf(loc=100,scale=10,q=0.3)\n",
    "print(a) # 하측확률이 0.3일 경우의 퍼센트포인트 구하기\n",
    "b = stats.norm.cdf(loc=100,scale=10,x=a) \n",
    "print(b) # 하측확률 구하기"
   ]
  },
  {
   "cell_type": "code",
   "execution_count": 14,
   "id": "29652a13",
   "metadata": {},
   "outputs": [
    {
     "data": {
      "image/png": "[encoded data removed]",
      "text/plain": [
       "<Figure size 720x432 with 2 Axes>"
      ]
     },
     "metadata": {
      "needs_background": "light"
     },
     "output_type": "display_data"
    }
   ],
   "source": [
    "#[과제]상기 정규분포의 확률밀도함수와 누적분포함수를 시각화하여 하측확률과 pp간의 관계를 구하시오\n",
    "fig = plt.figure(figsize=(10,6))\n",
    "ax1 = fig.add_subplot(111)\n",
    "ax2 = ax1.twinx()\n",
    "\n",
    "rv = stats.norm(loc=100, scale=10)\n",
    "xx = np.linspace(60,140,100)\n",
    "\n",
    "pdf = rv.pdf(xx)\n",
    "cdf = rv.cdf(xx)\n",
    "\n",
    "line_pdf = ax1.plot(xx, pdf, color='red',label='PDF')\n",
    "ax1.set_xlabel('num',fontsize=15)\n",
    "ax1.set_ylabel('pdf',rotation=0,fontsize=15,labelpad=20)\n",
    "\n",
    "line_cdf = ax2.plot(xx,cdf,color='blue',label='CDF')\n",
    "ax2.set_ylabel('cdf',rotation=0,fontsize=15,labelpad=20)\n",
    "\n",
    "ax1.legend(loc='center left') # 범례 추가\n",
    "ax2.legend(loc='center right')\n",
    "plt.show()"
   ]
  },
  {
   "cell_type": "code",
   "execution_count": 17,
   "id": "a850e3d5",
   "metadata": {},
   "outputs": [],
   "source": [
    "rv = stats.norm(0,1) "
   ]
  },
  {
   "cell_type": "code",
   "execution_count": 25,
   "id": "d0cf403c",
   "metadata": {},
   "outputs": [
    {
     "name": "stdout",
     "output_type": "stream",
     "text": [
      "누적 확률이 직선을 그려드리겠습니다. M을 입력하세요.(0~1사이)0.5\n"
     ]
    },
    {
     "data": {
      "image/png": "[encoded data removed]",
      "text/plain": [
       "<Figure size 1440x432 with 2 Axes>"
      ]
     },
     "metadata": {
      "needs_background": "light"
     },
     "output_type": "display_data"
    }
   ],
   "source": [
    "from matplotlib import rc\n",
    "rc('font', family='Malgun Gothic') # 한글 인코딩\n",
    "plt.rcParams['axes.unicode_minus'] = False # 음수 부분\n",
    "\n",
    "a = float(input('누적 확률이 직선을 그려드리겠습니다. M을 입력하세요.(0~1사이)'))\n",
    "rv = stats.norm(0,1)\n",
    "xx = np.linspace(-3,3)\n",
    "pdf = rv.pdf(xx)\n",
    "cdf = rv.cdf(xx)\n",
    "\n",
    "fig = plt.figure(figsize=(20,6))\n",
    "ax1 = fig.add_subplot(121)\n",
    "ax1.set_ylabel('확률밀도함수', rotation=80, fontsize=12, loc='top')\n",
    "ax1.set_xlabel('확률변수 값', fontsize=15)\n",
    "ax1.vlines(rv.ppf(a), 0, 0.42, colors='gray', ls=':') # ls -> linestyle\n",
    "# 스타일 기타 옵션들 -> markersize -> ms\n",
    "\n",
    "lns1 = ax1.plot(xx, pdf, label='pdf', color='cornflowerblue')\n",
    "\n",
    "ax2 = plt.twinx(ax1)\n",
    "lns2 = ax2.set_ylabel('누적분포함수', rotation=30, fontsize=12,loc='bottom')\n",
    "lns2 = ax2.plot(xx, cdf, label='cdf', color='crimson')\n",
    "lns = lns1 + lns2\n",
    "lab = [i.get_label() for i in lns]\n",
    "ax1.legend(lns, lab, loc='upper left', fontsize=15)\n",
    "\n",
    "plt.title('확률밀도함수와 누적분포함수', fontsize=30)\n",
    "plt.show()"
   ]
  },
  {
   "cell_type": "code",
   "execution_count": 28,
   "id": "964d01c6",
   "metadata": {},
   "outputs": [
    {
     "data": {
      "text/plain": [
       "0.5"
      ]
     },
     "execution_count": 28,
     "metadata": {},
     "output_type": "execute_result"
    }
   ],
   "source": [
    "# Q. 0까지 누적분포\n",
    "rv.cdf(0) # 누적분포함수(cumulative distribution function)"
   ]
  },
  {
   "cell_type": "code",
   "execution_count": 29,
   "id": "86d5dc90",
   "metadata": {},
   "outputs": [
    {
     "data": {
      "text/plain": [
       "0.0"
      ]
     },
     "execution_count": 29,
     "metadata": {},
     "output_type": "execute_result"
    }
   ],
   "source": [
    "# Q. 누적분포가 0.5인 x값 \n",
    "rv.ppf(0.5) # 누적분포함수의 역함수(inverse cumulative distribution function)"
   ]
  },
  {
   "cell_type": "code",
   "execution_count": 30,
   "id": "ace7b1b3",
   "metadata": {},
   "outputs": [
    {
     "data": {
      "text/plain": [
       "0.3413447460685429"
      ]
     },
     "execution_count": 30,
     "metadata": {},
     "output_type": "execute_result"
    }
   ],
   "source": [
    "# Q. 0 ~ 1까지의 누적확률분포\n",
    "rv.cdf(1) - rv.cdf(0)"
   ]
  },
  {
   "cell_type": "code",
   "execution_count": 31,
   "id": "ccfbf046",
   "metadata": {},
   "outputs": [
    {
     "data": {
      "text/plain": [
       "0.9544997361036416"
      ]
     },
     "execution_count": 31,
     "metadata": {},
     "output_type": "execute_result"
    }
   ],
   "source": [
    "#  Q. (-2 < x <2) 확률\n",
    "rv.cdf(2) - rv.cdf(-2)"
   ]
  },
  {
   "cell_type": "code",
   "execution_count": 32,
   "id": "3a299931",
   "metadata": {},
   "outputs": [
    {
     "data": {
      "text/plain": [
       "1.6448536269514729"
      ]
     },
     "execution_count": 32,
     "metadata": {},
     "output_type": "execute_result"
    }
   ],
   "source": [
    "# Q. 상위 5% 확률의 퍼센트 포인트\n",
    "rv.isf(0.05) # 생존함수의 역함수(inverse survival function) , sf 생존함수(survival function) = 1 - 누적분포함수"
   ]
  },
  {
   "cell_type": "code",
   "execution_count": 33,
   "id": "e62617b5",
   "metadata": {},
   "outputs": [
    {
     "data": {
      "text/plain": [
       "1.6448536269514722"
      ]
     },
     "execution_count": 33,
     "metadata": {},
     "output_type": "execute_result"
    }
   ],
   "source": [
    "rv.ppf(0.95)"
   ]
  },
  {
   "cell_type": "code",
   "execution_count": 34,
   "id": "4a9505b0",
   "metadata": {},
   "outputs": [
    {
     "data": {
      "text/plain": [
       "-1.6448536269514729"
      ]
     },
     "execution_count": 34,
     "metadata": {},
     "output_type": "execute_result"
    }
   ],
   "source": [
    "# Q. 하위 5% 확률의 퍼센트 포인트\n",
    "rv.isf(0.95)\n",
    "rv.ppf(0.05)"
   ]
  },
  {
   "cell_type": "code",
   "execution_count": 35,
   "id": "ace9570c",
   "metadata": {},
   "outputs": [
    {
     "data": {
      "text/plain": [
       "(-1.6448536269514729, 1.6448536269514722)"
      ]
     },
     "execution_count": 35,
     "metadata": {},
     "output_type": "execute_result"
    }
   ],
   "source": [
    "# Q. 하위 5%, 상위 5%의 퍼센트 포인트\n",
    "rv.interval(0.9)"
   ]
  },
  {
   "cell_type": "markdown",
   "id": "2123bd9d",
   "metadata": {},
   "source": [
    "Q. 어느 고등학교 3학년 학생들의 수학 성적은 평균이 70점이고 분산이 64점인 정규분포를 따른다고 한다. 그럼 점수가80점 이상이고 90점 이하일 확률을 구하세요."
   ]
  },
  {
   "cell_type": "code",
   "execution_count": 36,
   "id": "c88725cb",
   "metadata": {},
   "outputs": [
    {
     "data": {
      "text/plain": [
       "0.09944010834107919"
      ]
     },
     "execution_count": 36,
     "metadata": {},
     "output_type": "execute_result"
    }
   ],
   "source": [
    "std = np.sqrt(64) # 분산이 64이므로 분산에 루트씌우면 표준편차\n",
    "rv = stats.norm(70,std) # 평균이 70, 표준편차가 8\n",
    "rv.cdf(90) - rv.cdf(80) # 누적분포함수(cumulative distribution function)"
   ]
  },
  {
   "cell_type": "markdown",
   "id": "5e796840",
   "metadata": {},
   "source": [
    "대표적인 연속형 확률분포"
   ]
  },
  {
   "cell_type": "code",
   "execution_count": 75,
   "id": "41f5a1f0",
   "metadata": {},
   "outputs": [],
   "source": [
    "import matplotlib.pyplot as plt\n",
    "from scipy import stats, integrate\n",
    "from scipy.optimize import minimize_scalar\n",
    "# from scipy\n",
    "\n",
    "linestyles=['-','--',':']\n",
    "\n",
    "def E(X, g=lambda x:x):\n",
    "    x_range , f =X\n",
    "    def integrand(x):\n",
    "        return g(x) * f(x)\n",
    "    return integrate.quad(integrand, -np.inf,np.inf)[0]\n",
    "\n",
    "def V(X, g=lambda x:x):\n",
    "    x_ragne, f =X\n",
    "    mean = E(X,g)\n",
    "    def integrand(x):\n",
    "        return (g(x) - mean) **2 *f(x)\n",
    "    return integrate.quad(integrand, -np.inf , np.inf)[0]\n",
    "\n",
    "def check_prob(X):\n",
    "    x_range , f =X\n",
    "    f_min = minimize_scalar(f).fun\n",
    "    assert f_min >= 0 , 'density function is minus value'\n",
    "    prob_sum = np.round(integrate.quad(f,-np.inf, np.inf)[0],6)\n",
    "    assert prob_sum ==1 , f'sum of probability is {prob_sum}'\n",
    "    print(f'expected value {E(X):.3f}')\n",
    "    print(f'variance {V(X): .3f}')\n",
    "    \n",
    "def plot_prob(X,x_min,x_max):\n",
    "    x_range, f =X\n",
    "    def F(x):\n",
    "        return integrate.quad(f,-np.inf,x)[0]\n",
    "    xs = np.linspace(x_min,x_max,100)\n",
    "    fig = plt.figure(figsize=(10,6))\n",
    "    ax = fig.add_subplot(111)\n",
    "    ax.plot(xs,[f(x) for x in xs], label='f(x)', color='rebeccapurple')\n",
    "    ax.plot(xs, [F(x) for x in xs], label='F(x)', ls='--',color='purple')\n",
    "    ax.legend()"
   ]
  },
  {
   "cell_type": "markdown",
   "id": "6554aa3c",
   "metadata": {},
   "source": [
    "### 정규분포\n",
    "- 통계분석에서 자주 사용되는 중요한 확률분포로 자연계에서 일어나는 수많은 현상을 표현. 가우스분포라고도 부름\n",
    "- 정규분포가 취할 수 있는 값은 실수 전체로 파라미터는 평균과 분산 두가지이다."
   ]
  },
  {
   "cell_type": "code",
   "execution_count": 78,
   "id": "99ae8fc7",
   "metadata": {},
   "outputs": [],
   "source": [
    "# 일반적으로 정규분포를 정의 할때 파라미터에 평균과 분산\n",
    "# 여기서는 평균과 표준편차를 넣어줌\n",
    "def N(mu, sigma):\n",
    "    x_range = [-np.inf, np.inf]\n",
    "    def f(x): # 정규분포 구하는식\n",
    "        return  1/ (np.sqrt(2* np.pi*sigma**2)) *  np.exp((-(x-mu)**2) / (2*sigma**2))\n",
    "                                                          \n",
    "    return x_range,f"
   ]
  },
  {
   "cell_type": "code",
   "execution_count": 79,
   "id": "f80087b1",
   "metadata": {},
   "outputs": [
    {
     "name": "stdout",
     "output_type": "stream",
     "text": [
      "expected value 2.000\n",
      "variance  0.250\n"
     ]
    }
   ],
   "source": [
    "import numpy as np\n",
    "mu, sigma = 2, 0.5 # 평균이 2고 표준편차가 0.5 일때\n",
    "X = N(mu,sigma)\n",
    "check_prob(X)  # 표준편차가 0.5이므로  0.5의 자승은 -> 분산 0.25"
   ]
  },
  {
   "cell_type": "code",
   "execution_count": 81,
   "id": "3ba8a016",
   "metadata": {},
   "outputs": [
    {
     "data": {
      "image/png": "[encoded data removed]",
      "text/plain": [
       "<Figure size 720x432 with 1 Axes>"
      ]
     },
     "metadata": {
      "needs_background": "light"
     },
     "output_type": "display_data"
    }
   ],
   "source": [
    "plot_prob(X,0,4)"
   ]
  },
  {
   "cell_type": "code",
   "execution_count": 82,
   "id": "5bc2eaa0",
   "metadata": {},
   "outputs": [],
   "source": [
    "rv = stats.norm(2, 0.5) # 평균과 표준편차 "
   ]
  },
  {
   "cell_type": "code",
   "execution_count": 83,
   "id": "4ee73df5",
   "metadata": {},
   "outputs": [
    {
     "data": {
      "text/plain": [
       "(2.0, 0.25)"
      ]
     },
     "execution_count": 83,
     "metadata": {},
     "output_type": "execute_result"
    }
   ],
   "source": [
    "# 기댓값과 분산\n",
    "rv.mean(), rv.var() # 분산은 표준편차의 제곱"
   ]
  },
  {
   "cell_type": "code",
   "execution_count": 59,
   "id": "e4c41bec",
   "metadata": {},
   "outputs": [
    {
     "data": {
      "text/plain": [
       "0.7978845608028654"
      ]
     },
     "execution_count": 59,
     "metadata": {},
     "output_type": "execute_result"
    }
   ],
   "source": [
    "# 밀도함수\n",
    "rv.pdf(2)"
   ]
  },
  {
   "cell_type": "code",
   "execution_count": 60,
   "id": "27c1dbc0",
   "metadata": {},
   "outputs": [
    {
     "data": {
      "text/plain": [
       "0.27425311775007355"
      ]
     },
     "execution_count": 60,
     "metadata": {},
     "output_type": "execute_result"
    }
   ],
   "source": [
    "# 분포함수 : 확률변수 x가 입력값보다 작은값이 되는 확률P\n",
    "rv.cdf(1.7)"
   ]
  },
  {
   "cell_type": "code",
   "execution_count": 61,
   "id": "7f5526ad",
   "metadata": {},
   "outputs": [
    {
     "data": {
      "text/plain": [
       "2.2622002563540207"
      ]
     },
     "execution_count": 61,
     "metadata": {},
     "output_type": "execute_result"
    }
   ],
   "source": [
    "# isf메서드 : 상위 100α%점  -> 상위 100α% 점이란 P(X >= x) = α를 만족하는 x이다\n",
    "# 퍼센트포인트 확률 구하는것 연습\n",
    "rv.isf(0.3)   #상위 30%"
   ]
  },
  {
   "cell_type": "code",
   "execution_count": 62,
   "id": "bb46e61d",
   "metadata": {},
   "outputs": [
    {
     "data": {
      "text/plain": [
       "(1.1775731865242636, 2.822426813475736)"
      ]
     },
     "execution_count": 62,
     "metadata": {},
     "output_type": "execute_result"
    }
   ],
   "source": [
    "# 90% 구간을 구하세요\n",
    "rv.interval(0.9)"
   ]
  },
  {
   "cell_type": "code",
   "execution_count": 63,
   "id": "3fb83387",
   "metadata": {},
   "outputs": [
    {
     "data": {
      "text/plain": [
       "(1.1775731865242638, 2.8224268134757367)"
      ]
     },
     "execution_count": 63,
     "metadata": {},
     "output_type": "execute_result"
    }
   ],
   "source": [
    "# 또는  하위 5% , 상위 5%\n",
    "rv.isf(0.95) , rv.isf(0.05) "
   ]
  },
  {
   "cell_type": "code",
   "execution_count": 64,
   "id": "2a275e7e",
   "metadata": {},
   "outputs": [
    {
     "data": {
      "text/plain": [
       "0.5"
      ]
     },
     "execution_count": 64,
     "metadata": {},
     "output_type": "execute_result"
    }
   ],
   "source": [
    "# pp가 2일때 하측확률\n",
    "rv.cdf(x=2) "
   ]
  },
  {
   "cell_type": "code",
   "execution_count": null,
   "id": "6ec3afef",
   "metadata": {},
   "outputs": [],
   "source": [
    "# [과제] N(mean, sigma**2) 파라미터를 각각 (0,1), (0,4), (1,1)로 변경할 때의 정규분포를 비교할 수 있도록 시각화 하세"
   ]
  },
  {
   "cell_type": "code",
   "execution_count": 101,
   "id": "26bc4be1",
   "metadata": {},
   "outputs": [
    {
     "data": {
      "image/png": "[encoded data removed]",
      "text/plain": [
       "<Figure size 720x432 with 1 Axes>"
      ]
     },
     "metadata": {
      "needs_background": "light"
     },
     "output_type": "display_data"
    }
   ],
   "source": [
    "# 정규분포의 파라미터는 평균과 분산  (0,1), (0,4), (1,1)로 변경할 때의 정규분포 형태 확인\n",
    "fig = plt.figure(figsize = (10,6))\n",
    "ax = fig.add_subplot(111)\n",
    "\n",
    "xs = np.linspace(-5,5,100)\n",
    "params = [(0,1),(0,2),(1,1)]\n",
    "linestyles=['-','--',':']\n",
    "                                     \n",
    "for param, ls , color in zip(params,linestyles,colors):\n",
    "    mu, sigma = param\n",
    "    rv = stats.norm(mu,sigma)\n",
    "    plt.plot(xs,rv.pdf(xs), label = f'N({mu},{sigma**2})',ls=ls,color=color)\n",
    "    \n",
    "plt.legend()\n",
    "plt.show()\n",
    "# 0 .1 은 표준 정규분포 형태 \n",
    "# 표준편차가 커짐에 따라 분포가 넓어짐 -> 평균은 똑같지만 그래프 높이가 낮아짐\n",
    "# 평균이 변화화면 분포 전체가 평행 이동하는것을 확인할 수 있다."
   ]
  },
  {
   "cell_type": "markdown",
   "id": "9c5fe2e4",
   "metadata": {},
   "source": [
    "#### 지수분포\n",
    "- 어떤 사건이 발생하는 간격이 따르는 분포이며 확률변수가 취할 수 있는 값은 0이상의 실수\n",
    "- 지수분포의 파라미터는 $\\lambda$로 양의 실수이며 EX($\\lambda$)로 표기한다.\n",
    "-  EX($\\lambda$)는 단위시간당 평균 $\\lambda$번 발생하는 사건의 발생 간격에 따르는 확률분포이다."
   ]
  },
  {
   "cell_type": "code",
   "execution_count": 102,
   "id": "f42dad17",
   "metadata": {},
   "outputs": [],
   "source": [
    "def Ex(lam):\n",
    "    x_range = [0,np.inf]\n",
    "    def f(x):\n",
    "        if x >=0:\n",
    "            return lam * np.exp(-lam * x)\n",
    "        else:\n",
    "            return 0\n",
    "    return x_range, f"
   ]
  },
  {
   "cell_type": "code",
   "execution_count": 103,
   "id": "09168e47",
   "metadata": {},
   "outputs": [
    {
     "name": "stdout",
     "output_type": "stream",
     "text": [
      "expected value 0.333\n",
      "variance  0.111\n"
     ]
    }
   ],
   "source": [
    "# Ex(3)을 따르는 확률변수 X를 작성\n",
    "lam = 3\n",
    "X = Ex(lam)\n",
    "check_prob(X)"
   ]
  },
  {
   "cell_type": "code",
   "execution_count": 104,
   "id": "375b6d4e",
   "metadata": {},
   "outputs": [
    {
     "data": {
      "image/png": "[encoded data removed]",
      "text/plain": [
       "<Figure size 720x432 with 1 Axes>"
      ]
     },
     "metadata": {
      "needs_background": "light"
     },
     "output_type": "display_data"
    }
   ],
   "source": [
    "plot_prob(X, 0, 2)\n",
    "# 특징 급격하게 감소하다가 서서히 감소함"
   ]
  },
  {
   "cell_type": "code",
   "execution_count": 105,
   "id": "a3474e73",
   "metadata": {},
   "outputs": [
    {
     "data": {
      "image/png": "[encoded data removed]",
      "text/plain": [
       "<Figure size 936x576 with 1 Axes>"
      ]
     },
     "metadata": {
      "needs_background": "light"
     },
     "output_type": "display_data"
    }
   ],
   "source": [
    "x = np.linspace(0, 10, 1000)\n",
    "\n",
    "fig = plt.figure(figsize = (13, 8))\n",
    "ax = fig.add_subplot(111)\n",
    "\n",
    "for i in range(1, 4):\n",
    "    lam = i * np.exp(-i * x)\n",
    "    ax.plot(x, lam)\n",
    "    ax.legend(['$\\lambda$ : 1', '$\\lambda$ : 2', '$\\lambda$ : 3'], fontsize = 20)\n",
    "    # 람다가 늘어남에 따라  급격하게 감소"
   ]
  },
  {
   "cell_type": "code",
   "execution_count": 106,
   "id": "425dace9",
   "metadata": {},
   "outputs": [
    {
     "data": {
      "image/png": "[encoded data removed]",
      "text/plain": [
       "<Figure size 720x432 with 1 Axes>"
      ]
     },
     "metadata": {
      "needs_background": "light"
     },
     "output_type": "display_data"
    }
   ],
   "source": [
    "linestyles = ['-','--',':']\n",
    "fig = plt.figure(figsize=(10,6))\n",
    "ax = fig.add_subplot(111)\n",
    "\n",
    "xs = np.linspace(0,3,100)\n",
    "for lam,ls in zip([1,2,3], linestyles):\n",
    "    rv = stats.expon(scale =1/lam)\n",
    "    ax.plot(xs, rv.pdf(xs), label=f'lambda:{lam}' , ls=ls, color=\"salmon\")\n",
    "ax.legend()\n",
    "plt.show()\n",
    "# 발생하는 사건의 횟수가 늘어날수록 급격하게 감소됨"
   ]
  },
  {
   "cell_type": "markdown",
   "id": "635fd6f9",
   "metadata": {},
   "source": [
    "#### 카이제곱분포 -> 표준정규분포를 가지고 사용\n",
    "- n개의 표준정규분포가 서로 독립이여야함\n",
    "- 카이제곱분포는 -> 각각의 정규분포를 자승한것을 모두 더하면 카이제곱분포\n",
    "- $Z_1, Z_2, ... Z_n$이 서로 독립이고 N(0,1)을 따르고 있을 때 그 제곱합의 확률분포을 자유도가 n인 카이제곱분포라고 한다.\n",
    "- 카이제곱분포는 분산의 구간 추정이나 독립성 검정에서 사용되는 확률분포이다.-> 독립적으로 만들었으므로\n",
    "- 좌우비대칭으로 왼쪽으로 치우치고 오른쪽으로 넓어진다.\n",
    "- 자유도가 커지면 좌우대칭에 가까워진다.\n",
    "- 자유도의 값 가까이에 분포의 정점이 있다."
   ]
  },
  {
   "cell_type": "code",
   "execution_count": 108,
   "id": "1d4bc295",
   "metadata": {},
   "outputs": [],
   "source": [
    "# 표본크기 10으로 백만번 무작위 추출하여 카이제곱분포를 따르는 표본 데이터 만들기\n",
    "n = 10\n",
    "rv = stats.norm()\n",
    "sample_size = int(1e6) # 표준정규분포에서 표본 크기 100만으로 무작위 추출\n",
    "z_sample = rv.rvs((n,sample_size))\n",
    "z_sample.shape\n",
    "chi2_sample = np.sum(z_sample**2, axis=0) # axis=0에서 총합을 구하고, 표준정규분포의 제곱합 표본 데이터를 구함"
   ]
  },
  {
   "cell_type": "code",
   "execution_count": 109,
   "id": "c063013a",
   "metadata": {},
   "outputs": [
    {
     "data": {
      "text/plain": [
       "Text(0.5, 1.0, '히스토그램 vs 확률밀도함수')"
      ]
     },
     "execution_count": 109,
     "metadata": {},
     "output_type": "execute_result"
    },
    {
     "data": {
      "image/png": "[encoded data removed]",
      "text/plain": [
       "<Figure size 720x432 with 1 Axes>"
      ]
     },
     "metadata": {
      "needs_background": "light"
     },
     "output_type": "display_data"
    }
   ],
   "source": [
    "# 표본 데이터의 히스토그램과 밀도함수를 시각화\n",
    "# 히스토그램과 밀도함수가 정확하게 일치한다\n",
    "plt.figure(figsize=(10,6))\n",
    "rv_true = stats.chi2(n)\n",
    "xs = np.linspace(0,30,100)\n",
    "plt.hist(chi2_sample, bins=100, density=True, alpha=0.5, label='chi2_sample')\n",
    "plt.plot(xs, rv_true.pdf(xs), label=f'chi2({n})', color='gray')\n",
    "plt.xlim(0,30)\n",
    "plt.legend()\n",
    "plt.title('히스토그램 vs 확률밀도함수',fontsize = 25)\n",
    "# 형태는 좌우 비대칭 오른쪽으로 완만함\n",
    "# 자유도가 커지면 -> 정규분포에 가까워짐\n",
    "# 자유도가 10인데 정점이 그 주위에 있음"
   ]
  },
  {
   "cell_type": "code",
   "execution_count": 113,
   "id": "fcc78795",
   "metadata": {},
   "outputs": [
    {
     "data": {
      "text/plain": [
       "<matplotlib.legend.Legend at 0x165f564bee0>"
      ]
     },
     "execution_count": 113,
     "metadata": {},
     "output_type": "execute_result"
    },
    {
     "data": {
      "image/png": "[encoded data removed]",
      "text/plain": [
       "<Figure size 720x432 with 1 Axes>"
      ]
     },
     "metadata": {
      "needs_background": "light"
     },
     "output_type": "display_data"
    }
   ],
   "source": [
    "# 자유도 변화에 따른 카이제곱분포 : 자유도를 3, 5, 10으로 변화\n",
    "# n이 커짐에 따라 정규분포에 가까워짐\n",
    "plt.figure(figsize=(10,6))\n",
    "xs = np.linspace(0,60,500)\n",
    "\n",
    "for n, ls in zip([3,5,30], linestyles):\n",
    "    rv = stats.chi2(n)\n",
    "    plt.plot(xs,rv.pdf(xs),\n",
    "            label=f'chi2({n})', ls=ls, color='gray')\n",
    "plt.legend() "
   ]
  },
  {
   "cell_type": "code",
   "execution_count": 112,
   "id": "1e81c2e0",
   "metadata": {},
   "outputs": [
    {
     "data": {
      "text/plain": [
       "11.070497693516355"
      ]
     },
     "execution_count": 112,
     "metadata": {},
     "output_type": "execute_result"
    }
   ],
   "source": [
    "# 자유도 n = 5, 상위 5%\n",
    "rv = stats.chi2(5)\n",
    "rv.isf(0.05)"
   ]
  },
  {
   "cell_type": "markdown",
   "id": "1314acdf",
   "metadata": {},
   "source": [
    "#### t분포\n",
    "모집단의 분산을 모르는 경우가 다수일 경우 대비 \n",
    "정규분포에서 n의 자유도가 작을 경우 어떻게 할것인가\n",
    "-> 그것을 고민하다가 자유도에따라 유연적으로 대응하는 분포를 만들어준것 t분포<br><br>\n",
    "\n",
    "- 정규분포에서 모평균의 구간추정 등에 사용되는 확률분포<br><br>\n",
    "\n",
    "- 확률변수 Z, Y는 서로 독립이고 Z은 표준정규분포 N(0,1)을 Y는 자유도가 n인 카이제곱분포 $\\chi^2(n)$을 따를 때 t = ${Z}\\over{\\sqrt{{Y}\\over{n}}}$의 확률분포를 자유도가 n인 t분포라고 한다.<br><br>\n",
    "-> Z이란 표준정규분포 Y는 카이제곱분포 T통계량을 만들어줌<br><br>\n",
    "-> N에 따라서 대응이 정규분포를 만들어줌<br><br>\n",
    "-> Z을 Y로 나누는데, 자유도로 나눈 Y로 나누어줌 그랬을때 자유도가 N인 t분포<br><br>\n",
    "\n",
    "- t분포의 의미\n",
    "  * 모분산을 모르는 상황에서도 표본평균의 분포에 대하여 애기할 수 있다.  -> 해결책<br><br>\n",
    "  * t분포를 만들 때 표본에서 계산한 표준오차로 표본평균을 표준화함 -> 표본오차 사용 가능, 모집단에서 나오는 편차와 차이가 있음 -> 자유도에 따라 정해짐<br><br>\n",
    "  * 표본에서 계산한 표준오차로 표본평균을 표준화했을 경우의 결과가 t분포를 따른다는 사실을 이용하면 얻어낸 표본평균에 관한 불확실성을 짐작할 수 있다.<br><br>\n",
    "- t분포의 특성\n",
    "  * t분포는 모집단이 정규분포이더라도 분산 $\\sigma^2$이 알려져 있지 않고 표본의 수가 적은 경우에 평균 $\\mu$에 대한 신뢰구간 추정 및 가설검정에 아주 유용하게 쓰이는 분포이다.<br><br>\n",
    "  * t분포는 표준정규분포처럼 0을 중심으로 종형의 모습을 가진 대칭 분포이다.<br><br>\n",
    "  * t분포는 꼬리는 표준정규분포 보다 두껍다(fat tail)<br><br>\n",
    "  * t분포는 자유도 n에 따라 모습이 변하는데 자유도 n이 커짐에 따라 표준정규분포 N(0,1)에 수렴한다. 통상 모집단의 분산이 알려져 있지 않을 경우 표본분포를 결정할 때 표본의 크기가 30 이하이면 t분포를 그 크기가 30 이상이면 표준정규분포를 이용한다. "
   ]
  },
  {
   "cell_type": "code",
   "execution_count": 115,
   "id": "6de66fde",
   "metadata": {},
   "outputs": [],
   "source": [
    "n = 10\n",
    "rv1 = stats.norm()\n",
    "rv2 = stats.chi2(n) # 자유도가 10인 카이제곱분포 사용\n",
    "\n",
    "sample_size = int(1e6)\n",
    "z_sample = rv1.rvs(sample_size)\n",
    "chi2_sample = rv2.rvs(sample_size)\n",
    "\n",
    "t_sample = z_sample / np.sqrt(chi2_sample/n)"
   ]
  },
  {
   "cell_type": "code",
   "execution_count": 116,
   "id": "fc4ff059",
   "metadata": {},
   "outputs": [
    {
     "data": {
      "text/plain": [
       "(-5.0, 5.0)"
      ]
     },
     "execution_count": 116,
     "metadata": {},
     "output_type": "execute_result"
    },
    {
     "data": {
      "image/png": "[encoded data removed]",
      "text/plain": [
       "<Figure size 576x288 with 1 Axes>"
      ]
     },
     "metadata": {
      "needs_background": "light"
     },
     "output_type": "display_data"
    }
   ],
   "source": [
    "# Q. 표본데이터의 히스토그램과 밀도함수\n",
    "\n",
    "plt.figure(figsize = (8,4))\n",
    "\n",
    "rv = stats.t(n)\n",
    "\n",
    "xs = np.linspace(-3,30,100)\n",
    "plt.hist(t_sample,bins=100,density = True,alpha=0.5, label='t_sample')\n",
    "plt.plot(xs,rv.pdf(xs),label = f't({n})',color = 'gray')\n",
    "plt.xlim(-5,5) # 정규분포처럼 보임"
   ]
  },
  {
   "cell_type": "code",
   "execution_count": 117,
   "id": "ef32c9b7",
   "metadata": {},
   "outputs": [
    {
     "data": {
      "image/png": "[encoded data removed]",
      "text/plain": [
       "<Figure size 720x360 with 1 Axes>"
      ]
     },
     "metadata": {
      "needs_background": "light"
     },
     "output_type": "display_data"
    }
   ],
   "source": [
    "# Q. 자유도 n을 3,5,10으로 변화시킬 경우 분포 형태를 시각화하여 비교하세요.\n",
    "color = ['lightcoral','orange','cornflowerblue']\n",
    "freedom = [3,5,10]\n",
    "plt.figure(figsize=(10,5))\n",
    "xrange = np.linspace(-5,5,100)\n",
    "for i,color in zip(freedom, color):\n",
    "    plt.plot(xrange, stats.t(i).pdf(xrange), color=color,\n",
    "            label = f'n {i}')\n",
    "plt.plot(xrange,stats.norm().pdf(xrange), color='mediumpurple', label='N(0,1)')\n",
    "plt.legend()\n",
    "plt.show() # 끝에가 두꺼운형태 fat tail\n",
    "# 좌우대칭인 분포 \n",
    "# 표준정규분포보다 양쪽 끝이 두껍다\n",
    "# 자유도가 커지면 표준정규분포에 가까워진다."
   ]
  },
  {
   "cell_type": "code",
   "execution_count": 119,
   "id": "1fa31ab6",
   "metadata": {},
   "outputs": [
    {
     "name": "stdout",
     "output_type": "stream",
     "text": [
      "2.0150483726691575\n",
      "2.015048372669157\n"
     ]
    },
    {
     "data": {
      "text/plain": [
       "0.05000000004235261"
      ]
     },
     "execution_count": 119,
     "metadata": {},
     "output_type": "execute_result"
    }
   ],
   "source": [
    "# Q. 자유도가 5인 t분포의 상위 5%\n",
    "rv = stats.t(5) # 자유도 5인 t분포\n",
    "print(rv.isf(0.05)) # t분포의 상위 5\n",
    "print(rv.ppf(0.95)) # ppf로는 0.95\n",
    "1 - rv.cdf(2.015048372669157)"
   ]
  },
  {
   "cell_type": "markdown",
   "id": "cc766351",
   "metadata": {},
   "source": [
    "#### F분포 -> 서로다른 두개의 카이제곱 분포의 비를 나타냄 \n",
    "- 가설검정에서 많이씀 유의성 검정할때 f분포 \n",
    "- 확률변수 $Y_1, Y_2는 서로 독립이고 각각 Y_1$ ~ ${\\chi}^2(n_1), Y_2$ ~ ${{\\chi}^2(n_2)}$를 따를 때, F = ${Y_1/n_1}\\over{Y_2/n_2}$의 확률분포를 자유도 $n_1,n_2$인 F분포 F$(n_1,n_2)$라고 한다.\n",
    "- 좌우 비대칭으로 왼쪽으로 치우치고 오른쪽으로 넓어지는 분포이다.\n",
    "- F분포가 취할 수 있는 값은 0 이상인 실수이며 분포의 정점은 1에 가깝다."
   ]
  },
  {
   "cell_type": "code",
   "execution_count": 124,
   "id": "416e2948",
   "metadata": {},
   "outputs": [],
   "source": [
    "n1 = 5\n",
    "n2 = 10\n",
    "rv1 = stats.chi2(n1)\n",
    "rv2 = stats.chi2(n2)\n",
    "\n",
    "sample_size = int(1e6)\n",
    "sample1 = rv1.rvs(sample_size)\n",
    "sample2 = rv2.rvs(sample_size)\n",
    "\n",
    "f_sample = (sample1/n1) / (sample2/n2)"
   ]
  },
  {
   "cell_type": "code",
   "execution_count": 123,
   "id": "9298ce2a",
   "metadata": {},
   "outputs": [
    {
     "data": {
      "text/plain": [
       "Text(0.5, 1.0, 'F분포의 샘플 히스토그램 vs 확률밀도함수')"
      ]
     },
     "execution_count": 123,
     "metadata": {},
     "output_type": "execute_result"
    },
    {
     "data": {
      "image/png": "[encoded data removed]",
      "text/plain": [
       "<Figure size 720x432 with 1 Axes>"
      ]
     },
     "metadata": {
      "needs_background": "light"
     },
     "output_type": "display_data"
    }
   ],
   "source": [
    "# 표본데이터의 히스토그램과 밀도함수\n",
    "fig = plt.figure(figsize=(10,6))\n",
    "ax = fig.add_subplot(111)\n",
    "\n",
    "rv = stats.f(n1,n2)\n",
    "xs = np.linspace(0,6,200)\n",
    "\n",
    "ax.hist(f_sample,bins=100,range=(0,6), density=True, label = 'f_sample', color='lavenderblush')\n",
    "ax.plot(xs, rv.pdf(xs) ,label=f'f ({n1},{n2})', color = 'blueviolet')\n",
    "ax.legend(fontsize=13)\n",
    "ax.set_title('F분포의 샘플 히스토그램 vs 확률밀도함수',fontsize=20)\n",
    "# 오른쪽으로 완만한 형태"
   ]
  },
  {
   "cell_type": "code",
   "execution_count": 122,
   "id": "deb99635",
   "metadata": {},
   "outputs": [
    {
     "data": {
      "text/plain": [
       "<matplotlib.legend.Legend at 0x165f550f6d0>"
      ]
     },
     "execution_count": 122,
     "metadata": {},
     "output_type": "execute_result"
    },
    {
     "data": {
      "image/png": "[encoded data removed]",
      "text/plain": [
       "<Figure size 720x432 with 1 Axes>"
      ]
     },
     "metadata": {
      "needs_background": "light"
     },
     "output_type": "display_data"
    }
   ],
   "source": [
    "# n2를 10으로 고정하고 n1을 3,5,10으로 변화시킬 때 분포 형태를 시각화하여 비교하세요.\n",
    "fig = plt.figure(figsize=(10,6))\n",
    "ax = fig.add_subplot(111)\n",
    "\n",
    "xs = np.linspace(0, 6, 200)[1:]\n",
    "for n1, ls in zip([3,5,10], linestyles):\n",
    "    rv = stats.f(n1, 10)\n",
    "    ax.plot(xs, rv.pdf(xs), \n",
    "           label=f'F({n1}, 10)', ls=ls, color='gray')\n",
    "    \n",
    "ax.legend() # 한쪽 고정 , 자유도가 커질 수록 변환에 따라 오른쪽으로 이동"
   ]
  },
  {
   "cell_type": "code",
   "execution_count": 121,
   "id": "b5a83c6b",
   "metadata": {},
   "outputs": [
    {
     "data": {
      "image/png": "[encoded data removed]",
      "text/plain": [
       "<Figure size 720x432 with 1 Axes>"
      ]
     },
     "metadata": {
      "needs_background": "light"
     },
     "output_type": "display_data"
    }
   ],
   "source": [
    "# n1을 5로 고정하고 n2를 5,10,15로 변화시킬 때 분포 형태를 시각화하여 비교하세요.\n",
    "plt.figure(figsize=(10,6))\n",
    "color = ['yellowgreen','dodgerblue','deeppink']\n",
    "xs = np.linspace(0,6,200)\n",
    "for n2,ls,color in zip([5,10,15],linestyles,color):\n",
    "    rv = stats.f(5,n2)\n",
    "    plt.plot(xs,rv.pdf(xs),label=f'f (5,{n2})',ls=ls,color=color)\n",
    "plt.legend(fontsize=13)\n",
    "plt.title('n2의 변화에 따른 확률밀도함수',fontsize=20)\n",
    "plt.show()"
   ]
  }
 ],
 "metadata": {
  "kernelspec": {
   "display_name": "Python 3 (ipykernel)",
   "language": "python",
   "name": "python3"
  },
  "language_info": {
   "codemirror_mode": {
    "name": "ipython",
    "version": 3
   },
   "file_extension": ".py",
   "mimetype": "text/x-python",
   "name": "python",
   "nbconvert_exporter": "python",
   "pygments_lexer": "ipython3",
   "version": "3.8.12"
  }
 },
 "nbformat": 4,
 "nbformat_minor": 5
}
