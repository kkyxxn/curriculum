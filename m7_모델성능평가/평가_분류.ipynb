{
 "cells": [
  {
   "cell_type": "markdown",
   "id": "3e1509e4",
   "metadata": {},
   "source": [
    "#### 분류평가\n",
    "- 정확도만으로 불균형한 레이블 데이터 세트에서 평가지표로 사용하기에는 부적합\n",
    "- 정확도가 가지는 분류 평가 지표로의 한계점을 극복하기 위해 여러가지 분류 지표와 함께 적용해야 함</BR></BR>\n",
    "\n",
    "#### Confusion Matrix(혼동행렬, 오차행렬)\n",
    "- 이진분류에서 성능 지표로 잘 활용되는 오차행렬은 학습된 분류 모델이 예측을 수행하면 얼마나 혼동될 수 있는지도 함께 보여주는 지표\n",
    "- 이진 분류의 예측 오류가 얼마인지와 더불어 어떠한 유형의 예측 오류가 발생하고 있는지를 함께 보여줌</BR></BR>\n",
    "\n",
    "#### 평가 지표\n",
    "- TP, FP, FN, TN 예측클래스와 실제 클래스의 Positive 결정 값과 Negative 결정 값의 결합에 따라 결정\n",
    "- 앞문자 True/False는 예측값과 실제값이 같은가/틀린가를 의미하고 뒤 문자 N/P는 예측 결과값이 부정/긍정을 의미</BR></BR>\n",
    "- 정확도 = (TP + TN) / (TP + TN + FP + FN)</BR></BR>\n",
    "- 정밀도 = TP / (TP + FP) : 실제P / P로 맞게 예측 + 실제 N인데 P로 잘못 예측\n",
    "    - 예측 값과 실제 값이 Positive로 일치한 데이터 건수 / 예측을 Positive로 한 모든 데이터 건수\n",
    "    - 양성 예측도</BR></BR>\n",
    "- 재현율 = TP / (TP + FN) : 실제P / P로 맞게 예측 + 실제 P인데 N으로 잘못 예측\n",
    "    - 예측 값과 실제 값이 Positive로 일치한 데이터 건수 / 실제 값이 Positive인 모든 데이터 건수\n",
    "    - 민감도(Sensitivity) 또는 TPR(True Positive Rate)</BR></BR>\n",
    "\n",
    "- 재현율과 정밀도 모두 TP를 높이는 데 동일하게 초점을 맞추지만, 재현율은 FN(실제 Positive 예측 Negative)를 낮추는 데, 정밀도는 FP(실제 Negative 예측 Positive)를 낮추는 데 초점을 맞춘다.\n",
    "    - 이와 같은 특성 때문에 재현율과 정밀도는 서로 보완적인 지표로 분류의 성능을 평가하는 데 적용된다.\n",
    "    - 가장 좋은 성능 평가는 재현율과 정밀도 모두 높은 수치를 얻는 것이다.\n",
    "    - 둘 중 어느 한 평가 지표만 매우 높고, 다른 수치는 매우 낮은 결과는 바람직하지 않다.</BR></BR>\n",
    "- 재현율이 중요 지표인 경우 : 양성 데이터를 음성으로 잘못 판단하면 업무상 큰 영향이 발생하는 경우(암진단, 보험사기)\n",
    "- 정밀도가 더 중요한 지표인 사례 : 스팸 메일 여부를 판단하는 경우로 스팸 메일이 아닌데 스팸 메일로 분류해서 업무 차질 발생.\n",
    "- F1 = 2 * (정밀도 * 재현율) / (정밀도 + 재현율) : 정밀도와 재현율이 어느 한쪽으로 치우치지 않는 수치를 나타낼때 높아짐</BR></BR>\n",
    "#### 정밀도 및 재현율 활용 시 유의사항\n",
    "- 정밀도와 재현율 성능 수치는 어느 한쪽만 참조하면 극단적인 수치 조작이 가능\n",
    "- 정밀도 100%가 되는 방법 : 확실한 기준이 되는 경우만 P로 예측하고 나머지는 모두 N로 예측 TP/(TP+FP) = 1/(1+0) = 1\n",
    "- 재현율이 100%가 되는 방법 : 실제 양성 1000명중 30명 TP/(TP + FN) = 30/(30 + 0) = 1\n",
    "- 분류가 정밀도, 재현율 중 하나에 상대적인 중요도를 부여할 수 있지만 하나만 강조해서는 안됨\n",
    "- 암 예측 모델에서 재현율을 높인다고 주로 양성만 판정한다면 환자의 불만과 불평이 커지게 됨"
   ]
  },
  {
   "cell_type": "code",
   "execution_count": 8,
   "id": "85ab9f33",
   "metadata": {},
   "outputs": [],
   "source": [
    "import numpy as np\n",
    "# 사이킷런의 BaseEstimator 클래스를 활용하여, 단순히 성별에 따라 생존자를 예측하는 단순한 분류기를 생성\n",
    "# 사이킷런의 BaseEsimators를 활용하면 Customized된 Estimator를 생성할 수 있음\n",
    "from sklearn.base import BaseEstimator\n",
    "class MyDummyClassifier(BaseEstimator):\n",
    "    # fit() 아무것도 학습하지 않음\n",
    "    def fit(self, x, y = None):\n",
    "        pass\n",
    "    # predict() 메서드는 단순히 Sex 피처가 1남성이면 0(사망), 그렇지 않으면(여성) 1(생존)으로 예측\n",
    "    def predict(self, X):\n",
    "        pred = np.zeros((X.shape[0], 1))\n",
    "        for i in range(X.shape[0]):\n",
    "            if X['Sex'].iloc[i] == 1:\n",
    "                pred[i] = 0\n",
    "            else:\n",
    "                pred[i] = 1\n",
    "                \n",
    "        return pred"
   ]
  },
  {
   "cell_type": "markdown",
   "id": "fb35bbce",
   "metadata": {},
   "source": [
    "### Standardization\n",
    "- Data Standardization이란 feature를 리스케일링 하여 feature의 평균이(mean) 0 분산이(variance) 1이 되게 만들어주는 과정입니다(일석이조입니다)\n",
    "- 이러한 Standardization의 궁극적인 목표는 모든 feature들을 공통의 척도로 변경해 주는 것을 의미합니다. 즉 값의 범위의 차이를 왜곡하지 않으면서 모든 feature를 공통의 척도로 스케일을 해주는 것을 의미합니다\n",
    "- sklearn.preprocessing.StandarScaler()는 각각의 feature마다 독립적으로 값을 중앙으로 옮기고 스케일링을 해줍니다\n",
    "\n",
    "### fit_transform()\n",
    "- fit_transform()은 train dataset에서만 사용됩니다\n",
    "- 우리가 만든 모델은 train data에 있는 mean과 variance를 학습하게 됩니다\n",
    "- 이렇게 학습된 Scaler()의 parameter는 test data를 scale하는데 사용됩니다\n",
    "- 다시말해 train data로 학습된 Scaler()의 parameter를 통해 test data의 feature 값들이 스케일 되는 것입니다\n",
    "\n",
    "\n",
    "### transform()\n",
    "- train data로부터 학습된 mean값과 variance값을 test data에 적용하기 위해 transform() 메서드를 사용합니다\n",
    "\n",
    "### 왜 test data에서는 fit_transform을 사용하지 않는가?\n",
    "- 만약에 fit_transform을 test data에도 적용하게 된다면 test data로부터 새로운 mean값과 variance값을 얻게 되는 것입니다\n",
    "- 모델링을 할 때도 train data로 모델의 파라미터를 학습시키고 test data에 대해서는 train data로 학습된 모델의 성능을 측정하길 원하는 것입니다\n",
    "- 따라서 fit_transform()메서드는 학습을 위한 train data에 사용되고 test data에서는 transform()메서드만 사용해줘야 합니다. 만약 test data에 대해서도 fit_transform()메서드를 사용하게 된다면 모델은 test data에 대해서도 학습을 하게 되는 꼴이 됩니다. "
   ]
  },
  {
   "cell_type": "code",
   "execution_count": 12,
   "id": "5a34ffe1",
   "metadata": {},
   "outputs": [],
   "source": [
    "## 생성된 MyDummyClassifier를 이용해 타이타닉 생존자 예측 수행\n",
    "from sklearn.model_selection import train_test_split\n",
    "from sklearn.metrics import accuracy_score\n",
    "from sklearn.preprocessing import LabelEncoder\n",
    "\n",
    "## Null처리 함수\n",
    "def fillna(df):\n",
    "    df['Age'].fillna(df['Age'].mean(), inplace=True)\n",
    "    df['Cabin'].fillna('N', inplace=True)\n",
    "    df['Embarked'].fillna('N', inplace=True)\n",
    "    df['Fare'].fillna(0, inplace=True)\n",
    "    return df\n",
    "\n",
    "## 머신러닝에 불필요한 피처 제거\n",
    "def drop_features(df):\n",
    "    df.drop(['PassengerId', 'Name', 'Ticket'], axis=1, inplace=True)\n",
    "    return df\n",
    "\n",
    "## Label Encoding 수행\n",
    "def format_features(df):\n",
    "    df['Cabin']=df['Cabin'].str[:1]\n",
    "    features = ['Cabin','Sex', 'Embarked']\n",
    "    for feature in features:\n",
    "        le = LabelEncoder()\n",
    "        le.fit(df[feature])\n",
    "        df[feature] = le.transform(df[feature])\n",
    "    return df\n",
    "\n",
    "## 앞에서 실행한 Data Preprocessing 함수 호출\n",
    "def transform_features(df):\n",
    "    df = fillna(df)\n",
    "    df = drop_features(df)\n",
    "    df = format_features(df)\n",
    "    return df"
   ]
  },
  {
   "cell_type": "code",
   "execution_count": 9,
   "id": "3797874f",
   "metadata": {},
   "outputs": [
    {
     "name": "stdout",
     "output_type": "stream",
     "text": [
      "Dummy Classifier의 정확도는 : 0.7877\n"
     ]
    }
   ],
   "source": [
    "import pandas as pd\n",
    "import numpy as np\n",
    "from sklearn.model_selection import train_test_split\n",
    "from sklearn.metrics import accuracy_score\n",
    "\n",
    "# 원본 데이터를 재로딩, 데이터 가공, 학습 데이터/테스트 데이터 분할\n",
    "titanic_df = pd.read_csv('./dataset/train.csv')\n",
    "y_titanic_df = titanic_df['Survived']\n",
    "X_titanic_df= titanic_df.drop('Survived', axis=1)\n",
    "X_titanic_df = transform_features(X_titanic_df)\n",
    "X_train, X_test, y_train, y_test = train_test_split(X_titanic_df, y_titanic_df, test_size=0.2, random_state=0)\n",
    "\n",
    "# 위에서 생성한 Dummy Classifier를 이용해 학습/예측/평가 수행\n",
    "myclf = MyDummyClassifier()\n",
    "myclf.fit(X_train, y_train)\n",
    "\n",
    "mypredictions = myclf.predict(X_test)\n",
    "print('Dummy Classifier의 정확도는 : {0:.4f}'.format(accuracy_score(y_test, mypredictions))) "
   ]
  },
  {
   "cell_type": "markdown",
   "id": "54598642",
   "metadata": {},
   "source": [
    "### 정확도는 불균형한(imbalanced) 레이블 값 분포에서 ML 모델의 성능을 판단할 경우, 적합한 평가 지표가 아니다 \n",
    "- 정확도가 가지는 분류 평가 지표로서 이러한 한계점을 극복하기 위해 여러 가지 분류 지표와 함께 사용해야 함 (오차행렬, 정밀도, 재현률, F1스코어, ROC AUC 등)\n",
    "- 불균형한 데이터 세트에서 정확도보다 정밀도(Precision)와 재현율(Recall)이 더 선호되는 평가 지표이다.\n",
    "\n",
    "### 오차행렬 \n",
    "- TN : 예측값을 Negative(0)로 예측했고 실제 값 역시 Negative(0)\n",
    "- FP : 예측값을 Positive(1)로 예측했고 실제 값은 Negative(0)\n",
    "- FN : 예측값을 Negative(0)로 예측했고 실제 값은 Positive(1)\n",
    "- TP : 예측값을 Positive(1)로 예측했고 실제 값 역시 Positive(1)\n",
    "     - 위의 값들을 조합하여 Classifier의 성능을 측정하는 주요 지표인 정확도(Accuracy), 정밀도(Precision), 재현율(Recall) 값을 알 수 있다."
   ]
  },
  {
   "cell_type": "code",
   "execution_count": 10,
   "id": "f332effe",
   "metadata": {},
   "outputs": [],
   "source": [
    "from sklearn.metrics import accuracy_score, precision_score, recall_score, confusion_matrix\n",
    "\n",
    "def get_clf_eval(y_test, pred): # 실제값, 예측값을 인자로 받음\n",
    "    confusion = confusion_matrix(y_test,pred) # 오차행렬\n",
    "    accuracy = accuracy_score(y_test,pred) # 정확도\n",
    "    precision = precision_score(y_test,pred) # 정밀도\n",
    "    recall = recall_score(y_test,pred) # 재현율\n",
    "    print('오차 행렬')\n",
    "    print(confusion)\n",
    "    print('정확도 : {0:.4f}, 정밀도: {1:.4f}, 재현율: {2:.4f}'.format(accuracy, precision, recall))\n",
    "#     print(f'오차행렬: \\n {confusion}')\n",
    "#     print(f'정확도: {round(accuracy,4)}, 정밀도: {round(precision,4)}, 재현율: {round(recall,4)}')"
   ]
  },
  {
   "cell_type": "code",
   "execution_count": 13,
   "id": "77b20f10",
   "metadata": {},
   "outputs": [
    {
     "data": {
      "text/html": [
       "<div>\n",
       "<style scoped>\n",
       "    .dataframe tbody tr th:only-of-type {\n",
       "        vertical-align: middle;\n",
       "    }\n",
       "\n",
       "    .dataframe tbody tr th {\n",
       "        vertical-align: top;\n",
       "    }\n",
       "\n",
       "    .dataframe thead th {\n",
       "        text-align: right;\n",
       "    }\n",
       "</style>\n",
       "<table border=\"1\" class=\"dataframe\">\n",
       "  <thead>\n",
       "    <tr style=\"text-align: right;\">\n",
       "      <th></th>\n",
       "      <th>Pclass</th>\n",
       "      <th>Sex</th>\n",
       "      <th>Age</th>\n",
       "      <th>SibSp</th>\n",
       "      <th>Parch</th>\n",
       "      <th>Fare</th>\n",
       "      <th>Cabin</th>\n",
       "      <th>Embarked</th>\n",
       "    </tr>\n",
       "  </thead>\n",
       "  <tbody>\n",
       "    <tr>\n",
       "      <th>0</th>\n",
       "      <td>3</td>\n",
       "      <td>1</td>\n",
       "      <td>22.0</td>\n",
       "      <td>1</td>\n",
       "      <td>0</td>\n",
       "      <td>7.2500</td>\n",
       "      <td>7</td>\n",
       "      <td>3</td>\n",
       "    </tr>\n",
       "    <tr>\n",
       "      <th>1</th>\n",
       "      <td>1</td>\n",
       "      <td>0</td>\n",
       "      <td>38.0</td>\n",
       "      <td>1</td>\n",
       "      <td>0</td>\n",
       "      <td>71.2833</td>\n",
       "      <td>2</td>\n",
       "      <td>0</td>\n",
       "    </tr>\n",
       "    <tr>\n",
       "      <th>2</th>\n",
       "      <td>3</td>\n",
       "      <td>0</td>\n",
       "      <td>26.0</td>\n",
       "      <td>0</td>\n",
       "      <td>0</td>\n",
       "      <td>7.9250</td>\n",
       "      <td>7</td>\n",
       "      <td>3</td>\n",
       "    </tr>\n",
       "    <tr>\n",
       "      <th>3</th>\n",
       "      <td>1</td>\n",
       "      <td>0</td>\n",
       "      <td>35.0</td>\n",
       "      <td>1</td>\n",
       "      <td>0</td>\n",
       "      <td>53.1000</td>\n",
       "      <td>2</td>\n",
       "      <td>3</td>\n",
       "    </tr>\n",
       "    <tr>\n",
       "      <th>4</th>\n",
       "      <td>3</td>\n",
       "      <td>1</td>\n",
       "      <td>35.0</td>\n",
       "      <td>0</td>\n",
       "      <td>0</td>\n",
       "      <td>8.0500</td>\n",
       "      <td>7</td>\n",
       "      <td>3</td>\n",
       "    </tr>\n",
       "  </tbody>\n",
       "</table>\n",
       "</div>"
      ],
      "text/plain": [
       "   Pclass  Sex   Age  SibSp  Parch     Fare  Cabin  Embarked\n",
       "0       3    1  22.0      1      0   7.2500      7         3\n",
       "1       1    0  38.0      1      0  71.2833      2         0\n",
       "2       3    0  26.0      0      0   7.9250      7         3\n",
       "3       1    0  35.0      1      0  53.1000      2         3\n",
       "4       3    1  35.0      0      0   8.0500      7         3"
      ]
     },
     "execution_count": 13,
     "metadata": {},
     "output_type": "execute_result"
    }
   ],
   "source": [
    "import pandas as pd\n",
    "import numpy as np\n",
    "import warnings\n",
    "warnings.filterwarnings('ignore')\n",
    "\n",
    "t_df = pd.read_csv('./dataset/train.csv')\n",
    "y_t_df = t_df['Survived']\n",
    "X_t_df = t_df.drop('Survived',axis=1)\n",
    "X_t_df = transform_features(X_t_df)\n",
    "X_t_df.head()"
   ]
  },
  {
   "cell_type": "code",
   "execution_count": 14,
   "id": "e7fff40a",
   "metadata": {},
   "outputs": [
    {
     "name": "stdout",
     "output_type": "stream",
     "text": [
      "오차 행렬\n",
      "[[104  14]\n",
      " [ 13  48]]\n",
      "정확도 : 0.8492, 정밀도: 0.7742, 재현율: 0.7869\n"
     ]
    }
   ],
   "source": [
    "from sklearn.model_selection import train_test_split\n",
    "from sklearn.linear_model import LogisticRegression\n",
    "\n",
    "# 데이터를 불러오고 학습 데이터와 테스트 데이터로 분류한다.\n",
    "X_train, X_test, y_train, y_test = train_test_split(X_t_df, y_t_df, test_size=0.2, random_state=11)\n",
    "\n",
    "# 객체 생성\n",
    "lr_clf = LogisticRegression() \n",
    "# 학습\n",
    "lr_clf.fit(X_train, y_train) \n",
    "# 예측\n",
    "pred = lr_clf.predict(X_test) \n",
    "# 평가  -> 인자값으로 (테스트값, 예측값) \n",
    "get_clf_eval(y_test,pred) \n",
    "\n",
    "# 정밀도(Precision)에 비해 재현율(Recall)이 낮게 나옴 --> 재현율 또는 정밀도를 좀 더 강화시킬 방법은?\n",
    "# 분류의 결정 임계값(Threshold)을 조정해 정밀도 또는 재현율의 수치를 높일 수 있다."
   ]
  },
  {
   "cell_type": "code",
   "execution_count": 15,
   "id": "20dc8358",
   "metadata": {},
   "outputs": [
    {
     "name": "stdout",
     "output_type": "stream",
     "text": [
      "accuracy : 0.8659\n",
      "precision : 0.8364\n",
      "recall : 0.7541\n",
      "f1 score : 0.7931\n"
     ]
    }
   ],
   "source": [
    "# Q. 오차행렬을 보고 수작업으로 계산하여 아래를 구하세요.\n",
    "# TN 예측 사망 실제 사망  -> 예측 N 실제 N \n",
    "# FP 예측 생존 실제 사망  -> 예측 P 실제 N\n",
    "# FN 예측 사망 실제 생존  -> 예측 N 실제 P\n",
    "# TP 예측 생존 실제 생존  -> 예측 P 실제 P\n",
    "TN = 109; FP=9; FN=15; TP=46; \n",
    "accuracy = round((TP+TN)/(TP+TN+FP+FN),4)\n",
    "\n",
    "# 예측을 Positive로 한 대상 중에 예측과 실제 값이 Positive로 일치한 데이터의 비율\n",
    "# 양성예측도 (정밀도)\n",
    "precision = round((TP)/(TP+FP),4) \n",
    "\n",
    "# 실제 값이 Positive인 대상 중(TP, FN), 예측과 실제 값이 Positive로 일치한 데이터의 비율\n",
    "# 재현율(민감도, TPR)\n",
    "recall = round((TP)/(TP+FN),4) \n",
    "print('accuracy :', accuracy)\n",
    "print('precision :', precision)\n",
    "print('recall :', recall)\n",
    "print('f1 score :',round( 2*(precision*recall)/(precision+recall),4))"
   ]
  },
  {
   "cell_type": "code",
   "execution_count": 16,
   "id": "511ae0cb",
   "metadata": {},
   "outputs": [
    {
     "data": {
      "text/plain": [
       "array([[0.46190673, 0.53809327, 1.        ],\n",
       "       [0.87861966, 0.12138034, 0.        ],\n",
       "       [0.87716687, 0.12283313, 0.        ]])"
      ]
     },
     "execution_count": 16,
     "metadata": {},
     "output_type": "execute_result"
    }
   ],
   "source": [
    "# Precision/Recall Trade-off\n",
    "# Precision(정밀도)가 올라가면 FP(False Positive)가 작아짐 \n",
    "# fp가 작아진다는 의미는? positive로 예측을 하는것을 적게 > 예측을 많이하다보면 잘못 예측할 가능성이 많음\n",
    "# positive로 많이 예측하면 negative는 적게\n",
    "# precision이 커지면 recall은 작아짐 -> fn이 커진다는 의미\n",
    "# fp가 작아지면 fn은 커짐\n",
    "\n",
    "# predict_proba() -> 테스트 피처 레코드의 개별 클래스 예측 확률을 반환\n",
    "# lr_clf -> LogisticRegression()의 객체임 \n",
    "pred_proba = lr_clf.predict_proba(X_test)\n",
    "# predict() 메서드\n",
    "pred = lr_clf.predict(X_test)\n",
    "\n",
    "# 예측 확률 array와 예측 결괏값 array를 병합(concatenate)해 예측 확률과 결괏값을 한눈에 확인\n",
    "pred_proba_result = np.concatenate([pred_proba, pred.reshape(-1,1)], axis=1)\n",
    "pred_proba_result[:3]\n",
    "# 반환 결과인 ndarray는 0과 1에 대한 확률을 나타냄\n",
    "# 첫 번째 칼럼과 두 번째 칼럼 값을 더하면 1이 된다."
   ]
  },
  {
   "cell_type": "markdown",
   "id": "a450148f",
   "metadata": {},
   "source": [
    "##### predict()\n",
    "- predict_proba() 메서드가 반환하는 확률 값을 가진 ndarray에서 정해진 임계값을 만족하는 ndarray의 칼럼 위치를 최종 예측 클래스로 결정함\n",
    "\n",
    "##### predict_proba()\n",
    "- 학습이 완료된 사이킷런 Classifier 객체에서 호출이 가능하며 테스트 피처 데이터 세트를 파라미터로 입력해주면\n",
    "테스트 피처 레코드의 개별 클래스 예측 확률을 반환함"
   ]
  },
  {
   "cell_type": "code",
   "execution_count": 17,
   "id": "03fd14cd",
   "metadata": {},
   "outputs": [
    {
     "name": "stdout",
     "output_type": "stream",
     "text": [
      "[[0. 0. 1.]\n",
      " [1. 0. 0.]\n",
      " [0. 0. 1.]]\n"
     ]
    }
   ],
   "source": [
    "from sklearn.preprocessing import Binarizer\n",
    "\n",
    "X = [[1,-1,2],\n",
    "    [2,0,0],\n",
    "    [0,1.1,1.2]]\n",
    "\n",
    "# x의 개별 원소들이 threshold보다 같거나 작으면 0을, 크면 1을 반환\n",
    "# threshold 변수를 특정 값으로 설정하고 Binarizer 클래스를 객체로 생성\n",
    "binarizer = Binarizer(threshold=1.1)\n",
    "\n",
    "# Binarizer 객체의 fit_transform() 메서드를 이용해 numpy ndarray를 입력하면 입력 값이랑 threshold를 비교\n",
    "# threshold와 같거나 작으면 0  크면 1 반환\n",
    "print(binarizer.fit_transform(X)) "
   ]
  },
  {
   "cell_type": "code",
   "execution_count": 18,
   "id": "d9a28043",
   "metadata": {},
   "outputs": [
    {
     "name": "stdout",
     "output_type": "stream",
     "text": [
      "오차 행렬\n",
      "[[104  14]\n",
      " [ 13  48]]\n",
      "정확도 : 0.8492, 정밀도: 0.7742, 재현율: 0.7869\n"
     ]
    }
   ],
   "source": [
    "# Binarizer의 threshold 설정값을 0.5로 설정 (분류 결정 임곗값)\n",
    "custom_threshold = 0.5\n",
    "\n",
    "# preict_proba() 반환값의 두번째 컬럼, 즉 positive 클래스 컬럼 하나만 추출해 Binarizer를 적용\n",
    "pred_proba_1 = pred_proba[:,1].reshape(-1,1)\n",
    "\n",
    "binarizer = Binarizer(threshold=custom_threshold).fit(pred_proba_1)\n",
    "custom_predict = binarizer.transform(pred_proba_1)\n",
    "# print(custom_predict)\n",
    "get_clf_eval(y_test,custom_predict)\n",
    "\n",
    "# predict는 predict_proba에 기반됨을 알 수 있다."
   ]
  },
  {
   "cell_type": "code",
   "execution_count": 44,
   "id": "d55b6d7d",
   "metadata": {},
   "outputs": [
    {
     "name": "stdout",
     "output_type": "stream",
     "text": [
      "오차 행렬\n",
      "[[97 21]\n",
      " [11 50]]\n",
      "정확도 : 0.8212, 정밀도: 0.7042, 재현율: 0.8197\n"
     ]
    }
   ],
   "source": [
    "# 분류 결정 임계값을 0.5 -> 0.4로 낮춤\n",
    "custom_threshold = 0.4\n",
    "\n",
    "binarizer = Binarizer(threshold=custom_threshold).fit(pred_proba_1)\n",
    "custom_predict = binarizer.transform(pred_proba_1)\n",
    "custom_predict\n",
    "get_clf_eval(y_test,custom_predict) # 재현율은 올라가고 정밀도는 떨어짐 =>  TradeOff 관계"
   ]
  },
  {
   "cell_type": "code",
   "execution_count": 10,
   "id": "8f260da2",
   "metadata": {},
   "outputs": [],
   "source": [
    "# Q. 임계값을 [0.4, 0.45, 0.50, 0.55, 0.60] 으로 변경 시 각 평가지표의 변화를 출력하세요."
   ]
  },
  {
   "cell_type": "code",
   "execution_count": 45,
   "id": "8787344b",
   "metadata": {},
   "outputs": [
    {
     "name": "stdout",
     "output_type": "stream",
     "text": [
      "임곗값: 0.4\n",
      "오차 행렬\n",
      "[[97 21]\n",
      " [11 50]]\n",
      "정확도 : 0.8212, 정밀도: 0.7042, 재현율: 0.8197\n",
      "\n",
      "임곗값: 0.45\n",
      "오차 행렬\n",
      "[[102  16]\n",
      " [ 13  48]]\n",
      "정확도 : 0.8380, 정밀도: 0.7500, 재현율: 0.7869\n",
      "\n",
      "임곗값: 0.5\n",
      "오차 행렬\n",
      "[[107  11]\n",
      " [ 14  47]]\n",
      "정확도 : 0.8603, 정밀도: 0.8103, 재현율: 0.7705\n",
      "\n",
      "임곗값: 0.55\n",
      "오차 행렬\n",
      "[[110   8]\n",
      " [ 15  46]]\n",
      "정확도 : 0.8715, 정밀도: 0.8519, 재현율: 0.7541\n",
      "\n",
      "임곗값: 0.6\n",
      "오차 행렬\n",
      "[[112   6]\n",
      " [ 17  44]]\n",
      "정확도 : 0.8715, 정밀도: 0.8800, 재현율: 0.7213\n",
      "\n"
     ]
    }
   ],
   "source": [
    "# test할 임곗값을 리스트 객체에 저장\n",
    "custom_threshold_list = [0.4, 0.45, 0.50, 0.55, 0.60]\n",
    "\n",
    "for i in custom_threshold_list:\n",
    "    binarizer = Binarizer(threshold=i).fit(pred_proba_1)\n",
    "    custom_predict = binarizer.transform(pred_proba_1)\n",
    "    print('임곗값:', i)\n",
    "    \n",
    "    result = get_clf_eval (y_test, custom_predict)\n",
    "    print()\n",
    "    "
   ]
  },
  {
   "cell_type": "markdown",
   "id": "17da2db7",
   "metadata": {},
   "source": [
    "### F1스코어\n",
    " - f1_score()\n",
    " - 정밀도와 재현율을 결합한 지표\n",
    " - 정밀도와 재현율이 어느 한쪽으로 치우치지 않는 수치를 나타낼 때 상대적으로 높은 값을 가짐\n",
    " - 2 * (precision * recall) / (precision + recall)"
   ]
  },
  {
   "cell_type": "code",
   "execution_count": 15,
   "id": "fd9757ae",
   "metadata": {},
   "outputs": [
    {
     "name": "stdout",
     "output_type": "stream",
     "text": [
      "f1 score: 0.7966\n"
     ]
    }
   ],
   "source": [
    "from sklearn.metrics import f1_score\n",
    "f1 = f1_score(y_test,pred)\n",
    "print(f'f1 score: {round(f1,4)}')"
   ]
  },
  {
   "cell_type": "code",
   "execution_count": 16,
   "id": "3dc4fb90",
   "metadata": {},
   "outputs": [],
   "source": [
    "from sklearn.metrics import accuracy_score, precision_score, recall_score, confusion_matrix, f1_score\n",
    "\n",
    "def get_clf_eval(y_test,pred):\n",
    "    confusion = confusion_matrix(y_test,pred)\n",
    "    accuracy = accuracy_score(y_test,pred)\n",
    "    precision = precision_score(y_test,pred)\n",
    "    recall = recall_score(y_test,pred)\n",
    "    f1 = f1_score(y_test,pred)\n",
    "    print(f'오차행렬: \\n {confusion}')\n",
    "    print(f'정확도: {round(accuracy,4)}, 정밀도: {round(precision,4)}, 재현율: {round(recall,4)}, f1 score: {round(f1,4)}')"
   ]
  },
  {
   "cell_type": "code",
   "execution_count": 17,
   "id": "40b38fe2",
   "metadata": {},
   "outputs": [
    {
     "name": "stdout",
     "output_type": "stream",
     "text": [
      "오차행렬: \n",
      " [[108  10]\n",
      " [ 14  47]]\n",
      "정확도: 0.8659, 정밀도: 0.8246, 재현율: 0.7705, f1 score: 0.7966\n"
     ]
    }
   ],
   "source": [
    "get_clf_eval(y_test,pred)"
   ]
  },
  {
   "cell_type": "code",
   "execution_count": 13,
   "id": "1c4685e3",
   "metadata": {},
   "outputs": [
    {
     "data": {
      "image/png": "[encoded data removed]",
      "text/plain": [
       "<Figure size 576x432 with 1 Axes>"
      ]
     },
     "metadata": {
      "needs_background": "light"
     },
     "output_type": "display_data"
    }
   ],
   "source": [
    "# [과제] 임곗값을 0 ~ 1로 변경시킬 때 precision과 recall의 변화 추세를 시각화하여 출력하세요\n",
    "import matplotlib.pyplot as plt\n",
    "import matplotlib.ticker as ticker\n",
    "from sklearn.metrics import precision_recall_curve\n",
    "%matplotlib inline\n",
    "\n",
    "def precision_recall_curve_plot(y_test, pred_proba_c1): \n",
    "    # threshold ndarray와 이 threshold에 따른 정밀도, 재현율 ndarray 추출\n",
    "    # pred_proba_c1 0이냐 1이냐를 반환해주는 확률\n",
    "    precision, recalls, thresholds = precision_recall_curve(y_test, pred_proba_c1)\n",
    "    \n",
    "    # X축을 threshold값으로, Y축을 정밀도, 재현율 값으로 각각 Plot 수행, 정밀도는 점선으로 표시\n",
    "    plt.figure(figsize=(8,6))\n",
    "    threshold_boundary=thresholds.shape[0]\n",
    "    plt.plot(thresholds, precision[0: threshold_boundary], linestyle ='--', label='precision')\n",
    "    plt.plot(thresholds, recalls[0: threshold_boundary], label='recall')\n",
    "    \n",
    "    # threshold 값 X축의 Scale을 0.1단위로 변경\n",
    "    # xlim, ylim은 각축의 a에서 b까지만 그래프를 보여주는 명령어\n",
    "    start, end = plt.xlim()\n",
    "    plt.xticks(np.round(np.arange(start, end, 0.1),2))\n",
    "    \n",
    "    # x축, y축 label과 legend, 그리고 grid 설정\n",
    "    plt.xlabel('Threshold value')\n",
    "    plt.ylabel('Precision and Recall value')\n",
    "    plt.legend()\n",
    "    plt.grid()\n",
    "    plt.show()\n",
    "    \n",
    "# predict_proba(X_test)[:,1] -> 레이블 값이 1일 때의 예측 확률값 \n",
    "# prbo()의 반환 ndarray의 두 번째 칼럼(즉 , 칼럼 인덱스 1)값에 해당하는 데이터 세트이다.\n",
    "precision_recall_curve_plot(y_test, lr_clf.predict_proba(X_test)[:,1])\n",
    "# 정밀도는 점선으로, 재현율은 실선으로 표현 \n",
    "# 임곗값이 낮을수록 많은 양성 예측으로 인해 재현율 값이 극도로 높아지고 정밀도 값이 극도로 낮아진다.\n",
    "# 임곗값이 높을수록 재현율 값은 낮아지고 정밀도 값은 높아진다. -> Trade-off"
   ]
  },
  {
   "cell_type": "markdown",
   "id": "b12187e6",
   "metadata": {},
   "source": [
    "#### ROC Curve와 AUC\n",
    "- 수신자 판단 곡선이라고 하며 ML의 이진 분류 모델의 예측 성능을 판단하는 중요한 평가 지표\n",
    "- FPR이 변할 때 TPR이 어떻게 변하는지를 나타내는 곡선으로 나타냄\n",
    "- FPR(False Positive Rate) = 1 - TNR(특이성), TPR은 재현율(민감도)\n",
    "- FPR은 FP/(TN + FP) 이며 TNR(True Negative Rate) = TN/(TN + FP)\n",
    "- ROC 곡선은 FPR을 0부터 1까지 변경하면서 FPR을 구하고 이 FPR 값의 변화에 따른 TPR의 변화 값을 구함\n",
    "- FPR을 0에서 1까지 변경하는 것은 P 예측값을 결정하는 기준인 분류 결정 임곗값을 변경하면 됨\n",
    "- FPR을 0으로 만들려면 임곗값을 1로 지정하고 반대로 FPR을 1로 만들려면 임곗값을 0으로 지정"
   ]
  },
  {
   "cell_type": "markdown",
   "id": "ecf8e3d3",
   "metadata": {},
   "source": [
    "- ROC 곡선이란것은 X축이 fpr(실제 음성인데 양성으로 잘못 예측) -> 작으면 작을수록 좋다 -> 0쪽에 가는것이 좋고 Y 축의(tpr) 재현율은 높을수록 좋다 -> 1쪽으로 가는것이 좋다</br></br>\n",
    "\n",
    "- 이것을 임의로 조정할때 임곗값으로 조절할 수 있다\n",
    "임계값을 0~1까지 변화시킬때 임계값을 낮추면 양성으로 많이 예측을 한다 ->\n",
    "양성으로 많이 예측하면 tpr과 fpr이 변동한다 -> 그 변동한것을 곡선으로 나타낸것이 ROC Curve</br></br>\n",
    "\n",
    "-> 그러면 변화하는 곡선의 형태가 최대한 y가 1에 가깝고 x가 0에 가까운것이 가장 이상적 ->\n",
    "그래서 임계치에 따라 변화하는 곡선의 아래 면적을 가지고서 얼마나 모델이 정확하게 분류하는지 평가하는지 지표로 쓰임 \n"
   ]
  },
  {
   "cell_type": "code",
   "execution_count": null,
   "id": "58c922dd",
   "metadata": {},
   "outputs": [],
   "source": [
    "import matplotlib.pyplot as plt\n",
    "from sklearn.metrics import roc_curve\n",
    "\n",
    "# 레이블 값이 1일때의 예측 확률을 추출\n",
    "pred_proba_c1 = lr_clf.predict_proba(X_test)[:,1]\n",
    "\n",
    "def roc_curve_plot(y_test, pred_proba_c1):\n",
    "    fpr, tpr, thresholds = roc_curve(y_test,pred_proba_c1)\n",
    "\n",
    "    plt.plot(fpr, tpr, label = 'ROC')\n",
    "    plt.plot([0,1],[0,1], 'k--', label='Random')\n",
    "\n",
    "    start,end = plt.xlim()\n",
    "    plt.xticks(np.round(np.arange(start,end,0.1),2))\n",
    "    plt.xlim(0,1)\n",
    "    plt.ylim(0,1)\n",
    "    plt.xlabel('FPR(1 - Specificity)')\n",
    "    plt.ylabel('TPRRecall)')\n",
    "    plt.legend()\n",
    "    plt.show()"
   ]
  },
  {
   "cell_type": "code",
   "execution_count": 45,
   "id": "7e5c8fba",
   "metadata": {},
   "outputs": [
    {
     "data": {
      "image/png": "[encoded data removed]",
      "text/plain": [
       "<Figure size 432x288 with 1 Axes>"
      ]
     },
     "metadata": {
      "needs_background": "light"
     },
     "output_type": "display_data"
    }
   ],
   "source": [
    "roc_curve_plot(y_test,pred_proba_c1)"
   ]
  },
  {
   "cell_type": "code",
   "execution_count": 18,
   "id": "8d536d28",
   "metadata": {},
   "outputs": [
    {
     "data": {
      "text/plain": [
       "0.9054"
      ]
     },
     "execution_count": 18,
     "metadata": {},
     "output_type": "execute_result"
    }
   ],
   "source": [
    "from sklearn.metrics import roc_auc_score\n",
    "\n",
    "pred_proba = lr_clf.predict_proba(X_test)[:,1]\n",
    "roc_score = roc_auc_score(y_test,pred_proba)\n",
    "round(roc_score,4)"
   ]
  },
  {
   "cell_type": "code",
   "execution_count": 19,
   "id": "a5fba65e",
   "metadata": {},
   "outputs": [],
   "source": [
    "def get_clf_eval(y_test,pred=None,pred_proba=None):\n",
    "    confusion = confusion_matrix(y_test,pred)\n",
    "    accuracy = accuracy_score(y_test,pred)\n",
    "    precision = precision_score(y_test,pred)\n",
    "    recall = recall_score(y_test,pred)\n",
    "    f1 = f1_score(y_test,pred)\n",
    "    roc_auc = roc_auc_score(y_test,pred_proba)\n",
    "    print(f'오차행렬: \\n {confusion}')\n",
    "    print(f'정확도: {round(accuracy,4)}, 정밀도: {round(precision,4)}, 재현율: {round(recall,4)}, \\\n",
    "    f1 score: {round(f1,4)}, auc: {round(roc_auc,4)}')"
   ]
  },
  {
   "cell_type": "code",
   "execution_count": 20,
   "id": "0bfc3480",
   "metadata": {},
   "outputs": [
    {
     "name": "stdout",
     "output_type": "stream",
     "text": [
      "오차행렬: \n",
      " [[107  11]\n",
      " [ 14  47]]\n",
      "정확도: 0.8603, 정밀도: 0.8103, 재현율: 0.7705, f1 score: 0.7899, auc: 0.9054\n"
     ]
    }
   ],
   "source": [
    "get_clf_eval(y_test,pred,pred_proba)"
   ]
  },
  {
   "cell_type": "markdown",
   "id": "285ae703",
   "metadata": {},
   "source": [
    "[과제] train.csv 파일을 불러와서 분류모델링 평가를 아래와 같이 수행하세요.\n",
    "- dt 모델을 적용하고 GridSearchCV를 사용, 교차검증과 성능 개선을 위한 하이퍼파라미터 튜닝\n",
    "- accuracy에 추가하여 confusion matrix, accuracy, precision, recall, roc auc score 평가\n"
   ]
  },
  {
   "cell_type": "code",
   "execution_count": 19,
   "id": "47009988",
   "metadata": {},
   "outputs": [
    {
     "data": {
      "text/html": [
       "<div>\n",
       "<style scoped>\n",
       "    .dataframe tbody tr th:only-of-type {\n",
       "        vertical-align: middle;\n",
       "    }\n",
       "\n",
       "    .dataframe tbody tr th {\n",
       "        vertical-align: top;\n",
       "    }\n",
       "\n",
       "    .dataframe thead th {\n",
       "        text-align: right;\n",
       "    }\n",
       "</style>\n",
       "<table border=\"1\" class=\"dataframe\">\n",
       "  <thead>\n",
       "    <tr style=\"text-align: right;\">\n",
       "      <th></th>\n",
       "      <th>Pclass</th>\n",
       "      <th>Sex</th>\n",
       "      <th>Age</th>\n",
       "      <th>SibSp</th>\n",
       "      <th>Parch</th>\n",
       "      <th>Fare</th>\n",
       "      <th>Cabin</th>\n",
       "      <th>Embarked</th>\n",
       "    </tr>\n",
       "  </thead>\n",
       "  <tbody>\n",
       "    <tr>\n",
       "      <th>0</th>\n",
       "      <td>3</td>\n",
       "      <td>1</td>\n",
       "      <td>22.0</td>\n",
       "      <td>1</td>\n",
       "      <td>0</td>\n",
       "      <td>7.2500</td>\n",
       "      <td>7</td>\n",
       "      <td>3</td>\n",
       "    </tr>\n",
       "    <tr>\n",
       "      <th>1</th>\n",
       "      <td>1</td>\n",
       "      <td>0</td>\n",
       "      <td>38.0</td>\n",
       "      <td>1</td>\n",
       "      <td>0</td>\n",
       "      <td>71.2833</td>\n",
       "      <td>2</td>\n",
       "      <td>0</td>\n",
       "    </tr>\n",
       "    <tr>\n",
       "      <th>2</th>\n",
       "      <td>3</td>\n",
       "      <td>0</td>\n",
       "      <td>26.0</td>\n",
       "      <td>0</td>\n",
       "      <td>0</td>\n",
       "      <td>7.9250</td>\n",
       "      <td>7</td>\n",
       "      <td>3</td>\n",
       "    </tr>\n",
       "    <tr>\n",
       "      <th>3</th>\n",
       "      <td>1</td>\n",
       "      <td>0</td>\n",
       "      <td>35.0</td>\n",
       "      <td>1</td>\n",
       "      <td>0</td>\n",
       "      <td>53.1000</td>\n",
       "      <td>2</td>\n",
       "      <td>3</td>\n",
       "    </tr>\n",
       "    <tr>\n",
       "      <th>4</th>\n",
       "      <td>3</td>\n",
       "      <td>1</td>\n",
       "      <td>35.0</td>\n",
       "      <td>0</td>\n",
       "      <td>0</td>\n",
       "      <td>8.0500</td>\n",
       "      <td>7</td>\n",
       "      <td>3</td>\n",
       "    </tr>\n",
       "  </tbody>\n",
       "</table>\n",
       "</div>"
      ],
      "text/plain": [
       "   Pclass  Sex   Age  SibSp  Parch     Fare  Cabin  Embarked\n",
       "0       3    1  22.0      1      0   7.2500      7         3\n",
       "1       1    0  38.0      1      0  71.2833      2         0\n",
       "2       3    0  26.0      0      0   7.9250      7         3\n",
       "3       1    0  35.0      1      0  53.1000      2         3\n",
       "4       3    1  35.0      0      0   8.0500      7         3"
      ]
     },
     "execution_count": 19,
     "metadata": {},
     "output_type": "execute_result"
    }
   ],
   "source": [
    "import pandas as pd\n",
    "tdf = pd.read_csv('./dataset/train.csv')\n",
    "y_tdf = tdf['Survived']\n",
    "X_tdf = tdf.drop('Survived', axis = 1) # 컬럼삭제\n",
    "X_tdf = transform_features(X_tdf)\n",
    "X_tdf.head()"
   ]
  },
  {
   "cell_type": "code",
   "execution_count": 23,
   "id": "954d85eb",
   "metadata": {},
   "outputs": [
    {
     "name": "stdout",
     "output_type": "stream",
     "text": [
      "DecisionTreeClassifier 정확도 : 0.7877094972067039\n"
     ]
    }
   ],
   "source": [
    "# dt모델을 적용하고 GridSearchCV를 사용, 교차검증과 성능 개선을 위한 하이퍼파라미터 튜닝\n",
    "from sklearn.model_selection import train_test_split\n",
    "from sklearn.tree import DecisionTreeClassifier\n",
    "\n",
    "X_train, X_test, y_train, y_test = train_test_split(X_tdf, y_tdf, test_size = 0.2, random_state=11)\n",
    "\n",
    "# DecisionTreeClassifier 학습 / 예측 / 평가\n",
    "dt_clf = DecisionTreeClassifier(random_state=11) # 객체 생성\n",
    "dt_clf.fit(X_train, y_train) # 학습\n",
    "dt_pred = dt_clf.predict(X_test) # 예측\n",
    "print('DecisionTreeClassifier 정확도 :' , accuracy_score(y_test, dt_pred)) # 정확도 측정"
   ]
  },
  {
   "cell_type": "code",
   "execution_count": 22,
   "id": "71b07199",
   "metadata": {},
   "outputs": [
    {
     "name": "stdout",
     "output_type": "stream",
     "text": [
      "교차 검증 0 정확도 : 0.7430\n",
      "교차 검증 1 정확도 : 0.7753\n",
      "교차 검증 2 정확도 : 0.7921\n",
      "교차 검증 3 정확도 : 0.7865\n",
      "교차 검증 4 정확도 : 0.8427\n",
      "평균 정확도 : 0.7879\n"
     ]
    }
   ],
   "source": [
    "# cross_val_score\n",
    "from sklearn.model_selection import cross_val_score\n",
    "\n",
    "scores = cross_val_score(dt_clf, X_tdf, y_tdf, cv=5)\n",
    "for iter_count, accuracy in enumerate(scores):\n",
    "    print('교차 검증 {0} 정확도 : {1:.4f}'.format(iter_count, accuracy))\n",
    "print('평균 정확도 : {0:.4f}'.format(np.mean(scores)))"
   ]
  },
  {
   "cell_type": "markdown",
   "id": "2ba491bf",
   "metadata": {},
   "source": [
    "- 사이킷런에서는 분류 알고리즘을 구현한 클래스를 Classifier로, 회귀 알고리즘을 구현한 클래스를 Regressor로 지칭하고, 이 둘을 합쳐 Estimator 클래스라고 부릅니다.(지도학습의 모든 알고리즘을 구현한 클래스를 통칭함)\n",
    "- 이 Estimator 클래스는 fit()과 predcict()만을 이용해 간단하게 학습과 예측 결과를 반환합니다."
   ]
  },
  {
   "cell_type": "code",
   "execution_count": 26,
   "id": "0e413df0",
   "metadata": {},
   "outputs": [
    {
     "name": "stdout",
     "output_type": "stream",
     "text": [
      "GridSearchCV 최적 하이퍼 파라미터:  {'max_depth': 3, 'min_samples_leaf': 5, 'min_samples_split': 2}\n",
      "GridSearchCV 최고 정확도:  0.7991825076332119\n",
      "테스트 세트에서의 DecisionTreeClassifier 정확도: 0.8715\n"
     ]
    }
   ],
   "source": [
    "from sklearn.model_selection import GridSearchCV\n",
    "\n",
    "# 파라미터를 딕셔너리 형태로 설정\n",
    "# 하이퍼 파라미터의 명칭은 문자열 Key 값으로, 하이퍼 파라미터 값은 리스트 형으로 설정\n",
    "# DecisionTreeClassifier의 중요 하이퍼 파라미터들을 변화시키면서 최적화 수행\n",
    "parameters = {'max_depth': [2, 3, 5, 10],\n",
    "             'min_samples_split': [2, 3, 5],\n",
    "            'min_samples_leaf':[1, 5, 8]\n",
    "             }\n",
    "\n",
    "# GridSearchCV 주요 파라미터 -> estimator, param_gird, scoring, cv, refit(true가 default)\n",
    "# param_grid의 하이퍼 파라미터를 5개의 train, test set fold로 나누어 테스트 수행 결정\n",
    "grid_dclf = GridSearchCV(dt_clf, param_grid = parameters, scoring='accuracy', cv=5, refit=True)\n",
    "\n",
    "# grid 객체의 fit()를 수행하면 최고 성능을 나타낸 하이퍼 파라미터의 값과 그때의 평가 결과 값이\n",
    "# 각각 best_params_,  best_score_ 속성에 기록 된다\n",
    "grid_dclf.fit(X_train, y_train)\n",
    "\n",
    "print('GridSearchCV 최적 하이퍼 파라미터: ',grid_dclf.best_params_)\n",
    "print('GridSearchCV 최고 정확도: ',grid_dclf.best_score_)\n",
    "\n",
    "# refit=True이면 GridSearchCV가 최적 성능을 나타내는 하이퍼 파라미터로 Estimator를 학습해 best_estimator_로 저장\n",
    "estimator = grid_dclf.best_estimator_\n",
    "\n",
    "# GridSearchCV의 best_estimator_는 이미 최적 학습이 됐으므로 별도 학습이 필요 없음\n",
    "pred = estimator.predict(X_test) # train_test_slit()으로 분리한 테스트 데이터 세트에 대해 예측하고 성능 평가\n",
    "accuracy = accuracy_score(y_test, pred)\n",
    "print('테스트 세트에서의 DecisionTreeClassifier 정확도: {0:.4f}'.format(accuracy))"
   ]
  },
  {
   "cell_type": "code",
   "execution_count": 27,
   "id": "abd55df4",
   "metadata": {},
   "outputs": [
    {
     "name": "stdout",
     "output_type": "stream",
     "text": [
      "오차 행렬\n",
      "[[99 19]\n",
      " [19 42]]\n",
      "정확도: 0.7877, 정밀도 : 0.6885,  재현율 : 0.6885,  F1:0.6885, AUC:0.7572\n"
     ]
    }
   ],
   "source": [
    "# accuracy에 추가하여 confusion martix, accuracy, precision, recall, roc auc score평가\n",
    "from sklearn.metrics import roc_auc_score\n",
    "from sklearn.metrics import f1_score\n",
    "pred_proba = dt_clf.predict_proba(X_test)[:,1] # predict_proba -> 0이냐 1이냐 확률을 반환해줌\n",
    "\n",
    "def get_clf_evals(y_test, pred=None, pred_proba=None):\n",
    "    confusion = confusion_matrix(y_test, pred)\n",
    "    accuracy = accuracy_score(y_test, pred)\n",
    "    precision = precision_score(y_test, pred)\n",
    "    recall = recall_score(y_test, pred)\n",
    "    f1 = f1_score(y_test, pred)\n",
    "    \n",
    "# ROC-AUC 추가\n",
    "    roc_auc = roc_auc_score(y_test, pred_proba)\n",
    "    print('오차 행렬')\n",
    "    print(confusion)\n",
    "    \n",
    "# ROC-AUC print 추가\n",
    "    print('정확도: {0:.4f}, 정밀도 : {1:.4f},  재현율 : {2:.4f},  F1:{3:.4f}, AUC:{4:.4f}'.format(accuracy, precision, recall, f1, roc_auc))   \n",
    "\n",
    "get_clf_evals(y_test, dt_pred, pred_proba)"
   ]
  }
 ],
 "metadata": {
  "kernelspec": {
   "display_name": "Python 3 (ipykernel)",
   "language": "python",
   "name": "python3"
  },
  "language_info": {
   "codemirror_mode": {
    "name": "ipython",
    "version": 3
   },
   "file_extension": ".py",
   "mimetype": "text/x-python",
   "name": "python",
   "nbconvert_exporter": "python",
   "pygments_lexer": "ipython3",
   "version": "3.8.12"
  }
 },
 "nbformat": 4,
 "nbformat_minor": 5
}
