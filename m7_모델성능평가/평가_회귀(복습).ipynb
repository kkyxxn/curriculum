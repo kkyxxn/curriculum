{
 "cells": [
  {
   "cell_type": "markdown",
   "id": "34baa8d1",
   "metadata": {},
   "source": [
    "### 회귀\n",
    "- 소득이 증가하면 소비도 증가, 어떤 변수가 다른 변수에 영향을 준다면 두 변수 사이에 선형관계가 있다고 할 수 있음\n",
    "- 두 변수 사이에 일대일로 대응되는 확률적, 통계적 상관성을 찾는 알고리즘을 Simple Linear Regression이라고 함\n",
    "- 변수 X, Y에 대한 정보를 가지고 일차 방정식 계수 a,b를 찾는 과정이 단순회귀분석 알고리즘"
   ]
  },
  {
   "cell_type": "markdown",
   "id": "2f60d79e",
   "metadata": {},
   "source": [
    "### 회귀 평가 지표\n",
    "- MAE : 실제값과 예측값의 차이를 절대값으로 변환해 평균한 것\n",
    "- MSE : 실제값과 예측값의 차이를 제곱해 평균한 것\n",
    "- RMSE : MSE에 루트를 씌운 것(실제 오류 평균보다 커지는 것을 보정)\n",
    "- R square : 분산 기반으로 예측 성능을 평가. 실제값의 분산 대비 예측값의 분산 비율을 지표로 함\n",
    "    - 1에 가까울 수록 예측 정확도가 높음. 예측값 Variance / 실제값 Variance</br></br>\n",
    "    \n",
    "- MAE, MSE, RMSE 오차의 정도를 본 것 -> 오차니까 작을수록 좋음\n",
    "- R square은 높을수록 좋음 -> 설명력이 좋다"
   ]
  },
  {
   "cell_type": "code",
   "execution_count": 1,
   "id": "d2015bdb",
   "metadata": {},
   "outputs": [],
   "source": [
    "import pandas as pd\n",
    "import numpy as np\n",
    "import matplotlib.pyplot as plt\n",
    "import seaborn as sns\n",
    "import warnings\n",
    "warnings.filterwarnings('ignore')"
   ]
  },
  {
   "cell_type": "code",
   "execution_count": 2,
   "id": "5e901f48",
   "metadata": {},
   "outputs": [
    {
     "data": {
      "text/html": [
       "<div>\n",
       "<style scoped>\n",
       "    .dataframe tbody tr th:only-of-type {\n",
       "        vertical-align: middle;\n",
       "    }\n",
       "\n",
       "    .dataframe tbody tr th {\n",
       "        vertical-align: top;\n",
       "    }\n",
       "\n",
       "    .dataframe thead th {\n",
       "        text-align: right;\n",
       "    }\n",
       "</style>\n",
       "<table border=\"1\" class=\"dataframe\">\n",
       "  <thead>\n",
       "    <tr style=\"text-align: right;\">\n",
       "      <th></th>\n",
       "      <th>mpg</th>\n",
       "      <th>cylinders</th>\n",
       "      <th>horsepower</th>\n",
       "      <th>weight</th>\n",
       "    </tr>\n",
       "  </thead>\n",
       "  <tbody>\n",
       "    <tr>\n",
       "      <th>0</th>\n",
       "      <td>18.0</td>\n",
       "      <td>8</td>\n",
       "      <td>130</td>\n",
       "      <td>3504</td>\n",
       "    </tr>\n",
       "    <tr>\n",
       "      <th>1</th>\n",
       "      <td>15.0</td>\n",
       "      <td>8</td>\n",
       "      <td>165</td>\n",
       "      <td>3693</td>\n",
       "    </tr>\n",
       "    <tr>\n",
       "      <th>2</th>\n",
       "      <td>18.0</td>\n",
       "      <td>8</td>\n",
       "      <td>150</td>\n",
       "      <td>3436</td>\n",
       "    </tr>\n",
       "    <tr>\n",
       "      <th>3</th>\n",
       "      <td>16.0</td>\n",
       "      <td>8</td>\n",
       "      <td>150</td>\n",
       "      <td>3433</td>\n",
       "    </tr>\n",
       "    <tr>\n",
       "      <th>4</th>\n",
       "      <td>17.0</td>\n",
       "      <td>8</td>\n",
       "      <td>140</td>\n",
       "      <td>3449</td>\n",
       "    </tr>\n",
       "  </tbody>\n",
       "</table>\n",
       "</div>"
      ],
      "text/plain": [
       "    mpg  cylinders horsepower  weight\n",
       "0  18.0          8        130    3504\n",
       "1  15.0          8        165    3693\n",
       "2  18.0          8        150    3436\n",
       "3  16.0          8        150    3433\n",
       "4  17.0          8        140    3449"
      ]
     },
     "execution_count": 2,
     "metadata": {},
     "output_type": "execute_result"
    }
   ],
   "source": [
    "df = pd.read_excel('../m2_분석라이브러리활용/pandas/dataset/auto-mpg.xlsx')\n",
    "ndf = df[['mpg','cylinders','horsepower','weight']]\n",
    "ndf.head()"
   ]
  },
  {
   "cell_type": "code",
   "execution_count": 6,
   "id": "3adabdaa",
   "metadata": {},
   "outputs": [
    {
     "data": {
      "text/plain": [
       "array([130, 165, 150, 140, 198, 220, 215, 225, 190, 170, 160, 95, 97, 85,\n",
       "       88, 46, 87, 90, 113, 200, 210, 193, '?', 100, 105, 175, 153, 180,\n",
       "       110, 72, 86, 70, 76, 65, 69, 60, 80, 54, 208, 155, 112, 92, 145,\n",
       "       137, 158, 167, 94, 107, 230, 49, 75, 91, 122, 67, 83, 78, 52, 61,\n",
       "       93, 148, 129, 96, 71, 98, 115, 53, 81, 79, 120, 152, 102, 108, 68,\n",
       "       58, 149, 89, 63, 48, 66, 139, 103, 125, 133, 138, 135, 142, 77, 62,\n",
       "       132, 84, 64, 74, 116, 82], dtype=object)"
      ]
     },
     "execution_count": 6,
     "metadata": {},
     "output_type": "execute_result"
    }
   ],
   "source": [
    "# unique()는 데이터에 고유값들이 어떠한 종류들이 있는지 알고 싶을때 사용하는 함수입니다.\n",
    "# horsepower 열의 고유값 확인\n",
    "ndf.horsepower.unique()"
   ]
  },
  {
   "cell_type": "code",
   "execution_count": 7,
   "id": "0bb63f19",
   "metadata": {},
   "outputs": [
    {
     "name": "stdout",
     "output_type": "stream",
     "text": [
      "<class 'pandas.core.frame.DataFrame'>\n",
      "Int64Index: 392 entries, 0 to 397\n",
      "Data columns (total 4 columns):\n",
      " #   Column      Non-Null Count  Dtype  \n",
      "---  ------      --------------  -----  \n",
      " 0   mpg         392 non-null    float64\n",
      " 1   cylinders   392 non-null    int64  \n",
      " 2   horsepower  392 non-null    float64\n",
      " 3   weight      392 non-null    int64  \n",
      "dtypes: float64(2), int64(2)\n",
      "memory usage: 15.3 KB\n"
     ]
    }
   ],
   "source": [
    "ndf.horsepower[ndf.horsepower=='?'] = np.nan  # ? -> NAN 으로 값 변경\n",
    "ndf.dropna(subset=['horsepower'], axis=0, inplace=True) # 누락데이터 행을 삭제\n",
    "ndf.horsepower = ndf.horsepower.astype('float') # float로 type 변경\n",
    "ndf.info()"
   ]
  },
  {
   "cell_type": "code",
   "execution_count": 8,
   "id": "89b03558",
   "metadata": {},
   "outputs": [],
   "source": [
    "# pkl 형태로 내보내기\n",
    "ndf.to_pickle('./dataset/auto-mpg.pkl')"
   ]
  },
  {
   "cell_type": "code",
   "execution_count": 9,
   "id": "19cf2a20",
   "metadata": {},
   "outputs": [],
   "source": [
    "X = ndf[['weight']] #독립변수\n",
    "y = ndf['mpg'] #종속변수\n",
    "\n",
    "# 학습용 data와 검증용 data 만들어줌\n",
    "from sklearn.model_selection import train_test_split\n",
    "X_train, X_test, y_train, y_test = train_test_split(X,\n",
    "                                                    y,\n",
    "                                                    test_size = 0.3,\n",
    "                                                    random_state =11)"
   ]
  },
  {
   "cell_type": "code",
   "execution_count": 15,
   "id": "58ad56eb",
   "metadata": {},
   "outputs": [
    {
     "data": {
      "text/plain": [
       "<AxesSubplot:title={'center':'Regplot'}, xlabel='weight', ylabel='mpg'>"
      ]
     },
     "execution_count": 15,
     "metadata": {},
     "output_type": "execute_result"
    },
    {
     "data": {
      "image/png": "[encoded data removed]",
      "text/plain": [
       "<Figure size 720x432 with 1 Axes>"
      ]
     },
     "metadata": {},
     "output_type": "display_data"
    }
   ],
   "source": [
    "sns.set_style('darkgrid')\n",
    "fig, axes = plt.subplots(1,1, figsize=(10,6))\n",
    "plt.title('Regplot', fontsize=30)\n",
    "sns.regplot(ax=axes, x='weight', y='mpg', data = ndf, scatter_kws={'color':'green'})\n",
    "# 각각 점들과 회귀식(파란것) 사이의 오차의 합을 최소화 하는것이 회귀식을 만드는 원리\n",
    "# 기계 학습의 원리란?\n",
    "# x값과 y값을 제공해준다 -> 계속 학습하면서 가장 최적의 회귀선 (기울기) 구하기 -> \n",
    "# y=ax+b 에서 a와 b를 구해줌 -> 회귀선이 구해짐"
   ]
  },
  {
   "cell_type": "code",
   "execution_count": 16,
   "id": "da6c5712",
   "metadata": {},
   "outputs": [],
   "source": [
    "from sklearn.linear_model import LinearRegression\n",
    "# fit_transfrom 은 변환할때\n",
    "# fit는 학습\n",
    "lr = LinearRegression()\n",
    "lr.fit(X_train,y_train) # 학습 됨\n",
    "# 이제 예측 할 수 있음\n",
    "y_preds = lr.predict(X_test)"
   ]
  },
  {
   "cell_type": "code",
   "execution_count": 18,
   "id": "d512954a",
   "metadata": {},
   "outputs": [
    {
     "data": {
      "text/html": [
       "<div>\n",
       "<style scoped>\n",
       "    .dataframe tbody tr th:only-of-type {\n",
       "        vertical-align: middle;\n",
       "    }\n",
       "\n",
       "    .dataframe tbody tr th {\n",
       "        vertical-align: top;\n",
       "    }\n",
       "\n",
       "    .dataframe thead th {\n",
       "        text-align: right;\n",
       "    }\n",
       "</style>\n",
       "<table border=\"1\" class=\"dataframe\">\n",
       "  <thead>\n",
       "    <tr style=\"text-align: right;\">\n",
       "      <th></th>\n",
       "      <th>weight</th>\n",
       "    </tr>\n",
       "  </thead>\n",
       "  <tbody>\n",
       "    <tr>\n",
       "      <th>240</th>\n",
       "      <td>2190</td>\n",
       "    </tr>\n",
       "    <tr>\n",
       "      <th>390</th>\n",
       "      <td>2665</td>\n",
       "    </tr>\n",
       "    <tr>\n",
       "      <th>391</th>\n",
       "      <td>2370</td>\n",
       "    </tr>\n",
       "    <tr>\n",
       "      <th>236</th>\n",
       "      <td>2755</td>\n",
       "    </tr>\n",
       "    <tr>\n",
       "      <th>222</th>\n",
       "      <td>4060</td>\n",
       "    </tr>\n",
       "    <tr>\n",
       "      <th>...</th>\n",
       "      <td>...</td>\n",
       "    </tr>\n",
       "    <tr>\n",
       "      <th>190</th>\n",
       "      <td>4215</td>\n",
       "    </tr>\n",
       "    <tr>\n",
       "      <th>152</th>\n",
       "      <td>3264</td>\n",
       "    </tr>\n",
       "    <tr>\n",
       "      <th>125</th>\n",
       "      <td>3102</td>\n",
       "    </tr>\n",
       "    <tr>\n",
       "      <th>105</th>\n",
       "      <td>4654</td>\n",
       "    </tr>\n",
       "    <tr>\n",
       "      <th>84</th>\n",
       "      <td>2100</td>\n",
       "    </tr>\n",
       "  </tbody>\n",
       "</table>\n",
       "<p>118 rows × 1 columns</p>\n",
       "</div>"
      ],
      "text/plain": [
       "     weight\n",
       "240    2190\n",
       "390    2665\n",
       "391    2370\n",
       "236    2755\n",
       "222    4060\n",
       "..      ...\n",
       "190    4215\n",
       "152    3264\n",
       "125    3102\n",
       "105    4654\n",
       "84     2100\n",
       "\n",
       "[118 rows x 1 columns]"
      ]
     },
     "execution_count": 18,
     "metadata": {},
     "output_type": "execute_result"
    }
   ],
   "source": [
    "X_test # weight 값을 집어 넣으면"
   ]
  },
  {
   "cell_type": "code",
   "execution_count": 19,
   "id": "1e61eaff",
   "metadata": {},
   "outputs": [
    {
     "data": {
      "text/plain": [
       "array([29.27985295, 25.65957977, 27.90795996, 24.97363328, 15.02740907,\n",
       "       16.26973439, 14.22713816, 25.60622838, 31.37580058, 25.24039025,\n",
       "       29.77525875, 16.47551834, 12.13119053, 30.34688083, 18.19038459,\n",
       "       30.23255642, 27.83174368, 21.96309032, 10.62210824, 27.64120299,\n",
       "       24.7068763 , 17.18432972, 27.8927167 , 21.33049522, 10.15718895,\n",
       "       29.18839342, 27.71741926, 29.05882575, 18.38092528, 20.36254849,\n",
       "       31.20812477, 17.58065437,  7.88594388, 31.20812477, 14.8978414 ,\n",
       "       26.15498558, 14.41005723, 23.525524  , 29.42466388, 24.63066003,\n",
       "       29.00547435, 21.9021173 , 30.33925921, 30.8041785 , 26.04066116,\n",
       "       29.52374504, 14.31097606, 30.70509734, 15.9420044 , 28.17471693,\n",
       "       26.80282393, 19.86714269, 28.06039251, 24.4020112 , 29.88958317,\n",
       "       27.45066229, 20.41589989, 21.63536032, 21.50579265, 23.0834696 ,\n",
       "       15.16459837, 31.07093547, 30.95661105, 20.32444035,  8.20605224,\n",
       "       24.82882235, 25.62147163, 14.03659747, 26.11687744, 27.42017578,\n",
       "       25.8882286 , 29.27985295, 27.19152695, 26.59703998, 29.88958317,\n",
       "       29.73715061, 12.61897471, 23.39595633, 29.79050201, 18.46476318,\n",
       "       17.58065437, 13.00767772, 23.18255076, 17.30627577, 24.51633561,\n",
       "       21.92498218, 33.67753216, 30.38498897, 13.39638074, 21.49817103,\n",
       "       28.78444715, 19.9814671 , 31.10904361, 24.71449793,  9.90567523,\n",
       "       30.91850291, 21.23903568, 25.56049861, 19.06687178, 22.57282054,\n",
       "       28.21282507, 29.47801527, 22.99201006, 32.45807172, 21.65822521,\n",
       "       26.59703998, 19.02876364, 23.525524  , 28.8530418 , 28.9902311 ,\n",
       "       19.60800735, 25.43855257, 19.10497991, 13.84605677, 21.09422476,\n",
       "       22.32892845, 10.50016219, 29.96579945])"
      ]
     },
     "execution_count": 19,
     "metadata": {},
     "output_type": "execute_result"
    }
   ],
   "source": [
    "y_preds  # 예측값 -> 파란색 회귀식에 의해 예측값을 구함 "
   ]
  },
  {
   "cell_type": "code",
   "execution_count": 8,
   "id": "3e50fc35",
   "metadata": {},
   "outputs": [
    {
     "name": "stdout",
     "output_type": "stream",
     "text": [
      "기울기 : [-0.00762163]\n",
      "절편 : 45.97121770475769\n"
     ]
    }
   ],
   "source": [
    "# 회귀 계수\n",
    "# weight와 mpg의 단위가 다르기 때문에 -> -0.00762163 -> 그래서 표준화, 정규화 해줘야함\n",
    "print(f'기울기 : {lr.coef_}')\n",
    "print(f'절편 : {lr.intercept_}')"
   ]
  },
  {
   "cell_type": "code",
   "execution_count": 20,
   "id": "5642d0a3",
   "metadata": {},
   "outputs": [
    {
     "name": "stdout",
     "output_type": "stream",
     "text": [
      "mse: 22.168955157340807, rmse: 4.70839199274453, r_square: 0.6410608728212728\n"
     ]
    }
   ],
   "source": [
    "# 회귀방정식으로 모델을 구함 -> 그 모델을 평가  -> (오차율)회귀식과 실제 데이터 값 사이의 오차를 최소화함을 목표\n",
    "# 오차율로 충분치 않음 -> 실제 변화에 대한 예측의 설명력을 구해줌 -> 분산 기반으로 한 R square\n",
    "# sklearn에서는 루트 mean_squared_error는 없음 - > mean_squared_error를 구해서 넘파이써서 루트씌어줌\n",
    "from sklearn.metrics import mean_squared_error, r2_score\n",
    "\n",
    "mse = mean_squared_error(y_test,y_preds) # 테스트 데이터, 예측 데이터 사이의 오차 구하기\n",
    "rmse = np.sqrt(mse) # mse에 루트 씌어줌\n",
    "r_square = r2_score(y_test,y_preds) \n",
    "print(f'mse: {mse}, rmse: {rmse}, r_square: {r_square}') \n",
    "# 설명력 r_square ->  이 모델이 실제의 64%정도를 설명한다"
   ]
  },
  {
   "cell_type": "code",
   "execution_count": 22,
   "id": "addfa98c",
   "metadata": {},
   "outputs": [
    {
     "data": {
      "text/plain": [
       "<AxesSubplot:xlabel='mpg', ylabel='Density'>"
      ]
     },
     "execution_count": 22,
     "metadata": {},
     "output_type": "execute_result"
    },
    {
     "data": {
      "image/png": "[encoded data removed]",
      "text/plain": [
       "<Figure size 432x288 with 1 Axes>"
      ]
     },
     "metadata": {},
     "output_type": "display_data"
    }
   ],
   "source": [
    "# 실제y값\n",
    "sns.distplot(y,kde=True)"
   ]
  },
  {
   "cell_type": "code",
   "execution_count": 23,
   "id": "ee5d3634",
   "metadata": {},
   "outputs": [
    {
     "data": {
      "text/plain": [
       "<AxesSubplot:ylabel='Density'>"
      ]
     },
     "execution_count": 23,
     "metadata": {},
     "output_type": "execute_result"
    },
    {
     "data": {
      "image/png": "[encoded data removed]",
      "text/plain": [
       "<Figure size 432x288 with 1 Axes>"
      ]
     },
     "metadata": {},
     "output_type": "display_data"
    }
   ],
   "source": [
    "# 회귀식에 의해서 예측한 y값\n",
    "y_hat = lr.predict(X) # \n",
    "sns.distplot(y_hat,kde=True)"
   ]
  },
  {
   "cell_type": "code",
   "execution_count": 12,
   "id": "34860e4a",
   "metadata": {},
   "outputs": [
    {
     "data": {
      "image/png": "[encoded data removed]",
      "text/plain": [
       "<Figure size 720x360 with 1 Axes>"
      ]
     },
     "metadata": {},
     "output_type": "display_data"
    }
   ],
   "source": [
    "# 실제로 단순회귀는 많이 쓰이지 않음 why? -> 세상사에 단순한문제는 많지 않기 때문\n",
    "# 설명력 r_square 0.6밖에 안됨으로 -> 차이가 많이남\n",
    "plt.figure(figsize=(10,5))\n",
    "ax1 = sns.distplot(y, hist=False, label='y')\n",
    "ax2 = sns.distplot(y_hat, hist=False, label='y_hat')\n",
    "plt.show()\n",
    "plt.close()"
   ]
  },
  {
   "cell_type": "markdown",
   "id": "b27017d8",
   "metadata": {},
   "source": [
    "### 다항 회귀분석\n",
    "- 직선보다 곡선으로 설명하는 것이 적합할 경우 다항 함수를 사용하면 복잡한 곡선 형태의 회귀선을 표현할 수 있음\n",
    "- 2차 함수 이상의 다항 함수를 이용하여 두 변수간의 선형관계를 설명하는 알고리즘\n",
    "- 다항회귀도 선형회귀임. 선형/비선형 회귀를 나누는 기준은 회귀계수가 선형/비선형인지에 따르며 독립변수의 선형/비선형 여부와는 무관함"
   ]
  },
  {
   "cell_type": "code",
   "execution_count": 50,
   "id": "4dffaf47",
   "metadata": {},
   "outputs": [
    {
     "data": {
      "text/html": [
       "<div>\n",
       "<style scoped>\n",
       "    .dataframe tbody tr th:only-of-type {\n",
       "        vertical-align: middle;\n",
       "    }\n",
       "\n",
       "    .dataframe tbody tr th {\n",
       "        vertical-align: top;\n",
       "    }\n",
       "\n",
       "    .dataframe thead th {\n",
       "        text-align: right;\n",
       "    }\n",
       "</style>\n",
       "<table border=\"1\" class=\"dataframe\">\n",
       "  <thead>\n",
       "    <tr style=\"text-align: right;\">\n",
       "      <th></th>\n",
       "      <th>mpg</th>\n",
       "      <th>cylinders</th>\n",
       "      <th>horsepower</th>\n",
       "      <th>weight</th>\n",
       "    </tr>\n",
       "  </thead>\n",
       "  <tbody>\n",
       "    <tr>\n",
       "      <th>0</th>\n",
       "      <td>18.0</td>\n",
       "      <td>8</td>\n",
       "      <td>130</td>\n",
       "      <td>3504</td>\n",
       "    </tr>\n",
       "    <tr>\n",
       "      <th>1</th>\n",
       "      <td>15.0</td>\n",
       "      <td>8</td>\n",
       "      <td>165</td>\n",
       "      <td>3693</td>\n",
       "    </tr>\n",
       "    <tr>\n",
       "      <th>2</th>\n",
       "      <td>18.0</td>\n",
       "      <td>8</td>\n",
       "      <td>150</td>\n",
       "      <td>3436</td>\n",
       "    </tr>\n",
       "    <tr>\n",
       "      <th>3</th>\n",
       "      <td>16.0</td>\n",
       "      <td>8</td>\n",
       "      <td>150</td>\n",
       "      <td>3433</td>\n",
       "    </tr>\n",
       "    <tr>\n",
       "      <th>4</th>\n",
       "      <td>17.0</td>\n",
       "      <td>8</td>\n",
       "      <td>140</td>\n",
       "      <td>3449</td>\n",
       "    </tr>\n",
       "  </tbody>\n",
       "</table>\n",
       "</div>"
      ],
      "text/plain": [
       "    mpg  cylinders horsepower  weight\n",
       "0  18.0          8        130    3504\n",
       "1  15.0          8        165    3693\n",
       "2  18.0          8        150    3436\n",
       "3  16.0          8        150    3433\n",
       "4  17.0          8        140    3449"
      ]
     },
     "execution_count": 50,
     "metadata": {},
     "output_type": "execute_result"
    }
   ],
   "source": [
    "import pandas as pd\n",
    "df = pd.read_excel(\"./dataset/auto-mpg.xlsx\")\n",
    "ndf = df[['mpg','cylinders','horsepower','weight']]\n",
    "ndf.head()"
   ]
  },
  {
   "cell_type": "code",
   "execution_count": 51,
   "id": "3689fa23",
   "metadata": {},
   "outputs": [],
   "source": [
    "X = ndf[['weight']]\n",
    "y = ndf['mpg']\n",
    "\n",
    "from sklearn.model_selection import train_test_split\n",
    "X_train, X_test, y_train, y_test = train_test_split(X,\n",
    "                                                   y,\n",
    "                                                   test_size = 0.3,\n",
    "                                                   random_state = 10)"
   ]
  },
  {
   "cell_type": "code",
   "execution_count": 52,
   "id": "93b1d8b3",
   "metadata": {},
   "outputs": [],
   "source": [
    "from sklearn.linear_model import LinearRegression\n",
    "from sklearn.preprocessing import PolynomialFeatures # 다항식 변환"
   ]
  },
  {
   "cell_type": "code",
   "execution_count": 53,
   "id": "13c6cb67",
   "metadata": {},
   "outputs": [
    {
     "name": "stdout",
     "output_type": "stream",
     "text": [
      "(278, 1)\n",
      "(278, 3)\n"
     ]
    }
   ],
   "source": [
    "poly = PolynomialFeatures(degree=2) # 객체 생성, degree=2 -> 2차원으로 \n",
    "X_train_poly = poly.fit_transform(X_train) # X_train을 변환\n",
    "\n",
    "# 2차항으로 바꿧는데 왜 3이 되었을까? -> 하나는 절편 x자승 x절편 -> 3개 나옴\n",
    "print(X_train.shape)\n",
    "print(X_train_poly.shape)"
   ]
  },
  {
   "cell_type": "code",
   "execution_count": 54,
   "id": "fffbe0f5",
   "metadata": {},
   "outputs": [
    {
     "data": {
      "text/plain": [
       "array([[1.0000000e+00, 2.7200000e+03, 7.3984000e+06],\n",
       "       [1.0000000e+00, 4.6150000e+03, 2.1298225e+07],\n",
       "       [1.0000000e+00, 2.1350000e+03, 4.5582250e+06],\n",
       "       [1.0000000e+00, 3.6200000e+03, 1.3104400e+07],\n",
       "       [1.0000000e+00, 2.4510000e+03, 6.0074010e+06]])"
      ]
     },
     "execution_count": 54,
     "metadata": {},
     "output_type": "execute_result"
    }
   ],
   "source": [
    "X_train_poly[:5]"
   ]
  },
  {
   "cell_type": "code",
   "execution_count": 35,
   "id": "01684d9b",
   "metadata": {},
   "outputs": [
    {
     "data": {
      "text/plain": [
       "['1', 'x0', 'x0^2']"
      ]
     },
     "execution_count": 35,
     "metadata": {},
     "output_type": "execute_result"
    }
   ],
   "source": [
    "# 차수 확인\n",
    "poly.get_feature_names()"
   ]
  },
  {
   "cell_type": "code",
   "execution_count": 55,
   "id": "2e677ec6",
   "metadata": {},
   "outputs": [
    {
     "data": {
      "text/plain": [
       "0.72554701541758"
      ]
     },
     "execution_count": 55,
     "metadata": {},
     "output_type": "execute_result"
    }
   ],
   "source": [
    "# 학습시킬때 X_train_poly사용\n",
    "\n",
    "pr = LinearRegression() # 객체 생성\n",
    "pr.fit(X_train_poly, y_train) # 학습시켜줌\n",
    "\n",
    "X_test_poly = poly.fit_transform(X_test) # X_test도 차수 변환\n",
    "r_square = pr.score(X_test_poly, y_test) \n",
    "r_square"
   ]
  },
  {
   "cell_type": "code",
   "execution_count": 56,
   "id": "230500cf",
   "metadata": {},
   "outputs": [
    {
     "name": "stdout",
     "output_type": "stream",
     "text": [
      "[ 0.00000000e+00 -1.69114181e-02  1.43451114e-06]\n",
      "60.405921782601645\n"
     ]
    }
   ],
   "source": [
    "print(pr.coef_) # 계수\n",
    "print(pr.intercept_) "
   ]
  },
  {
   "cell_type": "code",
   "execution_count": null,
   "id": "c5e02569",
   "metadata": {},
   "outputs": [],
   "source": [
    "# 2차로 축소한것 시각화\n",
    "# 직선보다 곡선으로 하는것이 더 잘 반영된다\n",
    "import matplotlib.pyplot as plt\n",
    "from sklearn.model_selection import train_test_split\n",
    "from sklearn.preprocessing import PolynomialFeatures\n",
    "from sklearn.linear_model import LinearRegression\n",
    "\n",
    "y_hat_test = pr.predict(X_test_poly)\n",
    "fig = plt.figure(figsize=(10,5))\n",
    "ax = fig.add_subplot(1,1,1)\n",
    "ax.plot(X_train,y_train,'o',label='Train Data')\n",
    "ax.plot(X_test,y_hat_test,'r+', label='Predicted Value')\n",
    "ax.legend(loc='best')\n",
    "plt.xlabel('weight')\n",
    "plt.ylabel('mpg')\n",
    "plt.show()\n",
    "plt.close()"
   ]
  },
  {
   "cell_type": "code",
   "execution_count": null,
   "id": "d5479308",
   "metadata": {},
   "outputs": [],
   "source": [
    "import numpy as np\n",
    "np.random.rand(100,1) # 0 ~ 1 균일분포"
   ]
  },
  {
   "cell_type": "code",
   "execution_count": 43,
   "id": "c6b412d6",
   "metadata": {},
   "outputs": [],
   "source": [
    "# [과제] X 데이터를 X_poly 데이터셋으로 변환하여 2차함수로 만들어진 데이터셋을 예측하고 시각화하세요\n",
    "import numpy as np\n",
    "np.random.seed(42)\n",
    "m = 100\n",
    "X = 6 * np.random.rand(m,1) - 3\n",
    "y = 0.5 * X**2 + X + 2 + np.random.randn(m,1)"
   ]
  },
  {
   "cell_type": "code",
   "execution_count": 44,
   "id": "6f7c9efe",
   "metadata": {},
   "outputs": [
    {
     "data": {
      "image/png": "[encoded data removed]",
      "text/plain": [
       "<Figure size 720x432 with 1 Axes>"
      ]
     },
     "metadata": {},
     "output_type": "display_data"
    }
   ],
   "source": [
    "from sklearn.model_selection import train_test_split\n",
    "from sklearn.preprocessing import PolynomialFeatures\n",
    "from sklearn.linear_model import LinearRegression\n",
    "\n",
    "\n",
    "X_train, X_test, y_train, y_test = train_test_split(X,y,test_size=0.3,random_state = 11)\n",
    "\n",
    "# 2차 다항식으로 바꿈\n",
    "poly = PolynomialFeatures(degree=2)\n",
    "X_train_poly = poly.fit_transform(X_train)\n",
    "X_test_poly = poly.fit_transform(X_test)\n",
    "\n",
    "# 훈련 및 학습\n",
    "lr = LinearRegression()\n",
    "lr.fit(X_train_poly,y_train)\n",
    "y_preds = lr.predict(X_test_poly)\n",
    "\n",
    "# 시각화\n",
    "fig = plt.figure(figsize=(10,6))\n",
    "ax = fig.add_subplot(1,1,1)\n",
    "ax.plot(X_train,y_train,'o',label='Train Data')\n",
    "ax.plot(X_test,y_preds,'r+', label='Predicted Value')\n",
    "ax.legend(loc='best')\n",
    "plt.show()\n",
    "plt.close()"
   ]
  },
  {
   "cell_type": "code",
   "execution_count": 45,
   "id": "e626208a",
   "metadata": {},
   "outputs": [
    {
     "data": {
      "text/plain": [
       "['1', 'x0', 'x0^2']"
      ]
     },
     "execution_count": 45,
     "metadata": {},
     "output_type": "execute_result"
    }
   ],
   "source": [
    "poly.get_feature_names()"
   ]
  },
  {
   "cell_type": "markdown",
   "id": "5f7b1767",
   "metadata": {},
   "source": [
    "### 다중 회귀분석\n",
    "- 여러 개의 독립변수가 종속변수에 영향을 주고 선형관계를 갖는 경우에 다중회귀분석을 사용\n",
    "- 다중 회귀분석 알고리즘은 각 독립 변수의 계수와 상수항에 적절한 값들을 찾아서 모형을 완성"
   ]
  },
  {
   "cell_type": "code",
   "execution_count": 46,
   "id": "afa045e8",
   "metadata": {},
   "outputs": [
    {
     "data": {
      "text/html": [
       "<div>\n",
       "<style scoped>\n",
       "    .dataframe tbody tr th:only-of-type {\n",
       "        vertical-align: middle;\n",
       "    }\n",
       "\n",
       "    .dataframe tbody tr th {\n",
       "        vertical-align: top;\n",
       "    }\n",
       "\n",
       "    .dataframe thead th {\n",
       "        text-align: right;\n",
       "    }\n",
       "</style>\n",
       "<table border=\"1\" class=\"dataframe\">\n",
       "  <thead>\n",
       "    <tr style=\"text-align: right;\">\n",
       "      <th></th>\n",
       "      <th>mpg</th>\n",
       "      <th>cylinders</th>\n",
       "      <th>horsepower</th>\n",
       "      <th>weight</th>\n",
       "    </tr>\n",
       "  </thead>\n",
       "  <tbody>\n",
       "    <tr>\n",
       "      <th>0</th>\n",
       "      <td>18.0</td>\n",
       "      <td>8</td>\n",
       "      <td>130.0</td>\n",
       "      <td>3504</td>\n",
       "    </tr>\n",
       "    <tr>\n",
       "      <th>1</th>\n",
       "      <td>15.0</td>\n",
       "      <td>8</td>\n",
       "      <td>165.0</td>\n",
       "      <td>3693</td>\n",
       "    </tr>\n",
       "    <tr>\n",
       "      <th>2</th>\n",
       "      <td>18.0</td>\n",
       "      <td>8</td>\n",
       "      <td>150.0</td>\n",
       "      <td>3436</td>\n",
       "    </tr>\n",
       "    <tr>\n",
       "      <th>3</th>\n",
       "      <td>16.0</td>\n",
       "      <td>8</td>\n",
       "      <td>150.0</td>\n",
       "      <td>3433</td>\n",
       "    </tr>\n",
       "    <tr>\n",
       "      <th>4</th>\n",
       "      <td>17.0</td>\n",
       "      <td>8</td>\n",
       "      <td>140.0</td>\n",
       "      <td>3449</td>\n",
       "    </tr>\n",
       "  </tbody>\n",
       "</table>\n",
       "</div>"
      ],
      "text/plain": [
       "    mpg  cylinders  horsepower  weight\n",
       "0  18.0          8       130.0    3504\n",
       "1  15.0          8       165.0    3693\n",
       "2  18.0          8       150.0    3436\n",
       "3  16.0          8       150.0    3433\n",
       "4  17.0          8       140.0    3449"
      ]
     },
     "execution_count": 46,
     "metadata": {},
     "output_type": "execute_result"
    }
   ],
   "source": [
    "import pandas as pd\n",
    "df = pd.read_pickle('./dataset/auto-mpg.pkl')\n",
    "df.head()"
   ]
  },
  {
   "cell_type": "code",
   "execution_count": 47,
   "id": "bcc85a73",
   "metadata": {},
   "outputs": [
    {
     "data": {
      "text/plain": [
       "0.6939"
      ]
     },
     "execution_count": 47,
     "metadata": {},
     "output_type": "execute_result"
    }
   ],
   "source": [
    "X = df.drop('mpg',axis=1) # cylinders, horespower, weight 독립변수\n",
    "y =df['mpg'] # 종속변수\n",
    "\n",
    "X_train, X_test, y_train, y_test = train_test_split(X, y, test_size=0.3, random_state=10)\n",
    "\n",
    "lr = LinearRegression() # 객체 생성\n",
    "lr.fit(X_train, y_train) # X_train은 변수가 3개\n",
    "\n",
    "y_preds = lr.predict(X_test) # 예측\n",
    "r_square = lr.score(X_test,y_test)\n",
    "round(r_square,4)"
   ]
  },
  {
   "cell_type": "code",
   "execution_count": null,
   "id": "d80e97fe",
   "metadata": {},
   "outputs": [],
   "source": [
    "# Q. mse, rmse, r_square(r2_score) 기울기, 절편"
   ]
  },
  {
   "cell_type": "code",
   "execution_count": null,
   "id": "a80be4f1",
   "metadata": {},
   "outputs": [],
   "source": [
    "# [과제] y_test, y_hat 을 하나의 그래프로 비교하여 시각화"
   ]
  },
  {
   "cell_type": "markdown",
   "id": "494b3aea",
   "metadata": {},
   "source": [
    "[과제] 아래 Boston 데이터 셋으로 보스턴 주택 가격 예측 모델을 만들고 평가하세요."
   ]
  },
  {
   "cell_type": "code",
   "execution_count": 48,
   "id": "4b2f2686",
   "metadata": {},
   "outputs": [
    {
     "data": {
      "text/html": [
       "<div>\n",
       "<style scoped>\n",
       "    .dataframe tbody tr th:only-of-type {\n",
       "        vertical-align: middle;\n",
       "    }\n",
       "\n",
       "    .dataframe tbody tr th {\n",
       "        vertical-align: top;\n",
       "    }\n",
       "\n",
       "    .dataframe thead th {\n",
       "        text-align: right;\n",
       "    }\n",
       "</style>\n",
       "<table border=\"1\" class=\"dataframe\">\n",
       "  <thead>\n",
       "    <tr style=\"text-align: right;\">\n",
       "      <th></th>\n",
       "      <th>CRIM</th>\n",
       "      <th>ZN</th>\n",
       "      <th>INDUS</th>\n",
       "      <th>CHAS</th>\n",
       "      <th>NOX</th>\n",
       "      <th>RM</th>\n",
       "      <th>AGE</th>\n",
       "      <th>DIS</th>\n",
       "      <th>RAD</th>\n",
       "      <th>TAX</th>\n",
       "      <th>PTRATIO</th>\n",
       "      <th>B</th>\n",
       "      <th>LSTAT</th>\n",
       "      <th>PRICE</th>\n",
       "    </tr>\n",
       "  </thead>\n",
       "  <tbody>\n",
       "    <tr>\n",
       "      <th>0</th>\n",
       "      <td>0.00632</td>\n",
       "      <td>18.0</td>\n",
       "      <td>2.31</td>\n",
       "      <td>0.0</td>\n",
       "      <td>0.538</td>\n",
       "      <td>6.575</td>\n",
       "      <td>65.2</td>\n",
       "      <td>4.0900</td>\n",
       "      <td>1.0</td>\n",
       "      <td>296.0</td>\n",
       "      <td>15.3</td>\n",
       "      <td>396.90</td>\n",
       "      <td>4.98</td>\n",
       "      <td>24.0</td>\n",
       "    </tr>\n",
       "    <tr>\n",
       "      <th>1</th>\n",
       "      <td>0.02731</td>\n",
       "      <td>0.0</td>\n",
       "      <td>7.07</td>\n",
       "      <td>0.0</td>\n",
       "      <td>0.469</td>\n",
       "      <td>6.421</td>\n",
       "      <td>78.9</td>\n",
       "      <td>4.9671</td>\n",
       "      <td>2.0</td>\n",
       "      <td>242.0</td>\n",
       "      <td>17.8</td>\n",
       "      <td>396.90</td>\n",
       "      <td>9.14</td>\n",
       "      <td>21.6</td>\n",
       "    </tr>\n",
       "    <tr>\n",
       "      <th>2</th>\n",
       "      <td>0.02729</td>\n",
       "      <td>0.0</td>\n",
       "      <td>7.07</td>\n",
       "      <td>0.0</td>\n",
       "      <td>0.469</td>\n",
       "      <td>7.185</td>\n",
       "      <td>61.1</td>\n",
       "      <td>4.9671</td>\n",
       "      <td>2.0</td>\n",
       "      <td>242.0</td>\n",
       "      <td>17.8</td>\n",
       "      <td>392.83</td>\n",
       "      <td>4.03</td>\n",
       "      <td>34.7</td>\n",
       "    </tr>\n",
       "    <tr>\n",
       "      <th>3</th>\n",
       "      <td>0.03237</td>\n",
       "      <td>0.0</td>\n",
       "      <td>2.18</td>\n",
       "      <td>0.0</td>\n",
       "      <td>0.458</td>\n",
       "      <td>6.998</td>\n",
       "      <td>45.8</td>\n",
       "      <td>6.0622</td>\n",
       "      <td>3.0</td>\n",
       "      <td>222.0</td>\n",
       "      <td>18.7</td>\n",
       "      <td>394.63</td>\n",
       "      <td>2.94</td>\n",
       "      <td>33.4</td>\n",
       "    </tr>\n",
       "    <tr>\n",
       "      <th>4</th>\n",
       "      <td>0.06905</td>\n",
       "      <td>0.0</td>\n",
       "      <td>2.18</td>\n",
       "      <td>0.0</td>\n",
       "      <td>0.458</td>\n",
       "      <td>7.147</td>\n",
       "      <td>54.2</td>\n",
       "      <td>6.0622</td>\n",
       "      <td>3.0</td>\n",
       "      <td>222.0</td>\n",
       "      <td>18.7</td>\n",
       "      <td>396.90</td>\n",
       "      <td>5.33</td>\n",
       "      <td>36.2</td>\n",
       "    </tr>\n",
       "  </tbody>\n",
       "</table>\n",
       "</div>"
      ],
      "text/plain": [
       "      CRIM    ZN  INDUS  CHAS    NOX     RM   AGE     DIS  RAD    TAX  \\\n",
       "0  0.00632  18.0   2.31   0.0  0.538  6.575  65.2  4.0900  1.0  296.0   \n",
       "1  0.02731   0.0   7.07   0.0  0.469  6.421  78.9  4.9671  2.0  242.0   \n",
       "2  0.02729   0.0   7.07   0.0  0.469  7.185  61.1  4.9671  2.0  242.0   \n",
       "3  0.03237   0.0   2.18   0.0  0.458  6.998  45.8  6.0622  3.0  222.0   \n",
       "4  0.06905   0.0   2.18   0.0  0.458  7.147  54.2  6.0622  3.0  222.0   \n",
       "\n",
       "   PTRATIO       B  LSTAT  PRICE  \n",
       "0     15.3  396.90   4.98   24.0  \n",
       "1     17.8  396.90   9.14   21.6  \n",
       "2     17.8  392.83   4.03   34.7  \n",
       "3     18.7  394.63   2.94   33.4  \n",
       "4     18.7  396.90   5.33   36.2  "
      ]
     },
     "execution_count": 48,
     "metadata": {},
     "output_type": "execute_result"
    }
   ],
   "source": [
    "from sklearn.datasets import load_boston\n",
    "\n",
    "boston = load_boston()\n",
    "boston_df = pd.DataFrame(boston.data, columns = boston.feature_names)\n",
    "boston_df['PRICE'] = boston.target\n",
    "boston_df.head()"
   ]
  },
  {
   "cell_type": "code",
   "execution_count": null,
   "id": "f6074eeb",
   "metadata": {},
   "outputs": [],
   "source": []
  },
  {
   "cell_type": "code",
   "execution_count": null,
   "id": "746dacd9",
   "metadata": {},
   "outputs": [],
   "source": []
  },
  {
   "cell_type": "code",
   "execution_count": null,
   "id": "66e1aa6b",
   "metadata": {},
   "outputs": [],
   "source": []
  },
  {
   "cell_type": "code",
   "execution_count": null,
   "id": "17fb5bd8",
   "metadata": {},
   "outputs": [],
   "source": []
  },
  {
   "cell_type": "code",
   "execution_count": null,
   "id": "a3ba7980",
   "metadata": {},
   "outputs": [],
   "source": []
  }
 ],
 "metadata": {
  "kernelspec": {
   "display_name": "Python 3 (ipykernel)",
   "language": "python",
   "name": "python3"
  },
  "language_info": {
   "codemirror_mode": {
    "name": "ipython",
    "version": 3
   },
   "file_extension": ".py",
   "mimetype": "text/x-python",
   "name": "python",
   "nbconvert_exporter": "python",
   "pygments_lexer": "ipython3",
   "version": "3.8.12"
  }
 },
 "nbformat": 4,
 "nbformat_minor": 5
}
