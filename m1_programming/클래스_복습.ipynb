{
 "cells": [
  {
   "cell_type": "markdown",
   "id": "0cd532ed",
   "metadata": {},
   "source": [
    "## 클래스\n",
    "클래스(class)란 똑같은 무엇인가를 계속해서 만들어 낼 수 있는 설계 도면이고(과자 틀), 객체(object)란 클래스로 만든 피조물(과자 틀을 사용해 만든 과자)을 뜻한다. 과자 틀 → 클래스 (class) 과자 틀에 의해서 만들어진 과자 → 객체 (object)\n",
    "   - class : 설계, 틀이며 메소드(동작)과 속성(기능)으로 이루어짐 ex) 자동차 설계도\n",
    "   - 객체 : 클래스를 써서 만든 실체 ex) 자동차 설계도면을 가지고 만든 실체 자동차\n",
    "   - 오브젝트(object) == 인스턴스(instance)\n",
    "   - 클래스를 정의한 후, 그 클래스를 사용해서 데이터 객체(인스턴스)를 만들 수 있다.\n",
    "   - 동일한 클래스에 의해 만들어진 각 객체들은 유사한 특징을 공유한다.\n",
    "   - 모든 인스턴스에서 메소드(=코드)는 동일하지만, 속성(데이터)는 다르다.\n",
    "        - 메소드 : 기능, 동작 ex) 자동차의 기능 뒤로가기 앞으로가기 깜박이 키다\n",
    "        - 속성 : 데이터 ex) 자동차 색깔, 엔진, 바퀴수, 시트\n",
    "        - 인스턴스 : 클래스에 의해 만들어진 데이터 객체\n",
    "        - a = 클래스() 이렇게 만든  a는 객체이다. 그리고  a 객체는 클래스의 인스턴스이다. 즉 인스턴스라는 말은 특정 객체(a)가 어떤 클래스의 객체인지를 관계 위주로 설명할 때 사용"
   ]
  },
  {
   "cell_type": "code",
   "execution_count": 2,
   "id": "51d8279c",
   "metadata": {},
   "outputs": [
    {
     "name": "stdout",
     "output_type": "stream",
     "text": [
      "차량의 시동을 켭니다.\n"
     ]
    }
   ],
   "source": [
    "class car:\n",
    "    def on(self):\n",
    "        print('차량의 시동을 켭니다.')\n",
    "    \n",
    "ray = car()  # ray는 객체 object\n",
    "ray.on() # ray객체(object)는 car클래스(class)의 인스턴트(instance)"
   ]
  },
  {
   "cell_type": "code",
   "execution_count": 5,
   "id": "f6e14d83",
   "metadata": {},
   "outputs": [
    {
     "name": "stdout",
     "output_type": "stream",
     "text": [
      "__init__()메서드를 통해 객체를 초기화 했습니다.\n",
      "[]\n",
      "[10]\n"
     ]
    }
   ],
   "source": [
    "# 메서드(method) 속성은 클래스 안에서 구현하는 함수를 말합니다. \n",
    "# 메서드의 첫 번째 매개변수 이름은 클래스의 인스턴스 자신입니다. 따라서 관례적으로 self 라는 이름으로 사용합니다.\n",
    "\n",
    "class example():  # example라는 이름의 클래스 생성.\n",
    "    def __init__(self):\n",
    "        self.ary=[]\n",
    "        print('__init__()메서드를 통해 객체를 초기화 했습니다.')\n",
    "        \n",
    "    # 메서드를 하나 정의\n",
    "    def ary_append(self, item):  # 첫 번째 인수는 self 임을 확인!\n",
    "        self.ary.append(item)\n",
    "        \n",
    "\n",
    "ex1 = example()\n",
    "print(ex1.ary)\n",
    "\n",
    "ex1.ary_append(10)\n",
    "print(ex1.ary)"
   ]
  },
  {
   "cell_type": "code",
   "execution_count": 24,
   "id": "44de377a",
   "metadata": {},
   "outputs": [
    {
     "name": "stdout",
     "output_type": "stream",
     "text": [
      "kkyxxn\n",
      "25\n",
      "computer\n"
     ]
    }
   ],
   "source": [
    "# 클래스 생성자(인자가 있는 경우)\n",
    "\n",
    "class Cakd:\n",
    "    def __init__(self, name, age, major):  # 생성자->  __init__  , self는 객체 \n",
    "        self.name = name # 각각의 인자 값(name, age, major)을 self.name 에 저장\n",
    "        self.age = age\n",
    "        self.major = major\n",
    "            #         print(f'{self.name}는 {self.age}세이며 {self.major}을 전공했습니다')\n",
    "kkyxxn = Cakd('kkyxxn', 25,'computer') # 객체를 생성해줌-> 객체를 만들때(속성값을 입력)\n",
    "print(kkyxxn.name) # 객체.name\n",
    "print(kkyxxn.age)\n",
    "print(kkyxxn.major)"
   ]
  },
  {
   "cell_type": "code",
   "execution_count": 28,
   "id": "5ad2bbc1",
   "metadata": {},
   "outputs": [
    {
     "name": "stdout",
     "output_type": "stream",
     "text": [
      "Cakd 인스턴스 객체가 메모리에서 제거됩니다.\n"
     ]
    }
   ],
   "source": [
    "# 클래스 소멸자\n",
    "# 클래스 인스턴스 객체가 메모리에서 제거될 때 자동으로 호출되는 메소드\n",
    "class Cakd:\n",
    "    def __del__(self):\n",
    "        print('Cakd 인스턴스 객체가 메모리에서 제거됩니다.')\n",
    "        \n",
    "obj = Cakd()\n",
    "del obj"
   ]
  },
  {
   "cell_type": "markdown",
   "id": "84511b50",
   "metadata": {},
   "source": [
    "### 클래스 멤버, 클래스 메소드\n",
    "   - 클래스를 구성하는 주요 요소는 클래스 멤버(변수)와 클래스 메소드(함수)로 클래스 공간내에서 정의\n",
    "   - 클래스 멤버는 클래스 메소드내에서 정의되는 지역변수나 인스턴스 멤버와는 다름\n",
    "   - 클래스 메소드는 첫번째 인자가 반드시 self로 시작\n",
    "   - self는 이 클래스의 인스턴스 객체를 가리키는 참조자\n",
    "   - 인스턴스 객체에서 클래스 메소드를 호출 시 첫번째 인자인 self 생략"
   ]
  },
  {
   "cell_type": "markdown",
   "id": "d200a335",
   "metadata": {},
   "source": [
    "#### 클래스\n",
    "- 객체지향 프로그래밍의 기본 단위\n",
    "- 속성(상태)와 메서드(행동)을 갖는다.\n",
    "- 객체의 구조와 행동을 정의\n",
    "- 초기화를 통해 제어\n",
    "- 복잡한 문제를 다루기 쉽게 만든다.\n",
    "\n",
    "#### 멤버\n",
    "- =클래스 내부 변수(멤버 변수)\n",
    "- method, property, class variable, instance variable, initinalizer, destructor 등이 멤버이다.\n",
    "\n",
    "#### 메서드\n",
    "- =클래스 내부 함수\n",
    "- 크게 인스턴스 메서드, 클래스 메서드, 정적 메서드로 구성\n",
    "- 초기자(Initializer)\n",
    "    - __init__()의 형태\n",
    "    - 클래스로 객체를 만들 때마다 인스턴스 변수를 초기화하기 위해서 실행\n",
    "    - self의 형태로 변수를 할당하여 계속 사용할 수 있게 준비한다.\n",
    "\n",
    "#### 인스턴스 메서드(Instance Methods)\n",
    "- 내부에 액세스 하기 위해 self 인수를 갖음\n",
    "\n",
    "#### 클래스 메서드(Class Methods)\n",
    "- self 대신 cls인자를 사용\n",
    "- class에 인자를 전달해줌\n",
    "\n",
    "#### 스태틱 메서드(Static Methods)\n",
    "- 인스턴스나 클래스를 인자로 받지 않는 메소드\n",
    "- 일반 함수와 큰 차이 없음"
   ]
  },
  {
   "cell_type": "code",
   "execution_count": 41,
   "id": "d3b3d611",
   "metadata": {},
   "outputs": [
    {
     "name": "stdout",
     "output_type": "stream",
     "text": [
      "3\n"
     ]
    }
   ],
   "source": [
    "# 인스턴스 메서드 -> 내부에 엑세스 하기 위해서는 self 인수를 가짐\n",
    "class Calculator:\n",
    "    def __init__(self,a,b):\n",
    "        self.a = a\n",
    "        self.b = b\n",
    "        \n",
    "    def add(self):\n",
    "        return (self.a + self.b)\n",
    "\n",
    "order = Calculator(1,2)\n",
    "print(order.add())"
   ]
  },
  {
   "cell_type": "code",
   "execution_count": 42,
   "id": "a0dea21a",
   "metadata": {},
   "outputs": [
    {
     "name": "stdout",
     "output_type": "stream",
     "text": [
      "안녕하세요\n",
      "안녕하세요\n"
     ]
    }
   ],
   "source": [
    "class MyClass:\n",
    "    var = '안녕하세요' # 클래스 멤버 var 설정\n",
    "    def sayHello(self): # 클래스 메소드 sayHello 생성\n",
    "        return self.var # 반환값 할당\n",
    "    \n",
    "obj = MyClass() # obj 객체를 만듬 -> MyClass를 이용하여\n",
    "print(obj.var) # obj 객체 사용 -> 클래스에 있는 변수를 사용\n",
    "print(obj.sayHello())    # obj 객체 사용 -> 클래스에 있는 메소드를 씀 -> 메소드 내용이 self.var를 return 하므로 -> '안녕하세요' 출력'"
   ]
  },
  {
   "cell_type": "code",
   "execution_count": 43,
   "id": "8ce61f79",
   "metadata": {},
   "outputs": [
    {
     "name": "stdout",
     "output_type": "stream",
     "text": [
      "안녕하세요\n",
      "안녕\n",
      "안녕하세요\n"
     ]
    }
   ],
   "source": [
    "# 클래스 멤버와 인스턴스 멤버\n",
    "# 클래스 멤버는 클래스 메소드 바깥에서 선언되고 인스턴스 멤버는 클래스 메소드 안에서 self와 함께 선언\n",
    "\n",
    "class MyClass:\n",
    "    var = '안녕하세요' # 클래스 멤버\n",
    "    def sayHello(self): # 클래스 메소드\n",
    "        param1 = '안녕' # 지역 변수\n",
    "        self.param2 = '하이' # 인스턴스 멤버\n",
    "        print(param1)\n",
    "        print(self.var)\n",
    "        \n",
    "obj = MyClass()\n",
    "print(obj.var)\n",
    "obj.sayHello()"
   ]
  },
  {
   "cell_type": "code",
   "execution_count": 49,
   "id": "d0d8ce05",
   "metadata": {},
   "outputs": [
    {
     "name": "stdout",
     "output_type": "stream",
     "text": [
      "안녕하세요\n",
      "철수야! 다음에 보자\n"
     ]
    }
   ],
   "source": [
    "# 클래스 메소드\n",
    "# 클래스내에서 정의되는 클래스 메소드는 첫번째 인자가 반드시 self여야 한다\n",
    "\n",
    "class MyClass: # 두개의 클래스 메소드 생성\n",
    "    def sayHello(self): # 인자 없는것\n",
    "        print('안녕하세요')\n",
    "    def sayBye(self,name): # 인자 name 있는것\n",
    "        print(f'{name}! 다음에 보자')\n",
    "        \n",
    "obj=MyClass() # myclass를 가지고 객체를 만들어줌 obj\n",
    "obj.sayHello()\n",
    "obj.sayBye('철수야')"
   ]
  },
  {
   "cell_type": "markdown",
   "id": "382c0316",
   "metadata": {},
   "source": [
    "### 객체 지향 프로그래밍(Object-Oriented Programming)\n",
    "   - 클래스 인스턴스는 객체(Object)라고도 하며 이렇게 클래스를 정의하고 객체를 만드는 패턴을 객체 지향 프로그래밍(OOP)이라고 함\n",
    "   - 인스턴스를 불러온다는 것은 클래스를 가져와 객체로 바꿔준다는 것인데 type() 함수를 사용하는 것은 그 반대\n",
    "   - 객체의 type을 확인해 보면 해당 객체가 어떤 클래스의 인스턴스인지를 확인\n",
    "   -  파이썬에서 main은 \"현재 실행중인 파일\"을 의미"
   ]
  },
  {
   "cell_type": "code",
   "execution_count": 52,
   "id": "057d698d",
   "metadata": {},
   "outputs": [
    {
     "name": "stdout",
     "output_type": "stream",
     "text": [
      "<class '__main__.Test123'>\n"
     ]
    }
   ],
   "source": [
    "# 임의의 클래스를 작성한 후 인스턴스를 생성하고 그것의 타입을 확인\n",
    "class Test123:\n",
    "    pass\n",
    "\n",
    "test = Test123() # 객체 생성\n",
    "print(type(test)) # 객체가 어떤 class에서 만들어 졌는지 확인 __main__ -> 현재 실행중"
   ]
  },
  {
   "cell_type": "markdown",
   "id": "40becff0",
   "metadata": {},
   "source": [
    "### 클래스 상속\n",
    " - 어떤 클래스가 가지고 있는 모든 멤버나 메소드에 대해서 상속받는 클래스가 모두 사용할 수 있도록 해주는 것\n",
    " - 상속을 해주는 클래스가 부모클래스(슈퍼), 상속을 받는 클래스가 자식클래스(서브)라 함. -> class 자식클래스명(부모클래스명)\n",
    " - 자식 클래스는 여러 부모클래스로 부터 상속받을 수 있으며 다중상속이라 함. class 자식클래스명(부모클래스1, 부모클래스2,...)"
   ]
  },
  {
   "cell_type": "code",
   "execution_count": 54,
   "id": "48066d73",
   "metadata": {},
   "outputs": [
    {
     "name": "stdout",
     "output_type": "stream",
     "text": [
      "3\n",
      "6\n",
      "2\n"
     ]
    }
   ],
   "source": [
    "class Sum:\n",
    "    def sum(self, n1,n2): # n1, n2의 인자값을 생성\n",
    "        return n1+n2\n",
    "    \n",
    "class Mul:\n",
    "    def mul(self, n1,n2):\n",
    "        return n1*n2\n",
    "        \n",
    "class Cal(Sum,Mul): # sum이랑 mul이란 class가 이미 존재하니까 -> 상속받아서 가져다 써야지 \n",
    "    def sub(self,n1,n2): # 새로운 기능 추가 뺄셈 기능\n",
    "        return n1 - n2 # 결국 cal이란 calss는 결국 덧셈, 곱셈, 뺄셈 다 가능\n",
    "    \n",
    "obj = Cal() # 새로운 객체 생성\n",
    "print(obj.sum(1,2))\n",
    "print(obj.mul(3,2))\n",
    "print(obj.sub(5,3))"
   ]
  },
  {
   "cell_type": "code",
   "execution_count": null,
   "id": "a28b955f",
   "metadata": {},
   "outputs": [],
   "source": [
    "# Q. 클래스 MyClass를 작성하고 객체를 생성하여 아래와 같이 출력하세요(생성자 사용)\n",
    "# kevin, 안녕하세요\n",
    "# kevin! 다음에 보자"
   ]
  },
  {
   "cell_type": "code",
   "execution_count": 17,
   "id": "916df83f",
   "metadata": {},
   "outputs": [
    {
     "name": "stdout",
     "output_type": "stream",
     "text": [
      "김철수, 안녕하세요\n",
      "김철수, 다음에 보자\n"
     ]
    }
   ],
   "source": [
    "class MyClass:\n",
    "    def __init__(self,name):\n",
    "        self.name= name\n",
    "    def sayHello(self):\n",
    "        print(f'{self.name}, 안녕하세요')\n",
    "    def sayBye(self):\n",
    "        print(f'{self.name}, 다음에 보자')\n",
    "\n",
    "obj=MyClass('김철수')\n",
    "obj.sayHello()\n",
    "obj.sayBye()"
   ]
  },
  {
   "cell_type": "code",
   "execution_count": 19,
   "id": "beaf0558",
   "metadata": {},
   "outputs": [
    {
     "name": "stdout",
     "output_type": "stream",
     "text": [
      "추가 가격을 입력하세요 > 1000000000\n",
      "가격 : 1000001000원\n"
     ]
    }
   ],
   "source": [
    "# 사용자 함수를 작성하여 기본가격 1000원에 입력 받은 값을 추가한 가격을 산출하세요.(지역변수, 전역변수 2가지 방법)\n",
    "p = int(input('추가 가격을 입력하세요 > '))\n",
    "def price(p):  # 지역변수 -> 함수 메소드 안에 있음\n",
    "    b=1000 # 초기값 설정\n",
    "    b+=p \n",
    "    return b\n",
    "print(f'가격 : {price(p)}원')"
   ]
  },
  {
   "cell_type": "code",
   "execution_count": 21,
   "id": "c095054b",
   "metadata": {},
   "outputs": [
    {
     "name": "stdout",
     "output_type": "stream",
     "text": [
      "추가 입력> 1000000000\n",
      "가격 : 1000001000원\n"
     ]
    }
   ],
   "source": [
    "# 전역변수 -> global 변수 사용\n",
    "b=1000 # 함수 밖에 변수 선언\n",
    "def price():\n",
    "    global b # 밖에 있는 전역변수 사용가능\n",
    "    p = int(input('추가 입력> ')) # 추가 가격 입력 받음\n",
    "    b+=p # b = b + p\n",
    "    return b\n",
    "print(f'가격 : {price()}원')"
   ]
  },
  {
   "cell_type": "code",
   "execution_count": null,
   "id": "1ba352a5",
   "metadata": {},
   "outputs": [],
   "source": [
    "# [과제] 4칙 연산 기능을 포함한 Cal4 클래스(생성자 이용)을 작성하고 이 클래스를 이용하여 Cal 계산기 객체를 만든 후 \n",
    "# 적절한 수를 적용하여 사칙연산 수행 결과를 출력하세요."
   ]
  },
  {
   "cell_type": "code",
   "execution_count": 64,
   "id": "68d52e12",
   "metadata": {},
   "outputs": [
    {
     "name": "stdout",
     "output_type": "stream",
     "text": [
      "첫번째 정수 입력>5\n",
      "두번째 정수 입력>10\n",
      "더하기 : 15, 빼기 : -5, 곱하기 : 50, 나누기 : 0.5\n"
     ]
    }
   ],
   "source": [
    "class Cal4:\n",
    "    def __init__(self,num1,num2):\n",
    "        self.num1=num1\n",
    "        self.num2=num2\n",
    "    def add(self):\n",
    "        return self.num1+self.num2\n",
    "    def sub(self):\n",
    "        return self.num1-self.num2\n",
    "    def mul(self):\n",
    "        return self.num1*self.num2\n",
    "    def div(self):\n",
    "        return round(self.num1/self.num2,2)\n",
    "while 1:\n",
    "    try:\n",
    "        num1=int(input(\"첫번째 정수 입력>\"))\n",
    "        num2=int(input(\"두번째 정수 입력>\"))\n",
    "        break\n",
    "    except:\n",
    "        print(\"올바른 값을 입력하세요.\")\n",
    "cal=Cal4(num1,num2) # Cal 계산기 객체 생성\n",
    "print(f'더하기 : {cal.add()}, 빼기 : {cal.sub()}, 곱하기 : {cal.mul()}, 나누기 : {cal.div()}')"
   ]
  },
  {
   "cell_type": "code",
   "execution_count": 68,
   "id": "88f95876",
   "metadata": {},
   "outputs": [
    {
     "name": "stdout",
     "output_type": "stream",
     "text": [
      "첫 번째 숫자 입력 >5\n",
      "첫 번째 숫자 입력 >ㅁㄴ\n",
      "숫자만 입력해 \n",
      "\n",
      "첫 번째 숫자 입력 >5\n",
      "첫 번째 숫자 입력 >19\n",
      "\n",
      "5+19  = 24\n",
      "5 - 19 = -14\n",
      "5 * 19 = 95\n",
      "5 / 19 = 0.2631578947368421\n"
     ]
    }
   ],
   "source": [
    "class Cal():\n",
    "    def __init__(cal,x,y):\n",
    "        cal.x =x \n",
    "        cal.y =y\n",
    "    \n",
    "    def getSum(cal):\n",
    "        print(f'{cal.x}+{cal.y}  = {cal.x+cal.y}')\n",
    "    def getSub(cal):\n",
    "        print(f'{cal.x} - {cal.y} = {cal.x-cal.y}')\n",
    "    def getMul(cal):\n",
    "        print(f'{cal.x} * {cal.y} = {cal.x*cal.y}')\n",
    "    def getDiv(cal):\n",
    "        print(f'{cal.x} / {cal.y} = {cal.x/cal.y}')\n",
    "            \n",
    "    def getAll(cal):\n",
    "        cal.getSum()\n",
    "        cal.getSub()\n",
    "        cal.getMul()\n",
    "        cal.getDiv()\n",
    "    \n",
    "while 1: # 무한 반복\n",
    "    try: #  예외처리\n",
    "              x = int(input('첫 번째 숫자 입력 >'))\n",
    "              y = int(input('첫 번째 숫자 입력 >'))\n",
    "              if y ==0: # y가 0이면\n",
    "                  prnit('0이 아닌 숫자로 입력해주세요.','\\n') # 해당 문구 출력\n",
    "                  continue # pass 다시 위로\n",
    "    except ValueError: # 예외처리 valueError면 \n",
    "              print('숫자만 입력해','\\n') # 해당 문구 처리\n",
    "    else: # 그외\n",
    "              print()\n",
    "              cal=Cal(x,y) # cal 객체 생성\n",
    "              cal.getAll()\n",
    "              break\n",
    "              "
   ]
  },
  {
   "cell_type": "code",
   "execution_count": 89,
   "id": "109e5aa4",
   "metadata": {},
   "outputs": [
    {
     "name": "stdout",
     "output_type": "stream",
     "text": [
      "2000\n",
      "3000\n",
      "4000\n"
     ]
    }
   ],
   "source": [
    "# 기본가격 1000원인 3개의 상품에 대하여 임의의 추가 가격을 인수로 대입시 더한 가격을 산출하세요.(클래스를 이용)\n",
    "class Order:\n",
    "    def __init__(self):\n",
    "        self.p = 1000 # 기본가격 1000원 세팅\n",
    "    def order(self,price): # 추가 가격 더한 값 리턴해주는 사용자 함수 생성\n",
    "        self.p+=price\n",
    "        return self.p\n",
    "\n",
    "pd1 = Order() # Order라는 클래스를 가지고 객체를 만들어줌\n",
    "pd2 = Order()\n",
    "pd3 = Order()\n",
    "\n",
    "print(pd1.order(1000)) # 객체는 Order라는 class의 자원을 다 활용할 수 있음 \n",
    "print(pd2.order(2000))\n",
    "print(pd3.order(3000))"
   ]
  },
  {
   "cell_type": "code",
   "execution_count": null,
   "id": "80abe8e2",
   "metadata": {},
   "outputs": [],
   "source": [
    "# 기본가격 1000원인 2개의 상품에 대하여 임의의 추가 가격을 입력시 아래 두개의 방식으로 산출하세요(CLASS 이용)\n",
    "# price1 : 기본가격 + 추가가격\n",
    "# price2 : (기본가격 + 추가가격) * 90%"
   ]
  },
  {
   "cell_type": "code",
   "execution_count": 73,
   "id": "45a058cf",
   "metadata": {},
   "outputs": [
    {
     "name": "stdout",
     "output_type": "stream",
     "text": [
      "2000\n",
      "1800\n"
     ]
    }
   ],
   "source": [
    "class order:\n",
    "    def __init__(self):\n",
    "        self.basic =1000\n",
    "    def hund(self,alpha):\n",
    "        return self.basic+alpha\n",
    "    def discount(self, alpha):\n",
    "        return round((self.basic+alpha)*0.9)\n",
    "a=order()\n",
    "b=order()\n",
    "\n",
    "print(a.hund(1000))\n",
    "print(b.discount(1000))"
   ]
  },
  {
   "cell_type": "code",
   "execution_count": null,
   "id": "a37dfeb0",
   "metadata": {},
   "outputs": [],
   "source": [
    "# 업무미팅이 2시임을 알려주는 자동 이메일을 클래스 AutoEmail을 작성하여 아래와 같이 출력하세요.\n",
    "# 안녕하세요. Kevin님, 업무미팅은 2시입니다.\n",
    "# 참조 url -> https://ebbnflow.tistory.com/255"
   ]
  },
  {
   "cell_type": "code",
   "execution_count": 75,
   "id": "2b798756",
   "metadata": {},
   "outputs": [
    {
     "name": "stdout",
     "output_type": "stream",
     "text": [
      "1000\n",
      "1000원\n"
     ]
    }
   ],
   "source": [
    "# 오버라이딩\n",
    "# Order 클래스를 상속받아 extraOrder 클래스에서 메소드 오버라이딩하여 출력가격에 원이 추가되도록 출력하세요.\n",
    "class Order:\n",
    "    def __init__(self, name):\n",
    "        self.customer = 0\n",
    "        self.name = name\n",
    "    def order(self,price):\n",
    "        self.customer += price\n",
    "        return self.customer\n",
    "    \n",
    "class ExtraOrder(Order):\n",
    "    def order(self,price):\n",
    "        self.customer += price\n",
    "        return str(self.customer)+'원'\n",
    "    \n",
    "order = Order('kevin')\n",
    "print(order.order(1000))\n",
    "    \n",
    "extraCustomer = ExtraOrder('kevin')\n",
    "print(extraCustomer.order(1000))"
   ]
  },
  {
   "cell_type": "code",
   "execution_count": 78,
   "id": "9aa40a4f",
   "metadata": {},
   "outputs": [
    {
     "data": {
      "text/plain": [
       "''"
      ]
     },
     "execution_count": 78,
     "metadata": {},
     "output_type": "execute_result"
    }
   ],
   "source": [
    "# 인터프리터에서 마지막 실행결과 값을 가지는 변수로 사용\n",
    "1+1\n",
    "_"
   ]
  },
  {
   "cell_type": "code",
   "execution_count": 79,
   "id": "29262609",
   "metadata": {},
   "outputs": [
    {
     "name": "stdout",
     "output_type": "stream",
     "text": [
      "hello world!\n",
      "hello world!\n",
      "hello world!\n",
      "hello world!\n",
      "hello world!\n",
      "\n",
      "0\n",
      "1\n",
      "2\n",
      "\n",
      "1 2\n"
     ]
    }
   ],
   "source": [
    "# 변수 값을 굳이 사용할 필요가 없는 경우\n",
    "for _ in range(5):\n",
    "    print('hello world!')\n",
    "print()    \n",
    "for _ in range(3):\n",
    "    print(_)\n",
    "print()\n",
    "def values():\n",
    "    return (1,2,3,4) # 튜플을 반환\n",
    "\n",
    "a, b, _, _ = values() # 반환된 튜플 값중 2개만 필요\n",
    "print(a,b)"
   ]
  },
  {
   "cell_type": "code",
   "execution_count": 80,
   "id": "6c07facf",
   "metadata": {},
   "outputs": [
    {
     "name": "stdout",
     "output_type": "stream",
     "text": [
      "<class '__main__.Order'>\n"
     ]
    }
   ],
   "source": [
    "# 예약어를 변수명으로 사용할 수 없는 경우\n",
    "class Order:\n",
    "    def __init__(self):\n",
    "        self.coffee = 'Americano'\n",
    "        self.price = 3000\n",
    "        \n",
    "def printClassName(class_):        \n",
    "        print(class_)\n",
    "        \n",
    "order = Order()\n",
    "printClassName(order.__class__)"
   ]
  },
  {
   "cell_type": "code",
   "execution_count": 90,
   "id": "42371c5d",
   "metadata": {},
   "outputs": [
    {
     "ename": "SyntaxError",
     "evalue": "invalid syntax (Temp/ipykernel_26820/3065152454.py, line 1)",
     "output_type": "error",
     "traceback": [
      "\u001b[1;36m  File \u001b[1;32m\"C:\\Users\\HOME\\AppData\\Local\\Temp/ipykernel_26820/3065152454.py\"\u001b[1;36m, line \u001b[1;32m1\u001b[0m\n\u001b[1;33m    lass order:\u001b[0m\n\u001b[1;37m         ^\u001b[0m\n\u001b[1;31mSyntaxError\u001b[0m\u001b[1;31m:\u001b[0m invalid syntax\n"
     ]
    }
   ],
   "source": [
    "lass order:\n",
    "    def __init__(self):\n",
    "        self.basic=1000\n",
    "    def hund(self,alpha):\n",
    "        return self.basic+alpha\n",
    "    def nine(self,alpha):\n",
    "        return round((self.basic+alpha)*0.9)\n",
    "\n",
    "a=order()\n",
    "b=order()\n",
    "\n",
    "print(a.hund(1000))\n",
    "print(b.nine(1000))"
   ]
  },
  {
   "cell_type": "code",
   "execution_count": 82,
   "id": "05b1e06d",
   "metadata": {},
   "outputs": [
    {
     "name": "stdout",
     "output_type": "stream",
     "text": [
      "abc\n"
     ]
    }
   ],
   "source": [
    "# 클래스 변수 : 인스턴스 변수와 달리 모든 인스턴스 사이에 공유된 값을 가진 변수\n",
    "\n",
    "class MyClass:\n",
    "    value = 'abc' # 클래스 변수를 선언\n",
    "\n",
    "if __name__ == \"__main__\":\n",
    "    print(MyClass.value)"
   ]
  },
  {
   "cell_type": "code",
   "execution_count": 83,
   "id": "83e592d5",
   "metadata": {},
   "outputs": [
    {
     "name": "stdout",
     "output_type": "stream",
     "text": [
      "1\n",
      "2\n",
      "3\n"
     ]
    }
   ],
   "source": [
    "# 인스턴스를 생성할 때마다 클래스 변수 value를 +1 해줌\n",
    "class MyClass:\n",
    "    value = 0\n",
    "    def __init__(self):\n",
    "        MyClass.value += 1\n",
    "        \n",
    "if __name__ == \"__main__\":\n",
    "    a = MyClass() # 인스턴스 a 생성\n",
    "    print(MyClass.value)\n",
    "    b = MyClass() # 인스턴스 b 생성\n",
    "    print(MyClass.value)\n",
    "    c = MyClass() # 인스턴스 c 생성\n",
    "    print(MyClass.value)"
   ]
  },
  {
   "cell_type": "code",
   "execution_count": 84,
   "id": "83f6362c",
   "metadata": {},
   "outputs": [
    {
     "name": "stdout",
     "output_type": "stream",
     "text": [
      "1 honux\n",
      "2 crong\n"
     ]
    }
   ],
   "source": [
    "# 인스턴스 변수\n",
    "class User:\n",
    "    num_users = 0 # 클래스 변수\n",
    "    def __init__(self,name):\n",
    "        self.name = name # 인스턴스 변수 -> 메소드 내에서 선언된 변수  self를 객체로 생각\n",
    "        User.num_users += 1\n",
    "        \n",
    "u = User('honux')\n",
    "print(User.num_users, u.name)\n",
    "\n",
    "u2 = User('crong')\n",
    "print(User.num_users,u2.name)"
   ]
  },
  {
   "cell_type": "code",
   "execution_count": 85,
   "id": "ed3d9165",
   "metadata": {},
   "outputs": [
    {
     "name": "stdout",
     "output_type": "stream",
     "text": [
      "I am a Rockstar!\n"
     ]
    }
   ],
   "source": [
    "# 메소드 : 메소드는 클래스 안에서 정의된 함수. 첫번째 인수를 항상 self로 지정\n",
    "class Musician:\n",
    "    title = 'Rockstar' # 클래스 변수\n",
    "    def explanation(self): # 메소드 생성, 인자값 별도로 없음\n",
    "        print(f'I am a {self.title}!') # 출력만\n",
    "\n",
    "drummer = Musician() # 객체 생성\n",
    "drummer.explanation()"
   ]
  },
  {
   "cell_type": "code",
   "execution_count": 86,
   "id": "4dfde3e7",
   "metadata": {},
   "outputs": [
    {
     "name": "stdout",
     "output_type": "stream",
     "text": [
      "113.04\n",
      "1017.36\n"
     ]
    }
   ],
   "source": [
    "# 다른 인수가 있는 메소드\n",
    "class Circle:\n",
    "    pi = 3.14 # 클래스 변수\n",
    "    def area(self,radius): # 추가 인수 값 설정\n",
    "        return self.pi * radius ** 2 #  self이외의 인수값을 줘야함\n",
    "    \n",
    "circle = Circle() # 객체 생성\n",
    "pizza_area = circle.area(6) # 객체를 이용해서 메소드 area들어감 -> 인수값 줌 -> 값 산출\n",
    "table_area = circle.area(18) \n",
    "print(pizza_area)\n",
    "print(table_area)"
   ]
  },
  {
   "cell_type": "code",
   "execution_count": 87,
   "id": "2844c2fe",
   "metadata": {},
   "outputs": [
    {
     "name": "stdout",
     "output_type": "stream",
     "text": [
      "Hello?!\n"
     ]
    }
   ],
   "source": [
    "# 생성자(Constructor)\n",
    "# 클래스를 호출할 때 자동으로 어떤 함수를 실행하거나 값을 호출하고 싶은 경우. __init__을 사용\n",
    "# Shouter라는 클래스를 객체로 불러올 때마다 \"Hello?!\" 라는 문자열을 출력\n",
    "\n",
    "class Shouter: \n",
    "    def __init__(self):  # 함수에서 입력값과 결과값이 없는 경우\n",
    "        print('Hello?!')\n",
    "shout = Shouter()"
   ]
  }
 ],
 "metadata": {
  "kernelspec": {
   "display_name": "Python 3 (ipykernel)",
   "language": "python",
   "name": "python3"
  },
  "language_info": {
   "codemirror_mode": {
    "name": "ipython",
    "version": 3
   },
   "file_extension": ".py",
   "mimetype": "text/x-python",
   "name": "python",
   "nbconvert_exporter": "python",
   "pygments_lexer": "ipython3",
   "version": "3.8.12"
  }
 },
 "nbformat": 4,
 "nbformat_minor": 5
}
