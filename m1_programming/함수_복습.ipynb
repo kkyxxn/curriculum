{
 "cells": [
  {
   "cell_type": "code",
   "execution_count": 2,
   "id": "de2e94bf",
   "metadata": {},
   "outputs": [
    {
     "name": "stdout",
     "output_type": "stream",
     "text": [
      "hi dollar\n"
     ]
    }
   ],
   "source": [
    "# 입력값이 없 결과값 있\n",
    "\n",
    "def say(): # def 키워드 함수명():\n",
    "    return 'hi dollar'\n",
    "\n",
    "a = say()\n",
    "print(a)"
   ]
  },
  {
   "cell_type": "code",
   "execution_count": 5,
   "id": "10311be4",
   "metadata": {},
   "outputs": [
    {
     "name": "stdout",
     "output_type": "stream",
     "text": [
      "3과 4의 합은 7이다\n"
     ]
    }
   ],
   "source": [
    "# 입력값 있 결과값 없\n",
    "# 결과값은 오직 return 명령어로만\n",
    "\n",
    "def add(a,b):\n",
    "    print('%d과 %d의 합은 %d이다' %(a,b, a+b))\n",
    "    \n",
    "add(3,4)"
   ]
  },
  {
   "cell_type": "code",
   "execution_count": 2,
   "id": "4a62387f",
   "metadata": {},
   "outputs": [
    {
     "name": "stdout",
     "output_type": "stream",
     "text": [
      "가장 큰 수는 30입니다.\n"
     ]
    }
   ],
   "source": [
    "# 입력값 결과값 모두 있\n",
    "\n",
    "def max(a,b,c): \n",
    "    if a>b: # a>b 이고\n",
    "        if a>c:  # a>c 이면\n",
    "            return a # a 리턴\n",
    "        elif a<c: #  a<c 이면\n",
    "            return c # c 리턴\n",
    "    if a<b: # a<b 이고\n",
    "        if b>c: # b>c 이면\n",
    "            return b # b가 젤 큼 -> b리턴\n",
    "        else:\n",
    "            return c # 아니면 c가 젤큼 -> c리턴\n",
    "        \n",
    "print('가장 큰 수는 %d입니다.' %max(20,1,30))\n",
    "# max(10,20,30)"
   ]
  },
  {
   "cell_type": "code",
   "execution_count": 6,
   "id": "2e06a7e5",
   "metadata": {},
   "outputs": [
    {
     "name": "stdout",
     "output_type": "stream",
     "text": [
      "숫자1 :  5\n",
      "숫자2 : 15\n",
      "기호 : +\n",
      "20\n"
     ]
    }
   ],
   "source": [
    "def math(x, y, z):\n",
    "    if z=='*':\n",
    "        return x*y\n",
    "    elif z=='/':\n",
    "        return x/y\n",
    "    elif z=='+':\n",
    "        return x+y\n",
    "    elif z=='%':\n",
    "        return x%y\n",
    "    elif z=='^':\n",
    "        return x**Y\n",
    "    elif z=='-':\n",
    "        return x-y\n",
    "    elif z=='//':\n",
    "        return x//y\n",
    "    else:\n",
    "        return\n",
    "    \n",
    "print(math(int(input(\"숫자1 :  \")), int(input(\"숫자2 : \")), input(\"기호 : \")))\n",
    "# math(10,2,'//')"
   ]
  },
  {
   "cell_type": "code",
   "execution_count": 8,
   "id": "d6feedbf",
   "metadata": {},
   "outputs": [
    {
     "data": {
      "text/plain": [
       "'3 smaller than 565'"
      ]
     },
     "execution_count": 8,
     "metadata": {},
     "output_type": "execute_result"
    }
   ],
   "source": [
    "def com(a,b):\n",
    "    if a>b:\n",
    "        return f'{a} bigger than {b}'\n",
    "    elif a<b:\n",
    "        return f'{a} smaller than {b}'\n",
    "    else:\n",
    "        return f'{a} equal {b}'\n",
    "com(3,565)\n",
    "        # f'{} .. {}'"
   ]
  },
  {
   "cell_type": "code",
   "execution_count": 14,
   "id": "c2ff611f",
   "metadata": {},
   "outputs": [
    {
     "name": "stdout",
     "output_type": "stream",
     "text": [
      "10\n"
     ]
    },
    {
     "data": {
      "text/plain": [
       "55"
      ]
     },
     "execution_count": 14,
     "metadata": {},
     "output_type": "execute_result"
    }
   ],
   "source": [
    "# 여러 개의 입력값을 받는 함수\n",
    "# *args처럼 입력 변수명 앞에 *를 붙이면 입력값들을 전부 모아서 튜플로 만들어 줌\n",
    "\n",
    "def add_many(*args): # 튜플 자체에서는 값 변경이 안됨 -> 리스트로 변환하여 원소의 값 변경 가능\n",
    "    i=0\n",
    "    add=0 # 합을 담을 변수 선언 및 초기화\n",
    "    for i in args: # 리스트 args의 값을 하나씩 꺼내 i로 전달\n",
    "        add+=i # add = add+i\n",
    "    \n",
    "  # print(i)\n",
    "    return add\n",
    "\n",
    "add_many(1,2,3,4,5,6,7,8,9,10)"
   ]
  },
  {
   "cell_type": "code",
   "execution_count": 6,
   "id": "c7da5bf4",
   "metadata": {},
   "outputs": [
    {
     "name": "stdout",
     "output_type": "stream",
     "text": [
      "(7, 12)\n"
     ]
    },
    {
     "data": {
      "text/plain": [
       "tuple"
      ]
     },
     "execution_count": 6,
     "metadata": {},
     "output_type": "execute_result"
    }
   ],
   "source": [
    "# 함수의 반환 값은 언제나 하나임 - > 결과 값으로 튜플 값 하나를 갖게 됨\n",
    "\n",
    "def add_and_mul(a,b):\n",
    "    return a+b, a*b\n",
    "\n",
    "result = add_and_mul(3,4)\n",
    "print(result)\n",
    "type(result)"
   ]
  },
  {
   "cell_type": "code",
   "execution_count": 7,
   "id": "fc93aa64",
   "metadata": {},
   "outputs": [
    {
     "data": {
      "text/plain": [
       "120"
      ]
     },
     "execution_count": 7,
     "metadata": {},
     "output_type": "execute_result"
    }
   ],
   "source": [
    "# add_mul()함수를 정의 1,2,3,4,5를 입력 값으로 적용 덧셈,곱셈 연산 수행\n",
    "\n",
    "def add_mul(choice, *args): # 함수정의 ():\n",
    "    if choice =='+':  # 초이스가 +이면\n",
    "        result=0        # 결과값 담을 변수 초기화 및 설정\n",
    "        for i in args: # 리스트 args의 값을 하나씩 꺼내 i로 전달\n",
    "            result+=i   # result 합 \n",
    "        return result   # 결과 리턴\n",
    "\n",
    "    elif choice=='*':  \n",
    "        result=1           # 결과값 담을 변수 1로 왜? 0되면 곱해도 0이므로\n",
    "        for i in args:\n",
    "            result *=i\n",
    "        return result\n",
    "    else:\n",
    "        print('오류')\n",
    "    \n",
    "#add_mul('+', 1,2,3,4,5)\n",
    "add_mul('*', 1,2,3,4,5)"
   ]
  },
  {
   "cell_type": "code",
   "execution_count": 3,
   "id": "b6246cb1",
   "metadata": {},
   "outputs": [
    {
     "data": {
      "text/plain": [
       "-16"
      ]
     },
     "execution_count": 3,
     "metadata": {},
     "output_type": "execute_result"
    }
   ],
   "source": [
    "# 뺄셈 나눗셈 멀티 계산 함수 작성\n",
    "\n",
    "def sub_div(choice, *args): # 뺄셈 나눗셈, 입력받을 인자\n",
    "    if choice ==\"sub\":    # sub면\n",
    "        result=args[0]     # a[0]의 값 result 담기\n",
    "        for i in args[1:]: # a[0] 원소 값 빼고 모두 뽑기\n",
    "            result-=i # 결과값에서 계속 i 빼주기\n",
    "        return result\n",
    "    \n",
    "    elif choice =='div':\n",
    "        result =args[0] # 입력받은 첫인자 값을 result라는 변수에 담기\n",
    "        for i in args[1:]: # 입력 받은 인자 모두 뽑기 -> args[0]빼고 1,2,3... 끝까지\n",
    "            if i ==0: # 그 수가 0이면\n",
    "                return print(\"오류\") # 오류 출력\n",
    "            result /= i # 아니면 i를 계속해서 나누기\n",
    "        return result\n",
    "    \n",
    "sub_div('sub',2,4,6,8)"
   ]
  },
  {
   "cell_type": "code",
   "execution_count": 13,
   "id": "68ab9f8d",
   "metadata": {},
   "outputs": [
    {
     "name": "stdout",
     "output_type": "stream",
     "text": [
      "2\n",
      "3\n",
      "4\n",
      "5\n"
     ]
    }
   ],
   "source": [
    "ars =[ 1,2,3,4,5,6,7]\n",
    "for i in ars[1:5]: # ars[1:] - > 2~7까지 출력\n",
    "    print(i)"
   ]
  },
  {
   "cell_type": "code",
   "execution_count": 20,
   "id": "b3904c52",
   "metadata": {},
   "outputs": [
    {
     "name": "stdout",
     "output_type": "stream",
     "text": [
      "None\n",
      "1\n"
     ]
    }
   ],
   "source": [
    "a=1\n",
    "def vartest(a): #함수 안에서 선언된 변수의 효력 범위 -> 밖에서는 효력이 없다 \n",
    "    a+=1\n",
    "\n",
    "print(vartest(a))\n",
    "print(a)"
   ]
  },
  {
   "cell_type": "code",
   "execution_count": 23,
   "id": "df4d0de5",
   "metadata": {},
   "outputs": [
    {
     "name": "stdout",
     "output_type": "stream",
     "text": [
      "지역 변수\n"
     ]
    }
   ],
   "source": [
    "# 파이썬에서 지역 변수(local variable)란 함수 내에서 선언된 변수를 의미합니다.\n",
    "# 이렇게 함수 내에서 선언된 지역 변수는 일반적으로 함수 내에서만 사용할 수 있습니다.\n",
    "def func():\n",
    "    local_var = \"지역 변수\"\n",
    "    print(local_var)    \n",
    "# print(local_var) 오류뜸 -> 함수 내에서만 사용 가능\n",
    "func()"
   ]
  },
  {
   "cell_type": "code",
   "execution_count": 24,
   "id": "ba1a141b",
   "metadata": {},
   "outputs": [
    {
     "name": "stdout",
     "output_type": "stream",
     "text": [
      "2\n"
     ]
    }
   ],
   "source": [
    "# 함수 안에서 함수 밖의 변수를 변경하는 방법 - return 이용\n",
    "a = 1\n",
    "def vartest(a):\n",
    "    a+=1\n",
    "    return a\n",
    "a = vartest(a)\n",
    "print(a)"
   ]
  },
  {
   "cell_type": "code",
   "execution_count": 25,
   "id": "b1e22fb9",
   "metadata": {},
   "outputs": [
    {
     "name": "stdout",
     "output_type": "stream",
     "text": [
      "지역 변수\n",
      "전역 변수\n",
      "전역 변수\n"
     ]
    }
   ],
   "source": [
    "def func():\n",
    "    global global_var\n",
    "    local_var = \"지역 변수\"\n",
    "    print(local_var)\n",
    "    print(global_var)    \n",
    "\n",
    "global_var = \"전역 변수\"\n",
    "func()\n",
    "\n",
    "print(global_var)"
   ]
  },
  {
   "cell_type": "code",
   "execution_count": 19,
   "id": "491c36cc",
   "metadata": {},
   "outputs": [
    {
     "name": "stdout",
     "output_type": "stream",
     "text": [
      "2\n"
     ]
    }
   ],
   "source": [
    "# global 명령을 이용하는 방법\n",
    "a = 1\n",
    "def vartest():\n",
    "    global a \n",
    "    a +=1 # a = a+1\n",
    "vartest()\n",
    "print(a)"
   ]
  },
  {
   "cell_type": "code",
   "execution_count": 26,
   "id": "5a9dfc39",
   "metadata": {},
   "outputs": [],
   "source": [
    "#파일 읽고 쓰기\n",
    "f=open('test1.txt','w')\n",
    "for i in range(1,11): #1부터 10까지 횟수반복 i에 횟수 할당\n",
    "    data ='%d번째 줄입니다.\\n'%i #쓸 내용 \n",
    "    f.write(data)\n",
    "f.close()"
   ]
  },
  {
   "cell_type": "code",
   "execution_count": 32,
   "id": "f74b3128",
   "metadata": {},
   "outputs": [
    {
     "name": "stdout",
     "output_type": "stream",
     "text": [
      "1번째 줄입니다.\n",
      "\n"
     ]
    },
    {
     "data": {
      "text/plain": [
       "str"
      ]
     },
     "execution_count": 32,
     "metadata": {},
     "output_type": "execute_result"
    }
   ],
   "source": [
    "f=open('test1.txt','r')\n",
    "line=f.readline() #f.readlin()을 line 변수로 설정  readline함수는 한번에 한 라인씩 읽음\n",
    "print(line) #line을 출력    #readlines 여러 라인을 리스트에 저장\n",
    "f.close()\n",
    "type(line)"
   ]
  },
  {
   "cell_type": "code",
   "execution_count": 52,
   "id": "b0c065cf",
   "metadata": {},
   "outputs": [
    {
     "name": "stdout",
     "output_type": "stream",
     "text": [
      "1번째 줄입니다.\n",
      "\n",
      "2번째 줄입니다.\n",
      "\n",
      "3번째 줄입니다.\n",
      "\n",
      "4번째 줄입니다.\n",
      "\n",
      "5번째 줄입니다.\n",
      "\n",
      "6번째 줄입니다.\n",
      "\n",
      "7번째 줄입니다.\n",
      "\n",
      "8번째 줄입니다.\n",
      "\n",
      "9번째 줄입니다.\n",
      "\n",
      "10번째 줄입니다.\n",
      "\n"
     ]
    },
    {
     "data": {
      "text/plain": [
       "str"
      ]
     },
     "execution_count": 52,
     "metadata": {},
     "output_type": "execute_result"
    }
   ],
   "source": [
    "f=open('test1.txt','r') # text1.txt 읽기 \n",
    "for i in range(10): #10번까지\n",
    "    line =f.readline()\n",
    "    print(line)\n",
    "f.close()\n",
    "type(line)"
   ]
  },
  {
   "cell_type": "code",
   "execution_count": 40,
   "id": "84f9efcb",
   "metadata": {},
   "outputs": [
    {
     "name": "stdout",
     "output_type": "stream",
     "text": [
      "1번째 줄입니다.\n",
      "2번째 줄입니다.\n",
      "3번째 줄입니다.\n",
      "4번째 줄입니다.\n",
      "5번째 줄입니다.\n",
      "6번째 줄입니다.\n",
      "7번째 줄입니다.\n",
      "8번째 줄입니다.\n",
      "9번째 줄입니다.\n",
      "10번째 줄입니다.\n",
      "\n"
     ]
    }
   ],
   "source": [
    "# f.read()는 파일 내용 전체를 문자열로 반환\n",
    "f=open('test1.txt','r')\n",
    "data=f.read()\n",
    "print(data)\n",
    "f.close()\n"
   ]
  },
  {
   "cell_type": "code",
   "execution_count": 34,
   "id": "a6c9af17",
   "metadata": {},
   "outputs": [],
   "source": [
    "f=open('test1.txt','a') # a(뒤에 내용을 추가)\n",
    "for i in range(21,27): #21 ~ 26까지 출력\n",
    "    data='\\n %d번째 줄입니다.\\n' %i\n",
    "    f.write(data)\n",
    "f.close()"
   ]
  },
  {
   "cell_type": "code",
   "execution_count": 37,
   "id": "007e4ba5",
   "metadata": {},
   "outputs": [
    {
     "name": "stdout",
     "output_type": "stream",
     "text": [
      "1번째 줄입니다.\n",
      "2번째 줄입니다.\n",
      "3번째 줄입니다.\n",
      "4번째 줄입니다.\n",
      "5번째 줄입니다.\n",
      "6번째 줄입니다.\n",
      "7번째 줄입니다.\n",
      "8번째 줄입니다.\n",
      "9번째 줄입니다.\n",
      "10번째 줄입니다.\n",
      "\n",
      " 21번째 줄입니다.\n",
      "\n",
      " 22번째 줄입니다.\n",
      "\n",
      " 23번째 줄입니다.\n",
      "\n",
      " 24번째 줄입니다.\n",
      "\n",
      " 25번째 줄입니다.\n",
      "\n",
      " 26번째 줄입니다.\n",
      "\n",
      " 21번째 줄입니다.\n",
      "\n",
      " 22번째 줄입니다.\n",
      "\n",
      " 23번째 줄입니다.\n",
      "\n",
      " 24번째 줄입니다.\n",
      "\n",
      " 25번째 줄입니다.\n",
      "\n",
      " 26번째 줄입니다.\n",
      "\n"
     ]
    }
   ],
   "source": [
    "f = open('test1.txt','r')\n",
    "data = f.read()\n",
    "print(data)\n",
    "f.close()"
   ]
  },
  {
   "cell_type": "code",
   "execution_count": 41,
   "id": "b12fa086",
   "metadata": {},
   "outputs": [],
   "source": [
    "with open('foo.txt','w') as f:\n",
    "    f.write('파이썬을 배웁시다.')"
   ]
  },
  {
   "cell_type": "code",
   "execution_count": 40,
   "id": "90f227ab",
   "metadata": {},
   "outputs": [
    {
     "name": "stdout",
     "output_type": "stream",
     "text": [
      "파이썬을 배웁시다.\n"
     ]
    }
   ],
   "source": [
    "with open('foo.txt','r') as f:\n",
    "    data= f.read()\n",
    "    print(data)"
   ]
  },
  {
   "cell_type": "code",
   "execution_count": 39,
   "id": "741d0c43",
   "metadata": {},
   "outputs": [
    {
     "data": {
      "text/plain": [
       "\"\\nf=opne('test1.txt','a')\\nfor i in range(21,25)\\ndata ='\\n %d번째 줄입니다.\\n'% i\\nf.write(data)\\nf.close\\n\""
      ]
     },
     "execution_count": 39,
     "metadata": {},
     "output_type": "execute_result"
    }
   ],
   "source": [
    "with open('test1.txt','w') as f:\n",
    "      for i in range(1,11):\n",
    "          data = f'{i}번째 줄입니다.\\n'\n",
    "          f.write(data)          \n",
    "'''\n",
    "f=opne('test1.txt','a')\n",
    "for i in range(21,25)\n",
    "data ='\\n %d번째 줄입니다.\\n'% i\n",
    "f.write(data)\n",
    "f.close\n",
    "'''"
   ]
  },
  {
   "cell_type": "code",
   "execution_count": 41,
   "id": "06ef7e84",
   "metadata": {},
   "outputs": [],
   "source": [
    "with open('test1.txt','a') as f: #추가모드 - 파일의 마지막에 새로운 내용을 추가 시킬 때 사용\n",
    "    for i in range(121,126):\n",
    "        data=f'{i}번째 줄입니다.\\n'\n",
    "        f.write(data)"
   ]
  },
  {
   "cell_type": "code",
   "execution_count": 51,
   "id": "30f63056",
   "metadata": {},
   "outputs": [
    {
     "name": "stdout",
     "output_type": "stream",
     "text": [
      "1번째 줄입니다.\n",
      "2번째 줄입니다.\n",
      "3번째 줄입니다.\n",
      "4번째 줄입니다.\n",
      "5번째 줄입니다.\n",
      "6번째 줄입니다.\n",
      "7번째 줄입니다.\n",
      "8번째 줄입니다.\n",
      "9번째 줄입니다.\n",
      "10번째 줄입니다.\n",
      "121번째 줄입니다.\n",
      "122번째 줄입니다.\n",
      "123번째 줄입니다.\n",
      "124번째 줄입니다.\n",
      "125번째 줄입니다.\n",
      "\n"
     ]
    }
   ],
   "source": [
    "with open('test1.txt','r') as f:\n",
    "    data=f.read()\n",
    "    print(data)"
   ]
  },
  {
   "cell_type": "code",
   "execution_count": 45,
   "id": "5ab3231e",
   "metadata": {},
   "outputs": [
    {
     "name": "stdout",
     "output_type": "stream",
     "text": [
      "3\n",
      "False\n",
      "True\n",
      "A\n"
     ]
    }
   ],
   "source": [
    "#내장 함수 \n",
    "print(abs(-3))\n",
    "print(all([1,2,3,0])) #x가 모두 참이면 True, 거짓이 하나라도 있으면 False\n",
    "print(any([1,2,3,0])) #x가 하나라도 참이면 True, 모두 거짓이면 False\n",
    "print(chr(65))"
   ]
  },
  {
   "cell_type": "code",
   "execution_count": 46,
   "id": "e93270d1",
   "metadata": {},
   "outputs": [
    {
     "data": {
      "text/plain": [
       "7"
      ]
     },
     "execution_count": 46,
     "metadata": {},
     "output_type": "execute_result"
    }
   ],
   "source": [
    "sum= lambda a,b:a+b #람다함수 변수명 =lambda 인자:식\n",
    "sum(3,4)"
   ]
  },
  {
   "cell_type": "code",
   "execution_count": 48,
   "id": "43e36793",
   "metadata": {},
   "outputs": [
    {
     "name": "stdout",
     "output_type": "stream",
     "text": [
      "7\n",
      "12\n"
     ]
    }
   ],
   "source": [
    "myList = [lambda a,b:a+b, lambda a,b:a*b]\n",
    "print(myList[0](3,4))\n",
    "print(myList[1](3,4))"
   ]
  },
  {
   "cell_type": "code",
   "execution_count": 66,
   "id": "cbfc09f6",
   "metadata": {},
   "outputs": [
    {
     "name": "stdout",
     "output_type": "stream",
     "text": [
      "6\n",
      "3\n",
      "3\n"
     ]
    }
   ],
   "source": [
    "print(len('python'))  # p y t h o n\n",
    "print(len([1,2,3])) \n",
    "print(len([1,2,'a']))"
   ]
  },
  {
   "cell_type": "code",
   "execution_count": 4,
   "id": "b144a57f",
   "metadata": {},
   "outputs": [
    {
     "data": {
      "text/plain": [
       "[0, -1, -2, -3, -4, -5, -6, -7, -8, -9]"
      ]
     },
     "execution_count": 4,
     "metadata": {},
     "output_type": "execute_result"
    }
   ],
   "source": [
    "list(range(5)) #0~4출력\n",
    "list(range(1,6)) #1부터 5까지\n",
    "list(range(1,10,2)) #1~9까지 +2씩\n",
    "list(range(0,-10,-1)) #0~ -9까지 역순으로"
   ]
  },
  {
   "cell_type": "code",
   "execution_count": 67,
   "id": "e8f962da",
   "metadata": {},
   "outputs": [
    {
     "name": "stdout",
     "output_type": "stream",
     "text": [
      "(2, 1)\n"
     ]
    }
   ],
   "source": [
    "print(divmod(7,3)) # 몫 2 나머지 1"
   ]
  },
  {
   "cell_type": "code",
   "execution_count": 52,
   "id": "19fee430",
   "metadata": {},
   "outputs": [
    {
     "name": "stdout",
     "output_type": "stream",
     "text": [
      "0 james\n",
      "1 tom\n",
      "2 susan\n"
     ]
    }
   ],
   "source": [
    "#순서가 있는 자료형을 입력으로 받아 인덱스 값을 포함한 enumerate 객체를 리턴\n",
    "for i, name in enumerate(['james','tom','susan']): #  0 james, 1 tom, 2 susan\n",
    "    print(i,name)"
   ]
  },
  {
   "cell_type": "code",
   "execution_count": 69,
   "id": "09b853a6",
   "metadata": {},
   "outputs": [
    {
     "name": "stdout",
     "output_type": "stream",
     "text": [
      "3\n"
     ]
    }
   ],
   "source": [
    "#실행 가능한 문자열 입력으로 받아 문자열을 실행한 결과값을 리턴\n",
    "print(eval('1+2'))"
   ]
  },
  {
   "cell_type": "code",
   "execution_count": 70,
   "id": "fd02ba5c",
   "metadata": {},
   "outputs": [
    {
     "data": {
      "text/plain": [
       "[7, 6, 5, 2, 1, 0]"
      ]
     },
     "execution_count": 70,
     "metadata": {},
     "output_type": "execute_result"
    }
   ],
   "source": [
    "li=[0,1,2,7,5,6]\n",
    "li.sort(reverse=True)\n",
    "li"
   ]
  },
  {
   "cell_type": "code",
   "execution_count": 71,
   "id": "c54ddda0",
   "metadata": {},
   "outputs": [
    {
     "name": "stdout",
     "output_type": "stream",
     "text": [
      "[0, 1, 2, 4, 5]\n"
     ]
    },
    {
     "data": {
      "text/plain": [
       "[0, 2, 1, 5, 4]"
      ]
     },
     "execution_count": 71,
     "metadata": {},
     "output_type": "execute_result"
    }
   ],
   "source": [
    "# 정렬된 결과를 반환하는 함수는 본체는 변형되지 않음\n",
    "li=[0,2,1,5,4]\n",
    "s =sorted(li) #정렬로 출력만 가능, 원래의 요소가 변형되지 않는다는 의미\n",
    "print(s)\n",
    "li"
   ]
  },
  {
   "cell_type": "code",
   "execution_count": 72,
   "id": "5a18e1d9",
   "metadata": {},
   "outputs": [],
   "source": [
    "#pickle은 객체의 형태를 유지하면서 파일에 저장하고 불러올 수 있게 하는 모듈\n",
    "import pickle\n",
    "f=open('test.txt','wb') # r 읽기모드 (디폴트), w 쓰기모드(파일이 있으면 모든 내용을 삭제) a(뒤에 내용을 추가)\n",
    "data={1:'python',2:'you need'} # rt(텍스트 읽기) wb(쓰기 바이너리 모드)\n",
    "pickle.dump(data,f)\n",
    "f.close()"
   ]
  },
  {
   "cell_type": "code",
   "execution_count": 73,
   "id": "b66f1eef",
   "metadata": {},
   "outputs": [
    {
     "name": "stdout",
     "output_type": "stream",
     "text": [
      "{1: 'python', 2: 'you need'}\n"
     ]
    }
   ],
   "source": [
    "import pickle\n",
    "f = open('test.txt','rb') # rb(읽기 바이너리 모드)\n",
    "data=pickle.load(f)\n",
    "print(data)\n",
    "f.close()"
   ]
  },
  {
   "cell_type": "code",
   "execution_count": 49,
   "id": "8f783615",
   "metadata": {},
   "outputs": [
    {
     "data": {
      "text/plain": [
       "['C:\\\\cakd5\\\\workspace\\\\m1_programming\\\\foo.txt',\n",
       " 'C:\\\\cakd5\\\\workspace\\\\m1_programming\\\\info.txt',\n",
       " 'C:\\\\cakd5\\\\workspace\\\\m1_programming\\\\test.txt',\n",
       " 'C:\\\\cakd5\\\\workspace\\\\m1_programming\\\\test1.txt']"
      ]
     },
     "execution_count": 49,
     "metadata": {},
     "output_type": "execute_result"
    }
   ],
   "source": [
    "# glob() 함수는 인자로 받은 패턴과 이름이 일치하는 모든 파일과 디렉토리의 리스트를 반환\n",
    "import glob\n",
    "glob.glob('C:\\cakd5\\workspace\\m1_programming/*.txt')"
   ]
  },
  {
   "cell_type": "code",
   "execution_count": 51,
   "id": "91093701",
   "metadata": {},
   "outputs": [
    {
     "data": {
      "text/plain": [
       "1643378077.3463123"
      ]
     },
     "execution_count": 51,
     "metadata": {},
     "output_type": "execute_result"
    }
   ],
   "source": [
    "import time\n",
    "time.time()"
   ]
  },
  {
   "cell_type": "code",
   "execution_count": 52,
   "id": "9f9c7d08",
   "metadata": {},
   "outputs": [
    {
     "data": {
      "text/plain": [
       "time.struct_time(tm_year=2022, tm_mon=1, tm_mday=28, tm_hour=22, tm_min=54, tm_sec=38, tm_wday=4, tm_yday=28, tm_isdst=0)"
      ]
     },
     "execution_count": 52,
     "metadata": {},
     "output_type": "execute_result"
    }
   ],
   "source": [
    "# 반환된 실수값을 이용해서 연도, 월, 일, 시, 분, 초의 형태로 바꾸어 줌\n",
    "time.localtime(time.time())"
   ]
  },
  {
   "cell_type": "code",
   "execution_count": 53,
   "id": "4dbfe2e6",
   "metadata": {},
   "outputs": [
    {
     "data": {
      "text/plain": [
       "'Fri Jan 28 22:54:40 2022'"
      ]
     },
     "execution_count": 53,
     "metadata": {},
     "output_type": "execute_result"
    }
   ],
   "source": [
    "# 날짜와 시간을 알아보기 쉬운 형태로 리턴# 날짜와 시간을 알아보기 쉬운 형태로 리턴\n",
    "time.asctime(time.localtime(time.time()))"
   ]
  },
  {
   "cell_type": "code",
   "execution_count": 54,
   "id": "55f9680f",
   "metadata": {},
   "outputs": [
    {
     "data": {
      "text/plain": [
       "'Fri Jan 28 22:55:04 2022'"
      ]
     },
     "execution_count": 54,
     "metadata": {},
     "output_type": "execute_result"
    }
   ],
   "source": [
    "# asctime과 다른 점은 ctime은 항상 현재 시간만을 리턴\n",
    "time.ctime()"
   ]
  },
  {
   "cell_type": "code",
   "execution_count": 89,
   "id": "23a6a1cd",
   "metadata": {},
   "outputs": [
    {
     "name": "stdout",
     "output_type": "stream",
     "text": [
      "0\n",
      "1\n",
      "2\n",
      "3\n",
      "4\n"
     ]
    }
   ],
   "source": [
    "# time.sleep() 일정한 시간 간격을 두고 루프를 실행할 수 있음\n",
    "\n",
    "import time\n",
    "for i in range(5):\n",
    "    print(i)\n",
    "    time.sleep(2)"
   ]
  },
  {
   "cell_type": "code",
   "execution_count": 58,
   "id": "8fd91345",
   "metadata": {},
   "outputs": [
    {
     "name": "stdout",
     "output_type": "stream",
     "text": [
      "   December 2021\n",
      "Mo Tu We Th Fr Sa Su\n",
      "       1  2  3  4  5\n",
      " 6  7  8  9 10 11 12\n",
      "13 14 15 16 17 18 19\n",
      "20 21 22 23 24 25 26\n",
      "27 28 29 30 31\n",
      "None\n"
     ]
    }
   ],
   "source": [
    "import calendar\n",
    "print(calendar.prmonth(2021,12))"
   ]
  },
  {
   "cell_type": "code",
   "execution_count": 93,
   "id": "d687e788",
   "metadata": {},
   "outputs": [
    {
     "name": "stdout",
     "output_type": "stream",
     "text": [
      "5\n"
     ]
    }
   ],
   "source": [
    "# 요일(0 월요일 ~ 6 일요일) 0월 1화 2수 3목 4금 5토 6일\n",
    "print(calendar.weekday(2022,1,8)) "
   ]
  },
  {
   "cell_type": "code",
   "execution_count": 59,
   "id": "c64cf2a2",
   "metadata": {},
   "outputs": [
    {
     "data": {
      "text/plain": [
       "(1, 31)"
      ]
     },
     "execution_count": 59,
     "metadata": {},
     "output_type": "execute_result"
    }
   ],
   "source": [
    "#각해당년도의 월의 1일이 몇번쨰인지 반환, 해당월의 전체 날짜 수 반환\n",
    "calendar.monthrange(2022,3)"
   ]
  },
  {
   "cell_type": "code",
   "execution_count": 99,
   "id": "f75ad997",
   "metadata": {},
   "outputs": [
    {
     "data": {
      "text/plain": [
       "True"
      ]
     },
     "execution_count": 99,
     "metadata": {},
     "output_type": "execute_result"
    }
   ],
   "source": [
    "import webbrowser\n",
    "webbrowser.open('http://www.naver.com')"
   ]
  },
  {
   "cell_type": "code",
   "execution_count": 5,
   "id": "c5f61768",
   "metadata": {},
   "outputs": [
    {
     "name": "stdout",
     "output_type": "stream",
     "text": [
      "[0, 1, 3, 4, 5, 6]\n"
     ]
    }
   ],
   "source": [
    "#내장 함수를 이용해서 list =[0,1,2,3,4,5,6]에서 2를 삭제 후 출력하세요\n",
    "list_1 =[0,1,2,3,4,5,6]\n",
    "del list_1[2]\n",
    "print(list_1)"
   ]
  },
  {
   "cell_type": "code",
   "execution_count": 60,
   "id": "ab93b585",
   "metadata": {},
   "outputs": [
    {
     "name": "stdout",
     "output_type": "stream",
     "text": [
      "[0, 1, 2, 3, 4, 5, 6]\n",
      "[0, 1, 3, 4, 5, 6]\n",
      "[0, 1, 3, 4, 5]\n"
     ]
    }
   ],
   "source": [
    "a=[0,1,2,3,4,5,6]\n",
    "print(a)\n",
    "a.pop(2)  # 2 삭제후 출력\n",
    "print(a)\n",
    "a.pop() \n",
    "print(a) #인덱스를 생략한 경우에는 마지막 값을 취득하고 삭제합니다."
   ]
  },
  {
   "cell_type": "code",
   "execution_count": 61,
   "id": "f3683bd2",
   "metadata": {},
   "outputs": [
    {
     "data": {
      "text/plain": [
       "[0, 1, 3, 4, 5, 6]"
      ]
     },
     "execution_count": 61,
     "metadata": {},
     "output_type": "execute_result"
    }
   ],
   "source": [
    "lt = [0, 1, 2, 3, 4, 5, 6]\n",
    "lt.remove(2) # 값 2를 삭제 \n",
    "lt"
   ]
  },
  {
   "cell_type": "code",
   "execution_count": 63,
   "id": "b39a8f27",
   "metadata": {},
   "outputs": [
    {
     "name": "stdout",
     "output_type": "stream",
     "text": [
      "[]\n"
     ]
    }
   ],
   "source": [
    "# 내장함수를 이용하여 모든 원소 삭제 후 출력\n",
    "List_2 =[0,1,2,3,4,5,6]\n",
    "del List_2[:] # 전체 삭제\n",
    "print(List_2)"
   ]
  },
  {
   "cell_type": "code",
   "execution_count": 71,
   "id": "251474df",
   "metadata": {},
   "outputs": [
    {
     "name": "stdout",
     "output_type": "stream",
     "text": [
      "[4, 5, 6]\n"
     ]
    }
   ],
   "source": [
    "List_3 =[0,1,2,3,4,5,6]\n",
    "del List_3[:4] # 0부터 4번째 index까지 삭제\n",
    "print(List_3)"
   ]
  },
  {
   "cell_type": "code",
   "execution_count": 73,
   "id": "f401a07d",
   "metadata": {},
   "outputs": [
    {
     "name": "stdout",
     "output_type": "stream",
     "text": [
      "[1, 4, 9, 16, 25]\n",
      "[1, 2]\n"
     ]
    }
   ],
   "source": [
    "#람다 함수와 적합한 내장함수를 사용하여 아래와 같이 출력\n",
    "#[1,2,3,4,5] -> [1,4,9,16,25] > 1*1 ..5*5\n",
    "#[1,2,3,4,5]->[1,2] 3,4,5 삭제\n",
    "\n",
    "square = lambda a: a*a  # lambda 인자 : 식\n",
    "lst =[square(i) for i in range(1,6)] # list = return대상 for 반복변수 in 범위 (if 조건식)]\n",
    "print(lst)\n",
    "\n",
    "lst_2=[1,2,3,4,5]\n",
    "filtered_list=filter(lambda a:(a<3), lst_2) # 3보다 작은거 필터\n",
    "print(list(filtered_list))"
   ]
  },
  {
   "cell_type": "code",
   "execution_count": 74,
   "id": "41547b6d",
   "metadata": {},
   "outputs": [
    {
     "name": "stdout",
     "output_type": "stream",
     "text": [
      "[1, 4, 9, 16, 25]\n",
      "[1, 2]\n"
     ]
    }
   ],
   "source": [
    "li = [1,2,3,4,5]\n",
    "blank = [[],[],[],[],[]]\n",
    "# blank = [0], [1], [2], [3], [4]\n",
    "\n",
    "exp = lambda a,b:(li[a]**b) # li[0]**2 -> 1   # li[1]**2 -> 4 ... li[4]**2 ->25\n",
    "for i in range(5):\n",
    "    blank[i]= exp(i,2) # blank[0]=exp(0,2) , blank[1]= exp(1,2) ... blank[4]=exp(4,2)\n",
    "print(blank)\n",
    "\n",
    "del li[2:] # index 0,1 빼고 다 삭제\n",
    "print(li)"
   ]
  },
  {
   "cell_type": "code",
   "execution_count": 9,
   "id": "56b80e5c",
   "metadata": {},
   "outputs": [
    {
     "data": {
      "text/plain": [
       "[1, 2, 6]"
      ]
     },
     "execution_count": 9,
     "metadata": {},
     "output_type": "execute_result"
    }
   ],
   "source": [
    "# [1,-3,2,0,-5,6]에서 양수만 필터링해서 출력\n",
    "x=[1,-3,2,0,-5,6]\n",
    "list(filter(lambda x: x>0 , x)) # lambda 인자 : 조건식"
   ]
  },
  {
   "cell_type": "code",
   "execution_count": null,
   "id": "af1ea3ee",
   "metadata": {},
   "outputs": [],
   "source": [
    "#내장함수 이용 자료형을 좌에서 우로 변환\n",
    "[1,2,3],[4,5,6] -> [(1,4),(2,5),(3,6)]\n",
    "[1,2,3],[4,5,6],[7,8,9] -> [(1,4,7),(2,5,8),(3,6,9)]\n",
    "('abc','def')->[('a','d'),('b','e'),('c','f')]"
   ]
  },
  {
   "cell_type": "code",
   "execution_count": 14,
   "id": "0efeea64",
   "metadata": {},
   "outputs": [
    {
     "name": "stdout",
     "output_type": "stream",
     "text": [
      "[(1, 4), (2, 5), (3, 6)]\n",
      "[(1, 4, 7), (2, 5, 8), (3, 6, 9)]\n",
      "[('a', 'd'), ('b', 'e'), ('c', 'f')]\n"
     ]
    }
   ],
   "source": [
    "a=[1,2,3]\n",
    "b=[4,5,6]\n",
    "c=[7,8,9]\n",
    "\n",
    "ab=list(zip([1,2,3],[4,5,6])) # zip(*iterable) : 동일한 개수로 이루어진 자료형을 묶어 줌\n",
    "print(ab)\n",
    "\n",
    "abc=list(zip([1,2,3],[4,5,6],[7,8,9]))\n",
    "print(abc)\n",
    "\n",
    "alp_1=list(zip('abc','def'))\n",
    "print(alp_1)"
   ]
  },
  {
   "cell_type": "code",
   "execution_count": 15,
   "id": "7cf98fd0",
   "metadata": {},
   "outputs": [
    {
     "name": "stdout",
     "output_type": "stream",
     "text": [
      "(1, 'a')\n",
      "(2, 'b')\n",
      "(3, 'c')\n"
     ]
    }
   ],
   "source": [
    "num=[1,2,3]\n",
    "lt=['a','b','c']\n",
    "for pair in zip(num, lt): #변수를 써도 가능\n",
    "    print(pair)"
   ]
  },
  {
   "cell_type": "code",
   "execution_count": 16,
   "id": "91fd6a59",
   "metadata": {},
   "outputs": [
    {
     "data": {
      "text/plain": [
       "20.0"
      ]
     },
     "execution_count": 16,
     "metadata": {},
     "output_type": "execute_result"
    }
   ],
   "source": [
    "#입력으로 들어오는 모든 수의 평균 값 계산\n",
    "def avg(*args):\n",
    "    sum=0\n",
    "    for i in args:\n",
    "        sum+=i\n",
    "    return sum/len(args) #인자 길이값만큼 나누기\n",
    "\n",
    "avg(10,20,30) #함수 호출"
   ]
  },
  {
   "cell_type": "code",
   "execution_count": 18,
   "id": "068f339a",
   "metadata": {},
   "outputs": [
    {
     "data": {
      "text/plain": [
       "['bar', 'ababa', 'ca', 'aaaa', 'a']"
      ]
     },
     "execution_count": 18,
     "metadata": {},
     "output_type": "execute_result"
    }
   ],
   "source": [
    "# strings를 다양한 문자가 포함된 순서로 정렬\n",
    "strings=['a','ca','bar','aaaa','ababa']\n",
    "\n",
    "strings.sort(key=lambda x:len(set(x))) #set로 중복제거해준 길이 값으로 소트해줌\n",
    "strings[::-1]"
   ]
  },
  {
   "cell_type": "code",
   "execution_count": 21,
   "id": "5aab52dd",
   "metadata": {},
   "outputs": [
    {
     "data": {
      "text/plain": [
       "('bar', 'ababa', 'ca', 'aaaa', 'a')"
      ]
     },
     "execution_count": 21,
     "metadata": {},
     "output_type": "execute_result"
    }
   ],
   "source": [
    "# 튜플 형태인 strings를 다양한 문자가 포함된 순서로 정렬\n",
    "stirngs=('a','ca','bar','aaaa','ababa')\n",
    "lists=list(strings)\n",
    "lists.sort(key=lambda x: len(set (x)))\n",
    "\n",
    "#list[::-1]  arr[A:B:C]의 의미는, index A 부터 index B 까지\n",
    "                 # C의 간격으로 배열을 만들라는 의미\n",
    "                  # [::-1] 뜻은 처음부터 끝까지 -1 역순으로\n",
    "\n",
    "tup =tuple(lists)\n",
    "tup[::-1]"
   ]
  },
  {
   "cell_type": "code",
   "execution_count": 76,
   "id": "833c07d5",
   "metadata": {},
   "outputs": [
    {
     "name": "stdout",
     "output_type": "stream",
     "text": [
      "[0, 1, 2, 3, 4, 5, 6, 7, 8, 9]\n"
     ]
    },
    {
     "data": {
      "text/plain": [
       "[3, 2, 1, 0]"
      ]
     },
     "execution_count": 76,
     "metadata": {},
     "output_type": "execute_result"
    }
   ],
   "source": [
    "arr=[0,1,2,3,4,5,6,7,8,9] # arr=range(10)\n",
    "\n",
    "print(arr)\n",
    "#arr[::2] #0~9까지 +2씩 증가\n",
    "#arr[::-2] #0~9까지 역순으로 -2씩 \n",
    "#arr[3::2] #index 3번째부터 끝까지 +2씩 증가\n",
    "arr[:8:2] #index 처음부터 8번째까지(끝은 포함 x) +2씩 증가\n",
    "arr[3::-1] #index (마지막)3부터 시작해서 처음까지 -1(역순으로)"
   ]
  }
 ],
 "metadata": {
  "kernelspec": {
   "display_name": "Python 3 (ipykernel)",
   "language": "python",
   "name": "python3"
  },
  "language_info": {
   "codemirror_mode": {
    "name": "ipython",
    "version": 3
   },
   "file_extension": ".py",
   "mimetype": "text/x-python",
   "name": "python",
   "nbconvert_exporter": "python",
   "pygments_lexer": "ipython3",
   "version": "3.8.12"
  }
 },
 "nbformat": 4,
 "nbformat_minor": 5
}
