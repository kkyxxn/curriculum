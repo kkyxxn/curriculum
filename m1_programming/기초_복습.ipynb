{
 "cells": [
  {
   "cell_type": "markdown",
   "id": "abd3b0e8",
   "metadata": {},
   "source": [
    "# 파이썬 기초\n",
    "## 파이썬이란\n",
    "   - 1990년 암스테르담의 귀도 반 로섬(Guido Van Rossum)이 개발한 인터프리터 언어\n",
    "   - 컴퓨터 프로그래밍 교육을 위해 많이 사용하지만, 기업의 실무를 위해서도 많이 사용하는 언어. 구글에서 만든 소프트웨어의 50%이상이 파이썬으로 작성\n",
    "  \n",
    "## 파이썬의 특징\n",
    "   - 파이썬은 인간다운 언어이다\n",
    "   - 파이썬은 문법이 쉬워 빠르게 배울 수 있다\n",
    "   - 파이썬은 무료이지만 강력하다\n",
    "   - 파이썬은 간결하다\n",
    "   - 파이썬은 프로그래밍을 즐기게 해준다\n",
    "   - 파이썬은 개발 속도가 빠르다\n",
    "   \n",
    "## 파이썬으로 할 수 있는 일\n",
    "   - 시스템 유틸리티 제작\n",
    "   - GUI 프로그래밍\n",
    "   - C/C++와의 결합\n",
    "   - 웹 프로그래밍\n",
    "   - 수치 연산 프로그래밍\n",
    "   - 데이터베이스 프로그래밍\n",
    "   - 데이터 분석, 사물 인터넷\n",
    "   \n",
    "## 참조\n",
    "   - 표현식 : 어떠한 값을 만들어 내는 간단한 코드. 273, 10 + 20 + 30, \"Python Programming\"\n",
    "   - 문장 : 표현식이 하나 이상 모이면 문장. print(\"Hello\")\n",
    "   - 프로그램 : 문장이 모여서 프로그램\n",
    "   - 식별자 : 프로그램밍 언어에서 이름을 붙일 때 사용하는 단어. 주로 변수 또는 함수 이름 등으로 사용\n",
    "   - 주석 : 프로그램을 설명하기 위해 사용. # 기호로 주석 처리\n",
    "   - 연산자 : 스스로 값이 되는 것이 아니고 값과 값 사이에 무언가 기능을 적용할 때 사용\n",
    "   - 자료 : 리터럴이라고 하는데 숫자이든 문자이든 어떠한 값 자체를 의미. 1, 10, \"Hello\"\n",
    "   - 키워드 : 파이썬이 만들어질 때 이미 사용하겠다고 예약해 놓는 것. False, None, True, ...\n",
    "   - 프로그램밍 언어에서 사용자가 이름을 정할 때 키워드는 사용할 수 없음"
   ]
  },
  {
   "cell_type": "code",
   "execution_count": 1,
   "id": "6dec1905",
   "metadata": {},
   "outputs": [
    {
     "name": "stdout",
     "output_type": "stream",
     "text": [
      "273\n"
     ]
    },
    {
     "data": {
      "text/plain": [
       "60"
      ]
     },
     "execution_count": 1,
     "metadata": {},
     "output_type": "execute_result"
    }
   ],
   "source": [
    "# 표현식\n",
    "print(273)\n",
    "10+20+30"
   ]
  },
  {
   "cell_type": "code",
   "execution_count": 2,
   "id": "2c40eba1",
   "metadata": {},
   "outputs": [
    {
     "name": "stdout",
     "output_type": "stream",
     "text": [
      "Hello Python\n",
      "52 Hello Python 8\n"
     ]
    }
   ],
   "source": [
    "# 표현식이 하나 이상씩 모이면 문장\n",
    "print(\"Hello Python\")\n",
    "print(52, 'Hello Python', 5+3)"
   ]
  },
  {
   "cell_type": "code",
   "execution_count": 3,
   "id": "40ed59dd",
   "metadata": {},
   "outputs": [
    {
     "name": "stdout",
     "output_type": "stream",
     "text": [
      "2\n"
     ]
    }
   ],
   "source": [
    "# 문장이 모여서 프로그램\n",
    "a = 1;b = 1;c=a+b\n",
    "print(c)"
   ]
  },
  {
   "cell_type": "code",
   "execution_count": 4,
   "id": "cdfa0ed0",
   "metadata": {},
   "outputs": [
    {
     "name": "stdout",
     "output_type": "stream",
     "text": [
      "['False', 'None', 'True', 'and', 'as', 'assert', 'async', 'await', 'break', 'class', 'continue', 'def', 'del', 'elif', 'else', 'except', 'finally', 'for', 'from', 'global', 'if', 'import', 'in', 'is', 'lambda', 'nonlocal', 'not', 'or', 'pass', 'raise', 'return', 'try', 'while', 'with', 'yield'] \n",
      "\n",
      "35\n"
     ]
    }
   ],
   "source": [
    "# python keyword\n",
    "import keyword\n",
    "print(keyword.kwlist,'\\n')\n",
    "print(len(keyword.kwlist))"
   ]
  },
  {
   "cell_type": "markdown",
   "id": "3d183b92",
   "metadata": {},
   "source": [
    "### 식별자 기본 규칙\n",
    "   - 키워드를 사용하면 안된다.\n",
    "   - 특수문자는 언더 바(_)만 사용가능\n",
    "   - 숫자로 시작하면 안된다.\n",
    "   - 공백을 포함할 수 없다."
   ]
  },
  {
   "cell_type": "code",
   "execution_count": 5,
   "id": "64b5d5ab",
   "metadata": {},
   "outputs": [
    {
     "name": "stdout",
     "output_type": "stream",
     "text": [
      "123\n",
      "-123\n",
      "0\n",
      "1.23\n",
      "127\n",
      "2748\n",
      "42\n"
     ]
    }
   ],
   "source": [
    "# 파이썬 자료형 - 숫자형(정수, 실수, 8진수, 16진수)\n",
    "a = 123\n",
    "b = -123\n",
    "c = 0\n",
    "d = 1.23\n",
    "e = 0o177 # 8진수 0o로 시작\n",
    "f = 0xABC # 16진수 0x로 시작\n",
    "g = 0b101010 # 2진수 0b로 시작\n",
    "print(a)\n",
    "print(b)\n",
    "print(c)\n",
    "print(d)\n",
    "print(e)\n",
    "print(f)\n",
    "print(g)"
   ]
  },
  {
   "cell_type": "code",
   "execution_count": 6,
   "id": "926afa9f",
   "metadata": {},
   "outputs": [
    {
     "name": "stdout",
     "output_type": "stream",
     "text": [
      "10\n",
      "2\n",
      "12\n",
      "20\n",
      "5.0\n",
      "0\n",
      "5\n",
      "8\n"
     ]
    }
   ],
   "source": [
    "# 사칙연산\n",
    "a = 10\n",
    "b = 2\n",
    "c = a + b\n",
    "d = a * b\n",
    "e = a / b\n",
    "f = a % b  # 나머지\n",
    "g = a // b # 몫\n",
    "h = 2 ** 3 # 제곱\n",
    "print(a)\n",
    "print(b)\n",
    "print(c)\n",
    "print(d)\n",
    "print(e)\n",
    "print(f)\n",
    "print(g)\n",
    "print(h)"
   ]
  },
  {
   "cell_type": "code",
   "execution_count": 7,
   "id": "540951f6",
   "metadata": {},
   "outputs": [
    {
     "ename": "TypeError",
     "evalue": "can only concatenate str (not \"int\") to str",
     "output_type": "error",
     "traceback": [
      "\u001b[1;31m---------------------------------------------------------------------------\u001b[0m",
      "\u001b[1;31mTypeError\u001b[0m                                 Traceback (most recent call last)",
      "\u001b[1;32m~\\AppData\\Local\\Temp/ipykernel_26132/1265390702.py\u001b[0m in \u001b[0;36m<module>\u001b[1;34m\u001b[0m\n\u001b[0;32m      2\u001b[0m \u001b[0mstring\u001b[0m \u001b[1;33m=\u001b[0m \u001b[1;34m\"문자열 \"\u001b[0m\u001b[1;33m\u001b[0m\u001b[1;33m\u001b[0m\u001b[0m\n\u001b[0;32m      3\u001b[0m \u001b[0mnumber\u001b[0m \u001b[1;33m=\u001b[0m \u001b[1;36m273\u001b[0m\u001b[1;33m\u001b[0m\u001b[1;33m\u001b[0m\u001b[0m\n\u001b[1;32m----> 4\u001b[1;33m \u001b[0mstring\u001b[0m \u001b[1;33m+\u001b[0m \u001b[0mnumber\u001b[0m\u001b[1;33m\u001b[0m\u001b[1;33m\u001b[0m\u001b[0m\n\u001b[0m",
      "\u001b[1;31mTypeError\u001b[0m: can only concatenate str (not \"int\") to str"
     ]
    }
   ],
   "source": [
    "# 다른 타입간 연산은 안됨\n",
    "string = \"문자열 \"\n",
    "number = 273\n",
    "string + number"
   ]
  },
  {
   "cell_type": "code",
   "execution_count": null,
   "id": "7495e5c4",
   "metadata": {},
   "outputs": [],
   "source": [
    "a = 10\n",
    "a = '문자'\n",
    "# a = 100\n",
    "type(a)"
   ]
  },
  {
   "cell_type": "code",
   "execution_count": null,
   "id": "601ea476",
   "metadata": {},
   "outputs": [],
   "source": [
    "# 복합 대입 연산자\n",
    "num = 10\n",
    "num += 10\n",
    "num *= 10\n",
    "num"
   ]
  },
  {
   "cell_type": "code",
   "execution_count": null,
   "id": "03f4aef0",
   "metadata": {},
   "outputs": [],
   "source": [
    "# 사용자 입력\n",
    "input('인사말을 입력하세요: ')"
   ]
  },
  {
   "cell_type": "code",
   "execution_count": null,
   "id": "3dee8a57",
   "metadata": {},
   "outputs": [],
   "source": [
    "num = input('숫자를 입력하세요: ')\n",
    "print(num)\n",
    "type(num)"
   ]
  },
  {
   "cell_type": "code",
   "execution_count": null,
   "id": "aa311d3c",
   "metadata": {},
   "outputs": [],
   "source": [
    "# input() 함수를 사용하면 str값으로 반환 -> 숫자도 문자로 전환되어 숫자연산을 위한 변환 필요\n",
    "num1 = input('숫자를 입력하세요')\n",
    "num1_n = int(num1)\n",
    "num2 = input('숫자를 입력하세요')\n",
    "num2_n = int(num2)\n",
    "print(num1_n + num2_n)"
   ]
  },
  {
   "cell_type": "code",
   "execution_count": null,
   "id": "acd97705",
   "metadata": {},
   "outputs": [],
   "source": [
    " # 3과 3.3을 입력하고 숫자 연산을 수행하여 6.3을 출력하세요.\n",
    "num1 = input('숫자를 입력하세요')\n",
    "num1_n = int(num1)\n",
    "num2 = input('숫자를 입력하세요')\n",
    "num2_n = float(num2)\n",
    "print(num1_n + num2_n)\n",
    "# print(num1 + num2)"
   ]
  },
  {
   "cell_type": "code",
   "execution_count": null,
   "id": "fbd19d64",
   "metadata": {},
   "outputs": [],
   "source": [
    "# Q. a = 52와 b = 52.273일때 a+b는 5252.273으로 출력되도록 a와 b를 문자열 자료형으로 변환하세요.\n",
    "a = 52\n",
    "b = 52.273\n",
    "print(str(a)+str(b))"
   ]
  },
  {
   "cell_type": "code",
   "execution_count": null,
   "id": "cb25a655",
   "metadata": {},
   "outputs": [],
   "source": [
    "# 문자열 : \"\", '', \"\"\" \"\"\", ''' '''\n",
    "p1 = \"python's value is great\"\n",
    "# p2 = 'python's value is great'\n",
    "print(p1)"
   ]
  },
  {
   "cell_type": "code",
   "execution_count": null,
   "id": "009b6480",
   "metadata": {},
   "outputs": [],
   "source": [
    "s1 = '\"python is valuable\" he says'\n",
    "s1"
   ]
  },
  {
   "cell_type": "code",
   "execution_count": null,
   "id": "1ddcfc51",
   "metadata": {},
   "outputs": [],
   "source": [
    "# string = '''\"What a wonderful world!\"\\n he said loudly'''\n",
    "string = '''\"What a wonderful world!\"\n",
    "he said loudly'''\n",
    "print(string)"
   ]
  },
  {
   "cell_type": "code",
   "execution_count": null,
   "id": "0c61e2c9",
   "metadata": {},
   "outputs": [],
   "source": [
    "# 문자열 연산\n",
    "a1 = 'Python'\n",
    "a2 = ' is easy to learn'\n",
    "print(a1 + a2)\n",
    "print(a1 * 3) # python 3번 출력\n",
    "print(\"=\" * 20) # = 20번 출력"
   ]
  },
  {
   "cell_type": "code",
   "execution_count": null,
   "id": "b3eeb918",
   "metadata": {},
   "outputs": [],
   "source": [
    "# 자료형 - List \n",
    "# 리스트는 [] 로 표시하며 []안의 요소를 콤마로 구분하여 순서있게 나열\n",
    "list1=[1,2,3,4,5]  #파이썬에서 인덱싱 0 번째가 1\n",
    "lsit2=['a','b','c']\n",
    "list3=[1,'a','abc',[1,2,3,4,5],['a','b','c']] # 리스트 안에 리스트원소 가능\n",
    "print(list3)"
   ]
  },
  {
   "cell_type": "code",
   "execution_count": null,
   "id": "62686ec6",
   "metadata": {},
   "outputs": [],
   "source": [
    "# 인덱싱\n",
    "list1 = [1,2,3,4,5]\n",
    "list1[:] # 전체\n",
    "list3[2] # abc\n",
    "list3[3][4] # list3의 4번째 원소의 5번째 값 -> 5\n",
    "list3[4][1] # list3의 4번째 원소의 2번째 값 -> b"
   ]
  },
  {
   "cell_type": "code",
   "execution_count": null,
   "id": "8409f465",
   "metadata": {},
   "outputs": [],
   "source": [
    "# 리스트 수정, 삭제\n",
    "\n",
    "a = [0, 1, 2, 3, 4, 5, 6, 7, 8, 9]\n",
    "b = ['a','b','c']\n",
    "a[0] = 1 # 0번째 원소가 0인데 1로 바꿈\n",
    "b[1] = 'a'\n",
    "print(a)\n",
    "print(b)\n",
    "del b[1]  #리스트 삭제 del\n",
    "print(b)"
   ]
  },
  {
   "cell_type": "code",
   "execution_count": null,
   "id": "ce135f6f",
   "metadata": {},
   "outputs": [],
   "source": [
    "a = [0, 1, 2, 3, 4, 5, 6, 7, 8, 9]\n",
    "b = ['a','b','c']\n",
    "c = a + b #숫자 먼저 출력되고 문자\n",
    "print(c)\n",
    "c[-1] = 1 #마지막 인덱싱\n",
    "c"
   ]
  },
  {
   "cell_type": "code",
   "execution_count": null,
   "id": "fa50ca2a",
   "metadata": {},
   "outputs": [],
   "source": [
    "# 정렬\n",
    "b = [2,4,3,1]\n",
    "b.sort()\n",
    "print(b)\n",
    "# 내림차순\n",
    "b_d = sorted(b, reverse=True)\n",
    "print(b_d)\n",
    "b.reverse()\n",
    "print(b)"
   ]
  },
  {
   "cell_type": "code",
   "execution_count": null,
   "id": "9c1c1c25",
   "metadata": {},
   "outputs": [],
   "source": [
    "b=[2,4.10,4,10.3,9]\n",
    "b.sort()\n",
    "print(b) # [2, 4, 4.1, 9, 10.3]\n",
    "b.reverse()\n",
    "print(b) # 역순"
   ]
  },
  {
   "cell_type": "code",
   "execution_count": null,
   "id": "889461eb",
   "metadata": {},
   "outputs": [],
   "source": [
    "# 인덱스 위치 반환\n",
    "c = [1,2,3,1,5]\n",
    "print(c.index(3)) # c리스트에서 숫자 3의 위치 a [2]의 순서를 반환 2번째\n",
    "\n",
    "print(c. index(5)) # c리스트에서 숫자 5의 위치 a[4]의 순서를 반환 4번째\n",
    "\n",
    "print(c. index(2)) # c리스트에서 숫자 2의 위치 a[1]의 순서를 반환 1번째"
   ]
  },
  {
   "cell_type": "code",
   "execution_count": null,
   "id": "474158ec",
   "metadata": {},
   "outputs": [],
   "source": [
    "import numpy as np\n",
    "c = np.random.randint(100,size=100).tolist()\n",
    "print(c)\n",
    "c.index(65)\n",
    "# type(c) tolist -> list"
   ]
  },
  {
   "cell_type": "code",
   "execution_count": null,
   "id": "2d3a58ce",
   "metadata": {},
   "outputs": [],
   "source": [
    "# 개수 반환\n",
    "c = [1,1, 3,3 ,3,5 ,5]\n",
    "print(c.count(3))"
   ]
  },
  {
   "cell_type": "code",
   "execution_count": null,
   "id": "7ef141b2",
   "metadata": {},
   "outputs": [],
   "source": [
    "# 리스트 확장\n",
    "h=[1,2,3]\n",
    "h.extend([4,5]) # 3뒤에 4, 5 추가\n",
    "print(h)\n",
    "\n",
    "# 추가\n",
    "h.append(6) #하나\n",
    "print(h)\n",
    "h.insert(0,5)  #0번째 인덱스에 5를 삽입해줘\n",
    "print(h)\n",
    "h.insert(5,9)  #5번째 인덱스에 9를 삽입해줘\n",
    "print(h)\n",
    "len(h) #h이 길이"
   ]
  },
  {
   "cell_type": "code",
   "execution_count": null,
   "id": "808aee65",
   "metadata": {},
   "outputs": [],
   "source": [
    "# 튜플\n",
    "tuple1=(1,2,3,4,5) # 소괄호\n",
    "print(tuple1)\n",
    "tuple3 = (1,'a','abc',[1,2,3,4,5],['a','b','c'])\n",
    "\n",
    "#tuple1[:] # tuple1 전체 출력\n",
    "\n",
    "tuple3[2] # tuple3의 2번째 요소 출력 -> abc\n",
    "tuple3[3][4] # tuple3에서 3번째 원소 중 4번째 값 5 출력\n",
    "# tuple3[3][3]"
   ]
  },
  {
   "cell_type": "code",
   "execution_count": null,
   "id": "d8a6c53d",
   "metadata": {},
   "outputs": [],
   "source": [
    "print(list1)\n",
    "list1[0] = 6 #리스트는 바꿔서 출력 가능 튜플은 값 변경 못함 \n",
    "print(list1)"
   ]
  },
  {
   "cell_type": "code",
   "execution_count": null,
   "id": "9b9755f4",
   "metadata": {},
   "outputs": [],
   "source": [
    "tuple1[0]=4 # 리스트와 다르게 튜플은 값을 변경하지 못함"
   ]
  },
  {
   "cell_type": "code",
   "execution_count": null,
   "id": "40f4d94d",
   "metadata": {},
   "outputs": [],
   "source": [
    "t1=(1,) # 튜플 1개의 요소만 가질 때는 요소뒤에 콤마를 붙여야 함\n",
    "print(t1)\n",
    "\n",
    "t2=1,2,3\n",
    "print(t2)\n",
    "print(t2*2) # t2의 값을 2번 출력\n",
    "\n",
    "t3=t1+t2\n",
    "print(t3) # 이어 붙이기"
   ]
  },
  {
   "cell_type": "code",
   "execution_count": null,
   "id": "249c6be8",
   "metadata": {},
   "outputs": [],
   "source": [
    "# 사전 딕셔너리(키와 값을 하나의 요소로 하는 순서가 없는 집합)\n",
    "d1={'a':1,'b':2,'c':3}\n",
    "print(d1['a'])\n",
    "d1['b']=5\n",
    "print(d1)"
   ]
  },
  {
   "cell_type": "code",
   "execution_count": null,
   "id": "b7fd9021",
   "metadata": {},
   "outputs": [],
   "source": [
    "print(d1.keys())  # 딕셔너리에서 키만 따로 뽑기 가능 a b c\n",
    "print(d1.values()) # 값만 출력 가능 1 2 3 \n",
    "print(d1.items()) # 키 값 둘다 출력"
   ]
  },
  {
   "cell_type": "code",
   "execution_count": null,
   "id": "26b34a5a",
   "metadata": {},
   "outputs": [],
   "source": [
    "c1={'삼각김밥':700, '컵라면':1500, '감동란':2500}\n",
    "print(c1.keys())\n",
    "\n",
    "c1['삼각김밥']=1000 # 딕셔너리 값 변경\n",
    "c1['피자']=20000 # 딕셔너리 값 추가 맨끝으로 추가됨\n",
    "print(c1.items()) # 딕셔너리 key, values 모두 출력\n",
    "print(c1.values()) \n",
    "print(c1.keys())\n",
    "\n",
    "del(c1['피자']) # 딕셔너리 값 삭제\n",
    "print(c1)\n",
    "\n",
    "c1.pop ('컵라면') # pop으로 삭제 \n",
    "print(c1)\n",
    "type(c1)"
   ]
  },
  {
   "cell_type": "code",
   "execution_count": null,
   "id": "843aae10",
   "metadata": {},
   "outputs": [],
   "source": [
    "#자료형 집합 set(중복을 허용하지 않으며 순서가 없)\n",
    "s1=set([1,2,5,4,3,1,1,3,4,78,92,131])#중복 없이 한번만 출력\n",
    "s2=set('hellofuckingjupyter') #순서 지 맘대로 뽑아냄\n",
    "print(s1)\n",
    "print(s2)"
   ]
  },
  {
   "cell_type": "code",
   "execution_count": null,
   "id": "ffb24d58",
   "metadata": {},
   "outputs": [],
   "source": [
    "#집합은 인덱싱으로 값을 얻을 수 없으며 필요시 리스트나 튜플로 변환 후 인덱싱 가능\n",
    "l1=list(s1) #집합s1을 리스트로 변환하여 l1변수에 저장\n",
    "print(l1[1]) #리스트로 변환하여 1번째 요소값 출력 0, 1, 2 ....\n",
    "l2=list(s2)\n",
    "print(l2[10])\n"
   ]
  },
  {
   "cell_type": "code",
   "execution_count": null,
   "id": "538d3e6f",
   "metadata": {},
   "outputs": [],
   "source": [
    "#s1,s2의 합집합과 교집합을 각각 리스트로 출력하세요.\n",
    "#합집합(s1 | s2), 교집함(s1&s2) 차집합(s1-s2)\n",
    "s1=set([1,2,3,4,5,6])\n",
    "s2=set([4,5,6,7,8,9])\n",
    "\n",
    "print(list(s1|s2)) #합집합 중복 출력안해줌\n",
    "print(list(s1&s2)) #중복값만 출력\n",
    "print(list(s1-s2)) #중복값을 제외한 나머지 출력\n",
    "print(list(s2-s1)) #중복값을 제외한 나머지 출력"
   ]
  },
  {
   "cell_type": "code",
   "execution_count": null,
   "id": "0369a7f3",
   "metadata": {},
   "outputs": [],
   "source": [
    "#들여쓰기 \n",
    "li=['a','b','c']\n",
    "if 'a'in li: #if조건문 li리스트안에 a가 잇다면\n",
    "    print('a가 li에 있습니다.') #출력\n",
    "else: #아니면\n",
    "    print('a가 li에 없습니다')#출력"
   ]
  },
  {
   "cell_type": "code",
   "execution_count": null,
   "id": "f4ed0021",
   "metadata": {},
   "outputs": [],
   "source": [
    "#문자열 포멧  ->  a='가나다라' f ' {a}  '\n",
    "name='왕만두'\n",
    "age=20\n",
    "location='서울'\n",
    "f'나의 이름은 {name}입니다. 나이는 {age}입니다'\n",
    "f'나의 이름은 {name}입니다람쥐 나이는 {age} 사는곳은 {location}'"
   ]
  },
  {
   "cell_type": "code",
   "execution_count": null,
   "id": "551cefcb",
   "metadata": {},
   "outputs": [],
   "source": [
    "a={'name':'돌쇠', 'age':108}\n",
    "f'나의 이름은 {a[\"name\"]}입니다. 나이는 {a[\"age\"]}입니다'"
   ]
  },
  {
   "cell_type": "code",
   "execution_count": null,
   "id": "0363ae76",
   "metadata": {},
   "outputs": [],
   "source": [
    "y=3.14589\n",
    "f'{y:0.2f}' # 소수점 2자리까지 표현\n",
    "\n",
    "#f'{y:10.4f}' #소수점 4자리까지 총 10자리로 표현"
   ]
  },
  {
   "cell_type": "code",
   "execution_count": null,
   "id": "d184bfb3",
   "metadata": {},
   "outputs": [],
   "source": [
    "# 포멧함수 format()\n",
    "#f=\"{} 선수가 {}등입니다\".format('홍길동',1)\n",
    "f1=\"{2}출신인 {0} 선수는 {1}입니다\".format('우주비행사노무현','1등','전라도')#포멧형식에서 인덱싱끌어다 사용가능\n",
    "print(f1)"
   ]
  },
  {
   "cell_type": "code",
   "execution_count": null,
   "id": "ff7efb79",
   "metadata": {},
   "outputs": [],
   "source": [
    "f2=\"{1}은 {0}보다 {2}배 악질입니다\".format('국힘','민주당',50)\n",
    "print(f2)\n",
    "print(\"%s은 %s보다 %d배 역겹습니다\" %(\"민주당\",\"국힘\",50)) # %s 문자 받기 %,d 정수형 받기"
   ]
  },
  {
   "cell_type": "code",
   "execution_count": null,
   "id": "0163f6c4",
   "metadata": {
    "scrolled": true
   },
   "outputs": [],
   "source": [
    "num1=12345.11223344\n",
    "print(num1)\n",
    "print(f'{num1:10.2f}') # 10자리수로 소수점2자리서 컷\n"
   ]
  },
  {
   "cell_type": "code",
   "execution_count": null,
   "id": "3a35d255",
   "metadata": {},
   "outputs": [],
   "source": [
    "# 제어문 - if~elif~else\n",
    "# 수입과 지출금액 비교 수입 많으면 저축 증가 반대면 빚 증가 같으면 현상 유지\n",
    "income=int(input('수입: '))\n",
    "expend=int(input('지출: ')) #변수명 = int(input('입력문구'))\n",
    "\n",
    "if income>expend:\n",
    "    print('저축 증가')\n",
    "elif income<expend:\n",
    "    print('빚 증가')\n",
    "else:\n",
    "    print('현상유지')"
   ]
  },
  {
   "cell_type": "code",
   "execution_count": null,
   "id": "5c3b1bbe",
   "metadata": {},
   "outputs": [],
   "source": [
    "#for 반복문\n",
    "numbers=[5,15,6,20,7,25]\n",
    "for i in numbers:\n",
    "    print(i,end='  ') #enf = '   ' 출력 양식 칸띄우기 한줄에서\n",
    "    "
   ]
  },
  {
   "cell_type": "code",
   "execution_count": null,
   "id": "5374a536",
   "metadata": {},
   "outputs": [],
   "source": [
    "#for ~continue ~ break\n",
    "#1~10 범위의 정수에서 1부터 5까지만 출력\n",
    "for i in range(1,11): # 1부터 10범위에서 하나씩 꺼내 i로 할당\n",
    "    print(i, end=' ') # 같은줄에서출력 한칸씩 띄우고 \n",
    "    if i<5: # 5 미만이면\n",
    "        continue # 다시반복\n",
    "    else: # 6이상부터 \n",
    "        break # 브레이크"
   ]
  },
  {
   "cell_type": "code",
   "execution_count": null,
   "id": "b83d2071",
   "metadata": {},
   "outputs": [],
   "source": [
    "for number in numbers:\n",
    "    if number<10: #number가 10보다 작으면\n",
    "        continue  #다시 돌아가\n",
    "    else:         #10보다 크면\n",
    "        print(number,end=' ') #그거 출력해"
   ]
  },
  {
   "cell_type": "code",
   "execution_count": null,
   "id": "29bce112",
   "metadata": {},
   "outputs": [],
   "source": [
    "#정수 1부터 n까지 더할 때 그 합이 1000보다 커지게 되는 n과 합을 구하라\n",
    "\n",
    "x=1 #1부터의 변수 설정\n",
    "sum=0 # 합 담을 변수 초기화 설정\n",
    "while 1: #무한루프동안\n",
    "    sum+=x #계속합해 그냥\n",
    "    \n",
    "    if sum>1000: #그러다 합이 1000보다 크면\n",
    "        print(x) #그때의 더한 x값\n",
    "        print(sum) #그때의 총합\n",
    "        break #그리고 나가라\n",
    "    x+=1\n",
    "    "
   ]
  },
  {
   "cell_type": "code",
   "execution_count": null,
   "id": "97b48360",
   "metadata": {},
   "outputs": [],
   "source": [
    "#while문을 사용해 1부터 1000까지의 정수 중 3의 배수의 합을 구하라\n",
    "\n",
    "i=0 # 1부터 n까지의 1씩 증가시키며 반복시킬 변수 설정\n",
    "sum=0 # 합을 기록할 변수 sum 만들고 0으로 초기화\n",
    "\n",
    "while i<1000: # 999까지\n",
    "    i+=1 # i를 증가 시킴\n",
    "    if i%3==0: # 3의 배수면\n",
    "        sum+=i # 3의 배수인 i를 다 더해라\n",
    "print(sum)        \n",
    "        \n",
    "    \n",
    "    "
   ]
  },
  {
   "cell_type": "code",
   "execution_count": null,
   "id": "6bd7bc49",
   "metadata": {},
   "outputs": [],
   "source": [
    "#과제 1부터 100까지의 정수중 5에서 95까지의 합\n",
    "num=0\n",
    "sum=0\n",
    "while num<=100: #100이하까지 무한반복 돌리는데\n",
    "    if(num>=5 and num<=95): #숫자5이상 그리고 95이하 조건에서\n",
    "        sum+=num  # 합\n",
    "    num+=1 # num 증가시켜주기\n",
    "        \n",
    "print(num)\n",
    "print(sum)"
   ]
  },
  {
   "cell_type": "code",
   "execution_count": null,
   "id": "ae789ba0",
   "metadata": {},
   "outputs": [],
   "source": [
    "# 5를 2로 나누었을때의 몫과 나머지를 구하세요.\n",
    "a=5\n",
    "b=2\n",
    "print(a//b) # // 는 몫\n",
    "print(a%b) # % 는 나머지"
   ]
  },
  {
   "cell_type": "code",
   "execution_count": null,
   "id": "37de1e6b",
   "metadata": {},
   "outputs": [],
   "source": [
    "# 101의 3승을 구하세요\n",
    "print(101**3)"
   ]
  },
  {
   "cell_type": "code",
   "execution_count": null,
   "id": "15fc94e5",
   "metadata": {},
   "outputs": [],
   "source": [
    "a='py'\n",
    "b=str(3.8) #str로 형변환\n",
    "print(a+b)"
   ]
  },
  {
   "cell_type": "code",
   "execution_count": null,
   "id": "c8d55016",
   "metadata": {},
   "outputs": [],
   "source": [
    "# 5의 3승을 3으로 나누었을때의 나머지를 복합 대입 연산자를 이용해서 구하세요.\n",
    "print((5**3)%3) # (5**3)%3\n",
    "\n",
    "tmp=5**3\n",
    "tmp%=3\n",
    "print(tmp)"
   ]
  },
  {
   "cell_type": "code",
   "execution_count": null,
   "id": "3176705c",
   "metadata": {},
   "outputs": [],
   "source": [
    "name=input('성함 입력 : ')\n",
    "f'{name}다'\n",
    "\n",
    "name=input('이름 : ')\n",
    "print('내 이름은 '+name+'이다')"
   ]
  },
  {
   "cell_type": "code",
   "execution_count": null,
   "id": "a119638b",
   "metadata": {},
   "outputs": [],
   "source": [
    "name = input('이름이 무엇인가요? ')\n",
    "print('제 이름은 '+name+'입니다.')"
   ]
  },
  {
   "cell_type": "code",
   "execution_count": null,
   "id": "bc11d7b7",
   "metadata": {},
   "outputs": [],
   "source": [
    "# 숫자 3개를 입력해서 첫번째 숫자를 두번째 숫자 승한 뒤에 세번째 숫자로 나누었을 때 몫을 구하세요.\n",
    "num1 = int(input('숫자1 : '))\n",
    "num2 = int(input('숫자2 : '))\n",
    "num3 = int(input('숫자3 : '))\n",
    "\n",
    "cal=(num1**num2)//num3\n",
    "print(cal)"
   ]
  },
  {
   "cell_type": "code",
   "execution_count": null,
   "id": "47ec453c",
   "metadata": {},
   "outputs": [],
   "source": [
    "#while문 사용 1부터 1000까지의 정수중 3과 5의 공배수의 합\n",
    "i=1 #1부터 증가시킬 변수 설정\n",
    "sum=0 #합 담을 변수 \n",
    "\n",
    "while i<=1000: #1000까지 무한반복돌리는데 \n",
    "    i+=1  #그리고 i 계속 증가 시키기\n",
    "    if i%15==0: #그 중 15의 배수이면\n",
    "        sum+=i  #합에 담아라\n",
    "print(sum)"
   ]
  },
  {
   "cell_type": "code",
   "execution_count": null,
   "id": "7e1d2b33",
   "metadata": {},
   "outputs": [],
   "source": [
    "# [0, 1, 2, 3, 4, 5, 6, 7, 8, 9, 'a', 'b', 'c']에서 9와 'a'를 삭제 후 리스트로 출력하세요\n",
    "a=[0,1,2,3,4,5,6,7,8,9,10,11,12] # 12가 a[-1]\n",
    "\n",
    "del a[-4]\n",
    "del a[-3]\n",
    "print(a)"
   ]
  },
  {
   "cell_type": "code",
   "execution_count": null,
   "id": "3d02f4c7",
   "metadata": {},
   "outputs": [],
   "source": [
    "#[0,1,2,3,4,5,6,7,8,'b','c']에서 'c'를 삭제 후 출력\n",
    "a=[0,1,2,3,4,5,6,7,8,'b','c']\n",
    "i=0\n",
    "del a[-1]\n",
    "print(a)\n",
    "for i in a:\n",
    "    print(i, end=' ')"
   ]
  },
  {
   "cell_type": "code",
   "execution_count": null,
   "id": "218e7d1f",
   "metadata": {},
   "outputs": [],
   "source": [
    "# [4,8,5,4,8,4,3,9,1,9]를 내림차순으로 정렬\n",
    "list3=[4,8,5,4,8,4,3,9,1,9]\n",
    "list3_desc=sorted(list3, reverse=True) # sorted(변수명, reverse=True)\n",
    "print(list3_desc) #중복 출력"
   ]
  },
  {
   "cell_type": "code",
   "execution_count": null,
   "id": "a2530dfc",
   "metadata": {},
   "outputs": [],
   "source": [
    "#format 함수를 이용해서 현재 날짜/시간 출력\n",
    "\n",
    "from datetime import datetime\n",
    "now=datetime.now()\n",
    "print(now) # 현재 날짜 -> 년, 월, 일, 시, 분, 초\n",
    "print(now.year) # -> 현재 날짜에서 년만 추출\n",
    "f'{now.year}년 {now.month}월 {now.today}일 {now.hour}시 {now.minute}분 {now.second}초'"
   ]
  },
  {
   "cell_type": "code",
   "execution_count": null,
   "id": "26bb64fc",
   "metadata": {},
   "outputs": [],
   "source": [
    "#현재 시각을 오전과 오후로 구분\n",
    "\n",
    "import datetime\n",
    "now= datetime.datetime.now()\n",
    "\n",
    "if now.hour<12:\n",
    "    print(f'현재시간은{now.hour}시로 오전입니다')\n",
    "else:\n",
    "    print(f'현재시간은 {now.hour}시로 오후입니다')"
   ]
  },
  {
   "cell_type": "code",
   "execution_count": null,
   "id": "207a7215",
   "metadata": {},
   "outputs": [],
   "source": [
    "import datetime\n",
    "season = datetime.datetime.now()\n",
    "\n",
    "if season.month<12 & season.month >=9: # 11 ~ 9월이면 가을\n",
    "    print('가을')\n",
    "elif season.month <9 & season.month>=6:  # 8 ~ 6월이면 여름\n",
    "    print('여름')\n",
    "elif season.month <6 & season.month>=3:  # 5 ~ 3월이면 봄\n",
    "    print('봄')\n",
    "else:\n",
    "    print('겨울')"
   ]
  },
  {
   "cell_type": "code",
   "execution_count": null,
   "id": "25dc2489",
   "metadata": {},
   "outputs": [],
   "source": [
    "#정수 입력 홀짝 판별\n",
    "num=int(input('숫자 입력 :'))\n",
    "if num%2==0: # 나머지가 0이면\n",
    "    print(f'입력한 숫자 {num}은 짝수')\n",
    "else:\n",
    "    print(f'입력한 숫자 {num}은 홀수')"
   ]
  },
  {
   "cell_type": "code",
   "execution_count": null,
   "id": "27f7a1fb",
   "metadata": {},
   "outputs": [],
   "source": [
    "x=lambda a, b : a**b # 람다 함수-> lambda 인자: 공식\n",
    "print(x(2,10))"
   ]
  },
  {
   "cell_type": "markdown",
   "id": "267927ae",
   "metadata": {},
   "source": [
    "### 커피 자판기 프로그램\n",
    "\n",
    "   - 시나리오 : 자판기 커피 재고 5잔, 커피 1잔 가격 300원, 재고 범위내에서 300원 이상 돈을 넣으면 거스름돈과 커피를 주고 그렇지 않으면 반환하며 재고가 소진되면 안내멘트 출력\n",
    "   - 각 Case별 멘트 출력은 상황에 맞게 창작\n",
    "   - while, if ~ elif ~ else 제어문을 사용하여 작성"
   ]
  },
  {
   "cell_type": "code",
   "execution_count": null,
   "id": "c5cd79d1",
   "metadata": {},
   "outputs": [],
   "source": []
  },
  {
   "cell_type": "code",
   "execution_count": null,
   "id": "dee631a8",
   "metadata": {},
   "outputs": [],
   "source": [
    "#2와 5를 더한후 3으로 나눈 몫을 사용자 함수로 구하라\n",
    "def cal_abc(a,b,c): #함수 def 선언\n",
    "    return (a+b)//c #f리턴값\n",
    "\n",
    "cal_abc(2,5,3) #함수 호출"
   ]
  },
  {
   "cell_type": "code",
   "execution_count": null,
   "id": "ecd56d01",
   "metadata": {},
   "outputs": [],
   "source": [
    "# 문자열 앞의 공백을 제거하고 아래와 같이 출력하세요# 문자열 앞의 공백을 제거하고 아래와 같이 출력하세요\n",
    "a =\"             나  는  야  우    주 비행사      '노'          무현     \"\n",
    "#print(a)\n",
    "print(a.strip()) #앞의 공백만을 없애줌"
   ]
  },
  {
   "cell_type": "code",
   "execution_count": null,
   "id": "651d567c",
   "metadata": {},
   "outputs": [],
   "source": [
    "# '10/20/30/40/50' /을 기준으로 구분\n",
    "a='10/20/30/40/50'\n",
    "b='10:20:30:40:50'\n",
    "print(a)  #그대로 출력\n",
    "print(a.split('/')) # /로 구분\n",
    "print(b) #그대로 출력\n",
    "print(b.split(':')) # :로 구분\n"
   ]
  },
  {
   "cell_type": "code",
   "execution_count": null,
   "id": "eb361729",
   "metadata": {},
   "outputs": [],
   "source": [
    "# 짝수와 짝수를 입력하면 곱한 값을 출력하고 홀수와 홀수를 입력하면 덧셈 값을 출력하고 그외는 다시 입력하라는 메시지를 출력하세요.\n",
    "x = int(input('입력하세요:'))\n",
    "y = int(input('입력하세요:'))\n",
    "\n",
    "if(x%2 ==0) & (y%2==0):\n",
    "    print(x*y)\n",
    "elif(x%2==1)& (x%2==1):\n",
    "    print(x+y)\n",
    "else:\n",
    "    print('다시 입력하세요')"
   ]
  },
  {
   "cell_type": "code",
   "execution_count": null,
   "id": "21db169a",
   "metadata": {},
   "outputs": [],
   "source": [
    "#1부터 100까지 아래와 같이 2개의 수를 곱해서 가장 큰 수를 구해라 1*99, 2 *98, 3*97.. 99*1\n",
    "\n",
    "n=1 #1부터 쭉 이어갈 변수\n",
    "result=0 #가장 큰수를 저장할 변수\n",
    "while n<=100: #100까지 무한루프\n",
    "    a=n*(100-n) # 99=1*99\n",
    "    if a>result: #만약 99가 가장 큰수보다 크다면\n",
    "        result=a  # 가장 큰수는 a다\n",
    "      #  n+=1 # ?????\n",
    "    else: # 만약 99가 가장 큰수보다 작다면\n",
    "        n+=1 # 쭉 수는 증가시키면서\n",
    "        continue #다시 위로 올려보내\n",
    "print(result)\n",
    "print(n)"
   ]
  },
  {
   "cell_type": "code",
   "execution_count": null,
   "id": "a5aa71e1",
   "metadata": {},
   "outputs": [],
   "source": [
    "def findBiggestOne(): # 사용자 정의 def ():\n",
    "    # zip() 동일한 리스트의 개수를 묶어주는 함수\n",
    "    biggestNum=0  #가장큰수 담을 변수 \n",
    "    for i,j in zip(range(1,100),range(99,0,-1)): #1부터 99까지 99부터 1까지 \n",
    "        if i*j>biggestNum:\n",
    "            biggestNum=i*j\n",
    "    return biggestNum\n",
    "print(findBiggestOne())\n",
    "\n"
   ]
  },
  {
   "cell_type": "code",
   "execution_count": null,
   "id": "04ff9400",
   "metadata": {},
   "outputs": [],
   "source": [
    "#[[1,4,7],[2,5,8],[3,6,9]] 형식으로 출력\n",
    "\n",
    "numbers=[1,2,3,4,5,6,7,8,9]\n",
    "output=[[],[],[]]\n",
    "\n",
    "for number in numbers:\n",
    "    output[(number-1)%3].append(number) #위치는 0부터 시작하므로 number-1하고 칸 3개므로 3개로 나누어줌 \n",
    "                                        #그걸 .append함수로 뿌려줌\n",
    "print(output)\n",
    "print(0%3)"
   ]
  },
  {
   "cell_type": "code",
   "execution_count": null,
   "id": "fa743666",
   "metadata": {},
   "outputs": [],
   "source": [
    "import numpy as np\n",
    "np.random.seed(2) # 랜덤 고정\n",
    "num = np.random.randint(20,size=20) # 0 부터 19까지 size20개 출력\n",
    "num"
   ]
  },
  {
   "cell_type": "code",
   "execution_count": null,
   "id": "aead6f29",
   "metadata": {},
   "outputs": [],
   "source": [
    "import random\n",
    "\n",
    "num=input(\"게임 수 : \") #출력화면 num변수 받기\n",
    "\n",
    "for i in range(0,int(num)): # 0부터 게임수까지 돌림\n",
    "    lotto = random.sample(range(1,46),6) # 1부터 45까지 수 중 6개 추출 랜덤으로\n",
    "    lotto.sort() #추출한 로또 숫자 소트\n",
    "    print(lotto) "
   ]
  },
  {
   "cell_type": "code",
   "execution_count": null,
   "id": "76e1d014",
   "metadata": {},
   "outputs": [],
   "source": [
    "import random, string\n",
    "cn='y'\n",
    "print('**로또번호 생성기**')\n",
    "while(cn=='y'):\n",
    "    game=input('게임횟수를 입력하세요(숫자만 입력): ')\n",
    "    if(game.isdigit()==True): # 입력받은게 정수면 밑에 반목문 실행\n",
    "        for i in range(0, int(game)): #포문 0부터 게임횟수만큼 I할당\n",
    "            lotto=random.sample(range(1,46),6) # 1부터 45까지 6개 무작위 추출\n",
    "            lotto.sort() #로또 정렬\n",
    "            print(lotto)\n",
    "            cn='n'\n",
    "    else:\n",
    "        print(\"숫자를 입력하세요\")\n",
    "        continue"
   ]
  },
  {
   "cell_type": "code",
   "execution_count": null,
   "id": "46126f62",
   "metadata": {},
   "outputs": [],
   "source": [
    "from random import shuffle\n",
    "from time import sleep\n",
    "\n",
    "gnum=int(input('로또 횟수를 입력하세요>')) #게임수 입력\n",
    "for i in range(gnum): #게임수만큼 반복\n",
    "    lt=[x+1 for x in range(45)]  # list = return대상 for 반복변수 in 범위 (if 조건식)]\n",
    "    ret=[]\n",
    "    for j in range(6):\n",
    "        shuffle(lt)\n",
    "        num=lt.pop()\n",
    "        ret.append(num)\n",
    "        ret.sort()\n",
    "    print('로또번호 %d: ' %(i+1), end='')\n",
    "    print(ret)\n",
    "    sleep(2)"
   ]
  },
  {
   "cell_type": "code",
   "execution_count": null,
   "id": "65775e88",
   "metadata": {},
   "outputs": [],
   "source": [
    "# Q. 발표할 인원을 입력하면 랜덤으로 발표자를 리스트로 출력해 주는 프로그램을 작성하세요(중복 허용하지 않음)\n",
    "\n",
    "from random import shuffle\n",
    "\n",
    "name = ['권혁종', '김기연', '김기현', '김민성', '김영수', '김재경', '김정수', '김태형', '마경수', '문성윤',\n",
    "       '박광민','박종석','손창효','어정호','예지우','오주완','용지영','이동연','이용준','이재우',\n",
    "       '이재호','이현정','임재곤','장종호','정현우','조경윤','조남현','최종원','최지원']\n",
    "member=[]\n",
    "shuffle(name)\n",
    "num=int(input('발표할 인원을 입력하세요 : '))\n",
    "for i in range(num):\n",
    "    member.append(name[i])\n",
    "    \n",
    "print(member)"
   ]
  },
  {
   "cell_type": "code",
   "execution_count": null,
   "id": "00930936",
   "metadata": {},
   "outputs": [],
   "source": [
    "# [과제] 남녀 파트너 정해주기 프로그램을 작성하세요(5개 커플)\n",
    "import random\n",
    "\n",
    "male = ['정우성', '원 빈', '강동원', '조인성', '이광수']\n",
    "female = ['김혜수', '신민아', '이나영', '천우희', '한예슬']\n",
    "\n",
    "random.shuffle(male)\n",
    "random.shuffle(female)\n",
    "\n",
    "for i in range(0, 5):\n",
    "   print(f'커플{i+1}: {male[i]} ♥️ {female[i]}')"
   ]
  },
  {
   "cell_type": "code",
   "execution_count": null,
   "id": "f29129eb",
   "metadata": {},
   "outputs": [],
   "source": [
    "import random\n",
    "male=['남자1호','남자2호','남자3호','남자4호','남자5호']\n",
    "female=['여자1호','여자2호','여자3호','여자4호','여자5호']\n",
    "couple=[]\n",
    "\n",
    "for i in range(5):\n",
    "    random.shuffle(male)\n",
    "    random.shuffle(female)\n",
    "    \n",
    "    c=[male[0], female[0]] # 담을 list 선언\n",
    "    couple.append(c) # list.append(x)는 리스트 끝에 x 1개를 그대로 넣습니다.\n",
    "                    # list.extend(iterable)는 리스트 끝에 가장 바깥쪽 iterable의 모든 항목을 넣습니다.\n",
    "    del male[0]\n",
    "    del female[0]\n",
    "print((couple))\n",
    "type(c)\n",
    "    "
   ]
  },
  {
   "cell_type": "code",
   "execution_count": 14,
   "id": "99779003",
   "metadata": {},
   "outputs": [
    {
     "name": "stdout",
     "output_type": "stream",
     "text": [
      "Couple1: 3-b\n",
      "Couple2: 1-c\n",
      "Couple3: 5-e\n",
      "Couple4: 2-d\n",
      "Couple5: 4-a\n"
     ]
    }
   ],
   "source": [
    "import random\n",
    "m = list('12345')\n",
    "f = list('abcde')\n",
    "\n",
    "random.shuffle(m)\n",
    "random.shuffle(f)\n",
    "couples = zip(m,f)\n",
    "for i, couple in enumerate(couples): # enumerate -> 인덱스와 원소를 차례대로 접근하게 해주는 iterator 객체를 반환\n",
    "    print('Couple%d: %s-%s' %(i+1, couple[0],couple[1]))"
   ]
  },
  {
   "cell_type": "code",
   "execution_count": 13,
   "id": "4a38ddbe",
   "metadata": {},
   "outputs": [
    {
     "name": "stdout",
     "output_type": "stream",
     "text": [
      "['a', 'b', 'c', 'd', 'e']\n"
     ]
    },
    {
     "data": {
      "text/plain": [
       "'bcdea'"
      ]
     },
     "execution_count": 13,
     "metadata": {},
     "output_type": "execute_result"
    }
   ],
   "source": [
    "# 입력받은 문자열의 각 문자를 그 다음 문자로 변경하여 출력하세요.\n",
    "# 입력 abcde -> 출력 bcdea\n",
    "str= 'abcde'\n",
    "lst = list(str)\n",
    "print(lst) # 리스트 형태로\n",
    "\n",
    "lst.append(lst[0])\n",
    "lst.remove(lst[0])\n",
    "str =''.join(lst) # 문자열 합치기 -> 구분자.join(리스트)\n",
    "str"
   ]
  },
  {
   "cell_type": "code",
   "execution_count": 12,
   "id": "bc11b68e",
   "metadata": {},
   "outputs": [
    {
     "name": "stdout",
     "output_type": "stream",
     "text": [
      "입력 : 가나다\n",
      "나다가\n"
     ]
    },
    {
     "data": {
      "text/plain": [
       "3"
      ]
     },
     "execution_count": 12,
     "metadata": {},
     "output_type": "execute_result"
    }
   ],
   "source": [
    "a=list(input(\"입력 : \"))\n",
    "\n",
    "for i in range(len(a)-1): # 0, 1, 2 -> range(2) 와 같음\n",
    "    print(a[i+1],end='') # a[1] 띄고 a[2] 띄고  a[3]\n",
    "print(a[0]) # 맨 처음글자를 마지막에\n",
    "len(a) # 3"
   ]
  },
  {
   "cell_type": "code",
   "execution_count": null,
   "id": "610321d3",
   "metadata": {},
   "outputs": [],
   "source": []
  },
  {
   "cell_type": "code",
   "execution_count": null,
   "id": "d4250616",
   "metadata": {},
   "outputs": [],
   "source": []
  },
  {
   "cell_type": "code",
   "execution_count": null,
   "id": "298b28a2",
   "metadata": {},
   "outputs": [],
   "source": []
  },
  {
   "cell_type": "code",
   "execution_count": null,
   "id": "884daba7",
   "metadata": {},
   "outputs": [],
   "source": []
  },
  {
   "cell_type": "code",
   "execution_count": null,
   "id": "43c10e17",
   "metadata": {},
   "outputs": [],
   "source": []
  }
 ],
 "metadata": {
  "kernelspec": {
   "display_name": "Python 3 (ipykernel)",
   "language": "python",
   "name": "python3"
  },
  "language_info": {
   "codemirror_mode": {
    "name": "ipython",
    "version": 3
   },
   "file_extension": ".py",
   "mimetype": "text/x-python",
   "name": "python",
   "nbconvert_exporter": "python",
   "pygments_lexer": "ipython3",
   "version": "3.8.12"
  }
 },
 "nbformat": 4,
 "nbformat_minor": 5
}
