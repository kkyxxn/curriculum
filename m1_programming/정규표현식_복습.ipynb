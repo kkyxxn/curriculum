{
 "cells": [
  {
   "cell_type": "markdown",
   "id": "8f7ba7c5",
   "metadata": {},
   "source": [
    "## 정규표현식의 기초, 메타문자\n",
    " - .^ $ * + ? { } [ ] \\ | ()\n",
    " - [] 문자 클래스\n",
    "     - \\d 숫자와 매치, [0-9]와 동일한 표현식\n",
    "     - \\D 숫자가 아닌 것과 매치, [^0-9]와 동일한 표현식\n",
    "     - \\s whitespace 문자와 매치, [ \\t\\n\\r\\f\\v] 와 동일한 표현식\n",
    "     - \\S whitespace 문자가 아닌 것과 매치, [^ \\t\\n\\r\\f\\v]와 동일한 표현식\n",
    "     - \\w 문자 + 숫자와 매치, [a-zA-Z0-9]와 동일한 표현식\n",
    "     - \\W 문자 + 숫자가 아닌 문자와 매치,[^a-zA-Z0-9]와 동일한 표현식\n",
    " \n",
    " - whitespace\n",
    "     - 스페이스 바(아스키코드 32)\n",
    "     - \\b 뒤로 한 칸 이동(Backspace) (아스키코드 8)\n",
    "     - \\t 수평탭 간격 띄우기\n",
    "     - \\n 줄바꿈\n",
    "     - \\v 수직탭 간격 띄우기\n",
    "     - \\f 프린트 출력 용지를 한 페이지 넘김\n",
    "     - \\r 동일한 줄의 맨 앞에서 커서 이동\n",
    "\n",
    " - Dot(.) 메타 문자는 줄바꿈 문자인 \\n를 제외한 모든 문자와 매치됨을 의미\n",
    " - 반복(\\*) ca*t 0부터 무한대로 반복  caaaaat, ct\n",
    " - 반복(\\+) ca+t 최소 1번 이상 반복\n",
    " - ca{m,n} a 반복 횟수가 m부터 n까지인 것을 매치\n",
    " - ca{2}t는 c+a(2번 반복)+t의 의미\n",
    " - 반복 횟수가 {1,}은 1 이상, {0,}은 0 이상인 경우로 +, * 와 동일하며 {,1}은 반복 횟수가 1 이하를 의미\n",
    " - ab?c b가 0~1번 사용되면 매치되는 것으로 ?은 앞에 b가 있어도 되고 없어도 된다. "
   ]
  },
  {
   "cell_type": "markdown",
   "id": "45e50b44",
   "metadata": {},
   "source": [
    "### re모듈 :  파이썬은 정규표현식을 지원하기 위해 기본으로 제공\n",
    "   - re.compile의 결과로 리턴되는 객체를 이용하여 그 이후 작업 수행\n",
    "   \n",
    "### 정규식을 이용한 문자열 검색\n",
    "   - match() :  문자열의 처음부터 정규식과 매치되는지를 조사\n",
    "   - search() : 문자열의 전체를 검색하여 정규식과 매치되지 조사\n",
    "   - findall() : 정규식과 매치되는 모든 문자열을 리스트로 리턴\n",
    "   - fineiter() : 정규식과 매치되는 모든 문자열을 반복 가능한 객체로 리턴"
   ]
  },
  {
   "cell_type": "markdown",
   "id": "034731bf",
   "metadata": {},
   "source": [
    "### 문자열 판단하기\n",
    "- re.match('패턴','문자열') -> re는 regular expression의 약자 -> 문자열을 패턴형식과 비교\n",
    "- 문자열이 있으면 매치(SRE_Match) 객체가 반환되고 없으면 아무것도 반환되지 않습니다\n",
    "\n",
    "### 문자열이 맨 앞에 오는지 맨 뒤에 오는지 판단\n",
    "- 문자열 앞에 ^를 붙이면 문자열이 맨 앞에 오는지 판단하고, 문자열 뒤에 $를 붙이면 문자열이 맨 뒤에 오는지 판단합니다 (이 경우에는 match대신 search함수 사용해야함 -> why? match 함수는 문자열 처음부터 매칭되는지 판단하지만, search는 문자열 일부분이 매칭되는지 판단합니다. )\n",
    "\n",
    "- ^문자열\n",
    "- 문자열$ \n",
    "\n",
    "- ^Hello는 Hello, world!가 Hello로 시작하는지 판단하고, world!$는 Hello, world!가 world!로 끝나는지 판단합니다.\n",
    "\n",
    "\n",
    "### 지정된 문자열이 하나라도 포함되는지 판단\n",
    "- |는 특정 문자열에서 지정된 문자열(문자)이 하나라도 포함되는지 판단(OR 연산자와 개념이 같음)"
   ]
  },
  {
   "cell_type": "markdown",
   "id": "33326240",
   "metadata": {},
   "source": [
    "### 문자열이 숫자로 되어있는지 판단\n",
    "-  [대괄호] 안에 숫자 범위를 넣으며 * 또는 +를 붙입니다. 숫자 범위는 0-9처럼 표현하며 *는 문자(숫자)가 0개 이상 있는지, +는 1개 이상 있는지 판단합니다.\n",
    "- [0-9]* : 0부터 9까지 숫자가 0개 이상 있는가?\n",
    "- [0-9]+ : 0부터 9까지 숫자가 1개 이상 있는가?\n",
    "### 문자가 한 개만 있는지 판단\n",
    "- ?는 ?앞의 문자(범위)가 0개 또는 1개인지 판단하고, .은 .이 있는 위치에 아무 문자(숫자)가 1개 있는지 판단\n",
    "- abc?d : c의 위치에  c가 0 개 또는 1개 있는가?\n",
    "- [0-9]? : [0-9] 위치에 숫자가 0개 또는 1개 있는가?\n",
    "- . : .이 있는 위치에 문자가 1개 있는가?\n",
    "### 문자 개수 판단\n",
    "- 문자{개수}\n",
    "- (문자열){개수}\n",
    "- [0-9]{개수}\n",
    "- (문자){시작개수,끝개수}\n",
    "- (문자열){시작개수,끝개수}\n",
    "- [0-9]{시작개수,끝개수}\n",
    "### 숫자와 영문 문자를 조합해서 판단\n",
    "- a-z\n",
    "- A-Z\n",
    "###  특정 문자 범위에 포함되지 않는지 판단\n",
    "- 문자(숫자) 범위 앞에 ^를 붙이면 해당 범위를 제외\n",
    "  - [^범위]+ ex) [^A-Z]+ 대문자를 제외\n",
    "- 특정 문자 범위로 시작할 때는 \n",
    "  - ^[A-Z]+ -> 대문자로 시작"
   ]
  },
  {
   "cell_type": "code",
   "execution_count": null,
   "id": "87f5f83b",
   "metadata": {},
   "outputs": [],
   "source": [
    "import re\n",
    "p = re.compile('[a-z]+\\s') # 영어 소문자1개 이상 + whitespace의 패턴을 만들어줌\n",
    "m = p.match('python python') # match는 처음부터 검색 -> p가 소문자이며 가운데 whitespace도 있으므로 \n",
    "print(m) # match 됨, span은 자리수를 나타냄 -> p y t h o n 공백포함 (0,7) -> 0부터 6까지"
   ]
  },
  {
   "cell_type": "code",
   "execution_count": 7,
   "id": "bfb124f5",
   "metadata": {},
   "outputs": [
    {
     "data": {
      "text/plain": [
       "<re.Match object; span=(0, 7), match='python '>"
      ]
     },
     "execution_count": 7,
     "metadata": {},
     "output_type": "execute_result"
    }
   ],
   "source": [
    "re.match('[a-z]+\\s',\"python python\") #  re.match(정규표현식 정의 , 대상) -> 처음꺼만 찾기"
   ]
  },
  {
   "cell_type": "code",
   "execution_count": 8,
   "id": "bf92264d",
   "metadata": {},
   "outputs": [
    {
     "data": {
      "text/plain": [
       "['python ']"
      ]
     },
     "execution_count": 8,
     "metadata": {},
     "output_type": "execute_result"
    }
   ],
   "source": [
    "p.findall('python python') # 뒤에는 whitespace 없으므로 python 하나만 리턴 -> 전체 찾기"
   ]
  },
  {
   "cell_type": "code",
   "execution_count": 9,
   "id": "a115d95b",
   "metadata": {},
   "outputs": [
    {
     "data": {
      "text/plain": [
       "['python ', 'python ']"
      ]
     },
     "execution_count": 9,
     "metadata": {},
     "output_type": "execute_result"
    }
   ],
   "source": [
    "p.findall('python python ') # 뒤에는 whitespace 주니까 python 두개 리턴 -> 전체 찾기"
   ]
  },
  {
   "cell_type": "code",
   "execution_count": 16,
   "id": "49fc8ecb",
   "metadata": {},
   "outputs": [
    {
     "name": "stdout",
     "output_type": "stream",
     "text": [
      "None\n"
     ]
    }
   ],
   "source": [
    "m = p.match('3python') # 처음이 3이므로 match가 안됨 -> 하나 이상의 소문자가 나와야함\n",
    "print(m)"
   ]
  },
  {
   "cell_type": "code",
   "execution_count": 25,
   "id": "17c3ae9d",
   "metadata": {},
   "outputs": [
    {
     "name": "stdout",
     "output_type": "stream",
     "text": [
      "<re.Match object; span=(1, 8), match='python '>\n"
     ]
    }
   ],
   "source": [
    "m = p.search('3python ') # search는 전체에서 검색하므로 앞이 3이더라도 값을 리턴해줌\n",
    "print(m)"
   ]
  },
  {
   "cell_type": "code",
   "execution_count": 13,
   "id": "9cb4522e",
   "metadata": {},
   "outputs": [
    {
     "name": "stdout",
     "output_type": "stream",
     "text": [
      "<re.Match object; span=(1, 6), match='anker'>\n",
      "<re.Match object; span=(0, 6), match='banker'>\n"
     ]
    }
   ],
   "source": [
    "# 문자 클래스 : []\n",
    "pattern = re.compile('[a-z]+') # 영어소문자 전부 [a-z],  +는 1개 이상\n",
    "p1 = pattern.search('Banker') # B는 거르고 소문자 anker 반환\n",
    "p2 = pattern.search('banker') # 모두 소문자이므로 모두 반환\n",
    "print(p1)\n",
    "print(p2)"
   ]
  },
  {
   "cell_type": "code",
   "execution_count": 26,
   "id": "a1a04d3d",
   "metadata": {},
   "outputs": [
    {
     "data": {
      "text/plain": [
       "'a'"
      ]
     },
     "execution_count": 26,
     "metadata": {},
     "output_type": "execute_result"
    }
   ],
   "source": [
    "# Q. '12345abc'에서 'a'만 출력하세요.\n",
    "import re\n",
    "pattern = re.compile('[a]') #문자열써서 a만 넣어주면 가능\n",
    "text = '12345abc'\n",
    "m = pattern.search(text) # match쓰면 안됨 처음꺼만 검색하기 때문에 search로 전체에서 찾아줘야 함\n",
    "m.group()"
   ]
  },
  {
   "cell_type": "code",
   "execution_count": 27,
   "id": "be65082b",
   "metadata": {},
   "outputs": [
    {
     "name": "stdout",
     "output_type": "stream",
     "text": [
      "<re.Match object; span=(5, 6), match='A'>\n"
     ]
    },
    {
     "data": {
      "text/plain": [
       "'A'"
      ]
     },
     "execution_count": 27,
     "metadata": {},
     "output_type": "execute_result"
    }
   ],
   "source": [
    "# Q. '12345Abc'에서 'A'만 출력하세요.\n",
    "import re\n",
    "p = re.compile('[A]') # 대문자로 변경\n",
    "s = p.search('12345Abd')\n",
    "print(s)\n",
    "s.group()"
   ]
  },
  {
   "cell_type": "code",
   "execution_count": 28,
   "id": "3b14e8a1",
   "metadata": {},
   "outputs": [
    {
     "data": {
      "text/plain": [
       "['대', '한', '민', '국']"
      ]
     },
     "execution_count": 28,
     "metadata": {},
     "output_type": "execute_result"
    }
   ],
   "source": [
    "# [과제] 'KOREA 대한민국'에서 '대' 만 출력하세요.\n",
    "import re  # [^A-Za-z0-9가-힣] 문자, 숫자가 아닌 text 찾기\n",
    "p = re.compile('[가-힣]') # 한글 전체\n",
    "text = 'KOREA 대한민국'\n",
    "# m = p.search(text)\n",
    "m = p.findall(text) # 'KOREA 대한민국'에서 한글 부분만 반환\n",
    "m"
   ]
  },
  {
   "cell_type": "code",
   "execution_count": 29,
   "id": "72ff1bd1",
   "metadata": {},
   "outputs": [
    {
     "data": {
      "text/plain": [
       "'대'"
      ]
     },
     "execution_count": 29,
     "metadata": {},
     "output_type": "execute_result"
    }
   ],
   "source": [
    "pattern = re.compile('[대]')  # '대'만 출력\n",
    "text = 'KOREA 대한민국'\n",
    "s = pattern.search(text)\n",
    "s.group()"
   ]
  },
  {
   "cell_type": "code",
   "execution_count": 30,
   "id": "4cacb0a0",
   "metadata": {},
   "outputs": [
    {
     "data": {
      "text/plain": [
       "'122333c'"
      ]
     },
     "execution_count": 30,
     "metadata": {},
     "output_type": "execute_result"
    }
   ],
   "source": [
    "# Q. '122333c'를 모두 출력하세요.\n",
    "import re\n",
    "p = re.compile('12{2}3{3}c') # {} 중괄호는 반복횟수를 나타냄\n",
    "text = '122333c' # 2{2} 3{3} -> 2가 2번 반복, 3이 3번 반복\n",
    "m = p.search(text)\n",
    "m.group() # group함수를 써서 해당 되는것만 뽑음"
   ]
  },
  {
   "cell_type": "code",
   "execution_count": 36,
   "id": "1292b45e",
   "metadata": {},
   "outputs": [
    {
     "data": {
      "text/plain": [
       "'aaaaBBBcccDDDeee'"
      ]
     },
     "execution_count": 36,
     "metadata": {},
     "output_type": "execute_result"
    }
   ],
   "source": [
    "# 'aaaaBBBcccDDDeee'를 모두 출력하세요\n",
    "import re\n",
    "\n",
    "pattern = re.compile('a{4}B{3}c{3}D{3}e{3}') # a 4번, B 3번, c 3번, D 3번, e 3번\n",
    "\n",
    "m = pattern.search('fewfefeaaaaBBBcccDDDeee')\n",
    "m.group()"
   ]
  },
  {
   "cell_type": "code",
   "execution_count": null,
   "id": "d62405d6",
   "metadata": {},
   "outputs": [],
   "source": [
    "# BC, CC, ABC 모두 C가 출력되는 정규 표현식을 () 에 작성하세요\n",
    "# pattern = re.compile('A?C')\n",
    "pattern = re.compile('[C]') # BC, CC, ABC 공통인 C가 출력되야 하므로\n",
    "text1 = 'BC'\n",
    "text2 = 'CC'\n",
    "text3 = 'ABC'\n",
    "p1 = pattern.search(text1)\n",
    "p2 = pattern.search(text2)\n",
    "p3 = pattern.search(text3)\n",
    "print(p1)\n",
    "print(p2)\n",
    "print(p3)"
   ]
  },
  {
   "cell_type": "code",
   "execution_count": 43,
   "id": "bc717c5d",
   "metadata": {},
   "outputs": [
    {
     "name": "stdout",
     "output_type": "stream",
     "text": [
      "['life', 'is', 'too', 'short']\n",
      "life\n",
      "life\n"
     ]
    }
   ],
   "source": [
    "p = re.compile('[a-z]+') # 소문자 1개 이상인 패턴을 만들어줌\n",
    "result1 = p.findall('life is too short') # 만족하는 패턴 전부 리스트 형태로 리턴\n",
    "result2 = p.match('life is too short') # 처음꺼만 탐색\n",
    "result3 = p.search('life is too short') # 전체에서 탐색 -> life 뒤에 space를 처리안했으므로 life만 처리\n",
    "print(result1)\n",
    "print(result2.group())\n",
    "print(result3.group())"
   ]
  },
  {
   "cell_type": "code",
   "execution_count": 44,
   "id": "36248dcf",
   "metadata": {},
   "outputs": [
    {
     "name": "stdout",
     "output_type": "stream",
     "text": [
      "life\n",
      "is\n",
      "too\n",
      "short\n"
     ]
    }
   ],
   "source": [
    "# finditer는 findall과 동일하지만 그 결과로 반복 가능한 객체를 돌려준다.\n",
    "result = p.finditer('life is too short')\n",
    "# list(result)  finditer의 객체는 list로 뽑거나 for문으로 뽑아낼 수 있다\n",
    "for r in result:print(r.group())"
   ]
  },
  {
   "cell_type": "code",
   "execution_count": 51,
   "id": "056f148c",
   "metadata": {},
   "outputs": [
    {
     "name": "stdout",
     "output_type": "stream",
     "text": [
      "032-232-3245\n",
      "032\n"
     ]
    }
   ],
   "source": [
    "# 정규표현식을 사용하여 text에서 전화번호만 출력하세요.\n",
    "# text = \"문의사항이 있으면 032-232-3245로 연락주시기 바랍니다.\"\n",
    "\n",
    "p = re.compile('(\\d+)-(\\d+)-(\\d+)') # Wd 는 숫자와 매치\n",
    "text = '문의사항이 있으면 032-232-3245로 연락주시기 바랍니다.'\n",
    "m = p.search(text)\n",
    "print(m.group())\n",
    "print(m.group(1))"
   ]
  },
  {
   "cell_type": "code",
   "execution_count": 60,
   "id": "36152758",
   "metadata": {},
   "outputs": [
    {
     "name": "stdout",
     "output_type": "stream",
     "text": [
      "['032-232-3245']\n"
     ]
    }
   ],
   "source": [
    "p = re.compile('[0-9]+\\W[0-9]+\\W[0-9]+') # \\w : 문자+숫자(alphanumeric)와 매치, [a-zA-Z0-9_]와 동일한 표현식이다.\n",
    "                       # \\W : 문자 + 숫자가 아닌 문자(특수문자 등)와 매치, [^a-zA-Z0-9_]와 동일한 표현식이다.\n",
    "text = '문의사항이 있으면 032-232-3245로 연락주시기 바랍니다.'\n",
    "m = p.findall(text)\n",
    "print(m)"
   ]
  },
  {
   "cell_type": "code",
   "execution_count": 62,
   "id": "f747fd47",
   "metadata": {},
   "outputs": [
    {
     "name": "stdout",
     "output_type": "stream",
     "text": [
      "['1', '2', '3', '4']\n",
      "['1', '2', '3', '4', '1', '2', '3', '4']\n"
     ]
    }
   ],
   "source": [
    "# Q. '1234a1234' 에서 '1', '2',' 3', '4'를 모두 출력하세요.(중복 없이)\n",
    "import re\n",
    "text = '1234a1234'\n",
    "t = re.compile('[0-9]')  # 숫자만\n",
    "tx = t.findall(text) # 모두 탐색\n",
    "print(sorted(set(tx))) # set로 중복 삭제\n",
    "print(tx) # 중복"
   ]
  },
  {
   "cell_type": "code",
   "execution_count": 63,
   "id": "d19fb3ee",
   "metadata": {},
   "outputs": [
    {
     "name": "stdout",
     "output_type": "stream",
     "text": [
      "['1', '2', '3', '4', '1', '2', '3', '4']\n"
     ]
    }
   ],
   "source": [
    "# Q. '1234a1234' 에서 '1', '2',' 3', '4'를 모두 출력하세요.(중복 허용)\n",
    "import re\n",
    "text = '1234a1234'\n",
    "t = re.compile('[1234]') # t = re.compile('[0-9]')\n",
    "tx = t.findall(text)\n",
    "print(tx)"
   ]
  },
  {
   "cell_type": "code",
   "execution_count": null,
   "id": "2945e4c4",
   "metadata": {},
   "outputs": [],
   "source": [
    "# ' Python3 is very good programming language!' 에서 ['Python', 'is', 'very', 'good', 'programming', 'language']를 모두 출력하세요."
   ]
  },
  {
   "cell_type": "code",
   "execution_count": 72,
   "id": "51f32c34",
   "metadata": {},
   "outputs": [
    {
     "data": {
      "text/plain": [
       "['Python', 'is', 'very', 'good', 'programming', 'language']"
      ]
     },
     "execution_count": 72,
     "metadata": {},
     "output_type": "execute_result"
    }
   ],
   "source": [
    "p = re.compile('[A-Za-z]+') # 영어 대소문자 1개이상\n",
    "# p = re.compile('[^A-Za-z]+')\n",
    "text = ' Python3 is very good programming language!'\n",
    "p.findall(text) # 모두 탐색하여 리스트형태로\n",
    "# p.search(text) # Python만 출력 3은 0-9 설정 안했으므로 출력안됨 "
   ]
  },
  {
   "cell_type": "code",
   "execution_count": 73,
   "id": "4633f154",
   "metadata": {},
   "outputs": [
    {
     "name": "stdout",
     "output_type": "stream",
     "text": [
      "python\n",
      "0\n",
      "6\n",
      "(0, 6)\n"
     ]
    }
   ],
   "source": [
    "# match 객체의 메소드\n",
    "import re\n",
    "p = re.compile('[a-z]+') # 소문자 1개 이상\n",
    "m = p.match('python') # 'python'과 매치함\n",
    "print(m.group()) \n",
    "print(m.start())\n",
    "print(m.end())\n",
    "print(m.span())"
   ]
  },
  {
   "cell_type": "code",
   "execution_count": 75,
   "id": "3565a892",
   "metadata": {},
   "outputs": [
    {
     "name": "stdout",
     "output_type": "stream",
     "text": [
      "python\n",
      "2\n",
      "8\n",
      "(2, 8)\n"
     ]
    }
   ],
   "source": [
    "m = p.search('3 python') # search는 전체 탐색\n",
    "print(m.group())\n",
    "print(m.start()) # 3 공백 건너 띄고 p 부터 \n",
    "print(m.end()) # n까지\n",
    "print(m.span()) "
   ]
  },
  {
   "cell_type": "code",
   "execution_count": 76,
   "id": "da3e9862",
   "metadata": {},
   "outputs": [
    {
     "name": "stdout",
     "output_type": "stream",
     "text": [
      "python\n"
     ]
    }
   ],
   "source": [
    "# 모듈 단위로 수행하기\n",
    "m = re.match('[a-z]+', \"python\")\n",
    "print(m.group())"
   ]
  },
  {
   "cell_type": "code",
   "execution_count": 77,
   "id": "27fae1e5",
   "metadata": {},
   "outputs": [
    {
     "name": "stdout",
     "output_type": "stream",
     "text": [
      "None\n",
      "acb\n",
      "a12?Ab\n"
     ]
    }
   ],
   "source": [
    "# Dot(.) 메타 문자 -> 개행을 뺀 모든 문자와 매치됨\n",
    "import re\n",
    "p = re.compile('a.+b')\n",
    "m1 = p.match('a\\nb')\n",
    "m2 = p.match('acb')\n",
    "m3 = p.match('a12?Ab')\n",
    "print(m1) # \\n 개행이 들어가 있으므로 None ->매치 불가\n",
    "print(m2.group()) \n",
    "print(m3.group()) "
   ]
  },
  {
   "cell_type": "code",
   "execution_count": 78,
   "id": "1c788cbd",
   "metadata": {},
   "outputs": [
    {
     "data": {
      "text/plain": [
       "'a\\nb'"
      ]
     },
     "execution_count": 78,
     "metadata": {},
     "output_type": "execute_result"
    }
   ],
   "source": [
    "# a.b 는 a + 모든문자 + b 와 같은 뜻\n",
    "p = re.compile('a.b', re.DOTALL)  # 컴파일 옵션 DOTALL(S) - . 이 줄바꿈 문자를 포함하여 모든 문자와 매치할 수 있도록 한다\n",
    "m = p.match('a\\nb')\n",
    "m.group() # 개행 \\n상관없이 다 match해줌"
   ]
  },
  {
   "cell_type": "code",
   "execution_count": 79,
   "id": "2aaf00aa",
   "metadata": {},
   "outputs": [
    {
     "name": "stdout",
     "output_type": "stream",
     "text": [
      "<re.Match object; span=(0, 6), match='python'>\n",
      "<re.Match object; span=(0, 6), match='Python'>\n",
      "<re.Match object; span=(0, 6), match='PYTHON'>\n"
     ]
    }
   ],
   "source": [
    "# re.IGNORANCE 또는 re.I 옵션은 대소문자 구분없이 매치를 수행시 사용\n",
    "p= re.compile('[a-z]+', re.I)  # re.l 대소문자 구분안함\n",
    "print(p.match('python'))\n",
    "print(p.match('Python'))\n",
    "print(p.match('PYTHON'))"
   ]
  },
  {
   "cell_type": "code",
   "execution_count": 80,
   "id": "136ed374",
   "metadata": {},
   "outputs": [
    {
     "name": "stdout",
     "output_type": "stream",
     "text": [
      "<re.Match object; span=(2, 8), match='python'>\n",
      "<re.Match object; span=(2, 8), match='Python'>\n",
      "<re.Match object; span=(2, 8), match='PYTHON'>\n"
     ]
    }
   ],
   "source": [
    "print(p.search('3 python'))\n",
    "print(p.search('3 Python'))\n",
    "print(p.search('3 PYTHON'))"
   ]
  },
  {
   "cell_type": "code",
   "execution_count": 89,
   "id": "ef40972f",
   "metadata": {},
   "outputs": [
    {
     "name": "stdout",
     "output_type": "stream",
     "text": [
      "['python one']\n"
     ]
    }
   ],
   "source": [
    "# ^ : 문자열의 처음과 매치 -> 앞에 둠\n",
    "# ^ 는 문자열에 쓰였을 때 not의미 -> 아닌, 반대의 의미\n",
    "p = re.compile('^python\\s\\w+')\n",
    "                        # 처음 문자 python +space+ 문자 1개이상\n",
    "data = \"\"\"python one\n",
    "life is too short\n",
    "python two\n",
    "you need python\n",
    "python three\"\"\"\n",
    "\n",
    "print(p.findall(data))"
   ]
  },
  {
   "cell_type": "code",
   "execution_count": 90,
   "id": "50cb630d",
   "metadata": {},
   "outputs": [
    {
     "name": "stdout",
     "output_type": "stream",
     "text": [
      "['python three']\n"
     ]
    }
   ],
   "source": [
    "# $ : 문자열의 끝과 매치 -> 그래서 뒤에 둠\n",
    "p = re.compile('python\\s\\w+$')\n",
    "                    # python + space + 마지막 단어 매치\n",
    "data = \"\"\"python one\n",
    "life is too short\n",
    "python two\n",
    "you need python\n",
    "python three\"\"\"\n",
    "\n",
    "print(p.findall(data))"
   ]
  },
  {
   "cell_type": "code",
   "execution_count": 91,
   "id": "a5e5381b",
   "metadata": {},
   "outputs": [
    {
     "name": "stdout",
     "output_type": "stream",
     "text": [
      "<re.Match object; span=(0, 4), match='Crow'>\n"
     ]
    }
   ],
   "source": [
    "# | or와 동일한 의미\n",
    "\n",
    "p = re.compile('Crow|Servo')\n",
    "m = p.match('CrowHello')\n",
    "print(m)"
   ]
  },
  {
   "cell_type": "code",
   "execution_count": 98,
   "id": "602e92ba",
   "metadata": {},
   "outputs": [
    {
     "name": "stdout",
     "output_type": "stream",
     "text": [
      "<re.Match object; span=(0, 8), match='\\\\section'>\n"
     ]
    },
    {
     "data": {
      "text/plain": [
       "['\\\\section', '\\\\section']"
      ]
     },
     "execution_count": 98,
     "metadata": {},
     "output_type": "execute_result"
    }
   ],
   "source": [
    "# Raw String 규칙\n",
    "# 역슬래쉬 4개 써야 하므로 파일해야 하는 정규식이 Raw String임을 알려 줄 수 있도록 파이썬 문법이 생김\n",
    "p = re.compile(r'\\\\section')  # r'\\\\'' \n",
    "\n",
    "print(p.search('\\section'))\n",
    "p.findall('\\section\\section')"
   ]
  },
  {
   "cell_type": "code",
   "execution_count": 96,
   "id": "bdde1ab7",
   "metadata": {},
   "outputs": [
    {
     "data": {
      "text/plain": [
       "'home'"
      ]
     },
     "execution_count": 96,
     "metadata": {},
     "output_type": "execute_result"
    }
   ],
   "source": [
    "# Q. 'we are going home'에서 home만 출력하세요.\n",
    "p = re.compile('home$') \n",
    "mo1 = p.search('we are going home') # $ 마지막 문자\n",
    "mo1.group()"
   ]
  },
  {
   "cell_type": "code",
   "execution_count": 94,
   "id": "767dd455",
   "metadata": {},
   "outputs": [
    {
     "data": {
      "text/plain": [
       "'home'"
      ]
     },
     "execution_count": 94,
     "metadata": {},
     "output_type": "execute_result"
    }
   ],
   "source": [
    "# [과제] 'home sweet'에서 home만 출력하세요.\n",
    "import re\n",
    "m=re.match('^home','home sweet') # ^ 처음 문자\n",
    "m.group()"
   ]
  },
  {
   "cell_type": "code",
   "execution_count": 100,
   "id": "a2855c9f",
   "metadata": {},
   "outputs": [
    {
     "name": "stdout",
     "output_type": "stream",
     "text": [
      "<re.Match object; span=(0, 6), match='199305'>\n"
     ]
    },
    {
     "data": {
      "text/plain": [
       "'199305'"
      ]
     },
     "execution_count": 100,
     "metadata": {},
     "output_type": "execute_result"
    }
   ],
   "source": [
    "# [과제] '199305, 1923A, a93247'에서 '199305'만 출력하세요.\n",
    "import re\n",
    "text = '199305, 1923A, a93247'\n",
    "p = re.compile('[0-9]+') # 숫자 1개이상\n",
    "m = p.match(text) # match는 처음한개꺼만\n",
    "print(m)\n",
    "m.group()"
   ]
  },
  {
   "cell_type": "code",
   "execution_count": 101,
   "id": "ea1eda65",
   "metadata": {},
   "outputs": [
    {
     "name": "stdout",
     "output_type": "stream",
     "text": [
      "<re.Match object; span=(3, 9), match='ABCDEF'>\n",
      "ABCDEF\n",
      "ABCDEF\n",
      "AB\n",
      "CD\n",
      "EF\n"
     ]
    }
   ],
   "source": [
    "# 그룹핑 : 매치된 문자열 중에서 특정 부분의 문자열만 뽑아내는 경우 ()을 만들어 준다.\n",
    "# group(0) 매치된 전체 문자열, 1 첫번째 그룹, 2 두번째 그룹, n n번째 그룹\n",
    "# 밖에서 부터 보면 됨  -> 맨 끝이 첫번째 그룹\n",
    "p = re.compile('((AB)(CD)(EF))+')\n",
    "# p = re.compile('(AB(CD)EF)+')\n",
    "m = p.search('DEFABCDEFDEF OK?')\n",
    "\n",
    "print(m)\n",
    "print(m.group(0)) # ((ABCDEF))\n",
    "print(m.group(1)) #  (ABCDEF)\n",
    "print(m.group(2)) # (AB)\n",
    "print(m.group(3)) # (CD)\n",
    "print(m.group(4)) # (EF)"
   ]
  },
  {
   "cell_type": "code",
   "execution_count": 102,
   "id": "7fbb7d34",
   "metadata": {},
   "outputs": [
    {
     "name": "stdout",
     "output_type": "stream",
     "text": [
      "abcdefghij\n",
      "abcdefghi\n",
      "bcdefgh\n",
      "e\n"
     ]
    }
   ],
   "source": [
    "#'abcdefghij'에 대하여 중첩을 적용한 서브그룹 5개로 컴파일하여 group() 함수를 이용하여 abcdefghi'와'e'를 출력하세요.\n",
    "\n",
    "p = re.compile('(a(b(c(d(e)f)g)h)i)j')\n",
    "m = p.match('abcdefghij')\n",
    "print(m.group(0)) # (abcdefghij)\n",
    "print(m.group(1)) # (abcdefghi)\n",
    "print(m.group(2)) # a랑 i 날라감\n",
    "print(m.group(5)) # 가운데 혼자 e만 남음 -> 괄호 다 벗겨내기"
   ]
  },
  {
   "cell_type": "code",
   "execution_count": 103,
   "id": "0ade984e",
   "metadata": {},
   "outputs": [
    {
     "name": "stdout",
     "output_type": "stream",
     "text": [
      "abcdefghij\n",
      "e\n"
     ]
    }
   ],
   "source": [
    "p = re.compile('(((abcd)(e)(fghij)))')\n",
    "text = 'abcdefghij'\n",
    "r1 = p.search(text)\n",
    "print(r1.group(0)) # 전체 큰 괄호\n",
    "print(r1.group(4))"
   ]
  },
  {
   "cell_type": "code",
   "execution_count": 105,
   "id": "e267b9c5",
   "metadata": {},
   "outputs": [
    {
     "name": "stdout",
     "output_type": "stream",
     "text": [
      "abcdefghij\n",
      "abcdefghi\n",
      "e\n"
     ]
    }
   ],
   "source": [
    "text = 'abcdefghij' \n",
    "p = re.compile('(\\w{4}(\\w)(\\w{2})(\\w{2}))(\\w)') # \\w 문자 + 숫자와 매치, [a-zA-Z0-9]와 동일한 표현식\n",
    "a = p.search(text) # 중괄호는 반복을 나타냄\n",
    "print(a.group(0))\n",
    "print(a.group(1))\n",
    "print(a.group(2))"
   ]
  }
 ],
 "metadata": {
  "kernelspec": {
   "display_name": "Python 3 (ipykernel)",
   "language": "python",
   "name": "python3"
  },
  "language_info": {
   "codemirror_mode": {
    "name": "ipython",
    "version": 3
   },
   "file_extension": ".py",
   "mimetype": "text/x-python",
   "name": "python",
   "nbconvert_exporter": "python",
   "pygments_lexer": "ipython3",
   "version": "3.8.12"
  }
 },
 "nbformat": 4,
 "nbformat_minor": 5
}
