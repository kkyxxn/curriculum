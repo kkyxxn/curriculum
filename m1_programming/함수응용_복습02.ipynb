{
 "cells": [
  {
   "cell_type": "code",
   "execution_count": 1,
   "id": "a94e2e77",
   "metadata": {},
   "outputs": [
    {
     "data": {
      "text/plain": [
       "0.7673532800354426"
      ]
     },
     "execution_count": 1,
     "metadata": {},
     "output_type": "execute_result"
    }
   ],
   "source": [
    "# random은 난수를 발생시키는 모듈\n",
    "import random\n",
    "random.random() # 0.0에서 1.0사이의 실수 중에서 난수 값을 리턴\n"
   ]
  },
  {
   "cell_type": "code",
   "execution_count": 1,
   "id": "1f6c881e",
   "metadata": {},
   "outputs": [
    {
     "data": {
      "text/plain": [
       "0.05445836807825577"
      ]
     },
     "execution_count": 1,
     "metadata": {},
     "output_type": "execute_result"
    }
   ],
   "source": [
    "import random # 난수를 발생시키는 모듈\n",
    "random.random()"
   ]
  },
  {
   "cell_type": "code",
   "execution_count": 2,
   "id": "71f6832e",
   "metadata": {},
   "outputs": [
    {
     "data": {
      "text/plain": [
       "6.989564617337718"
      ]
     },
     "execution_count": 2,
     "metadata": {},
     "output_type": "execute_result"
    }
   ],
   "source": [
    "#1.0~10.0 사이의 난수값\n",
    "random.random()*10"
   ]
  },
  {
   "cell_type": "code",
   "execution_count": 2,
   "id": "ab147239",
   "metadata": {},
   "outputs": [
    {
     "data": {
      "text/plain": [
       "65.34958429354893"
      ]
     },
     "execution_count": 2,
     "metadata": {},
     "output_type": "execute_result"
    }
   ],
   "source": [
    "random.random()*100"
   ]
  },
  {
   "cell_type": "code",
   "execution_count": 3,
   "id": "efc8d470",
   "metadata": {},
   "outputs": [
    {
     "data": {
      "text/plain": [
       "[3, 4, 5, 2, 1]"
      ]
     },
     "execution_count": 3,
     "metadata": {},
     "output_type": "execute_result"
    }
   ],
   "source": [
    "#random.shuffle()\n",
    "data=[1,2,3,4,5]\n",
    "random.shuffle(data) # 리스트에 있는 요소들을 무작위로 섞어 출력함\n",
    "datae"
   ]
  },
  {
   "cell_type": "code",
   "execution_count": 4,
   "id": "d77e7a69",
   "metadata": {},
   "outputs": [
    {
     "data": {
      "text/plain": [
       "[1, 2, 3, 5, 4]"
      ]
     },
     "execution_count": 4,
     "metadata": {},
     "output_type": "execute_result"
    }
   ],
   "source": [
    "abc=[1,2,3,4,5]\n",
    "random.shuffle(abc)\n",
    "abc"
   ]
  },
  {
   "cell_type": "code",
   "execution_count": 4,
   "id": "4189cbbf",
   "metadata": {},
   "outputs": [
    {
     "data": {
      "text/plain": [
       "60"
      ]
     },
     "execution_count": 4,
     "metadata": {},
     "output_type": "execute_result"
    }
   ],
   "source": [
    "#1~100사이의 임의 짝수를 출력\n",
    "random.randrange(1,101,2)"
   ]
  },
  {
   "cell_type": "code",
   "execution_count": 24,
   "id": "7130256f",
   "metadata": {},
   "outputs": [
    {
     "data": {
      "text/plain": [
       "6"
      ]
     },
     "execution_count": 24,
     "metadata": {},
     "output_type": "execute_result"
    }
   ],
   "source": [
    "random.randrange(1,21,5) #1~20사이의 5씩 증가 1, 6, 11, 16"
   ]
  },
  {
   "cell_type": "code",
   "execution_count": 5,
   "id": "ef6180b3",
   "metadata": {},
   "outputs": [
    {
     "data": {
      "text/plain": [
       "8"
      ]
     },
     "execution_count": 5,
     "metadata": {},
     "output_type": "execute_result"
    }
   ],
   "source": [
    "#1~55사이의 정수중에서 난수값 리턴\n",
    "random.randint(1,55)"
   ]
  },
  {
   "cell_type": "code",
   "execution_count": 25,
   "id": "79b50a35",
   "metadata": {},
   "outputs": [
    {
     "data": {
      "text/plain": [
       "10"
      ]
     },
     "execution_count": 25,
     "metadata": {},
     "output_type": "execute_result"
    }
   ],
   "source": [
    "random.randint(1,20) # 1 ~ 19사이의 정수중 난수값 리턴"
   ]
  },
  {
   "cell_type": "code",
   "execution_count": 8,
   "id": "7ecad0e6",
   "metadata": {},
   "outputs": [
    {
     "data": {
      "text/plain": [
       "[4, 8, 9]"
      ]
     },
     "execution_count": 8,
     "metadata": {},
     "output_type": "execute_result"
    }
   ],
   "source": [
    "# [1,2,3,4,5,6,7,8,9]에서 임의로 3개 선택\n",
    "numlist= [1,2,3,4,5,6,7,8,9]\n",
    "random.sample(numlist,3) "
   ]
  },
  {
   "cell_type": "code",
   "execution_count": 27,
   "id": "271dee69",
   "metadata": {},
   "outputs": [
    {
     "data": {
      "text/plain": [
       "[7, 3]"
      ]
     },
     "execution_count": 27,
     "metadata": {},
     "output_type": "execute_result"
    }
   ],
   "source": [
    "numlist=[1,2,3,4,5,6,7,8,9]\n",
    "random.sample(numlist,2) # numlist에서 임의로 2개 선택"
   ]
  },
  {
   "cell_type": "code",
   "execution_count": 9,
   "id": "8cd3e019",
   "metadata": {},
   "outputs": [
    {
     "name": "stdout",
     "output_type": "stream",
     "text": [
      "{2: 2, 3: 4, 4: 2, 5: 2, 6: 2, 7: 2, 8: 2, 9: 2}\n"
     ]
    }
   ],
   "source": [
    "#numbers에 들어있는 숫자가 몇 번 등장하는지 출력\n",
    "numbers=[3,6,3,5,8,2,9,7,4,3,6,3,5,8,2,9,7,4]\n",
    "dic_num={}\n",
    "for i in set(numbers):\n",
    "    dic_num[i]=numbers.count(i)\n",
    "print(dic_num)"
   ]
  },
  {
   "cell_type": "code",
   "execution_count": 29,
   "id": "856858a7",
   "metadata": {},
   "outputs": [
    {
     "name": "stdout",
     "output_type": "stream",
     "text": [
      "{2: 2, 3: 4, 4: 2, 5: 2, 6: 2, 7: 2, 8: 2, 9: 2}\n"
     ]
    }
   ],
   "source": [
    "numbers=[3,6,3,5,8,2,9,7,4,3,6,3,5,8,2,9,7,4] # numbers 리스트\n",
    "dic_num={} # 몇번 등장할지 카운팅하는 변수 선언\n",
    "for i in set(numbers): # set 중복제거하고  numbers 리스트에서 하나씩 꺼내 i로 할당\n",
    "    dic_num[i]=numbers.count(i)  \n",
    "print(dic_num)"
   ]
  },
  {
   "cell_type": "code",
   "execution_count": 1,
   "id": "0531926e",
   "metadata": {},
   "outputs": [
    {
     "name": "stdout",
     "output_type": "stream",
     "text": [
      "18\n",
      "{0: '0개', 1: '0개', 2: '2개', 3: '4개', 4: '2개', 5: '2개', 6: '2개', 7: '2개', 8: '2개', 9: '2개'}\n"
     ]
    }
   ],
   "source": [
    " ## 이해안감 다시보기\n",
    "numbers=[3,6,3,5,8,2,9,7,4,3,6,3,5,8,2,9,7,4]\n",
    "print(len(numbers)) # 18개\n",
    "numdict={} \n",
    "for i in range(10): #0부터 9까지 \n",
    "    numcount=0 # 몇번 등장하는지 개수 세는 변수 설정 및 초기화\n",
    "    for j in range(len(numbers)): # 18번 반복\n",
    "        if i==numbers[j]:\n",
    "            numcount+=1\n",
    "            \n",
    "    numdict[i]=f'{numcount}개'\n",
    "    \n",
    "print(numdict)"
   ]
  },
  {
   "cell_type": "code",
   "execution_count": 37,
   "id": "cc0a0e69",
   "metadata": {},
   "outputs": [
    {
     "name": "stdout",
     "output_type": "stream",
     "text": [
      "[6, 5, 4, 3, 2, 1, 0]\n",
      "[6, 5, 4, 3, 2, 1, 0]\n"
     ]
    }
   ],
   "source": [
    "#list [0,1,2,3,4,5,6]을 내림차순으로 출력\n",
    "n= [0,1,2,3,4,5,6]\n",
    "\n",
    "# 첫번째 방법\n",
    "print(n[::-1]) #처음부터 끝까지 역순으로   -2는 6부터 역순으로 2씩 감소\n",
    "# 두번째 방법\n",
    "list.reverse(n) #list.reverse(변수명)\n",
    "print(n)"
   ]
  },
  {
   "cell_type": "code",
   "execution_count": 29,
   "id": "717b1df9",
   "metadata": {},
   "outputs": [
    {
     "name": "stdout",
     "output_type": "stream",
     "text": [
      "1번째는 a입니다.\n",
      "2번째는 b입니다.\n",
      "3번째는 c입니다.\n"
     ]
    }
   ],
   "source": [
    "# list=['a','b','c']를 for문을 사용해서 아래와 같이 출력\n",
    "#1번째는 a입니다\n",
    "#2번째는 b입니다\n",
    "#3번째는 c입니다\n",
    "\n",
    "li=['a','b','c']\n",
    "for i, value in enumerate(li):   \n",
    "    print(f'{i+1}번째는 {value}입니다.')\n",
    "    "
   ]
  },
  {
   "cell_type": "code",
   "execution_count": 22,
   "id": "37dbe8b1",
   "metadata": {},
   "outputs": [
    {
     "name": "stdout",
     "output_type": "stream",
     "text": [
      "korea\n",
      "china\n",
      "japan\n"
     ]
    }
   ],
   "source": [
    "#for문 다시보기\n",
    "country=['korea','china','japan'] #컨트리에는 3개의 원자 값을 지님\n",
    " \n",
    "for c in country: # For 변수 in 리스트(튜플,문자열)\n",
    "    print(c)  # for문 리스트,튜플에서 원자, 원소값을 출력한다고 생각\n",
    "    \n",
    "    \n",
    "    #파이썬에서는 for문 기본적으로 for <원소> in (목록)\n",
    "    #(목록) 부분에는 list, tuple, string, 반복자(iterator), generator 등 순회가 가능한 모든 데이터 타입을 사용할 수 있\n",
    "    #<원소> 부분은 순회 변수라고 하며 (목록)리스트에서 값 하나하나 추출할 때 대입할 임시 변수를 뜻함"
   ]
  },
  {
   "cell_type": "code",
   "execution_count": 38,
   "id": "0b0f0d28",
   "metadata": {},
   "outputs": [
    {
     "name": "stdout",
     "output_type": "stream",
     "text": [
      "korea : japan\n",
      "usa : canada\n"
     ]
    }
   ],
   "source": [
    "# 원자값이 이중으로 여러가지 값을 가지는 경우\n",
    "\n",
    "country=[('korea','japan'),('usa','canada')]\n",
    "\n",
    "for (c1,c2) in country:\n",
    "    print(c1+ \" : \" +c2)"
   ]
  },
  {
   "cell_type": "code",
   "execution_count": 27,
   "id": "985c78d9",
   "metadata": {},
   "outputs": [
    {
     "name": "stdout",
     "output_type": "stream",
     "text": [
      "1\n",
      "3\n",
      "5\n"
     ]
    }
   ],
   "source": [
    "number=[1,2,3,4,5]\n",
    "\n",
    "for n in number:# number 리스트에서 하나씩 출력\n",
    "    if n%2==0: #만약 n이 짝수이면\n",
    "        continue #다시 처음 for문으로 돌아가\n",
    "    print(n) #결국 홀수만 출력"
   ]
  },
  {
   "cell_type": "code",
   "execution_count": 30,
   "id": "c99c3112",
   "metadata": {},
   "outputs": [
    {
     "name": "stdout",
     "output_type": "stream",
     "text": [
      "[2, 4, 6]\n"
     ]
    }
   ],
   "source": [
    "#리스트 append 함수 활용\n",
    "number =[1,2,3]\n",
    "newNum=[]\n",
    "\n",
    "for n  in number: #number 리스트에서 하나씩 꺼냄\n",
    "    newNum.append(n*2) #number 변수의 원자값들에 2를 곱한 값을 newNum 변수에 저장\n",
    "    \n",
    "print(newNum)"
   ]
  },
  {
   "cell_type": "code",
   "execution_count": 31,
   "id": "76d43467",
   "metadata": {},
   "outputs": [
    {
     "name": "stdout",
     "output_type": "stream",
     "text": [
      "[0, 4, 16, 36, 64, 100, 144, 196, 256, 324]\n",
      "18\n"
     ]
    }
   ],
   "source": [
    "li=[]\n",
    "for i in range(0,20,2):\n",
    "    li.append(i*i)\n",
    "print(li)\n",
    "print(i)\n",
    "# 0,4,16,....324"
   ]
  },
  {
   "cell_type": "code",
   "execution_count": 39,
   "id": "1b00e540",
   "metadata": {},
   "outputs": [
    {
     "name": "stdout",
     "output_type": "stream",
     "text": [
      "[0, 6, 12, 18, 24, 30, 36, 42, 48, 54]\n",
      "18\n"
     ]
    }
   ],
   "source": [
    "li=[]\n",
    "for i in range(0,20,2): # 1부터 19까지 2씩 증가\n",
    "    li.append(i*3)    # 그 수에 *3한 값을 append해준다\n",
    "print(li)\n",
    "print(i)"
   ]
  },
  {
   "cell_type": "code",
   "execution_count": 32,
   "id": "81dd8cf5",
   "metadata": {},
   "outputs": [
    {
     "name": "stdout",
     "output_type": "stream",
     "text": [
      "[0, 4, 16, 36, 64, 100, 144, 196, 256, 324]\n"
     ]
    }
   ],
   "source": [
    "# 위의 결과값과 동일한 값을 한줄 코딩으로\n",
    "print([x*x for x in range(0,20,2)])"
   ]
  },
  {
   "cell_type": "code",
   "execution_count": 40,
   "id": "fac147ec",
   "metadata": {},
   "outputs": [
    {
     "name": "stdout",
     "output_type": "stream",
     "text": [
      "[0, 6, 12, 18, 24, 30, 36, 42, 48, 54]\n"
     ]
    }
   ],
   "source": [
    "print([x*3 for x in range(0,20,2)])"
   ]
  },
  {
   "cell_type": "code",
   "execution_count": 33,
   "id": "7b7d977f",
   "metadata": {},
   "outputs": [
    {
     "name": "stdout",
     "output_type": "stream",
     "text": [
      "[0, 4, 16, 36, 64, 100, 144, 196, 256, 324]\n"
     ]
    }
   ],
   "source": [
    "print(list(map(lambda i:i*i, range(0,20,2))))"
   ]
  },
  {
   "cell_type": "code",
   "execution_count": 41,
   "id": "11970437",
   "metadata": {},
   "outputs": [
    {
     "name": "stdout",
     "output_type": "stream",
     "text": [
      "[0, 6, 12, 18, 24, 30, 36, 42, 48, 54]\n"
     ]
    }
   ],
   "source": [
    "print(list(map(lambda i : i*3 , range(0,20,2))))"
   ]
  },
  {
   "cell_type": "code",
   "execution_count": 39,
   "id": "3d7d7c46",
   "metadata": {},
   "outputs": [
    {
     "data": {
      "text/plain": [
       "'a::b::c'"
      ]
     },
     "execution_count": 39,
     "metadata": {},
     "output_type": "execute_result"
    }
   ],
   "source": [
    "# join 함수를 이용해서 ['a','b','c']를 아래와 같이 출력\n",
    "# a::b::c\n",
    "a=['a','b','c']\n",
    "'::'.join(['a','b','c'])\n",
    "\n",
    "# .join(리스트) -> ['a','b','c'] 를 'abc' 문자열로 합쳐서 반환\n",
    "#  구분자. join(리스트)"
   ]
  },
  {
   "cell_type": "code",
   "execution_count": 42,
   "id": "4714cd88",
   "metadata": {},
   "outputs": [
    {
     "data": {
      "text/plain": [
       "'a::b::c'"
      ]
     },
     "execution_count": 42,
     "metadata": {},
     "output_type": "execute_result"
    }
   ],
   "source": [
    "# join함수를 이용해서 ['a','b','c']  를 아래와 같이 출력\n",
    "#  a::b::C\n",
    "a=['a','b','c']\n",
    "'::'.join(['a','b','c'])\n",
    "\n",
    "# .join(리스트) -> ['a','b','c'] 를 'abc' 문자열로 합쳐서 반환시킴\n",
    "# 구분자.join(리스트)"
   ]
  },
  {
   "cell_type": "code",
   "execution_count": null,
   "id": "fcb2ae65",
   "metadata": {},
   "outputs": [],
   "source": [
    "# 두개의 숫자를 인자로 적용하여 4칙 연산을 수행하는 사용자 함수\n",
    "def cal(a,b):\n",
    "    return a+b, a-b, a*b, round(a/b)\n",
    "cal (10,2)"
   ]
  },
  {
   "cell_type": "code",
   "execution_count": null,
   "id": "b44f32c1",
   "metadata": {},
   "outputs": [],
   "source": [
    "# 데이터를 입력하지 않으면 종료되도록 반복 안되게\n",
    "\n",
    "while 1:\n",
    "    data=input()\n",
    "    if not data:\n",
    "        break\n",
    "    print(data)"
   ]
  },
  {
   "cell_type": "code",
   "execution_count": 3,
   "id": "6422980e",
   "metadata": {},
   "outputs": [
    {
     "name": "stdout",
     "output_type": "stream",
     "text": [
      "120\n"
     ]
    }
   ],
   "source": [
    "def factorial(n):\n",
    "    output=1\n",
    "    for i in range(1,n+1): # 1부터 5까지\n",
    "        output *=i \n",
    "    return output\n",
    "print(factorial(5))"
   ]
  },
  {
   "cell_type": "code",
   "execution_count": 5,
   "id": "e67fd25e",
   "metadata": {},
   "outputs": [
    {
     "name": "stdout",
     "output_type": "stream",
     "text": [
      "120\n"
     ]
    }
   ],
   "source": [
    "# 재귀란 '자기자신을 호출하는 것' 의미\n",
    "# 재귀함수를 이용해서 팩토리얼을 구하는 사용자 함수를 작성\n",
    "# factorial(n)=  n*factorial(n-1) (n>=1)\n",
    "\n",
    "def factorial(n):\n",
    "    if n==0:\n",
    "        return 1\n",
    "    else:\n",
    "        return n* factorial(n-1)\n",
    "    \n",
    "print(factorial(5))"
   ]
  },
  {
   "cell_type": "code",
   "execution_count": 7,
   "id": "a1667bde",
   "metadata": {},
   "outputs": [
    {
     "name": "stdout",
     "output_type": "stream",
     "text": [
      "[1.0, 2.0, 3.0, 4.0, 5.0]\n"
     ]
    }
   ],
   "source": [
    "# list a의 모든 원소를 실수형으로 바꾸어 출력\n",
    "a=[1,2,3,4,5]\n",
    "for i in range(len(a)):#0부터 4까지\n",
    "    a[i]=float(a[i]) #자료형(a[i])\n",
    "    \n",
    "print(a)"
   ]
  },
  {
   "cell_type": "code",
   "execution_count": 44,
   "id": "4eefe4d6",
   "metadata": {},
   "outputs": [
    {
     "name": "stdout",
     "output_type": "stream",
     "text": [
      "[1.0, 2.0, 3.0, 4.0, 5.0]\n"
     ]
    }
   ],
   "source": [
    "# list a 의 모든 원소를 실수형으로 바꾸어 출력\n",
    "a=[1,2,3,4,5]\n",
    "for i in range(len(a)): # 0~4까지\n",
    "    a[i]=float(a[i]) # 0,1,2,3,4 \n",
    "    \n",
    "#a[0],a[1],a[2],a[3],a[4]\n",
    "\n",
    "print(a)\n",
    "    \n"
   ]
  },
  {
   "cell_type": "code",
   "execution_count": 8,
   "id": "d1ca89f7",
   "metadata": {},
   "outputs": [
    {
     "data": {
      "text/plain": [
       "[1.0, 2.0, 3.0, 4.0, 5.0]"
      ]
     },
     "execution_count": 8,
     "metadata": {},
     "output_type": "execute_result"
    }
   ],
   "source": [
    "a =[1,2,3,4,5]\n",
    "a=list(map(float,a)) #변수명=list(map(자료형, 변수명))\n",
    "a\n",
    "\n",
    "# list(map(함수, 리스트)) \n",
    "# tuple(map(함수, 튜플))\n",
    "# map은 리스트의 요소를 지정된 함수로 처리해주는 함수 \n",
    "# map은 원본 리스트를 변경하지 않고 새 리스트를 생성\n"
   ]
  },
  {
   "cell_type": "code",
   "execution_count": null,
   "id": "3efa14d4",
   "metadata": {},
   "outputs": [],
   "source": [
    "#문자열 리스트 states를 정형화하여 아래와 같이 출력\n",
    "states = ['   Alabama ', 'Georgia!', 'Georgia', 'georgia', 'FlOrIda',\n",
    "          'south   carolina', 'West virginia']\n",
    "[출력]\n",
    "['Alabama',\n",
    " 'Georgia',\n",
    " 'Georgia',\n",
    " 'Georgia',\n",
    " 'Florida',\n",
    " 'South   Carolina',\n",
    " 'West Virginia']"
   ]
  },
  {
   "cell_type": "code",
   "execution_count": 9,
   "id": "2bbad685",
   "metadata": {},
   "outputs": [
    {
     "data": {
      "text/plain": [
       "['Alabama',\n",
       " 'Georgia!',\n",
       " 'Georgia',\n",
       " 'georgia',\n",
       " 'FlOrIda',\n",
       " 'south   carolina',\n",
       " 'West virginia']"
      ]
     },
     "execution_count": 9,
     "metadata": {},
     "output_type": "execute_result"
    }
   ],
   "source": [
    "states = ['   Alabama ', 'Georgia!', 'Georgia', 'georgia', 'FlOrIda',\n",
    "          'south   carolina', 'West virginia']\n",
    "\n",
    "def clean_strings(strings): #사용자 함수 정의\n",
    "    result =[]                # 결과값을 담을 변수와 리스트설정\n",
    "    for value in strings:        # strings에서 하나씩 꺼내 value에 넣어줌\n",
    "        value = value.strip()     # 받은 value값을 strip 공백 제거해줌\n",
    "        result.append(value)          # value를 append 뿌려준것을 result에 넣어준다\n",
    "    return result                      #결과값 리턴\n",
    "clean_strings(states)                   #호출"
   ]
  },
  {
   "cell_type": "code",
   "execution_count": 17,
   "id": "bed36e1b",
   "metadata": {},
   "outputs": [
    {
     "data": {
      "text/plain": [
       "['Alabama',\n",
       " 'Georgia',\n",
       " 'Georgia',\n",
       " 'Georgia',\n",
       " 'Florida',\n",
       " 'South   Carolina',\n",
       " 'West Virginia']"
      ]
     },
     "execution_count": 17,
     "metadata": {},
     "output_type": "execute_result"
    }
   ],
   "source": [
    "import re #정규표현식 패키지 \n",
    "states = ['   Alabama ', 'Georgia!', 'Georgia', 'georgia', 'FlOrIda',\n",
    "          'south   carolina##', 'West virginia?']\n",
    "def clean_strings(strings):\n",
    "    result = []\n",
    "    for value in strings:\n",
    "        value=value.strip() # 양쪽 공백제거\n",
    "        value=re.sub('[!#?]','',value) # 특수문자 제거\n",
    "        value=value.title() # 첫 글자만 대문자로 변경\n",
    "        result.append(value)\n",
    "    return result\n",
    "\n",
    "clean_strings(states) # 함수호출"
   ]
  },
  {
   "cell_type": "code",
   "execution_count": 11,
   "id": "19c94066",
   "metadata": {},
   "outputs": [
    {
     "data": {
      "text/plain": [
       "True"
      ]
     },
     "execution_count": 11,
     "metadata": {},
     "output_type": "execute_result"
    }
   ],
   "source": [
    "import webbrowser\n",
    "url = \"https://skku.goorm.io/qna/6646\"\n",
    "webbrowser.open(url)"
   ]
  },
  {
   "cell_type": "code",
   "execution_count": 24,
   "id": "3144abe8",
   "metadata": {},
   "outputs": [
    {
     "name": "stdout",
     "output_type": "stream",
     "text": [
      "skku.goorm.io\n"
     ]
    }
   ],
   "source": [
    "url =\"https://skku.goorm.io/qna/6646\"\n",
    "domurl = url.split('/')\n",
    "domain=domurl[-3] #도메인만 출력\n",
    "print(domain)"
   ]
  },
  {
   "cell_type": "code",
   "execution_count": null,
   "id": "179c5cc8",
   "metadata": {},
   "outputs": [],
   "source": [
    "# Q. url에서 쿼리문을 추출하여 출력\n",
    "# ?뒤에 표시되는 문자열을 쿼리 문자열이라고 하며 변수=값 사이 &로 구분되어 나열된다.\n",
    "url = 'http://news.naver.com/main/read.nhn?mode=LSD&mid=shm&sid1=105&oid=028&aid=0002334601'"
   ]
  },
  {
   "cell_type": "code",
   "execution_count": 28,
   "id": "b1f67e59",
   "metadata": {},
   "outputs": [
    {
     "name": "stdout",
     "output_type": "stream",
     "text": [
      "['mode=LSD', 'mid=shm', 'sid1=105', 'oid=028', 'aid=0002334601']\n"
     ]
    }
   ],
   "source": [
    "url = 'http://news.naver.com/main/read.nhn?mode=LSD&mid=shm&sid1=105&oid=028&aid=0002334601'\n",
    "div1 =url.split('?')\n",
    "div2 = div1[1]\n",
    "print(div2.split('&'))"
   ]
  },
  {
   "cell_type": "code",
   "execution_count": 29,
   "id": "109f9c1a",
   "metadata": {},
   "outputs": [
    {
     "name": "stdout",
     "output_type": "stream",
     "text": [
      "mode=LSD\n",
      "mid=shm\n",
      "sid1=105\n",
      "oid=028\n",
      "aid=0002334601\n"
     ]
    }
   ],
   "source": [
    "div = url.split('?')\n",
    "div3 = div[1].split('&')\n",
    "for e in div3:\n",
    "    print(e)"
   ]
  },
  {
   "cell_type": "code",
   "execution_count": 34,
   "id": "c59eaf80",
   "metadata": {},
   "outputs": [
    {
     "name": "stdout",
     "output_type": "stream",
     "text": [
      "총 게시물의 수를 입력 :20\n",
      "한 페이지에 보여 줄 게시물의 수를 입력 : 2\n",
      "총 페이지 수 : 10\n"
     ]
    }
   ],
   "source": [
    "total_note=input('총 게시물의 수를 입력 :')\n",
    "note_per_page=input('한 페이지에 보여 줄 게시물의 수를 입력 : ')\n",
    "total_page=(int(total_note)//int(note_per_page))\n",
    "f=(int(total_note)%int(note_per_page))\n",
    "if f==0:\n",
    "    print(f'총 페이지 수 : {total_page}')\n",
    "else:\n",
    "    print(f'총 페이지 수: {total_page+1}')"
   ]
  },
  {
   "cell_type": "code",
   "execution_count": 53,
   "id": "917ef6c5",
   "metadata": {
    "scrolled": false
   },
   "outputs": [
    {
     "name": "stdout",
     "output_type": "stream",
     "text": [
      "희석,84,160\n",
      "열무,92,156\n",
      "우준,77,141\n",
      "주영,85,169\n",
      "희주,66,168\n",
      "앙박,80,199\n",
      "무앙,74,181\n",
      "재주,65,153\n",
      "희앙,53,199\n",
      "명무,76,155\n",
      "\n"
     ]
    }
   ],
   "source": [
    "# 랜덤하게 1000명 이름 몸무게 키 뽑기\n",
    "import random\n",
    "human= list('철수영희무현석열준표명박재앙우주')\n",
    "\n",
    "with open('info.txt','w') as f: #f는 변경가능한 변수명\n",
    "    for i in range(10): # 0부터 999까지 -> 1000개\n",
    "        name=random.choice(human)+random.choice(human)\n",
    "        weight=random.randrange(40,100)\n",
    "        height=random.randrange(140,200)\n",
    "        \n",
    "        f.write(f'{name},{weight},{height}\\n')\n",
    "\n",
    "with open('info.txt', 'r') as f:\n",
    "    human_info = f.read()\n",
    "    print(human_info)"
   ]
  },
  {
   "cell_type": "code",
   "execution_count": 66,
   "id": "6e17d758",
   "metadata": {},
   "outputs": [
    {
     "name": "stdout",
     "output_type": "stream",
     "text": [
      "이름 : 희석\n",
      "몸무게 : 160\n",
      "키 : 84\n",
      "이름 : 열무\n",
      "몸무게 : 156\n",
      "키 : 92\n",
      "이름 : 우준\n",
      "몸무게 : 141\n",
      "키 : 77\n",
      "이름 : 주영\n",
      "몸무게 : 169\n",
      "키 : 85\n",
      "이름 : 희주\n",
      "몸무게 : 168\n",
      "키 : 66\n",
      "이름 : 앙박\n",
      "몸무게 : 199\n",
      "키 : 80\n",
      "이름 : 무앙\n",
      "몸무게 : 181\n",
      "키 : 74\n",
      "이름 : 재주\n",
      "몸무게 : 153\n",
      "키 : 65\n",
      "이름 : 희앙\n",
      "몸무게 : 199\n",
      "키 : 53\n",
      "이름 : 명무\n",
      "몸무게 : 155\n",
      "키 : 76\n",
      "\n"
     ]
    }
   ],
   "source": [
    "# Q. 1000명에 대하여 아래와 같이 출력하세요\n",
    "with open('info.txt','r') as f:\n",
    "    for line in f:\n",
    "        (name,weight,height) = line.strip().split(',')\n",
    "        print('\\n'.join([\n",
    "            \"이름 : {}\",\n",
    "            \"몸무게 : {}\",\n",
    "            \"키 : {}\"\n",
    "            ]).format(name,height,weight))\n",
    "     \n",
    "    print()"
   ]
  }
 ],
 "metadata": {
  "kernelspec": {
   "display_name": "Python 3 (ipykernel)",
   "language": "python",
   "name": "python3"
  },
  "language_info": {
   "codemirror_mode": {
    "name": "ipython",
    "version": 3
   },
   "file_extension": ".py",
   "mimetype": "text/x-python",
   "name": "python",
   "nbconvert_exporter": "python",
   "pygments_lexer": "ipython3",
   "version": "3.8.12"
  }
 },
 "nbformat": 4,
 "nbformat_minor": 5
}
