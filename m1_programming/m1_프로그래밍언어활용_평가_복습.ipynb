{
 "cells": [
  {
   "cell_type": "markdown",
   "id": "458ff638",
   "metadata": {},
   "source": [
    "#### 1. numbers 리스트에서 15, 20, 25를 출력하세요.(for문과 if 조건 사용 필수)  \n",
    "numbers = [5, 15, 6, 20, 7, 25]"
   ]
  },
  {
   "cell_type": "code",
   "execution_count": null,
   "id": "47dbe9f8",
   "metadata": {},
   "outputs": [],
   "source": [
    "numbers = [5, 15, 6, 20, 7, 25]\n",
    "\n",
    "# 5의 배수 출력하기\n",
    "for number in numbers:\n",
    "    if number % 5 !=0: \n",
    "        continue  # 5의 배수가 아니면 pass 해라 -> 다시 위로 올라가라 -> 결국 5의 배수만 ..\n",
    "    print(number)"
   ]
  },
  {
   "cell_type": "code",
   "execution_count": null,
   "id": "19af482d",
   "metadata": {},
   "outputs": [],
   "source": [
    "numbers = [5, 15, 6, 20, 7, 25]\n",
    "\n",
    "for number in numbers:\n",
    "    if number % 5 ==0:\n",
    "        print(number)"
   ]
  },
  {
   "cell_type": "code",
   "execution_count": null,
   "id": "f029cd27",
   "metadata": {},
   "outputs": [],
   "source": [
    "numbers = [5, 15, 6, 20, 7, 25]\n",
    "\n",
    "for number in numbers:\n",
    "    if number % 2 ==1:\n",
    "        print(number)  #  홀수 뽑고\n",
    "    else:\n",
    "        print('aa') # 6, 20은 안뽑히고 else구문 aa 실행"
   ]
  },
  {
   "cell_type": "code",
   "execution_count": null,
   "id": "5fec2fd2",
   "metadata": {},
   "outputs": [],
   "source": [
    "numbers = [5, 15, 6, 20, 7, 25]\n",
    "\n",
    "for number in numbers:\n",
    "    if number<15: # 15미만인 number\n",
    "        continue # 15보다 작은수면 pass -> 계속 반복문 돌림\n",
    "    print(number)"
   ]
  },
  {
   "cell_type": "markdown",
   "id": "ebbebd3f",
   "metadata": {},
   "source": [
    "#### 2. 아래 사용자 함수, 변수 리스트 및 2개의 내장함수를 각각 이용해서  [1, 4, 9, 16, 25], [1, 2]를 출력하세요.(내장함수 2개 사용 필수) "
   ]
  },
  {
   "cell_type": "code",
   "execution_count": null,
   "id": "74b31526",
   "metadata": {},
   "outputs": [],
   "source": [
    "# 함수를 선언합니다.\n",
    "def power(a):\n",
    "    return a*a\n",
    "\n",
    "def under_3(b):\n",
    "    return b<3\n",
    "\n",
    "# 변수 선언\n",
    "list_input_a =[1,2,3,4,5]"
   ]
  },
  {
   "cell_type": "code",
   "execution_count": null,
   "id": "f388bcb1",
   "metadata": {},
   "outputs": [],
   "source": [
    "# 함수를 선언합니다.\n",
    "def power(a):\n",
    "    return a*a\n",
    "\n",
    "def under_3(b):\n",
    "    return b<3\n",
    "\n",
    "# 변수 선언\n",
    "list_input_a =[1,2,3,4,5]\n",
    "\n",
    "# map 함수 사용\n",
    "output_a = map(power, list_input_a) # map(function, iterable) 첫 번째 매개변수 함수, 두 번째 매개변수 반복 가능한 자료형(리스트, 튜플) \n",
    "print(output_a)\n",
    "print(list(output_a)) # map 함수의 반환 값은 map 객체이므로 list나 tuple로 형 변환시켜주어 출력\n",
    "\n",
    "# filter 함수 사용\n",
    "output_b = filter(under_3, list_input_a)\n",
    "print(output_b)\n",
    "print(list(output_b))"
   ]
  },
  {
   "cell_type": "markdown",
   "id": "18d3b2a2",
   "metadata": {},
   "source": [
    "#### 3. 정수를 입력하면 짝수 홀수 여부를 반환해주는 프로그램을 작성하세요.(정수 입력 후 '짝수', '홀수'가 일치하게 출력) "
   ]
  },
  {
   "cell_type": "code",
   "execution_count": 3,
   "id": "61add9b0",
   "metadata": {},
   "outputs": [
    {
     "name": "stdout",
     "output_type": "stream",
     "text": [
      "정수 입력 : 8\n",
      "짝수\n"
     ]
    }
   ],
   "source": [
    "try:\n",
    "    number=int(input('정수 입력 : '))\n",
    "    \n",
    "    if number%2==0:\n",
    "        print('짝수')\n",
    "    else:\n",
    "        print('홀수')\n",
    "        \n",
    "except ValueError: # 예외처리 ValueError가 발생시 해당 구문 출력\n",
    "    print('정수를 입력해 주세요')"
   ]
  },
  {
   "cell_type": "markdown",
   "id": "c14748a5",
   "metadata": {},
   "source": [
    "#### 4. 람다 함수를 이용해서 a의 b제곱에서 a x b를 뺀 수를 구하는 식을 만들고 그 식을 이용해서  a, b가 아래와 같이 주어졌을 때 각각의 값을 구하세요. \n",
    "a = 2, b = 5 \\\n",
    "a= 5, b = 2"
   ]
  },
  {
   "cell_type": "code",
   "execution_count": null,
   "id": "1ae400b5",
   "metadata": {},
   "outputs": [],
   "source": [
    "x=lambda a,b: a**b- a*b ## a의 b 제곱 -> a**b\n",
    "print(x(2,5))\n",
    "print(x(5,2))"
   ]
  },
  {
   "cell_type": "markdown",
   "id": "f9939543",
   "metadata": {},
   "source": [
    "#### ***5. 123456789를 입력하면 천 단위로 콤마로 구분하여 출력하세요."
   ]
  },
  {
   "cell_type": "code",
   "execution_count": 49,
   "id": "2444e8a5",
   "metadata": {},
   "outputs": [
    {
     "name": "stdout",
     "output_type": "stream",
     "text": [
      "아무 숫자나 입력하세요 : 513\n",
      "3 513\n"
     ]
    }
   ],
   "source": [
    "num = input('아무 숫자나 입력하세요 : ')\n",
    "\n",
    "if num.isdigit(): # 숫자면 아래 조건문 실행\n",
    "    num = num[::-1] # 역순으로 반환하여 num에 담기\n",
    "  # print(num)\n",
    "    ret='' # 입력받은 값 담을 변수\n",
    "    for i, c in enumerate(num): # 인덱스와 원소를 동시에 접근하면서 루프를 돌림 key, value\n",
    "        i+=1 # key 시작을 1부터\n",
    "        if i != len(num) and i%3 ==0: # key가 입력받은 숫자 길이와 같지 않고 key가 3의 배수면\n",
    "            ret +=(c+',') # 입력받은 값에 천단위 콤마 부치고\n",
    "        else: # 세자리가 아니면\n",
    "            ret +=c # value값을 ret에 담기\n",
    "    ret = ret[::-1] \n",
    "    print(i,ret)\n",
    "    \n",
    "else: # isdigit가 아니면 하단 내용 출력\n",
    "    print('입력한 내용[%s]은 숫자가 아닙니다.'% num)"
   ]
  },
  {
   "cell_type": "markdown",
   "id": "801c0fc6",
   "metadata": {},
   "source": [
    "#### 6. example_list = [\"요소A\", \"요소B\", \"요소C\"]를 파이썬 내장함수를 이용하여 아래와 같이 출력하세요. \n",
    "0번째 요소는 요소A입니다.\\\n",
    "1번째 요소는 요소B입니다.\\\n",
    "2번째 요소는 요소C입니다."
   ]
  },
  {
   "cell_type": "code",
   "execution_count": 12,
   "id": "5ba67c79",
   "metadata": {},
   "outputs": [
    {
     "name": "stdout",
     "output_type": "stream",
     "text": [
      "0번째 요소는 요소A입니다.\n",
      "1번째 요소는 요소B입니다.\n",
      "2번째 요소는 요소C입니다.\n"
     ]
    }
   ],
   "source": [
    "example_list = [\"요소A\", \"요소B\", \"요소C\"] # 리스트 선언\n",
    "\n",
    "for i,value in enumerate(example_list):\n",
    "    print('{}번째 요소는 {}입니다.'.format(i,value))"
   ]
  },
  {
   "cell_type": "markdown",
   "id": "b8de352b",
   "metadata": {},
   "source": [
    "#### 7. 97을 40으로 나눈 몫과 나머지를 내장함수를 이용하여 구하세요.(튜플로 출력 필수) "
   ]
  },
  {
   "cell_type": "code",
   "execution_count": 13,
   "id": "7ac5f78c",
   "metadata": {},
   "outputs": [
    {
     "data": {
      "text/plain": [
       "(2, 17)"
      ]
     },
     "execution_count": 13,
     "metadata": {},
     "output_type": "execute_result"
    }
   ],
   "source": [
    "a,b=97,40\n",
    "divmod(a,b)"
   ]
  },
  {
   "cell_type": "code",
   "execution_count": 14,
   "id": "af48b96c",
   "metadata": {},
   "outputs": [
    {
     "data": {
      "text/plain": [
       "-10"
      ]
     },
     "execution_count": 14,
     "metadata": {},
     "output_type": "execute_result"
    }
   ],
   "source": [
    "a, b, c, d = 40,20,10,30\n",
    "def mod(a,b):\n",
    "    return a/b # 2\n",
    "int(mod(a,b))*c-d"
   ]
  },
  {
   "cell_type": "markdown",
   "id": "1ed49117",
   "metadata": {},
   "source": [
    "#### 8. list_number = [52, 273, 32, 72, 100]로 변수 선언하고 정수를 입력하면 그 정수 인덱스와 리스트에서 해당하는 값을 출력하는 프로그램을 작성하세요. 단, 모든 예외처리를 수행하며 특히 ValueError와 IndexError는 별도 구분해서 예외처리 한 후 '예외처리 완료'를 마지막으로 출력하세요.\n",
    "\n",
    "- 4 입력시 \\\n",
    "정수 입력> 4 \\\n",
    "4번째 요소: 100\n",
    "예외 처리 완료\n",
    "\n",
    "- 문자 입력시 \\\n",
    "정수 입력> 가 \\\n",
    "정수를 입력해 주세요!\n",
    "예외 처리 완료\n",
    "\n",
    "- 5 입력시 \\\n",
    "정수 입력> 5 \\\n",
    "리스트의 인덱스를 벗어났어요!\n",
    "예외 처리 완료"
   ]
  },
  {
   "cell_type": "code",
   "execution_count": 19,
   "id": "3b259ff8",
   "metadata": {},
   "outputs": [
    {
     "name": "stdout",
     "output_type": "stream",
     "text": [
      "0~4 정수 입력> 5\n",
      "리스트의 인덱스를 벗어났어요!\n",
      "예외 처리 완료\n"
     ]
    }
   ],
   "source": [
    "# 변수를 선언\n",
    "list_number = [52, 273, 32, 72, 100]\n",
    "\n",
    "# try except 구문으로 예외 처리\n",
    "try:\n",
    "    # 정수 입력\n",
    "    number_input = int(input(\"0~4 정수 입력> \"))\n",
    "    # 리스트와 요소를 출력\n",
    "    print('{}번째 요소 : {}'.format(number_input, list_number[number_input]))\n",
    "except ValueError:\n",
    "    print('정수를 입력해 주세요')\n",
    "except IndexError:\n",
    "    print('리스트의 인덱스를 벗어났어요!')\n",
    "except Exception as e:\n",
    "    print(e)\n",
    "finally:\n",
    "    print('예외 처리 완료')"
   ]
  },
  {
   "cell_type": "markdown",
   "id": "d2a989a2",
   "metadata": {},
   "source": [
    "#### 9. 사용자로부터 서로 다른 숫자 두 개를 입력받고 첫 번째 와 두 번째중 큰 숫자를 구하는 프로그램을 수행하세요."
   ]
  },
  {
   "cell_type": "code",
   "execution_count": 20,
   "id": "e77cbb4e",
   "metadata": {},
   "outputs": [
    {
     "name": "stdout",
     "output_type": "stream",
     "text": [
      "정수 입력>5\n",
      "정수 입력>3\n",
      "5\n"
     ]
    }
   ],
   "source": [
    "n1=int(input('정수 입력>'))\n",
    "n2=int(input('정수 입력>'))\n",
    "\n",
    "if n1>n2:\n",
    "    print(n1)\n",
    "else:\n",
    "    print(n2)"
   ]
  },
  {
   "cell_type": "markdown",
   "id": "a166c650",
   "metadata": {},
   "source": [
    "#### 10. 1부터 100까지 아래와 같은 방식으로 2개의 수를 곱해서 가장 큰 수를 구하세요.\n",
    "\n",
    " 1 * 99 ...99 * 1"
   ]
  },
  {
   "cell_type": "code",
   "execution_count": 34,
   "id": "80138832",
   "metadata": {},
   "outputs": [
    {
     "name": "stdout",
     "output_type": "stream",
     "text": [
      "2500\n"
     ]
    }
   ],
   "source": [
    "max_value=0\n",
    "\n",
    "for i in range(1,100): # i는 1부터 99까지 할당\n",
    "    j = 100-i # j는 99부터 1까지 할당\n",
    "    current = i*j # 1*99, 2* 98, 3*97 ... 1*99 -> current 변수에 담기\n",
    "    \n",
    "    if max_value<current: # 그게 만약 max_value이 < current보다 크면\n",
    "        max_value= current # current가 max_value\n",
    "print(max_value) # 그것을 출력"
   ]
  },
  {
   "cell_type": "markdown",
   "id": "89cd6041",
   "metadata": {},
   "source": [
    "<img src='정규식표현.png' width='620'>"
   ]
  },
  {
   "cell_type": "markdown",
   "id": "22d9e8bd",
   "metadata": {},
   "source": [
    "#### 11. 정규표현식을 사용하여 text에서 지역코드만 출력하세요."
   ]
  },
  {
   "cell_type": "code",
   "execution_count": 40,
   "id": "dd043fa9",
   "metadata": {},
   "outputs": [
    {
     "name": "stdout",
     "output_type": "stream",
     "text": [
      "032\n"
     ]
    }
   ],
   "source": [
    "import re\n",
    "# 정규 표현식 (Regular Expression)\n",
    "text ='문의사항이 있으면 032-232-3245 으로 연락주시기 바랍니다.'\n",
    "\n",
    "regex= re.compile(r'(\\d{3})-(\\d{3}-\\d{4})') # \\d는 숫자를 의미 , {} 중괄호는 반복의 의미\n",
    "matchobj = regex.search(text) # search는 전체 탐색 \n",
    "areaCode = matchobj.group(1) # group1인것을 반환\n",
    "# num = matchobj.group(2) -> 232-3245\n",
    "# fullNum = matchobj.group() -> 032-232-3245\n",
    "print(areaCode)"
   ]
  },
  {
   "cell_type": "markdown",
   "id": "f9747c34",
   "metadata": {},
   "source": [
    "#### 12. 'abcdefghij' 에 대하여 중첩을 적용한 서브그룹 5개로 컴파일하여 group()함수를 이용하여 'abcdefghi'와 e'를 출력하세요"
   ]
  },
  {
   "cell_type": "code",
   "execution_count": 44,
   "id": "8fdfac9d",
   "metadata": {},
   "outputs": [
    {
     "name": "stdout",
     "output_type": "stream",
     "text": [
      "abcdefghi\n",
      "e\n",
      "abcdefghij\n"
     ]
    }
   ],
   "source": [
    "p = re.compile('(a(b(c(d(e)f)g)h)i)j')\n",
    "m = p.match('abcdefghij')\n",
    "print(m.group(1)) # 바깥쪽 부터 하나씩 괄호 벗겨낸다 생각 -> j 제거\n",
    "print(m.group(5))\n",
    "print(m.group(0))"
   ]
  },
  {
   "cell_type": "markdown",
   "id": "1cefa6e3",
   "metadata": {},
   "source": [
    "#### 13. [0, 1, 2, 3, 4, 5, 6, 7, 8, 9, 'a', 'b', 'c']에서 9와 'a'를 삭제 후 리스트로 출력하세요"
   ]
  },
  {
   "cell_type": "code",
   "execution_count": 45,
   "id": "606a0a47",
   "metadata": {},
   "outputs": [
    {
     "data": {
      "text/plain": [
       "[0, 1, 2, 3, 4, 5, 6, 7, 8, 'b', 'c']"
      ]
     },
     "execution_count": 45,
     "metadata": {},
     "output_type": "execute_result"
    }
   ],
   "source": [
    "a = [0, 1, 2, 3, 4, 5, 6, 7, 8, 9, 'a', 'b', 'c']\n",
    "a[9:11]=[] # 9부터 10까지 \n",
    "a"
   ]
  },
  {
   "cell_type": "markdown",
   "id": "7b44cf09",
   "metadata": {},
   "source": [
    "#### 14. 500 ~ 1000사이의 정수 중 5와 7의 공배수의 합을 구하세요"
   ]
  },
  {
   "cell_type": "code",
   "execution_count": 46,
   "id": "7ce2312d",
   "metadata": {},
   "outputs": [
    {
     "name": "stdout",
     "output_type": "stream",
     "text": [
      "10535\n"
     ]
    }
   ],
   "source": [
    "sum=0 # 누적 합을 기억할 변수\n",
    "for i in range(500,1000):\n",
    "    if (i%5==0)&(i%7==0):\n",
    "          sum+=i #누적합\n",
    "    i+=1 # 할당변수에 1씩 증가시킴 --> if문 줄에 맞춰서 들여쓰기\n",
    "print(sum) # 출력은 처음 for문에 맞춰 들여쓰기"
   ]
  },
  {
   "cell_type": "markdown",
   "id": "4e7c888e",
   "metadata": {},
   "source": [
    "#### ***15. [    ]을 채워서 아래와 같이 출력하세요."
   ]
  },
  {
   "cell_type": "code",
   "execution_count": 47,
   "id": "e1422be7",
   "metadata": {},
   "outputs": [
    {
     "name": "stdout",
     "output_type": "stream",
     "text": [
      "[[1, 4, 7], [2, 5, 8], [3, 6, 9]]\n"
     ]
    }
   ],
   "source": [
    "numbers = [1,2,3,4,5,6,7,8,9]\n",
    "output = [[], [], []]  # 칸이 3개이므로 %3\n",
    "\n",
    "for number in numbers:\n",
    "    output[(number+2)%3].append(number)\n",
    "print(output)"
   ]
  },
  {
   "cell_type": "markdown",
   "id": "c525b1d5",
   "metadata": {},
   "source": [
    "####  ***16. numbers 내부에 들어 있는 숫자가 몇 번 등장하는지를 출력하는 코드를 작성하세요."
   ]
  },
  {
   "cell_type": "code",
   "execution_count": 48,
   "id": "03d3993a",
   "metadata": {},
   "outputs": [
    {
     "name": "stdout",
     "output_type": "stream",
     "text": [
      "{3: 4, 6: 2, 5: 2, 8: 2, 2: 2, 9: 2, 7: 2, 4: 2}\n"
     ]
    }
   ],
   "source": [
    "numbers = [3,6,3,5,8,2,9,7,4,3,6,3,5,8,2,9,7,4]\n",
    "counter ={} # 딕셔너리 형태로 담기 -> key, value\n",
    "for number in numbers: # numbers 리스트에 있는 숫자들을 하나씩 number에 할당\n",
    "    if number in counter: # counter에 number가 있으면\n",
    "        counter[number]+=1  \n",
    "    else:\n",
    "        counter[number]=1\n",
    "print(counter) # 맨 마지막 출력은 처음 for문에 맞춰 들여쓰기"
   ]
  },
  {
   "cell_type": "markdown",
   "id": "339c5bad",
   "metadata": {},
   "source": [
    "#### 17. 클래스 Country를 완성하여 아래와 같이 출력하세요."
   ]
  },
  {
   "cell_type": "code",
   "execution_count": 58,
   "id": "a66e0b0d",
   "metadata": {},
   "outputs": [
    {
     "name": "stdout",
     "output_type": "stream",
     "text": [
      "한국의 인구는 5천만명이며 수도는 서울입니다.\n",
      "1인당 gnp는 USD 3만입니다.\n"
     ]
    }
   ],
   "source": [
    "class Country:\n",
    "\n",
    "    \n",
    "class Korea(Country):\n",
    "        \n",
    "    def desc1(self, gnp):\n",
    "        self.gnp = gnp\n",
    "        print('1인당 gnp는 USD %d만입니다.'%(self.gnp))\n",
    "            \n",
    "obj = Korea('한국',5,'서울')\n",
    "obj.desc()\n",
    "obj.desc1(3)"
   ]
  },
  {
   "cell_type": "code",
   "execution_count": 57,
   "id": "d6f8bf56",
   "metadata": {},
   "outputs": [
    {
     "name": "stdout",
     "output_type": "stream",
     "text": [
      "한국의 인구는 5천만명이며 수도는 서울입니다.\n",
      "1인당 gnp는 USD 3만입니다.\n"
     ]
    }
   ],
   "source": [
    "class Country:\n",
    "    def __init__(self, name, pop, capital): # 생성자\n",
    "        self.name=name\n",
    "        self.pop=pop\n",
    "        self.capital=capital\n",
    "        \n",
    "    def desc(self):\n",
    "        print('%s의 인구는 %d천만명이며 수도는 %s입니다.'%(self.name,self.pop,self.capital))\n",
    "        \n",
    "class Korea(Country): # 오버라이딩\n",
    "        \n",
    "    def desc1(self, gnp):\n",
    "        self.gnp = gnp\n",
    "        print('1인당 gnp는 USD %d만입니다.'%(self.gnp))\n",
    "            \n",
    "obj = Korea('한국',5,'서울') # 객체 생성\n",
    "obj.desc() \n",
    "obj.desc1(3)"
   ]
  },
  {
   "cell_type": "markdown",
   "id": "e2a94aec",
   "metadata": {},
   "source": [
    "#### 18. 사칙연산을 수행하는  클래스를 작성하여 객체를 만들고 2개의 정수 10, 5를 입력한 후 연산 결과를  포멧을 이용하여 출력하세요."
   ]
  },
  {
   "cell_type": "code",
   "execution_count": 64,
   "id": "e391114b",
   "metadata": {},
   "outputs": [
    {
     "name": "stdout",
     "output_type": "stream",
     "text": [
      "정수1 입력 > >90\n",
      "정수2 입력 > >30\n",
      "덧셈 : 120, 뺄셈 : 2700, 곱셈 : 60, 나눗셈 : 3.0\n"
     ]
    }
   ],
   "source": [
    "class FourCal:\n",
    "    def __init__(self, first, second): # 생성자 \n",
    "        self.first = first\n",
    "        self.second = second\n",
    "        \n",
    "    def sum(self):\n",
    "        result = self.first + self.second\n",
    "        return result\n",
    "    \n",
    "    def mul(self):\n",
    "        result = self.first * self.second\n",
    "        return result\n",
    "    \n",
    "    def sub(self):\n",
    "        result = self.first - self.second\n",
    "        return result\n",
    "    \n",
    "    def div(self):\n",
    "        result = self.first / self.second\n",
    "        return result\n",
    "    \n",
    "a1 = int(input('정수1 입력 > >'))\n",
    "a2 = int(input('정수2 입력 > >'))\n",
    "cal4= FourCal(a1,a2) # 객체 생성\n",
    "    \n",
    "print('덧셈 : {}, 뺄셈 : {}, 곱셈 : {}, 나눗셈 : {}'.format(cal4.sum(), cal4.mul(), cal4.sub(), cal4.div()))\n",
    "    "
   ]
  },
  {
   "cell_type": "markdown",
   "id": "7de0862c",
   "metadata": {},
   "source": [
    "### 19. 올해 경과된 날짜수를 계산하여 출력하세요."
   ]
  },
  {
   "cell_type": "code",
   "execution_count": 73,
   "id": "c17fb258",
   "metadata": {},
   "outputs": [
    {
     "name": "stdout",
     "output_type": "stream",
     "text": [
      "오늘은 2022-01-01 이후 30일째 되는 날입니다.\n",
      "1643478619.6340854\n"
     ]
    }
   ],
   "source": [
    "import time\n",
    "t = time.localtime() # time 모듈의 localtime 함수를 사용하면 time에서 반환한 값을 날짜와 시간 형태로 변환\n",
    "start_day = '%d-01-01' %t.tm_year\n",
    "passed_day = t.tm_yday # tm_wday 요일, tm_yday 몇 번째 날짜\n",
    "print('오늘은 %s 이후 %d일째 되는 날입니다.'%(start_day, passed_day))\n"
   ]
  },
  {
   "cell_type": "markdown",
   "id": "7f75ef2a",
   "metadata": {},
   "source": [
    "#### ***20. 2015년 인기순 상위5개 여아이름별 출생아수를 출력하세요.('data/names/yob2015.txt')"
   ]
  },
  {
   "cell_type": "code",
   "execution_count": 72,
   "id": "ce2137fb",
   "metadata": {},
   "outputs": [
    {
     "name": "stdout",
     "output_type": "stream",
     "text": [
      "TOP_1 여자 아기 이름 : ('Emma', 20463)\n",
      "TOP_2 여자 아기 이름 : ('Olivia', 19705)\n",
      "TOP_3 여자 아기 이름 : ('Sophia', 17430)\n",
      "TOP_4 여자 아기 이름 : ('Ava', 16383)\n",
      "TOP_5 여자 아기 이름 : ('Isabella', 15633)\n"
     ]
    }
   ],
   "source": [
    "# tmp -> Temporary \n",
    "# ret -> return\n",
    "filename = 'data/names/yob2015.txt'\n",
    "nameF={} # key, value 딕셔너리 형태\n",
    "nameM={} \n",
    "\n",
    "with open(filename,'r') as f:\n",
    "    data=f.readlines() # 전체 출력\n",
    "    for d in data:\n",
    "        if d[-1] =='\\n': # 마지막 요소가 개행이면\n",
    "            d =d[:-1] # 맨 마지막값을 d에 저장\n",
    "            \n",
    "        tmp = d.split(',') # 구분자로 분리 하여 임시적인 변수 tmp에 담고\n",
    "        name = tmp[0] # tmp[0]-> name\n",
    "        sex = tmp[1] # tmp[1]-> sex\n",
    "        birth= tmp[2] # tmp[2]-> birth\n",
    "        \n",
    "        if sex =='F': # sex가 F이면\n",
    "            ret=nameF  # nameF를 ret 변수에 담아\n",
    "        else:\n",
    "            ret = nameM\n",
    "        \n",
    "        if name in ret:  # ret변수 안에 name이 있으면\n",
    "            ret[name]+= int(birth) # ret[name] = ret[name]+int(birth) -> name과 birth을 담아라 ret[name]에\n",
    "        else:\n",
    "            ret[name]= int(birth)\n",
    "\n",
    "\n",
    "retF = sorted(nameF.items(), key=lambda x:x[1], reverse=True) \n",
    "\n",
    "for i, name in enumerate(retF):\n",
    "    if i >4:\n",
    "        break\n",
    "    print('TOP_%d 여자 아기 이름 : %s'%(i+1, name))"
   ]
  }
 ],
 "metadata": {
  "kernelspec": {
   "display_name": "Python 3 (ipykernel)",
   "language": "python",
   "name": "python3"
  },
  "language_info": {
   "codemirror_mode": {
    "name": "ipython",
    "version": 3
   },
   "file_extension": ".py",
   "mimetype": "text/x-python",
   "name": "python",
   "nbconvert_exporter": "python",
   "pygments_lexer": "ipython3",
   "version": "3.8.12"
  }
 },
 "nbformat": 4,
 "nbformat_minor": 5
}
