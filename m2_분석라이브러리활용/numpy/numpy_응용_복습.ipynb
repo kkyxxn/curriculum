{
 "cells": [
  {
   "cell_type": "code",
   "execution_count": 2,
   "id": "c0585a49",
   "metadata": {},
   "outputs": [],
   "source": [
    "import numpy as np"
   ]
  },
  {
   "cell_type": "code",
   "execution_count": 17,
   "id": "fe104582",
   "metadata": {},
   "outputs": [
    {
     "data": {
      "text/plain": [
       "array([[2, 2, 2, 3, 2],\n",
       "       [1, 1, 2, 3, 1],\n",
       "       [3, 3, 2, 1, 3],\n",
       "       [1, 2, 2, 2, 1],\n",
       "       [2, 2, 2, 1, 2]])"
      ]
     },
     "execution_count": 17,
     "metadata": {},
     "output_type": "execute_result"
    }
   ],
   "source": [
    "arr = np.random.randint(1,4, size=(5,5))\n",
    "arr"
   ]
  },
  {
   "cell_type": "code",
   "execution_count": 18,
   "id": "f07e6a73",
   "metadata": {},
   "outputs": [
    {
     "data": {
      "text/plain": [
       "array([[2, 1, 3, 1, 2],\n",
       "       [2, 1, 3, 2, 2],\n",
       "       [2, 2, 2, 2, 2],\n",
       "       [3, 3, 1, 2, 1],\n",
       "       [2, 1, 3, 1, 2]])"
      ]
     },
     "execution_count": 18,
     "metadata": {},
     "output_type": "execute_result"
    }
   ],
   "source": [
    "# 전치\n",
    "arr.T # 행과 열이 바뀜\n",
    "np.transpose(arr)"
   ]
  },
  {
   "cell_type": "code",
   "execution_count": 5,
   "id": "bbe13de3",
   "metadata": {},
   "outputs": [
    {
     "data": {
      "text/plain": [
       "array([[197, 142, 143, 217, 130],\n",
       "       [142, 146,  92, 181, 139],\n",
       "       [143,  92, 157, 184, 102],\n",
       "       [217, 181, 184, 296, 203],\n",
       "       [130, 139, 102, 203, 162]])"
      ]
     },
     "execution_count": 5,
     "metadata": {},
     "output_type": "execute_result"
    }
   ],
   "source": [
    "# 행렬곱, 내적\n",
    "np.dot(arr.T, arr) # 디테일한것은 선형대수에서"
   ]
  },
  {
   "cell_type": "code",
   "execution_count": 9,
   "id": "a1e03fc9",
   "metadata": {},
   "outputs": [
    {
     "name": "stdout",
     "output_type": "stream",
     "text": [
      "[[0 1 2]\n",
      " [3 4 5]] \n",
      "\n",
      "[[0 3]\n",
      " [1 4]\n",
      " [2 5]] \n",
      "\n",
      "[[0 3]\n",
      " [1 4]\n",
      " [2 5]]\n"
     ]
    }
   ],
   "source": [
    "a = np.arange(6).reshape(2,3) # 구조 바꾸는\n",
    "print(a,'\\n')\n",
    "\n",
    "y = np.swapaxes(a, 0,1) # 0은 2차원(열), 1은 1차원(행) --> 원소의 행과 열을 바꿔\n",
    "print(y,'\\n')             # swapaxes 축을 바꿈\n",
    "\n",
    "y = a.T\n",
    "y = np.transpose(a)\n",
    "y = np.transpose(a)\n",
    "print(y)"
   ]
  },
  {
   "cell_type": "code",
   "execution_count": null,
   "id": "1666b18d",
   "metadata": {},
   "outputs": [],
   "source": [
    "# 1 ~ 100을 아래와 같이 출력하세요.\n",
    "\n",
    "[[  1   2   3   4   5   6   7   8   9  10]\n",
    " [ 20  19  18  17  16  15  14  13  12  11]\n",
    " [ 21  22  23  24  25  26  27  28  29  30]\n",
    " [ 40  39  38  37  36  35  34  33  32  31]\n",
    " [ 41  42  43  44  45  46  47  48  49  50]\n",
    " [ 60  59  58  57  56  55  54  53  52  51]\n",
    " [ 61  62  63  64  65  66  67  68  69  70]\n",
    " [ 80  79  78  77  76  75  74  73  72  71]\n",
    " [ 81  82  83  84  85  86  87  88  89  90]\n",
    " [100  99  98  97  96  95  94  93  92  91]] <class 'numpy.ndarray'>\n"
   ]
  },
  {
   "cell_type": "code",
   "execution_count": 10,
   "id": "1f47285b",
   "metadata": {},
   "outputs": [
    {
     "name": "stdout",
     "output_type": "stream",
     "text": [
      "[[  1   2   3   4   5   6   7   8   9  10]\n",
      " [ 20  19  18  17  16  15  14  13  12  11]\n",
      " [ 21  22  23  24  25  26  27  28  29  30]\n",
      " [ 40  39  38  37  36  35  34  33  32  31]\n",
      " [ 41  42  43  44  45  46  47  48  49  50]\n",
      " [ 60  59  58  57  56  55  54  53  52  51]\n",
      " [ 61  62  63  64  65  66  67  68  69  70]\n",
      " [ 80  79  78  77  76  75  74  73  72  71]\n",
      " [ 81  82  83  84  85  86  87  88  89  90]\n",
      " [100  99  98  97  96  95  94  93  92  91]]\n"
     ]
    }
   ],
   "source": [
    "arr = np.arange(1,101).reshape(10,10)\n",
    "arr[[1,3,5,7,9]] = arr[[1,3,5,7,9]][:,[9,8,7,6,5,4,3,2,1,0]]\n",
    "print(arr)"
   ]
  },
  {
   "cell_type": "code",
   "execution_count": 3,
   "id": "49e76d20",
   "metadata": {},
   "outputs": [
    {
     "name": "stdout",
     "output_type": "stream",
     "text": [
      "[[  1   2   3   4   5   6   7   8   9  10]\n",
      " [ 20  19  18  17  16  15  14  13  12  11]\n",
      " [ 21  22  23  24  25  26  27  28  29  30]\n",
      " [ 40  39  38  37  36  35  34  33  32  31]\n",
      " [ 41  42  43  44  45  46  47  48  49  50]\n",
      " [ 60  59  58  57  56  55  54  53  52  51]\n",
      " [ 61  62  63  64  65  66  67  68  69  70]\n",
      " [ 80  79  78  77  76  75  74  73  72  71]\n",
      " [ 81  82  83  84  85  86  87  88  89  90]\n",
      " [100  99  98  97  96  95  94  93  92  91]]\n"
     ]
    }
   ],
   "source": [
    "a = np.arange(1, 101).reshape((10, -1))\n",
    "\n",
    "for i in range(10):\n",
    "    if i % 2 == 1: # 홀수이면\n",
    "        a[i] = a[i][::-1]\n",
    "\n",
    "print(a)"
   ]
  },
  {
   "cell_type": "code",
   "execution_count": 14,
   "id": "bebc4090",
   "metadata": {},
   "outputs": [
    {
     "name": "stdout",
     "output_type": "stream",
     "text": [
      "[[[0 1 2]\n",
      "  [3 4 5]]] (1, 2, 3) \n",
      "\n",
      "[[[0 1 2]]\n",
      "\n",
      " [[3 4 5]]] (2, 1, 3) \n",
      "\n"
     ]
    }
   ],
   "source": [
    "# (0,1,2)  --> 0이 3차원 1이 2차원 2가 1차원\n",
    "# 3차원과 2차원을 바꾸는 경우 : (1,2,3) -> (2,1,3)\n",
    "\n",
    "a = np.arange(6).reshape(1,2,3)\n",
    "print(a,a.shape,'\\n')\n",
    "\n",
    "y = np.transpose(a,(1,0,2))\n",
    "print(y,y.shape,'\\n')"
   ]
  },
  {
   "cell_type": "code",
   "execution_count": 16,
   "id": "ba0bc4c5",
   "metadata": {},
   "outputs": [
    {
     "name": "stdout",
     "output_type": "stream",
     "text": [
      "[[[0 1 2]\n",
      "  [3 4 5]]] (1, 2, 3) \n",
      "\n",
      "[[[0]\n",
      "  [1]\n",
      "  [2]]\n",
      "\n",
      " [[3]\n",
      "  [4]\n",
      "  [5]]] (2, 3, 1)\n"
     ]
    }
   ],
   "source": [
    "# (1,2,3) -> (2,3,1)  -> 높이1 행2 열3 -> 높이2 행3 열1\n",
    "# (0,1,2) -> (3차원,2차원,1차원) \n",
    "\n",
    "a = np.arange(6).reshape(1,2,3) # 배열의 차원\n",
    "print(a,a.shape,'\\n')\n",
    "y = np.transpose(a,(1,2,0)) # 전치\n",
    "print(y,y.shape)"
   ]
  },
  {
   "cell_type": "code",
   "execution_count": 19,
   "id": "11235526",
   "metadata": {},
   "outputs": [
    {
     "name": "stdout",
     "output_type": "stream",
     "text": [
      "[[[ 0  1  2  3]\n",
      "  [ 4  5  6  7]]\n",
      "\n",
      " [[ 8  9 10 11]\n",
      "  [12 13 14 15]]] (2, 2, 4) \n",
      "\n"
     ]
    }
   ],
   "source": [
    "# [과제] 아래 배열에서 3차원과 2차원을 변경하여 출력하세요(shape 확인)\n",
    "arr = np.arange(16).reshape(2,2,4)\n",
    "print(arr,arr.shape,'\\n')"
   ]
  },
  {
   "cell_type": "code",
   "execution_count": 6,
   "id": "87bebeb7",
   "metadata": {},
   "outputs": [
    {
     "name": "stdout",
     "output_type": "stream",
     "text": [
      "[[[ 0  1  2  3]\n",
      "  [ 4  5  6  7]]\n",
      "\n",
      " [[ 8  9 10 11]\n",
      "  [12 13 14 15]]] (2, 2, 4) \n",
      "\n",
      "[[[ 0  1  2  3]\n",
      "  [ 8  9 10 11]]\n",
      "\n",
      " [[ 4  5  6  7]\n",
      "  [12 13 14 15]]] (2, 2, 4)\n"
     ]
    }
   ],
   "source": [
    "import numpy as np\n",
    "\n",
    "arr = np.arange(16).reshape(2,2,4)\n",
    "\n",
    "# 행렬의 행과 열을 바꿈\n",
    "arrt = np.transpose(arr,(1,0,2)) \n",
    "\n",
    "print(arr,arr.shape,'\\n')\n",
    "print(arrt,arrt.shape)"
   ]
  },
  {
   "cell_type": "code",
   "execution_count": null,
   "id": "9a346cf4",
   "metadata": {},
   "outputs": [],
   "source": [
    "# [과제] 상기 과제의 arr에서 2차원과 1차원을 변경하여 출력하세요(shape 확인)"
   ]
  },
  {
   "cell_type": "code",
   "execution_count": 20,
   "id": "4dcf3fa3",
   "metadata": {},
   "outputs": [
    {
     "name": "stdout",
     "output_type": "stream",
     "text": [
      "* 변경 전 : \n",
      "\n",
      "[[[ 0  1  2  3]\n",
      "  [ 4  5  6  7]]\n",
      "\n",
      " [[ 8  9 10 11]\n",
      "  [12 13 14 15]]] \n",
      "\n",
      "* 변경 후 : \n",
      "\n",
      "[[[ 0  4]\n",
      "  [ 1  5]\n",
      "  [ 2  6]\n",
      "  [ 3  7]]\n",
      "\n",
      " [[ 8 12]\n",
      "  [ 9 13]\n",
      "  [10 14]\n",
      "  [11 15]]] (2, 4, 2) \n",
      "\n",
      "[[[ 0  4]\n",
      "  [ 1  5]\n",
      "  [ 2  6]\n",
      "  [ 3  7]]\n",
      "\n",
      " [[ 8 12]\n",
      "  [ 9 13]\n",
      "  [10 14]\n",
      "  [11 15]]] (2, 4, 2)\n"
     ]
    }
   ],
   "source": [
    "arr = np.arange(16).reshape(2,2,4) # 3차원 먼저 만듬\n",
    "print('* 변경 전 :' ,'\\n')\n",
    "print(arr,'\\n')\n",
    "\n",
    "arr21 = np.transpose(arr,(0,2,1)) \n",
    "print('* 변경 후 :' ,'\\n')\n",
    "print(arr21,arr21.shape,'\\n')\n",
    "\n",
    "arrs = arr.swapaxes(1,2)\n",
    "print(arrs,arrs.shape)"
   ]
  },
  {
   "cell_type": "code",
   "execution_count": 21,
   "id": "53948acd",
   "metadata": {},
   "outputs": [
    {
     "name": "stdout",
     "output_type": "stream",
     "text": [
      "[1 2 0]\n",
      "[1 2 0]\n"
     ]
    }
   ],
   "source": [
    "# 나머지를 구할 경우 사용하는 함수 -> mod, remainder\n",
    "\n",
    "value1 = np.array([15,30,45])\n",
    "value2 = np.array([2,7,9])\n",
    "\n",
    "print(np.mod(value1,value2))\n",
    "print(np.remainder(value1,value2))"
   ]
  },
  {
   "cell_type": "code",
   "execution_count": 24,
   "id": "be44d50b",
   "metadata": {},
   "outputs": [
    {
     "name": "stdout",
     "output_type": "stream",
     "text": [
      "[1.17647059 0.54054054 1.         0.01      ] \n",
      "\n",
      "[100] \n",
      "\n",
      "[0.01]\n"
     ]
    }
   ],
   "source": [
    "# 각 수의 역수를 구해주는 함수 -> reciprocal\n",
    "\n",
    "value = np.array([0.85,1.85,1,100])\n",
    "print(np.reciprocal(value),'\\n')\n",
    "\n",
    "value1 = np.array([100],dtype = int)\n",
    "print(value1,'\\n')\n",
    "print(np.reciprocal(value1, dtype=float))"
   ]
  },
  {
   "cell_type": "code",
   "execution_count": 25,
   "id": "0c15f88d",
   "metadata": {},
   "outputs": [
    {
     "name": "stdout",
     "output_type": "stream",
     "text": [
      "[  4 100 225] \n",
      "\n",
      "[   2  100 3375]\n"
     ]
    }
   ],
   "source": [
    "# 승수의 결과 값을 표시해주는 함수 -> power\n",
    "\n",
    "value1 = np.array([2,10,15])\n",
    "value2 = np.array([1,2,3])\n",
    "\n",
    "print(np.power(value1,2),'\\n')\n",
    "print(np.power(value1,value2))"
   ]
  },
  {
   "cell_type": "code",
   "execution_count": 32,
   "id": "8c6c1a9d",
   "metadata": {},
   "outputs": [
    {
     "data": {
      "text/plain": [
       "array([ 0.93844349, -1.70350145,  1.43032172,  1.72771127,  1.18513425,\n",
       "       -0.17828169, -0.59747204,  1.30479862,  1.80892605,  0.05843872])"
      ]
     },
     "execution_count": 32,
     "metadata": {},
     "output_type": "execute_result"
    }
   ],
   "source": [
    "arr = np.random.randn(10)\n",
    "# print(arr.mean(),'\\n')\n",
    "# print(arr.std()) # 표준편차\n",
    "arr"
   ]
  },
  {
   "cell_type": "code",
   "execution_count": 33,
   "id": "c3156d80",
   "metadata": {},
   "outputs": [
    {
     "data": {
      "text/plain": [
       "7"
      ]
     },
     "execution_count": 33,
     "metadata": {},
     "output_type": "execute_result"
    }
   ],
   "source": [
    "# 양수인 원소의 개수\n",
    "(arr > 0).sum()"
   ]
  },
  {
   "cell_type": "code",
   "execution_count": 34,
   "id": "753beb7a",
   "metadata": {},
   "outputs": [
    {
     "data": {
      "text/plain": [
       "True"
      ]
     },
     "execution_count": 34,
     "metadata": {},
     "output_type": "execute_result"
    }
   ],
   "source": [
    "# 하나 이상의 값이 True인지 검사\n",
    "bools = np.array([False,False, True,True])\n",
    "bools.any()"
   ]
  },
  {
   "cell_type": "code",
   "execution_count": 35,
   "id": "806e77d1",
   "metadata": {},
   "outputs": [
    {
     "data": {
      "text/plain": [
       "False"
      ]
     },
     "execution_count": 35,
     "metadata": {},
     "output_type": "execute_result"
    }
   ],
   "source": [
    "# 모든 원소가 True인지 검사\n",
    "bools.all()"
   ]
  },
  {
   "cell_type": "code",
   "execution_count": 37,
   "id": "00a096a0",
   "metadata": {},
   "outputs": [
    {
     "name": "stdout",
     "output_type": "stream",
     "text": [
      "[[ 1.7473973   0.82798397  0.94804643  1.03016619]\n",
      " [-0.34239068  0.62847099  0.33205515 -0.22287872]\n",
      " [-0.09000575 -0.71853303 -0.93714676  0.91819086]\n",
      " [ 1.57169578  1.27593397  0.44396742  0.57010209]] \n",
      "\n"
     ]
    },
    {
     "data": {
      "text/plain": [
       "array([[ 2,  2,  2,  2],\n",
       "       [-2,  2,  2, -2],\n",
       "       [-2, -2, -2,  2],\n",
       "       [ 2,  2,  2,  2]])"
      ]
     },
     "execution_count": 37,
     "metadata": {},
     "output_type": "execute_result"
    }
   ],
   "source": [
    "# 삼항식의 벡터화 버전 (where 함수랑 같이 씀)\n",
    "\n",
    "arr = np.random.randn(4,4)\n",
    "print(arr,'\\n')\n",
    "np.where(arr > 0, 2, -2) # np.where(조건 넣어서 사용)"
   ]
  },
  {
   "cell_type": "code",
   "execution_count": 38,
   "id": "9c869ca1",
   "metadata": {},
   "outputs": [
    {
     "data": {
      "text/plain": [
       "array([[ 2.        ,  2.        ,  2.        ,  2.        ],\n",
       "       [-0.34239068,  2.        ,  2.        , -0.22287872],\n",
       "       [-0.09000575, -0.71853303, -0.93714676,  2.        ],\n",
       "       [ 2.        ,  2.        ,  2.        ,  2.        ]])"
      ]
     },
     "execution_count": 38,
     "metadata": {},
     "output_type": "execute_result"
    }
   ],
   "source": [
    "# arr의 모든 양수를 2로 바꿀 경우\n",
    "np.where(arr > 0, 2, arr) # 양수이면 2로 아니면 원래 배열의 원소로 출력 ** 유용함 자주쓰임"
   ]
  },
  {
   "cell_type": "code",
   "execution_count": 40,
   "id": "c239e143",
   "metadata": {},
   "outputs": [
    {
     "name": "stdout",
     "output_type": "stream",
     "text": [
      "[[1 2 3]\n",
      " [1 2 3]\n",
      " [1 2 3]] \n",
      "\n",
      "[[1 1 1]\n",
      " [2 2 2]\n",
      " [3 3 3]]\n"
     ]
    }
   ],
   "source": [
    "# 두개의 1차원 배열을 받아서 가능한 모든 (x,y) 짝을 만들 수 있는 2차원 배열 2개 반환\n",
    "x = np.arange(1,4)\n",
    "y = np.arange(1,4)\n",
    "\n",
    "xs,ys = np.meshgrid(x,y)\n",
    "print(xs,'\\n')\n",
    "print(ys)"
   ]
  },
  {
   "cell_type": "code",
   "execution_count": 47,
   "id": "e1eed664",
   "metadata": {},
   "outputs": [
    {
     "name": "stdout",
     "output_type": "stream",
     "text": [
      "[45 48 65 68 68 10 84 22 37 88] \n",
      "\n",
      "[10 22 37 45 48 65 68 68 84 88] \n",
      "\n",
      "[45 48 65 68 68 10 84 22 37 88]\n"
     ]
    }
   ],
   "source": [
    "# np.sort() -> 원본 그대로 \n",
    "np.random.seed(0)\n",
    "arr = np.random.randint(1,100,size=10)\n",
    "print(arr,'\\n')\n",
    "\n",
    "print(np.sort(arr),'\\n') \n",
    "print(arr)"
   ]
  },
  {
   "cell_type": "code",
   "execution_count": 48,
   "id": "a362a166",
   "metadata": {},
   "outputs": [
    {
     "name": "stdout",
     "output_type": "stream",
     "text": [
      "[10 22 37 45 48 65 68 68 84 88]\n"
     ]
    }
   ],
   "source": [
    "sorted = np.sort(arr) # 변수명(sorted)에 저장해놓고 sort해야 원본이 바뀜\n",
    "print(sorted)"
   ]
  },
  {
   "cell_type": "code",
   "execution_count": 51,
   "id": "ed1eecf8",
   "metadata": {},
   "outputs": [
    {
     "name": "stdout",
     "output_type": "stream",
     "text": [
      "[[ 8 12]\n",
      " [ 7  1]] \n",
      "\n",
      "[[ 7  1]\n",
      " [ 8 12]] \n",
      "\n",
      "[[ 8 12]\n",
      " [ 1  7]]\n"
     ]
    }
   ],
   "source": [
    "# 행렬이 2차원 이상일 때 axis 축 값 설정을 통해 행, 열 방향으로 정렬 수행\n",
    "arr2d = np.array([[8,12],[7,1]])\n",
    "print(arr2d,'\\n')\n",
    "\n",
    "sort_ar2d_axis0 = np.sort(arr2d, axis=0) # axis=0 행방향 sort\n",
    "print(sort_ar2d_axis0,'\\n')\n",
    "\n",
    "sort_ar2d_axis1 = np.sort(arr2d, axis=1) # axis=1 열방향 sort\n",
    "print(sort_ar2d_axis1)"
   ]
  },
  {
   "cell_type": "code",
   "execution_count": 60,
   "id": "371cc998",
   "metadata": {},
   "outputs": [
    {
     "name": "stdout",
     "output_type": "stream",
     "text": [
      "[6 1 4 4 8 4 6 3 5 8] \n",
      "\n",
      "[1 3 4 4 4 5 6 6 8 8]\n"
     ]
    }
   ],
   "source": [
    "# ndarray.sort() : 원본 반영  <---> np.sort(arr) 원본 반영 안됨\n",
    "\n",
    "np.random.seed(0)\n",
    "arr = np.random.randint(1,10,size=10)\n",
    "# arr = np.random.randn(6)\n",
    "print(arr,'\\n')\n",
    "\n",
    "arr.sort() # 원본 반영\n",
    "print(arr)"
   ]
  },
  {
   "cell_type": "code",
   "execution_count": 2,
   "id": "be5d8081",
   "metadata": {},
   "outputs": [
    {
     "name": "stdout",
     "output_type": "stream",
     "text": [
      "[[6 1 4]\n",
      " [4 8 4]\n",
      " [6 3 5]\n",
      " [8 7 9]\n",
      " [9 2 7]] \n",
      "\n",
      "[[1 4 6]\n",
      " [4 4 8]\n",
      " [3 5 6]\n",
      " [7 8 9]\n",
      " [2 7 9]]\n"
     ]
    }
   ],
   "source": [
    "# 다차원 배열의 정렬은 sort 메소드에 넘긴 축에 따라 1차원 부분을 정렬\n",
    "# 열방향 정렬, default\n",
    "import numpy as np\n",
    "np.random.seed(0)\n",
    "arr = np.random.randint(1,10,size=(5,3))\n",
    "print(arr,'\\n')\n",
    "\n",
    "arr.sort(1) # 열쪽으로 sort 해줌  \n",
    "print(arr)  # 행쪽이면 ? sort(1)"
   ]
  },
  {
   "cell_type": "code",
   "execution_count": 66,
   "id": "2ce3dae1",
   "metadata": {},
   "outputs": [
    {
     "name": "stdout",
     "output_type": "stream",
     "text": [
      "[[6 1 4]\n",
      " [4 8 4]\n",
      " [6 3 5]\n",
      " [8 7 9]\n",
      " [9 2 7]] \n",
      "\n",
      "[[4 1 4]\n",
      " [6 2 4]\n",
      " [6 3 5]\n",
      " [8 7 7]\n",
      " [9 8 9]]\n"
     ]
    }
   ],
   "source": [
    "# 행방향 정렬\n",
    "np.random.seed(0)\n",
    "arr = np.random.randint(1,10,size=(5,3))\n",
    "print(arr,'\\n')\n",
    "\n",
    "arr.sort(0)\n",
    "print(arr)"
   ]
  },
  {
   "cell_type": "code",
   "execution_count": 68,
   "id": "fab59e1d",
   "metadata": {},
   "outputs": [
    {
     "name": "stdout",
     "output_type": "stream",
     "text": [
      "[3 1 9 5]\n",
      "<class 'numpy.ndarray'>\n"
     ]
    },
    {
     "data": {
      "text/plain": [
       "array([1, 0, 3, 2], dtype=int64)"
      ]
     },
     "execution_count": 68,
     "metadata": {},
     "output_type": "execute_result"
    }
   ],
   "source": [
    "# 정렬된 행렬의 인덱스 반환 : 기존 원본 행렬의 원소에 대한 인덱스를 필요로 할 때\n",
    "org_array = np.array([3,1,9,5])\n",
    "sort_indices = np.argsort(org_array) # sort한것의 index를 반환\n",
    "print(org_array) \n",
    "\n",
    "print(type(sort_indices))\n",
    "sort_indices"
   ]
  },
  {
   "cell_type": "code",
   "execution_count": 86,
   "id": "27e0c8f7",
   "metadata": {},
   "outputs": [
    {
     "data": {
      "text/plain": [
       "0.05914416657426071"
      ]
     },
     "execution_count": 86,
     "metadata": {},
     "output_type": "execute_result"
    }
   ],
   "source": [
    "# 배열에서 정렬한 후 50%에 해당하는 원소만 출력\n",
    "large_arr = np.random.randn(1000)\n",
    "large_arr.sort()\n",
    "large_arr[int(0.5*len(large_arr))]"
   ]
  },
  {
   "cell_type": "code",
   "execution_count": 87,
   "id": "b33efd72",
   "metadata": {},
   "outputs": [
    {
     "data": {
      "text/plain": [
       "array(['Bob', 'Joe', 'Will'], dtype='<U4')"
      ]
     },
     "execution_count": 87,
     "metadata": {},
     "output_type": "execute_result"
    }
   ],
   "source": [
    "# 배열 집합 연산\n",
    "names = np.array(['Bob','Joe','Will','Joe','Joe'])\n",
    "np.unique(names)"
   ]
  },
  {
   "cell_type": "code",
   "execution_count": 4,
   "id": "fa1face2",
   "metadata": {},
   "outputs": [
    {
     "data": {
      "text/plain": [
       "['Bob', 'Joe', 'Will']"
      ]
     },
     "execution_count": 4,
     "metadata": {},
     "output_type": "execute_result"
    }
   ],
   "source": [
    "import numpy as np\n",
    "names = np.array(['Bob','Joe','Will','Joe','Joe'])\n",
    "sorted(set(names))"
   ]
  },
  {
   "cell_type": "code",
   "execution_count": 5,
   "id": "69515c5e",
   "metadata": {},
   "outputs": [
    {
     "data": {
      "text/plain": [
       "array([ True, False, False,  True,  True, False,  True])"
      ]
     },
     "execution_count": 5,
     "metadata": {},
     "output_type": "execute_result"
    }
   ],
   "source": [
    "# 첫번째 배열의 원소가 두번째 배열의 원소를 포함하는지 알려주는 불리언 배열을 반환\n",
    "values = np.array([6,0,0,3,2,5,6])\n",
    "np.in1d(values, [2,3,6])"
   ]
  },
  {
   "cell_type": "code",
   "execution_count": 6,
   "id": "de968d51",
   "metadata": {},
   "outputs": [],
   "source": [
    "# 배열 데이터의 입출력\n",
    "# np.save, np.load는 바이너리 형식 .npy 파일로 저장\n",
    "\n",
    "arr = np.arange(10)\n",
    "np.save('some_array',arr) # arr배열을 some_array 파일명으로 저장"
   ]
  },
  {
   "cell_type": "code",
   "execution_count": 7,
   "id": "602984fc",
   "metadata": {},
   "outputs": [
    {
     "data": {
      "text/plain": [
       "array([0, 1, 2, 3, 4, 5, 6, 7, 8, 9])"
      ]
     },
     "execution_count": 7,
     "metadata": {},
     "output_type": "execute_result"
    }
   ],
   "source": [
    "np.load('some_array.npy') # 가져오기"
   ]
  },
  {
   "cell_type": "code",
   "execution_count": 8,
   "id": "15eb4f8d",
   "metadata": {},
   "outputs": [],
   "source": [
    "# np.savez : 여러개의 배열을 압축된 형식으로 저장\n",
    "np.savez('array_archive.npz',a=arr,b=arr) # 여러개의 배열을 복수로 저장가능 -> 압축가능"
   ]
  },
  {
   "cell_type": "code",
   "execution_count": 10,
   "id": "87fc2f78",
   "metadata": {},
   "outputs": [
    {
     "data": {
      "text/plain": [
       "array([0, 1, 2, 3, 4, 5, 6, 7, 8, 9])"
      ]
     },
     "execution_count": 10,
     "metadata": {},
     "output_type": "execute_result"
    }
   ],
   "source": [
    "arch = np.load('array_archive.npz')\n",
    "arch['a'] # 특정 배열의 대한 내용 출력"
   ]
  },
  {
   "cell_type": "code",
   "execution_count": 11,
   "id": "35fd2469",
   "metadata": {},
   "outputs": [
    {
     "data": {
      "text/plain": [
       "array([1, 1, 1, 1, 1, 1, 1, 1, 1, 1])"
      ]
     },
     "execution_count": 11,
     "metadata": {},
     "output_type": "execute_result"
    }
   ],
   "source": [
    "# Q. 인덱싱을 사용하여 [1 0 1 0 1 0 1 0 1 0] 을 출력하세요.\n",
    "a = np.ones(10,dtype=int)\n",
    "a"
   ]
  },
  {
   "cell_type": "code",
   "execution_count": 20,
   "id": "d6942e6c",
   "metadata": {},
   "outputs": [
    {
     "name": "stdout",
     "output_type": "stream",
     "text": [
      "[1 0 1 0 1 0 1 0 1 0]\n"
     ]
    }
   ],
   "source": [
    "a = np.ones(10).astype(int)\n",
    "a[[1,3,5,7,9]] = 0\n",
    "print(a)"
   ]
  },
  {
   "cell_type": "code",
   "execution_count": null,
   "id": "1f56eb27",
   "metadata": {},
   "outputs": [],
   "source": [
    "# Q. a = np.arange(10)에서 [6,7,8,9] 출력"
   ]
  },
  {
   "cell_type": "code",
   "execution_count": 12,
   "id": "a26c02a3",
   "metadata": {},
   "outputs": [
    {
     "data": {
      "text/plain": [
       "array([6, 7, 8, 9])"
      ]
     },
     "execution_count": 12,
     "metadata": {},
     "output_type": "execute_result"
    }
   ],
   "source": [
    "a= np.arange(10)\n",
    "a1 = a[a>5]\n",
    "a1"
   ]
  },
  {
   "cell_type": "code",
   "execution_count": null,
   "id": "656921f9",
   "metadata": {},
   "outputs": [],
   "source": [
    "# Q. a에서 최대값 np.argmax() , 최소값 np.argmin() 의 인덱스 출력"
   ]
  },
  {
   "cell_type": "code",
   "execution_count": 16,
   "id": "62c74669",
   "metadata": {},
   "outputs": [
    {
     "name": "stdout",
     "output_type": "stream",
     "text": [
      "최댓값: 8\n",
      "최솟값: 0\n"
     ]
    }
   ],
   "source": [
    "a = np.arange(1,10)\n",
    "print(f'최댓값: {np.argmax(a)}\\n최솟값: {np.argmin(a)}')"
   ]
  },
  {
   "cell_type": "code",
   "execution_count": null,
   "id": "9b945cfb",
   "metadata": {},
   "outputs": [],
   "source": [
    "# Q. a에서 인덱스 배열을 역순으로 출력하세요."
   ]
  },
  {
   "cell_type": "code",
   "execution_count": 17,
   "id": "409b4946",
   "metadata": {},
   "outputs": [
    {
     "data": {
      "text/plain": [
       "array([8, 7, 6, 5, 4, 3, 2, 1, 0], dtype=int64)"
      ]
     },
     "execution_count": 17,
     "metadata": {},
     "output_type": "execute_result"
    }
   ],
   "source": [
    "np.argsort(a)[::-1]"
   ]
  },
  {
   "cell_type": "code",
   "execution_count": null,
   "id": "7db0a3e0",
   "metadata": {},
   "outputs": [],
   "source": [
    "# Q. np.ones((10,10))을 아래와 같이 출력하세요.\n",
    "array([[1., 1., 1., 1., 1., 1., 1., 1., 1., 1.],\n",
    "       [1., 0., 0., 0., 0., 0., 0., 0., 0., 1.],\n",
    "       [1., 0., 0., 0., 0., 0., 0., 0., 0., 1.],\n",
    "       [1., 0., 0., 0., 0., 0., 0., 0., 0., 1.],\n",
    "       [1., 0., 0., 0., 0., 0., 0., 0., 0., 1.],\n",
    "       [1., 0., 0., 0., 0., 0., 0., 0., 0., 1.],\n",
    "       [1., 0., 0., 0., 0., 0., 0., 0., 0., 1.],\n",
    "       [1., 0., 0., 0., 0., 0., 0., 0., 0., 1.],\n",
    "       [1., 0., 0., 0., 0., 0., 0., 0., 0., 1.],\n",
    "       [1., 1., 1., 1., 1., 1., 1., 1., 1., 1.]])"
   ]
  },
  {
   "cell_type": "code",
   "execution_count": 18,
   "id": "c3c05f1f",
   "metadata": {},
   "outputs": [
    {
     "data": {
      "text/plain": [
       "array([[1., 1., 1., 1., 1., 1., 1., 1., 1., 1.],\n",
       "       [1., 0., 0., 0., 0., 0., 0., 0., 0., 1.],\n",
       "       [1., 0., 0., 0., 0., 0., 0., 0., 0., 1.],\n",
       "       [1., 0., 0., 0., 0., 0., 0., 0., 0., 1.],\n",
       "       [1., 0., 0., 0., 0., 0., 0., 0., 0., 1.],\n",
       "       [1., 0., 0., 0., 0., 0., 0., 0., 0., 1.],\n",
       "       [1., 0., 0., 0., 0., 0., 0., 0., 0., 1.],\n",
       "       [1., 0., 0., 0., 0., 0., 0., 0., 0., 1.],\n",
       "       [1., 0., 0., 0., 0., 0., 0., 0., 0., 1.],\n",
       "       [1., 1., 1., 1., 1., 1., 1., 1., 1., 1.]])"
      ]
     },
     "execution_count": 18,
     "metadata": {},
     "output_type": "execute_result"
    }
   ],
   "source": [
    "b=np.ones((10,10))\n",
    "b[1:9,1:9]=0\n",
    "b"
   ]
  },
  {
   "cell_type": "code",
   "execution_count": null,
   "id": "0ca61b66",
   "metadata": {},
   "outputs": [],
   "source": [
    "# [과제] np.ones((5,5))을 아래와 같이 출력하세요.\n",
    "array([[0., 0., 0., 0., 0., 0., 0., 0., 0.],\n",
    "       [0., 0., 0., 0., 0., 0., 0., 0., 0.],\n",
    "       [0., 0., 1., 1., 1., 1., 1., 0., 0.],\n",
    "       [0., 0., 1., 1., 1., 1., 1., 0., 0.],\n",
    "       [0., 0., 1., 1., 1., 1., 1., 0., 0.],\n",
    "       [0., 0., 1., 1., 1., 1., 1., 0., 0.],\n",
    "       [0., 0., 1., 1., 1., 1., 1., 0., 0.],\n",
    "       [0., 0., 0., 0., 0., 0., 0., 0., 0.],\n",
    "       [0., 0., 0., 0., 0., 0., 0., 0., 0.]])\n"
   ]
  },
  {
   "cell_type": "code",
   "execution_count": 5,
   "id": "c119e59f",
   "metadata": {},
   "outputs": [
    {
     "name": "stdout",
     "output_type": "stream",
     "text": [
      "[[0 0 0 0 0 0 0 0 0]\n",
      " [0 0 0 0 0 0 0 0 0]\n",
      " [0 0 1 1 1 1 1 0 0]\n",
      " [0 0 1 1 1 1 1 0 0]\n",
      " [0 0 1 1 1 1 1 0 0]\n",
      " [0 0 1 1 1 1 1 0 0]\n",
      " [0 0 1 1 1 1 1 0 0]\n",
      " [0 0 0 0 0 0 0 0 0]\n",
      " [0 0 0 0 0 0 0 0 0]]\n"
     ]
    }
   ],
   "source": [
    "x = np.ones((5,5), dtype = int)\n",
    "y = np.zeros((9,9), dtype = int)\n",
    "y[2:7,2:7] = x # x는 행 2~7 , 열 2~7에 ones 값들\n",
    "print(y)"
   ]
  },
  {
   "cell_type": "code",
   "execution_count": 22,
   "id": "fef12c77",
   "metadata": {},
   "outputs": [
    {
     "data": {
      "text/plain": [
       "array([[0., 0., 0., 0., 0., 0., 0., 0., 0.],\n",
       "       [0., 0., 0., 0., 0., 0., 0., 0., 0.],\n",
       "       [0., 0., 1., 1., 1., 1., 1., 0., 0.],\n",
       "       [0., 0., 1., 1., 1., 1., 1., 0., 0.],\n",
       "       [0., 0., 1., 1., 1., 1., 1., 0., 0.],\n",
       "       [0., 0., 1., 1., 1., 1., 1., 0., 0.],\n",
       "       [0., 0., 1., 1., 1., 1., 1., 0., 0.],\n",
       "       [0., 0., 0., 0., 0., 0., 0., 0., 0.],\n",
       "       [0., 0., 0., 0., 0., 0., 0., 0., 0.]])"
      ]
     },
     "execution_count": 22,
     "metadata": {},
     "output_type": "execute_result"
    }
   ],
   "source": [
    "arr1 = np.ones((5,5))\n",
    "np.pad(arr1,(2,2),'constant',constant_values=0)"
   ]
  },
  {
   "cell_type": "code",
   "execution_count": null,
   "id": "4f4f8dd5",
   "metadata": {},
   "outputs": [],
   "source": [
    "# [과제] np.zeros((8,8))을 이용해서 아래와 같이 출력하세요(두가지 방식:인덱싱, tile함수)\n",
    "array([[0, 1, 0, 1, 0, 1, 0, 1],\n",
    "       [1, 0, 1, 0, 1, 0, 1, 0],\n",
    "       [0, 1, 0, 1, 0, 1, 0, 1],\n",
    "       [1, 0, 1, 0, 1, 0, 1, 0],\n",
    "       [0, 1, 0, 1, 0, 1, 0, 1],\n",
    "       [1, 0, 1, 0, 1, 0, 1, 0],\n",
    "       [0, 1, 0, 1, 0, 1, 0, 1],\n",
    "       [1, 0, 1, 0, 1, 0, 1, 0]])"
   ]
  },
  {
   "cell_type": "code",
   "execution_count": 16,
   "id": "2d054bc2",
   "metadata": {},
   "outputs": [
    {
     "name": "stdout",
     "output_type": "stream",
     "text": [
      "[[0 1]\n",
      " [1 0]] \n",
      "\n",
      "[[0 1 0 1 0 1 0 1]\n",
      " [1 0 1 0 1 0 1 0]\n",
      " [0 1 0 1 0 1 0 1]\n",
      " [1 0 1 0 1 0 1 0]\n",
      " [0 1 0 1 0 1 0 1]\n",
      " [1 0 1 0 1 0 1 0]\n",
      " [0 1 0 1 0 1 0 1]\n",
      " [1 0 1 0 1 0 1 0]] \n",
      "\n"
     ]
    }
   ],
   "source": [
    "a = np.array([[0,1],[1,0]])\n",
    "b = np.tile(a,(4,4))\n",
    "\n",
    "print(a,'\\n')\n",
    "print(b,'\\n')"
   ]
  },
  {
   "cell_type": "code",
   "execution_count": 12,
   "id": "fcd19cdc",
   "metadata": {},
   "outputs": [
    {
     "name": "stdout",
     "output_type": "stream",
     "text": [
      "[0 1 2] \n",
      "\n",
      "[0 1 2 0 1 2] \n",
      "\n",
      "[[0 1 2 0 1 2]\n",
      " [0 1 2 0 1 2]\n",
      " [0 1 2 0 1 2]]\n"
     ]
    }
   ],
   "source": [
    "# numpy.tile 함수는 어레이를 (타일과 같이) 지정한 횟수만큼 반복합니다.\n",
    "import numpy as np\n",
    "\n",
    "a = np.array([0, 1, 2])\n",
    "b = np.tile(a, 2)\n",
    "c = np.tile(a, (3, 2)) # 0 1 2 배열을 3행 2열로\n",
    "\n",
    "print(a,'\\n')\n",
    "print(b,'\\n')\n",
    "print(c)\n",
    "# c.ndim -> 2차"
   ]
  },
  {
   "cell_type": "code",
   "execution_count": 14,
   "id": "336d9949",
   "metadata": {},
   "outputs": [
    {
     "name": "stdout",
     "output_type": "stream",
     "text": [
      "[[1 2]\n",
      " [3 4]] \n",
      "\n",
      "[[1 2 1 2]\n",
      " [3 4 3 4]] \n",
      "\n",
      "[[1 2 1 2]\n",
      " [3 4 3 4]\n",
      " [1 2 1 2]\n",
      " [3 4 3 4]]\n"
     ]
    }
   ],
   "source": [
    "import numpy as np\n",
    "\n",
    "a = np.array([[1, 2], [3, 4]])\n",
    "b = np.tile(a, 2)\n",
    "c = np.tile(a, (2, 2))\n",
    "\n",
    "print(a,'\\n')\n",
    "print(b,'\\n')\n",
    "print(c)"
   ]
  },
  {
   "cell_type": "code",
   "execution_count": null,
   "id": "c085600e",
   "metadata": {},
   "outputs": [],
   "source": [
    "# [도전과제] np.arange(336).reshape(6,7,8)에서 100번째 요소의 인덱스를 구하세요"
   ]
  },
  {
   "cell_type": "code",
   "execution_count": 19,
   "id": "c29384ca",
   "metadata": {},
   "outputs": [
    {
     "name": "stdout",
     "output_type": "stream",
     "text": [
      "(array([1], dtype=int64), array([5], dtype=int64), array([3], dtype=int64)) \n",
      "\n",
      "(1, 5, 3)\n"
     ]
    }
   ],
   "source": [
    "a = np.arange(336).reshape(6,7,8)\n",
    "print(np.where(a==99),'\\n')\n",
    "\n",
    "arr = np.arange(336).reshape(6,7,8)\n",
    "# print(arr)\n",
    "\n",
    "# numpy.unravel_index( 인덱스 , 모양 , 순서='C' )\n",
    "# 플랫 인덱스 또는 플랫 인덱스 배열을 튜플 좌표 배열로 변환합니다.\n",
    "print(np.unravel_index(99,(6,7,8))) "
   ]
  },
  {
   "cell_type": "code",
   "execution_count": null,
   "id": "e5696780",
   "metadata": {},
   "outputs": [],
   "source": [
    "# [도전과제] np.arrange(4)을 이용해서 아래와 같이 출력하세요.\n",
    "array([[0, 0, 0, 0, 0],\n",
    "       [1, 0, 0, 0, 0],\n",
    "       [0, 2, 0, 0, 0],\n",
    "       [0, 0, 3, 0, 0],\n",
    "       [0, 0, 0, 4, 0]])"
   ]
  },
  {
   "cell_type": "code",
   "execution_count": 29,
   "id": "7218d2ec",
   "metadata": {},
   "outputs": [
    {
     "data": {
      "text/plain": [
       "array([[0, 0, 1, 0, 0, 0],\n",
       "       [0, 0, 0, 2, 0, 0],\n",
       "       [0, 0, 0, 0, 3, 0],\n",
       "       [0, 0, 0, 0, 0, 4],\n",
       "       [0, 0, 0, 0, 0, 0],\n",
       "       [0, 0, 0, 0, 0, 0]])"
      ]
     },
     "execution_count": 29,
     "metadata": {},
     "output_type": "execute_result"
    }
   ],
   "source": [
    "arr=np.arange(4) \n",
    "# np.diag(arr+1,k=2) \n",
    "np.diag(arr+1, k =2) # diag -> 대각행렬 생성"
   ]
  },
  {
   "cell_type": "code",
   "execution_count": 24,
   "id": "cc8354e0",
   "metadata": {},
   "outputs": [
    {
     "data": {
      "text/plain": [
       "array([[1, 0, 0, 0],\n",
       "       [0, 2, 0, 0],\n",
       "       [0, 0, 3, 0],\n",
       "       [0, 0, 0, 4]])"
      ]
     },
     "execution_count": 24,
     "metadata": {},
     "output_type": "execute_result"
    }
   ],
   "source": [
    "np.diag(1+np.arange(4)) # np.diag(1,2,3,4) 와 같음"
   ]
  },
  {
   "cell_type": "markdown",
   "id": "4c39aa7c",
   "metadata": {},
   "source": [
    "[파이썬 random 함수]"
   ]
  },
  {
   "cell_type": "code",
   "execution_count": 29,
   "id": "2d47ac3b",
   "metadata": {},
   "outputs": [
    {
     "name": "stdout",
     "output_type": "stream",
     "text": [
      "0.6368513695008178 \n",
      "\n",
      "5 \n",
      "\n",
      "18.9744480022728 \n",
      "\n",
      "6 \n",
      "\n",
      "2 \n",
      "\n",
      "[1, 2, 5] \n",
      "\n",
      "[5, 2, 1, 4, 3]\n"
     ]
    }
   ],
   "source": [
    "import random\n",
    "print(random.random(),'\\n') # 0.0 <= x < 1.0 사이\n",
    "print(random.randint(1,10),'\\n') # 1에서 10사이의 정수중에서 난수 값 리턴\n",
    "print(random.uniform(10,20), '\\n') # min max 사이 float 리턴\n",
    "print(random.randrange(10), '\\n') # 지정 범위 int 리턴\n",
    "print(random.choice([1,2,3,4,5]),'\\n') # 리스트 내부에 있는 요소를 랜덤하게 선택\n",
    "li = [1,2,3,4,5]\n",
    "print(random.sample(li,3),'\\n') # 리스트 요소를 중복이 안되게 리턴\n",
    "random.shuffle(li) # 리스트 요소를 다시 섞어서 리턴\n",
    "print(li)"
   ]
  },
  {
   "cell_type": "markdown",
   "id": "36cc5ae4",
   "metadata": {},
   "source": [
    "[numpy random 함수]\n",
    "\n",
    "- np.random.seed : seed를 통한 난수 생성 -> 난수 고정\n",
    "- np.random.randint : 정수 난수 1개 생성\n",
    "- np.random.rand : 0부터 1사이의 균일분포에서 난수 매트릭스 배열 생성\n",
    "- np.random.randn : 가우시안 표준 정규분포에서 난수 매트릭스 배열 생성\n",
    "- np.random.shuffle : 기존의 데이터의 순서 바꾸기\n",
    "- np.random.choice : 기존 데이터에서 sampling"
   ]
  },
  {
   "cell_type": "code",
   "execution_count": 30,
   "id": "0a450303",
   "metadata": {},
   "outputs": [
    {
     "name": "stdout",
     "output_type": "stream",
     "text": [
      "4 \n",
      "\n",
      "3 \n",
      "\n",
      "[1 1 9 3 1 4 7 1 8 9] \n",
      "\n",
      "[12 14 16 16 12 14 19 12 15 14] \n",
      "\n",
      "[[12 12 18 11 16]\n",
      " [19 14 19 13 15]\n",
      " [17 19 18 19 16]]\n"
     ]
    }
   ],
   "source": [
    "print(np.random.randint(6), '\\n') # 0 ~ 5까지 정수인 난수 1개\n",
    "print(np.random.randint(1,20),'\\n') # 1 ~ 19까지 정수인 난수 1개\n",
    "print(np.random.randint(10, size=10), '\\n') # 0 ~ 9까지 정수인 난수 10개\n",
    "print(np.random.randint(10,20, size=10),'\\n') # 10 ~ 19까지 정수인 난수 10개\n",
    "print(np.random.randint(10,20, size=(3,5))) # 10 ~ 19까지 정수인 난수로 3행 5열 배열 생성"
   ]
  },
  {
   "cell_type": "code",
   "execution_count": 32,
   "id": "662293c7",
   "metadata": {},
   "outputs": [
    {
     "name": "stdout",
     "output_type": "stream",
     "text": [
      "[0.35939011 0.92422949 0.5613698  0.29359141 0.93212749 0.62799602] \n",
      "\n"
     ]
    },
    {
     "data": {
      "text/plain": [
       "0.6164507206061188"
      ]
     },
     "execution_count": 32,
     "metadata": {},
     "output_type": "execute_result"
    }
   ],
   "source": [
    "r = np.random.rand(6) # 0 ~ 1 사이의 균일분포\n",
    "print(r,'\\n')\n",
    "r.mean()"
   ]
  },
  {
   "cell_type": "code",
   "execution_count": 61,
   "id": "2d0557a1",
   "metadata": {},
   "outputs": [
    {
     "name": "stdout",
     "output_type": "stream",
     "text": [
      "[-0.10321885  0.4105985   0.14404357 ... -1.08502512  0.97226233\n",
      "  1.43147168] \n",
      "\n"
     ]
    },
    {
     "data": {
      "text/plain": [
       "-0.01893802539118709"
      ]
     },
     "execution_count": 61,
     "metadata": {},
     "output_type": "execute_result"
    }
   ],
   "source": [
    "# 표준 정규분포\n",
    "r = np.random.randn(10000)\n",
    "print(r,'\\n')\n",
    "r.mean() # 샘플이 많으면 평균이 0으로 분산함"
   ]
  },
  {
   "cell_type": "code",
   "execution_count": 37,
   "id": "359d69f3",
   "metadata": {},
   "outputs": [
    {
     "name": "stdout",
     "output_type": "stream",
     "text": [
      "[1 2 3 4 5] \n",
      "\n"
     ]
    },
    {
     "data": {
      "text/plain": [
       "array([3, 1, 4, 2, 5])"
      ]
     },
     "execution_count": 37,
     "metadata": {},
     "output_type": "execute_result"
    }
   ],
   "source": [
    "list = np.arange(1,6)\n",
    "print(list,'\\n')\n",
    "np.random.shuffle(list)\n",
    "list"
   ]
  },
  {
   "cell_type": "code",
   "execution_count": 38,
   "id": "939e5207",
   "metadata": {},
   "outputs": [
    {
     "data": {
      "text/plain": [
       "4"
      ]
     },
     "execution_count": 38,
     "metadata": {},
     "output_type": "execute_result"
    }
   ],
   "source": [
    "np.random.choice(list)"
   ]
  },
  {
   "cell_type": "code",
   "execution_count": 39,
   "id": "023d71de",
   "metadata": {},
   "outputs": [
    {
     "name": "stdout",
     "output_type": "stream",
     "text": [
      "[ 2  3  7 11]\n",
      "[3 2 1 2]\n"
     ]
    }
   ],
   "source": [
    "a = np.array([11,11,3,3,2,2,2,7])\n",
    "\n",
    "# 주어진 배열에서 중복된거 제거 후 출력\n",
    "index,count = np.unique(a,return_counts=True)\n",
    "\n",
    "print(index) #\n",
    "print(count) # 2는3개, 3은 2개, 7은1개, 11은 2개"
   ]
  },
  {
   "cell_type": "code",
   "execution_count": 40,
   "id": "435a89e7",
   "metadata": {},
   "outputs": [
    {
     "data": {
      "text/plain": [
       "array([1.23196751, 1.41547268, 1.85182497, 1.73567716, 1.33340048,\n",
       "       1.12387434, 1.49182714, 1.22099167, 1.25233108, 1.42272584])"
      ]
     },
     "execution_count": 40,
     "metadata": {},
     "output_type": "execute_result"
    }
   ],
   "source": [
    "np.random.uniform(1.0,2.0, 10)"
   ]
  },
  {
   "cell_type": "code",
   "execution_count": 42,
   "id": "4836bec6",
   "metadata": {},
   "outputs": [
    {
     "name": "stdout",
     "output_type": "stream",
     "text": [
      "[[0.7702486  0.27582034 0.94317537]\n",
      " [0.34387656 0.00674356 0.48359411]]\n"
     ]
    }
   ],
   "source": [
    "print(np.random.uniform(0,1,(2,3))) # uniform은 범위지정해줘야함"
   ]
  },
  {
   "cell_type": "code",
   "execution_count": 41,
   "id": "fd95c009",
   "metadata": {},
   "outputs": [
    {
     "data": {
      "text/plain": [
       "array([[0.40762345, 0.86121214, 0.95243613],\n",
       "       [0.57615261, 0.98855528, 0.58242609]])"
      ]
     },
     "execution_count": 41,
     "metadata": {},
     "output_type": "execute_result"
    }
   ],
   "source": [
    "# 0 ~ 1 사이의 난수 실수값으로 행렬 생성\n",
    "# uniform 함수의 최소값, 최대값을 각각 0, 1로 지정한 것과 같음\n",
    "np.random.random_sample((2,3))"
   ]
  },
  {
   "cell_type": "code",
   "execution_count": 2,
   "id": "e4332527",
   "metadata": {},
   "outputs": [
    {
     "name": "stdout",
     "output_type": "stream",
     "text": [
      "Requirement already satisfied: pandas in c:\\users\\home\\anaconda3\\envs\\cakd5\\lib\\site-packages (1.3.4)\n",
      "Requirement already satisfied: pytz>=2017.3 in c:\\users\\home\\anaconda3\\envs\\cakd5\\lib\\site-packages (from pandas) (2021.3)\n",
      "Requirement already satisfied: numpy>=1.17.3 in c:\\users\\home\\anaconda3\\envs\\cakd5\\lib\\site-packages (from pandas) (1.21.2)\n",
      "Requirement already satisfied: python-dateutil>=2.7.3 in c:\\users\\home\\anaconda3\\envs\\cakd5\\lib\\site-packages (from pandas) (2.8.2)\n",
      "Requirement already satisfied: six>=1.5 in c:\\users\\home\\anaconda3\\envs\\cakd5\\lib\\site-packages (from python-dateutil>=2.7.3->pandas) (1.16.0)\n"
     ]
    }
   ],
   "source": [
    "!pip install pandas"
   ]
  },
  {
   "cell_type": "code",
   "execution_count": 6,
   "id": "df890573",
   "metadata": {},
   "outputs": [
    {
     "data": {
      "text/plain": [
       "array([[0.75952748, 0.49086493, 0.2882702 , 0.79074203, 0.08961169,\n",
       "        0.03088171, 0.1350829 , 0.22873948],\n",
       "       [0.76030927, 0.03281771, 0.91698558, 0.03322285, 0.73179457,\n",
       "        0.61421108, 0.66757378, 0.85500591],\n",
       "       [0.60609743, 0.5394213 , 0.84806714, 0.08784687, 0.17888944,\n",
       "        0.89469666, 0.22178836, 0.78876453],\n",
       "       [0.30916355, 0.27993381, 0.9870562 , 0.12884018, 0.7113555 ,\n",
       "        0.06745623, 0.95984212, 0.51553156]])"
      ]
     },
     "execution_count": 6,
     "metadata": {},
     "output_type": "execute_result"
    }
   ],
   "source": [
    "ar = np.random.rand(4,8) # rand 균일분포 4행 8열\n",
    "ar"
   ]
  },
  {
   "cell_type": "code",
   "execution_count": 7,
   "id": "649e00aa",
   "metadata": {},
   "outputs": [
    {
     "name": "stdout",
     "output_type": "stream",
     "text": [
      "          0         1         2         3         4         5         6  \\\n",
      "0  0.759527  0.490865  0.288270  0.790742  0.089612  0.030882  0.135083   \n",
      "1  0.760309  0.032818  0.916986  0.033223  0.731795  0.614211  0.667574   \n",
      "2  0.606097  0.539421  0.848067  0.087847  0.178889  0.894697  0.221788   \n",
      "3  0.309164  0.279934  0.987056  0.128840  0.711355  0.067456  0.959842   \n",
      "\n",
      "          7  \n",
      "0  0.228739  \n",
      "1  0.855006  \n",
      "2  0.788765  \n",
      "3  0.515532   <class 'pandas.core.frame.DataFrame'>\n"
     ]
    }
   ],
   "source": [
    "# 데이터 전처리 하기위해  배열을 데이터프레임으로 변환\n",
    "import pandas as pd\n",
    "df = pd.DataFrame(ar)\n",
    "print(df,type(df))"
   ]
  },
  {
   "cell_type": "code",
   "execution_count": 49,
   "id": "2e6e2edd",
   "metadata": {},
   "outputs": [
    {
     "data": {
      "text/html": [
       "<div>\n",
       "<style scoped>\n",
       "    .dataframe tbody tr th:only-of-type {\n",
       "        vertical-align: middle;\n",
       "    }\n",
       "\n",
       "    .dataframe tbody tr th {\n",
       "        vertical-align: top;\n",
       "    }\n",
       "\n",
       "    .dataframe thead th {\n",
       "        text-align: right;\n",
       "    }\n",
       "</style>\n",
       "<table border=\"1\" class=\"dataframe\">\n",
       "  <thead>\n",
       "    <tr style=\"text-align: right;\">\n",
       "      <th></th>\n",
       "      <th>id</th>\n",
       "      <th>gender</th>\n",
       "      <th>age</th>\n",
       "      <th>region</th>\n",
       "      <th>product</th>\n",
       "      <th>price</th>\n",
       "      <th>qty</th>\n",
       "      <th>time</th>\n",
       "    </tr>\n",
       "  </thead>\n",
       "  <tbody>\n",
       "    <tr>\n",
       "      <th>0</th>\n",
       "      <td>0.729431</td>\n",
       "      <td>0.684862</td>\n",
       "      <td>0.868469</td>\n",
       "      <td>0.522983</td>\n",
       "      <td>0.030574</td>\n",
       "      <td>0.146772</td>\n",
       "      <td>0.520409</td>\n",
       "      <td>0.461370</td>\n",
       "    </tr>\n",
       "    <tr>\n",
       "      <th>1</th>\n",
       "      <td>0.544840</td>\n",
       "      <td>0.048985</td>\n",
       "      <td>0.991160</td>\n",
       "      <td>0.719574</td>\n",
       "      <td>0.350430</td>\n",
       "      <td>0.803454</td>\n",
       "      <td>0.833256</td>\n",
       "      <td>0.383248</td>\n",
       "    </tr>\n",
       "    <tr>\n",
       "      <th>2</th>\n",
       "      <td>0.352445</td>\n",
       "      <td>0.806314</td>\n",
       "      <td>0.018128</td>\n",
       "      <td>0.649153</td>\n",
       "      <td>0.013020</td>\n",
       "      <td>0.929774</td>\n",
       "      <td>0.325772</td>\n",
       "      <td>0.476830</td>\n",
       "    </tr>\n",
       "    <tr>\n",
       "      <th>3</th>\n",
       "      <td>0.376991</td>\n",
       "      <td>0.381680</td>\n",
       "      <td>0.877992</td>\n",
       "      <td>0.835450</td>\n",
       "      <td>0.742619</td>\n",
       "      <td>0.508451</td>\n",
       "      <td>0.677759</td>\n",
       "      <td>0.322290</td>\n",
       "    </tr>\n",
       "  </tbody>\n",
       "</table>\n",
       "</div>"
      ],
      "text/plain": [
       "         id    gender       age    region   product     price       qty  \\\n",
       "0  0.729431  0.684862  0.868469  0.522983  0.030574  0.146772  0.520409   \n",
       "1  0.544840  0.048985  0.991160  0.719574  0.350430  0.803454  0.833256   \n",
       "2  0.352445  0.806314  0.018128  0.649153  0.013020  0.929774  0.325772   \n",
       "3  0.376991  0.381680  0.877992  0.835450  0.742619  0.508451  0.677759   \n",
       "\n",
       "       time  \n",
       "0  0.461370  \n",
       "1  0.383248  \n",
       "2  0.476830  \n",
       "3  0.322290  "
      ]
     },
     "execution_count": 49,
     "metadata": {},
     "output_type": "execute_result"
    }
   ],
   "source": [
    "columns = ['id','gender','age','region','product','price','qty','time'] # 칼럼 지정\n",
    "index = [np.arange(4)] # 인덱스 지정\n",
    "df = pd.DataFrame(ar,index,columns=columns)\n",
    "df"
   ]
  },
  {
   "cell_type": "code",
   "execution_count": null,
   "id": "d6a39f41",
   "metadata": {},
   "outputs": [],
   "source": [
    "# Q. id, gender, age 컬럼에 대하여 의미있는 값으로 변환하여 3개의 컬럼으로 구성된 df를 출력하세요."
   ]
  },
  {
   "cell_type": "code",
   "execution_count": 50,
   "id": "2ecd7917",
   "metadata": {},
   "outputs": [
    {
     "data": {
      "text/html": [
       "<div>\n",
       "<style scoped>\n",
       "    .dataframe tbody tr th:only-of-type {\n",
       "        vertical-align: middle;\n",
       "    }\n",
       "\n",
       "    .dataframe tbody tr th {\n",
       "        vertical-align: top;\n",
       "    }\n",
       "\n",
       "    .dataframe thead th {\n",
       "        text-align: right;\n",
       "    }\n",
       "</style>\n",
       "<table border=\"1\" class=\"dataframe\">\n",
       "  <thead>\n",
       "    <tr style=\"text-align: right;\">\n",
       "      <th></th>\n",
       "      <th>ID</th>\n",
       "      <th>Gender</th>\n",
       "      <th>Age</th>\n",
       "    </tr>\n",
       "  </thead>\n",
       "  <tbody>\n",
       "    <tr>\n",
       "      <th>1</th>\n",
       "      <td>6534</td>\n",
       "      <td>M</td>\n",
       "      <td>27</td>\n",
       "    </tr>\n",
       "    <tr>\n",
       "      <th>2</th>\n",
       "      <td>1024</td>\n",
       "      <td>F</td>\n",
       "      <td>15</td>\n",
       "    </tr>\n",
       "    <tr>\n",
       "      <th>3</th>\n",
       "      <td>6769</td>\n",
       "      <td>M</td>\n",
       "      <td>11</td>\n",
       "    </tr>\n",
       "  </tbody>\n",
       "</table>\n",
       "</div>"
      ],
      "text/plain": [
       "     ID Gender Age\n",
       "1  6534      M  27\n",
       "2  1024      F  15\n",
       "3  6769      M  11"
      ]
     },
     "execution_count": 50,
     "metadata": {},
     "output_type": "execute_result"
    }
   ],
   "source": [
    "ID = np.random.randint(1000,10000,3)\n",
    "gen = np.random.choice(['M','F'],3)\n",
    "age = np.random.randint(10,40,3)\n",
    "\n",
    "data = np.array([ID,gen,age]).reshape(3,3).transpose()\n",
    "df=pd.DataFrame(data,np.arange(1,4),['ID','Gender','Age'])\n",
    "df\n"
   ]
  },
  {
   "cell_type": "code",
   "execution_count": 51,
   "id": "7cff076d",
   "metadata": {},
   "outputs": [
    {
     "name": "stdout",
     "output_type": "stream",
     "text": [
      "[[812.   0.  38.]\n",
      " [644.   1.  78.]\n",
      " [324.   0.  76.]\n",
      " [888.   0. 101.]\n",
      " [408.   0. 104.]\n",
      " [624.   0.  29.]\n",
      " [232.   0. 104.]\n",
      " [195.   0.  27.]\n",
      " [ 30.   1.  12.]\n",
      " [511.   1.  45.]] \n",
      "\n"
     ]
    },
    {
     "data": {
      "text/html": [
       "<div>\n",
       "<style scoped>\n",
       "    .dataframe tbody tr th:only-of-type {\n",
       "        vertical-align: middle;\n",
       "    }\n",
       "\n",
       "    .dataframe tbody tr th {\n",
       "        vertical-align: top;\n",
       "    }\n",
       "\n",
       "    .dataframe thead th {\n",
       "        text-align: right;\n",
       "    }\n",
       "</style>\n",
       "<table border=\"1\" class=\"dataframe\">\n",
       "  <thead>\n",
       "    <tr style=\"text-align: right;\">\n",
       "      <th></th>\n",
       "      <th>id</th>\n",
       "      <th>gender</th>\n",
       "      <th>age</th>\n",
       "    </tr>\n",
       "  </thead>\n",
       "  <tbody>\n",
       "    <tr>\n",
       "      <th>1</th>\n",
       "      <td>812.0</td>\n",
       "      <td>0.0</td>\n",
       "      <td>38.0</td>\n",
       "    </tr>\n",
       "    <tr>\n",
       "      <th>2</th>\n",
       "      <td>644.0</td>\n",
       "      <td>1.0</td>\n",
       "      <td>78.0</td>\n",
       "    </tr>\n",
       "    <tr>\n",
       "      <th>3</th>\n",
       "      <td>324.0</td>\n",
       "      <td>0.0</td>\n",
       "      <td>76.0</td>\n",
       "    </tr>\n",
       "    <tr>\n",
       "      <th>4</th>\n",
       "      <td>888.0</td>\n",
       "      <td>0.0</td>\n",
       "      <td>101.0</td>\n",
       "    </tr>\n",
       "    <tr>\n",
       "      <th>5</th>\n",
       "      <td>408.0</td>\n",
       "      <td>0.0</td>\n",
       "      <td>104.0</td>\n",
       "    </tr>\n",
       "    <tr>\n",
       "      <th>6</th>\n",
       "      <td>624.0</td>\n",
       "      <td>0.0</td>\n",
       "      <td>29.0</td>\n",
       "    </tr>\n",
       "    <tr>\n",
       "      <th>7</th>\n",
       "      <td>232.0</td>\n",
       "      <td>0.0</td>\n",
       "      <td>104.0</td>\n",
       "    </tr>\n",
       "    <tr>\n",
       "      <th>8</th>\n",
       "      <td>195.0</td>\n",
       "      <td>0.0</td>\n",
       "      <td>27.0</td>\n",
       "    </tr>\n",
       "    <tr>\n",
       "      <th>9</th>\n",
       "      <td>30.0</td>\n",
       "      <td>1.0</td>\n",
       "      <td>12.0</td>\n",
       "    </tr>\n",
       "    <tr>\n",
       "      <th>10</th>\n",
       "      <td>511.0</td>\n",
       "      <td>1.0</td>\n",
       "      <td>45.0</td>\n",
       "    </tr>\n",
       "  </tbody>\n",
       "</table>\n",
       "</div>"
      ],
      "text/plain": [
       "       id  gender    age\n",
       "1   812.0     0.0   38.0\n",
       "2   644.0     1.0   78.0\n",
       "3   324.0     0.0   76.0\n",
       "4   888.0     0.0  101.0\n",
       "5   408.0     0.0  104.0\n",
       "6   624.0     0.0   29.0\n",
       "7   232.0     0.0  104.0\n",
       "8   195.0     0.0   27.0\n",
       "9    30.0     1.0   12.0\n",
       "10  511.0     1.0   45.0"
      ]
     },
     "execution_count": 51,
     "metadata": {},
     "output_type": "execute_result"
    }
   ],
   "source": [
    "h = np.zeros((3, 10))\n",
    "id_ = np.random.randint(1, 1000, size = (1, 10))\n",
    "gender = np.random.randint(2, size = (1, 10))\n",
    "age = np.random.randint(0, 120, size = (1, 10))\n",
    "\n",
    "h[0] = id_\n",
    "h[1] = gender\n",
    "h[2] = age\n",
    "\n",
    "h = np.transpose(h)\n",
    "print(h,'\\n')\n",
    "\n",
    "columns = ['id', 'gender', 'age']\n",
    "index = np.arange(1, 11)\n",
    "df = pd.DataFrame(h, index, columns = columns)\n",
    "\n",
    "df"
   ]
  },
  {
   "cell_type": "code",
   "execution_count": 59,
   "id": "d218e6ff",
   "metadata": {},
   "outputs": [
    {
     "data": {
      "text/html": [
       "<div>\n",
       "<style scoped>\n",
       "    .dataframe tbody tr th:only-of-type {\n",
       "        vertical-align: middle;\n",
       "    }\n",
       "\n",
       "    .dataframe tbody tr th {\n",
       "        vertical-align: top;\n",
       "    }\n",
       "\n",
       "    .dataframe thead th {\n",
       "        text-align: right;\n",
       "    }\n",
       "</style>\n",
       "<table border=\"1\" class=\"dataframe\">\n",
       "  <thead>\n",
       "    <tr style=\"text-align: right;\">\n",
       "      <th></th>\n",
       "      <th>id</th>\n",
       "      <th>gender</th>\n",
       "      <th>age</th>\n",
       "    </tr>\n",
       "  </thead>\n",
       "  <tbody>\n",
       "    <tr>\n",
       "      <th>0</th>\n",
       "      <td>1</td>\n",
       "      <td>0</td>\n",
       "      <td>10</td>\n",
       "    </tr>\n",
       "    <tr>\n",
       "      <th>1</th>\n",
       "      <td>2</td>\n",
       "      <td>1</td>\n",
       "      <td>20</td>\n",
       "    </tr>\n",
       "    <tr>\n",
       "      <th>2</th>\n",
       "      <td>3</td>\n",
       "      <td>1</td>\n",
       "      <td>30</td>\n",
       "    </tr>\n",
       "    <tr>\n",
       "      <th>3</th>\n",
       "      <td>4</td>\n",
       "      <td>0</td>\n",
       "      <td>40</td>\n",
       "    </tr>\n",
       "  </tbody>\n",
       "</table>\n",
       "</div>"
      ],
      "text/plain": [
       "   id  gender  age\n",
       "0   1       0   10\n",
       "1   2       1   20\n",
       "2   3       1   30\n",
       "3   4       0   40"
      ]
     },
     "execution_count": 59,
     "metadata": {},
     "output_type": "execute_result"
    }
   ],
   "source": [
    "ar = np.zeros((4,3)) # 4행 3열짜리 배열 만들어줌\n",
    "columns = ['id','gender','age'] # 열 정해주고\n",
    "index = [np.arange(4)] # 행 넣어주고 (4행이니까)\n",
    "df = pd.DataFrame(ar,index,columns=columns) # 데이터 프레임에 ar, index, colunms을 넣어줌 -> 데이터프레임 완성\n",
    "\n",
    "# df.id = np.array([1,2,3,4])\n",
    "df.id = np.arange(1,5) # 데이터프레임.id 에 1~4까지 \n",
    "\n",
    "# df.gender = np.array([0,1,0,1])\n",
    "np.random.seed(0) # 변하지 않기 위해 seed\n",
    "\n",
    "df.gender = np.random.randint(2,size=4) # randint 2 -> 0,1 size 4개\n",
    "# df.age = np.array([20,30,40,50])\n",
    "\n",
    "df.age = np.arange(1,5) * 10  # 배열 연산\n",
    "df"
   ]
  },
  {
   "cell_type": "markdown",
   "id": "8d102de6",
   "metadata": {},
   "source": [
    "[과제] 아래 가이드에 따라서 고객 구매데이터를 생성하고 데이터프레임으로 변환하여 출력하세요(관측치 1000개)\n",
    "\n",
    "- id : 1 ~ 1000번 일련번호\n",
    "- gender : 0,1 정수 난수 생성\n",
    "- age : 0 ~ 80사이 정수 난수 생성\n",
    "- region : 1 ~ 10 사이 정수 난수 생성\n",
    "- product_19 : 제품코드 11111 ~ 99999\n",
    "- product_20 : 제품코드 11111 ~ 99999\n",
    "- price_19 : 1000 ~ 50000 사이 실수 난수 생성\n",
    "- price_20 : 1000 ~ 50000 사이 실수 난수 생성\n",
    "- quantity_19 : 1 ~ 100 사이 정수 난수 생성\n",
    "- quantity_20 : 1 ~ 100 사이 정수 난수 생성\n",
    "- time_19 : 01 ~ 24 사이 정수 난수 생성\n",
    "- time_20 : 01 ~ 24 사이 정수 난수 생성\n",
    "- amount_19 : price_19 * quantity_19\n",
    "- amount_20 : price_20 * quantity_20\n",
    "- sales : 19년 대비 20년구매금액이 증가면 1, 감소면 0"
   ]
  }
 ],
 "metadata": {
  "kernelspec": {
   "display_name": "Python 3 (ipykernel)",
   "language": "python",
   "name": "python3"
  },
  "language_info": {
   "codemirror_mode": {
    "name": "ipython",
    "version": 3
   },
   "file_extension": ".py",
   "mimetype": "text/x-python",
   "name": "python",
   "nbconvert_exporter": "python",
   "pygments_lexer": "ipython3",
   "version": "3.8.12"
  }
 },
 "nbformat": 4,
 "nbformat_minor": 5
}
