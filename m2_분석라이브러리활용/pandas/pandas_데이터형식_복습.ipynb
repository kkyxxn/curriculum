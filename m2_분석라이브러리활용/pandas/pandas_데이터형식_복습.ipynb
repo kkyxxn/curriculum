{
 "cells": [
  {
   "cell_type": "markdown",
   "id": "0f21158c",
   "metadata": {},
   "source": [
    "# 판다스\n",
    "- 판다스는 구조화된 데이터 형식을 제공. 시리즈는 1차원 배열, 데이터프레임은 2차원 배열\n",
    "- 라이브러리는 여러 종류의 class와 다양한 내장 함수로 구성. 시리즈와 데이터프레임은 대표적인 클래스 객체임\n",
    "- 시리즈 인덱스는 데이터값과 일대일 대응. 파이썬 딕셔너리와 비슷한 구조 (pandas.Series)딕셔너리\n",
    "- 시리즈는 칼럼이름이 없음, 시리즈가 모여서 데이터프레임의 각 열을 구성\n",
    "- 하나의 시리즈가 데이터프레임이 될 수 있음\n",
    "\n",
    "- Contents\n",
    "    - Series(변환, 인덱스 구조, 원소 선택)\n",
    "    - DataFrame(변환, 인덱스, 삭제, 선택, 추가, 변경, 전치 등)"
   ]
  },
  {
   "cell_type": "code",
   "execution_count": 2,
   "id": "2c9a71e5",
   "metadata": {},
   "outputs": [
    {
     "name": "stdout",
     "output_type": "stream",
     "text": [
      "a    1\n",
      "b    2\n",
      "c    3\n",
      "dtype: int64\n",
      "<class 'pandas.core.series.Series'>\n"
     ]
    }
   ],
   "source": [
    "# 딕셔너리를 시리즈로 변환\n",
    "import pandas as pd\n",
    "\n",
    "dic_data={'a':1, 'b':2 ,'c':3} # key value 형태 -> key가 index  value가 값\n",
    "sr = pd.Series(dic_data)\n",
    "print(sr)\n",
    "print(type(sr))"
   ]
  },
  {
   "cell_type": "code",
   "execution_count": 3,
   "id": "0e7fd5a8",
   "metadata": {},
   "outputs": [
    {
     "name": "stdout",
     "output_type": "stream",
     "text": [
      "a    2019-10-02\n",
      "b          3.14\n",
      "c           ABC\n",
      "d           100\n",
      "e          True\n",
      "dtype: object <class 'pandas.core.series.Series'>\n"
     ]
    }
   ],
   "source": [
    "# 리스트를 시리즈로 변환  -> 문자, 숫자, 불린값 사용가능 하지만 key가 없어서 리스트는 값만 잇기에 인덱스를 꼭 넣어줘야함\n",
    "list_data=['2019-10-02',3.14,'ABC',100,True]\n",
    "sr=pd.Series(list_data, index=['a','b','c','d','e'])\n",
    "print(sr,type(sr))"
   ]
  },
  {
   "cell_type": "code",
   "execution_count": 4,
   "id": "d09b6fe0",
   "metadata": {},
   "outputs": [
    {
     "name": "stdout",
     "output_type": "stream",
     "text": [
      "Index(['a', 'b', 'c', 'd', 'e'], dtype='object') \n",
      "\n",
      "['2019-10-02' 3.14 'ABC' 100 True]\n"
     ]
    }
   ],
   "source": [
    "idx=sr.index\n",
    "print(idx,'\\n') # index가 a b c\n",
    "val=sr.values\n",
    "print(val) # value가 1 2 3"
   ]
  },
  {
   "cell_type": "code",
   "execution_count": 5,
   "id": "0cb0bbe9",
   "metadata": {},
   "outputs": [
    {
     "name": "stdout",
     "output_type": "stream",
     "text": [
      "이름              영인\n",
      "생년월일    2015-05-01\n",
      "성별               여\n",
      "학생여부          True\n",
      "dtype: object <class 'pandas.core.series.Series'> \n",
      "\n",
      "Index(['이름', '생년월일', '성별', '학생여부'], dtype='object') \n",
      "\n",
      "['영인' '2015-05-01' '여' True]\n"
     ]
    }
   ],
   "source": [
    "# 튜플을 시리즈로 변환 ->  리스트와 마찬가지로 index가 있어야함\n",
    "tup_data=('영인','2015-05-01','여', True)\n",
    "sr=pd.Series(tup_data, index=['이름','생년월일','성별','학생여부'])\n",
    "print(sr,type(sr),'\\n')\n",
    "\n",
    "idxx=sr.index\n",
    "print(idxx,'\\n')\n",
    "vall=sr.values\n",
    "print(vall)"
   ]
  },
  {
   "cell_type": "code",
   "execution_count": 40,
   "id": "d3d4baf4",
   "metadata": {},
   "outputs": [
    {
     "name": "stdout",
     "output_type": "stream",
     "text": [
      "영인\n",
      "영인 \n",
      "\n",
      "생년월일    2015-05-01\n",
      "학생여부          True\n",
      "dtype: object\n"
     ]
    }
   ],
   "source": [
    "print(sr[0]) # index 0번째의 value 추출\n",
    "print(sr['이름'],'\\n')\n",
    "print(sr[[1,3]] )# 1index의 value 와 3index의 value 추출"
   ]
  },
  {
   "cell_type": "code",
   "execution_count": 7,
   "id": "34f099e1",
   "metadata": {},
   "outputs": [
    {
     "name": "stdout",
     "output_type": "stream",
     "text": [
      "[11 12 13 14 15] <class 'numpy.ndarray'> \n",
      "\n",
      "ED1    11\n",
      "ED2    12\n",
      "ED3    13\n",
      "ED4    14\n",
      "ED5    15\n",
      "dtype: int32 <class 'pandas.core.series.Series'>\n"
     ]
    }
   ],
   "source": [
    "# 배열을 시리즈로 변환 -> index가 있어야함\n",
    "\n",
    "import numpy as np\n",
    "\n",
    "s1=np.arange(start=11, stop=16) # 11부터 15까지\n",
    "s2=pd.Series(s1, index=['ED1','ED2','ED3','ED4','ED5']) # s1을 인덱스 부여\n",
    "\n",
    "print(s1,type(s1),'\\n') #배열\n",
    "print(s2, type(s2)) # 시리즈로 출력"
   ]
  },
  {
   "cell_type": "code",
   "execution_count": 8,
   "id": "153392f4",
   "metadata": {},
   "outputs": [
    {
     "name": "stdout",
     "output_type": "stream",
     "text": [
      "ED2    12\n",
      "ED3    13\n",
      "dtype: int32 \n",
      "\n",
      "ED3    13\n",
      "ED5    15\n",
      "dtype: int32\n"
     ]
    }
   ],
   "source": [
    "print(s2[1:3],'\\n') # index 1 부터 2까지\n",
    "print(s2[[2,4]]) # index 2 랑 4"
   ]
  },
  {
   "cell_type": "code",
   "execution_count": 44,
   "id": "a998fc40",
   "metadata": {},
   "outputs": [
    {
     "name": "stdout",
     "output_type": "stream",
     "text": [
      "<class 'pandas.core.series.Series'>\n",
      "[11 12 13 14 15] <class 'numpy.ndarray'>\n"
     ]
    }
   ],
   "source": [
    "# 시리즈 -> 배열\n",
    "\n",
    "print(type(s2))\n",
    "ar=np.array(s2) # 시리즈를 배열로 변환\n",
    "print(ar, type(ar))"
   ]
  },
  {
   "cell_type": "code",
   "execution_count": 49,
   "id": "22e7e3a4",
   "metadata": {},
   "outputs": [
    {
     "name": "stdout",
     "output_type": "stream",
     "text": [
      "1번    2\n",
      "2번    3\n",
      "3번    4\n",
      "4번    5\n",
      "dtype: int64 \n",
      " \n",
      " 1번     True\n",
      "2번    False\n",
      "3번     True\n",
      "4번     True\n",
      "dtype: bool\n",
      "\n",
      " 김첨지    설렁탕\n",
      "점순이     감자\n",
      "나      아달린\n",
      "dtype: object \n",
      "\n",
      "1번    살바도르\n",
      "2번     빈센트\n",
      "3번     파블로\n",
      "4번    램브란트\n",
      "dtype: object\n"
     ]
    }
   ],
   "source": [
    "# 4가지 자료형 데이터를 생성하고 각각 Series로 변환하여 출력\n",
    "# 딕셔너리를 제외하고 index 필요로함 -> 튜플, 리스트, 배열\n",
    "\n",
    "lidata = [2,3,4,5] # 리스트\n",
    "tudata = (True,False,True,True) # 튜플\n",
    "dicdata = {'김첨지':'설렁탕','점순이':'감자','나':'아달린'} # 딕셔너리\n",
    "arrdata = np.array(['살바도르','빈센트','파블로','램브란트']) # 배열\n",
    "index = ['1번','2번','3번','4번'] # 인덱스 why? -> 딕셔너리 빼고 다 필요하기에\n",
    "\n",
    "li=pd.Series(lidata, index)\n",
    "tu=pd.Series(tudata, index)\n",
    "dic=pd.Series(dicdata) # 딕셔너리는 index가 없어도됨\n",
    "arr=pd.Series(arrdata, index)\n",
    "\n",
    "print(li,'\\n','\\n',tu)\n",
    "print('\\n', dic,'\\n')\n",
    "print(arr)"
   ]
  },
  {
   "cell_type": "code",
   "execution_count": 9,
   "id": "895b4aa4",
   "metadata": {},
   "outputs": [
    {
     "data": {
      "text/plain": [
       "state\n",
       "Califonia    1000\n",
       "Ohio         2000\n",
       "Oregon       3000\n",
       "Texas        4000\n",
       "Name: population, dtype: int32"
      ]
     },
     "execution_count": 9,
     "metadata": {},
     "output_type": "execute_result"
    }
   ],
   "source": [
    "data= np.arange(1000,5000,1000)\n",
    "obj=pd.Series(data)\n",
    "state=['Califonia','Ohio','Oregon','Texas']\n",
    "obj.name= 'population'\n",
    "obj.index=state\n",
    "obj.index.name='state'\n",
    "obj"
   ]
  },
  {
   "cell_type": "code",
   "execution_count": 10,
   "id": "6c296d7c",
   "metadata": {},
   "outputs": [
    {
     "data": {
      "text/plain": [
       "state\n",
       "Califonia       NaN\n",
       "Ohio         2000.0\n",
       "Oregon       3000.0\n",
       "Texas        4000.0\n",
       "Name: population, dtype: float64"
      ]
     },
     "execution_count": 10,
     "metadata": {},
     "output_type": "execute_result"
    }
   ],
   "source": [
    "obj.Califonia=np.nan # 인덱싱\n",
    "obj"
   ]
  },
  {
   "cell_type": "code",
   "execution_count": 11,
   "id": "90c8330c",
   "metadata": {},
   "outputs": [],
   "source": [
    "obj['Newyork']=3000 # 값 추가"
   ]
  },
  {
   "cell_type": "code",
   "execution_count": 13,
   "id": "23edb293",
   "metadata": {},
   "outputs": [
    {
     "data": {
      "text/plain": [
       "state\n",
       "Califonia       NaN\n",
       "Ohio         2000.0\n",
       "Oregon       3000.0\n",
       "Texas        4000.0\n",
       "Newyork      3000.0\n",
       "Name: population, dtype: float64"
      ]
     },
     "execution_count": 13,
     "metadata": {},
     "output_type": "execute_result"
    }
   ],
   "source": [
    "obj"
   ]
  },
  {
   "cell_type": "code",
   "execution_count": 14,
   "id": "36f7343b",
   "metadata": {},
   "outputs": [
    {
     "data": {
      "text/plain": [
       "state\n",
       "Califonia     True\n",
       "Ohio         False\n",
       "Oregon       False\n",
       "Texas        False\n",
       "Newyork      False\n",
       "Name: population, dtype: bool"
      ]
     },
     "execution_count": 14,
     "metadata": {},
     "output_type": "execute_result"
    }
   ],
   "source": [
    "obj.isnull() # 널값 확인"
   ]
  },
  {
   "cell_type": "markdown",
   "id": "7381b843",
   "metadata": {},
   "source": [
    "# 데이터프레임\n",
    "- 데이터프레임은 2차원 배열. R의 데이터프레임에서 유래\n",
    "- 데이터프레임의 열은 각각 시리즈 개체\n",
    "- 시리즈를 열벡터하고 하면 데이터프레임은 여러개의 열벡터들이 같은 행 인덱스를 기준으로 줄지어 결합된 2차원 벡터 또는 행렬\n",
    "- 선형대수학에서 열 벡터(mx1행렬)는 m원소들의 단일 열 행렬\n",
    "- 행 벡터(1xm행렬)은 m원소들의 단일 행 행렬\n",
    "- 리스트, 딕셔너리,배열 등 다양한 데이터로부터 생성\n",
    "- 반대로 리스트, 딕셔너리, 배열 등으로 변환될 수 있음"
   ]
  },
  {
   "cell_type": "code",
   "execution_count": 16,
   "id": "319a6734",
   "metadata": {},
   "outputs": [
    {
     "name": "stdout",
     "output_type": "stream",
     "text": [
      "[[106 105 116]\n",
      " [101 117 114]\n",
      " [100 104 107]] <class 'numpy.ndarray'> \n",
      "\n",
      "     0    1    2\n",
      "0  106  105  116\n",
      "1  101  117  114\n",
      "2  100  104  107 <class 'pandas.core.frame.DataFrame'>\n"
     ]
    }
   ],
   "source": [
    "# 배열 -> 데이터프레임\n",
    "import numpy as np\n",
    "ar=np.random.randint(100,120, size=(3,3)) #100~119 3*3 행렬 생성\n",
    "print(ar,type(ar),'\\n') # 2차원 배열 , type 출력\n",
    "\n",
    "df=pd.DataFrame(ar, index=['d1','d2','d3'], # 배열 ar에 인덱스 주고 컬럼주고 -> 만약 인덱스 안주면 자동 할당 0 1 2 ..\n",
    "                columns=['pd','sales','int']) # columns도 설정안하면 자동 할당 0 1 2 ..\n",
    "print(df,type(df))"
   ]
  },
  {
   "cell_type": "markdown",
   "id": "8de30740",
   "metadata": {},
   "source": [
    "##### pandas indexing\n",
    "- iloc : integer location의 약어, 데이터프레임의 행이나 칼럼의 순서를 나타내는 정수로 특정 값을 추출해오는 방법\n",
    "- loc : 인덱스명, 칼럼명을 직접 적거나 특정 조건식을 써줌으로써 사람이 읽기 좋은 방법으로 데이터에 접근하는 방법"
   ]
  },
  {
   "cell_type": "code",
   "execution_count": 4,
   "id": "c819ff70",
   "metadata": {},
   "outputs": [
    {
     "name": "stdout",
     "output_type": "stream",
     "text": [
      "     pd  sales  int\n",
      "d1  112    107  116\n",
      "d2  112    115  102\n",
      "d3  105    105  103 \n",
      "\n",
      "pd       112\n",
      "sales    115\n",
      "int      102\n",
      "Name: d2, dtype: int32 \n",
      "\n",
      "pd       112\n",
      "sales    115\n",
      "int      102\n",
      "Name: d2, dtype: int32\n"
     ]
    }
   ],
   "source": [
    "# 행 선택\n",
    "print(df,'\\n')\n",
    "print(df.iloc[1],'\\n') # index 첫번째 행 선택 #정수로 선택\n",
    "print(df.loc['d2'])  # 인덱스명, 칼럼명을 직접 적거나 조건식 써줌"
   ]
  },
  {
   "cell_type": "code",
   "execution_count": 5,
   "id": "b51179c0",
   "metadata": {},
   "outputs": [
    {
     "name": "stdout",
     "output_type": "stream",
     "text": [
      "115 \n",
      "\n",
      "115\n"
     ]
    }
   ],
   "source": [
    "# 특정 행, 열 선택\n",
    "print(df.iloc[1,1],'\\n')\n",
    "print(df.loc['d2','sales']) # 인덱스명, 칼럼명으로 직접 적거나 조건식 씀"
   ]
  },
  {
   "cell_type": "code",
   "execution_count": 6,
   "id": "99150117",
   "metadata": {},
   "outputs": [
    {
     "data": {
      "text/html": [
       "<div>\n",
       "<style scoped>\n",
       "    .dataframe tbody tr th:only-of-type {\n",
       "        vertical-align: middle;\n",
       "    }\n",
       "\n",
       "    .dataframe tbody tr th {\n",
       "        vertical-align: top;\n",
       "    }\n",
       "\n",
       "    .dataframe thead th {\n",
       "        text-align: right;\n",
       "    }\n",
       "</style>\n",
       "<table border=\"1\" class=\"dataframe\">\n",
       "  <thead>\n",
       "    <tr style=\"text-align: right;\">\n",
       "      <th></th>\n",
       "      <th>pd</th>\n",
       "      <th>sales</th>\n",
       "      <th>int</th>\n",
       "    </tr>\n",
       "  </thead>\n",
       "  <tbody>\n",
       "    <tr>\n",
       "      <th>d1</th>\n",
       "      <td>112</td>\n",
       "      <td>107</td>\n",
       "      <td>116</td>\n",
       "    </tr>\n",
       "    <tr>\n",
       "      <th>d2</th>\n",
       "      <td>112</td>\n",
       "      <td>115</td>\n",
       "      <td>102</td>\n",
       "    </tr>\n",
       "    <tr>\n",
       "      <th>d3</th>\n",
       "      <td>105</td>\n",
       "      <td>105</td>\n",
       "      <td>103</td>\n",
       "    </tr>\n",
       "    <tr>\n",
       "      <th>d5</th>\n",
       "      <td>0</td>\n",
       "      <td>0</td>\n",
       "      <td>0</td>\n",
       "    </tr>\n",
       "  </tbody>\n",
       "</table>\n",
       "</div>"
      ],
      "text/plain": [
       "     pd  sales  int\n",
       "d1  112    107  116\n",
       "d2  112    115  102\n",
       "d3  105    105  103\n",
       "d5    0      0    0"
      ]
     },
     "execution_count": 6,
     "metadata": {},
     "output_type": "execute_result"
    }
   ],
   "source": [
    "# 행, 열 추가\n",
    "df1=df.copy() # 복사\n",
    "df1.loc['d5']=0  # d5 행 모두 0으로\n",
    "df1"
   ]
  },
  {
   "cell_type": "code",
   "execution_count": 7,
   "id": "cac1a697",
   "metadata": {},
   "outputs": [
    {
     "data": {
      "text/html": [
       "<div>\n",
       "<style scoped>\n",
       "    .dataframe tbody tr th:only-of-type {\n",
       "        vertical-align: middle;\n",
       "    }\n",
       "\n",
       "    .dataframe tbody tr th {\n",
       "        vertical-align: top;\n",
       "    }\n",
       "\n",
       "    .dataframe thead th {\n",
       "        text-align: right;\n",
       "    }\n",
       "</style>\n",
       "<table border=\"1\" class=\"dataframe\">\n",
       "  <thead>\n",
       "    <tr style=\"text-align: right;\">\n",
       "      <th></th>\n",
       "      <th>pd</th>\n",
       "      <th>sales</th>\n",
       "      <th>int</th>\n",
       "      <th>pf</th>\n",
       "    </tr>\n",
       "  </thead>\n",
       "  <tbody>\n",
       "    <tr>\n",
       "      <th>d1</th>\n",
       "      <td>112</td>\n",
       "      <td>107</td>\n",
       "      <td>116</td>\n",
       "      <td>100</td>\n",
       "    </tr>\n",
       "    <tr>\n",
       "      <th>d2</th>\n",
       "      <td>112</td>\n",
       "      <td>115</td>\n",
       "      <td>102</td>\n",
       "      <td>100</td>\n",
       "    </tr>\n",
       "    <tr>\n",
       "      <th>d3</th>\n",
       "      <td>105</td>\n",
       "      <td>105</td>\n",
       "      <td>103</td>\n",
       "      <td>100</td>\n",
       "    </tr>\n",
       "    <tr>\n",
       "      <th>d5</th>\n",
       "      <td>0</td>\n",
       "      <td>0</td>\n",
       "      <td>0</td>\n",
       "      <td>0</td>\n",
       "    </tr>\n",
       "  </tbody>\n",
       "</table>\n",
       "</div>"
      ],
      "text/plain": [
       "     pd  sales  int   pf\n",
       "d1  112    107  116  100\n",
       "d2  112    115  102  100\n",
       "d3  105    105  103  100\n",
       "d5    0      0    0    0"
      ]
     },
     "execution_count": 7,
     "metadata": {},
     "output_type": "execute_result"
    }
   ],
   "source": [
    "# 새로운 열을 생성시 유의\n",
    "import pandas as pd\n",
    "df1['pf']=[100,100,100,0]\n",
    "df1"
   ]
  },
  {
   "cell_type": "code",
   "execution_count": 30,
   "id": "cddff6fe",
   "metadata": {},
   "outputs": [
    {
     "name": "stdout",
     "output_type": "stream",
     "text": [
      "<class 'pandas.core.series.Series'>\n"
     ]
    },
    {
     "data": {
      "text/plain": [
       "d1    100\n",
       "d2    100\n",
       "d3    100\n",
       "d5      0\n",
       "Name: pf, dtype: int64"
      ]
     },
     "execution_count": 30,
     "metadata": {},
     "output_type": "execute_result"
    }
   ],
   "source": [
    "print(type(df1.pf))\n",
    "df1.pf"
   ]
  },
  {
   "cell_type": "code",
   "execution_count": 31,
   "id": "3be87817",
   "metadata": {},
   "outputs": [
    {
     "data": {
      "text/html": [
       "<div>\n",
       "<style scoped>\n",
       "    .dataframe tbody tr th:only-of-type {\n",
       "        vertical-align: middle;\n",
       "    }\n",
       "\n",
       "    .dataframe tbody tr th {\n",
       "        vertical-align: top;\n",
       "    }\n",
       "\n",
       "    .dataframe thead th {\n",
       "        text-align: right;\n",
       "    }\n",
       "</style>\n",
       "<table border=\"1\" class=\"dataframe\">\n",
       "  <thead>\n",
       "    <tr style=\"text-align: right;\">\n",
       "      <th></th>\n",
       "      <th>pd</th>\n",
       "      <th>sales</th>\n",
       "      <th>int</th>\n",
       "      <th>pf</th>\n",
       "    </tr>\n",
       "  </thead>\n",
       "  <tbody>\n",
       "    <tr>\n",
       "      <th>d1</th>\n",
       "      <td>109</td>\n",
       "      <td>110.0</td>\n",
       "      <td>100</td>\n",
       "      <td>100</td>\n",
       "    </tr>\n",
       "    <tr>\n",
       "      <th>d2</th>\n",
       "      <td>116</td>\n",
       "      <td>NaN</td>\n",
       "      <td>106</td>\n",
       "      <td>100</td>\n",
       "    </tr>\n",
       "    <tr>\n",
       "      <th>d3</th>\n",
       "      <td>114</td>\n",
       "      <td>100.0</td>\n",
       "      <td>106</td>\n",
       "      <td>100</td>\n",
       "    </tr>\n",
       "    <tr>\n",
       "      <th>d5</th>\n",
       "      <td>0</td>\n",
       "      <td>0.0</td>\n",
       "      <td>0</td>\n",
       "      <td>0</td>\n",
       "    </tr>\n",
       "  </tbody>\n",
       "</table>\n",
       "</div>"
      ],
      "text/plain": [
       "     pd  sales  int   pf\n",
       "d1  109  110.0  100  100\n",
       "d2  116    NaN  106  100\n",
       "d3  114  100.0  106  100\n",
       "d5    0    0.0    0    0"
      ]
     },
     "execution_count": 31,
     "metadata": {},
     "output_type": "execute_result"
    }
   ],
   "source": [
    "#원소 값 변경\n",
    "df1.iloc[1,1]=np.nan\n",
    "df1"
   ]
  },
  {
   "cell_type": "code",
   "execution_count": 39,
   "id": "6a4cb27e",
   "metadata": {},
   "outputs": [
    {
     "data": {
      "text/html": [
       "<div>\n",
       "<style scoped>\n",
       "    .dataframe tbody tr th:only-of-type {\n",
       "        vertical-align: middle;\n",
       "    }\n",
       "\n",
       "    .dataframe tbody tr th {\n",
       "        vertical-align: top;\n",
       "    }\n",
       "\n",
       "    .dataframe thead th {\n",
       "        text-align: right;\n",
       "    }\n",
       "</style>\n",
       "<table border=\"1\" class=\"dataframe\">\n",
       "  <thead>\n",
       "    <tr style=\"text-align: right;\">\n",
       "      <th></th>\n",
       "      <th>col1</th>\n",
       "      <th>col2</th>\n",
       "      <th>col3</th>\n",
       "    </tr>\n",
       "  </thead>\n",
       "  <tbody>\n",
       "    <tr>\n",
       "      <th>0</th>\n",
       "      <td>1</td>\n",
       "      <td>2</td>\n",
       "      <td>A</td>\n",
       "    </tr>\n",
       "    <tr>\n",
       "      <th>1</th>\n",
       "      <td>2</td>\n",
       "      <td>4</td>\n",
       "      <td>B</td>\n",
       "    </tr>\n",
       "    <tr>\n",
       "      <th>2</th>\n",
       "      <td>3</td>\n",
       "      <td>6</td>\n",
       "      <td>C</td>\n",
       "    </tr>\n",
       "    <tr>\n",
       "      <th>3</th>\n",
       "      <td>4</td>\n",
       "      <td>8</td>\n",
       "      <td>D</td>\n",
       "    </tr>\n",
       "    <tr>\n",
       "      <th>4</th>\n",
       "      <td>5</td>\n",
       "      <td>10</td>\n",
       "      <td>E</td>\n",
       "    </tr>\n",
       "  </tbody>\n",
       "</table>\n",
       "</div>"
      ],
      "text/plain": [
       "   col1  col2 col3\n",
       "0     1     2    A\n",
       "1     2     4    B\n",
       "2     3     6    C\n",
       "3     4     8    D\n",
       "4     5    10    E"
      ]
     },
     "execution_count": 39,
     "metadata": {},
     "output_type": "execute_result"
    }
   ],
   "source": [
    "# 사전-> 데이터프레임으로 : key값이 컬럼명이 됨(칼럼명 안줘도됨)\n",
    "sp1=np.arange(1,6)\n",
    "df=pd.DataFrame({\n",
    "    'col1':sp1, # col1 에는 sp1 배열값 1~5까지 넣기\n",
    "    'col2':sp1 * 2, # c0l2에는 배열값 *2\n",
    "    'col3':['A','B','C','D','E'] # col3에는 직접 값 추가\n",
    "})\n",
    "\n",
    "df"
   ]
  },
  {
   "cell_type": "code",
   "execution_count": 44,
   "id": "cab9d6fc",
   "metadata": {},
   "outputs": [
    {
     "name": "stdout",
     "output_type": "stream",
     "text": [
      "   A  B  C  D\n",
      "1  1  2  3  4\n",
      "2  1  2  3  4\n",
      "3  1  2  3  4\n",
      "4  1  2  3  4\n"
     ]
    }
   ],
   "source": [
    "# 딕셔너리에서 값이 스칼라이면 인덱스 필요\n",
    "\n",
    "dic={'A':1,'B':2,'C':3,'D':4}\n",
    "# dic={'A':[1],'B':[2],'C':[3],'D':[4]}\n",
    "\n",
    "columns=['a','b','c','d','e']\n",
    "index=[1,2,3,4]\n",
    "\n",
    "df_dic=pd.DataFrame(dic,index)\n",
    "# df_dic=pd.DataFrame(dic)\n",
    "\n",
    "print(df_dic)"
   ]
  },
  {
   "cell_type": "code",
   "execution_count": 50,
   "id": "95818651",
   "metadata": {},
   "outputs": [
    {
     "data": {
      "text/html": [
       "<div>\n",
       "<style scoped>\n",
       "    .dataframe tbody tr th:only-of-type {\n",
       "        vertical-align: middle;\n",
       "    }\n",
       "\n",
       "    .dataframe tbody tr th {\n",
       "        vertical-align: top;\n",
       "    }\n",
       "\n",
       "    .dataframe thead th {\n",
       "        text-align: right;\n",
       "    }\n",
       "</style>\n",
       "<table border=\"1\" class=\"dataframe\">\n",
       "  <thead>\n",
       "    <tr style=\"text-align: right;\">\n",
       "      <th></th>\n",
       "      <th>c1</th>\n",
       "      <th>c2</th>\n",
       "      <th>c3</th>\n",
       "      <th>c4</th>\n",
       "      <th>c5</th>\n",
       "    </tr>\n",
       "  </thead>\n",
       "  <tbody>\n",
       "    <tr>\n",
       "      <th>1</th>\n",
       "      <td>2</td>\n",
       "      <td>4</td>\n",
       "      <td>1</td>\n",
       "      <td>3</td>\n",
       "      <td>2</td>\n",
       "    </tr>\n",
       "    <tr>\n",
       "      <th>2</th>\n",
       "      <td>4</td>\n",
       "      <td>2</td>\n",
       "      <td>3</td>\n",
       "      <td>1</td>\n",
       "      <td>2</td>\n",
       "    </tr>\n",
       "    <tr>\n",
       "      <th>3</th>\n",
       "      <td>3</td>\n",
       "      <td>2</td>\n",
       "      <td>4</td>\n",
       "      <td>3</td>\n",
       "      <td>2</td>\n",
       "    </tr>\n",
       "    <tr>\n",
       "      <th>4</th>\n",
       "      <td>2</td>\n",
       "      <td>2</td>\n",
       "      <td>2</td>\n",
       "      <td>4</td>\n",
       "      <td>2</td>\n",
       "    </tr>\n",
       "    <tr>\n",
       "      <th>5</th>\n",
       "      <td>1</td>\n",
       "      <td>1</td>\n",
       "      <td>2</td>\n",
       "      <td>3</td>\n",
       "      <td>3</td>\n",
       "    </tr>\n",
       "    <tr>\n",
       "      <th>6</th>\n",
       "      <td>2</td>\n",
       "      <td>1</td>\n",
       "      <td>2</td>\n",
       "      <td>1</td>\n",
       "      <td>3</td>\n",
       "    </tr>\n",
       "    <tr>\n",
       "      <th>7</th>\n",
       "      <td>1</td>\n",
       "      <td>4</td>\n",
       "      <td>1</td>\n",
       "      <td>4</td>\n",
       "      <td>2</td>\n",
       "    </tr>\n",
       "    <tr>\n",
       "      <th>8</th>\n",
       "      <td>1</td>\n",
       "      <td>3</td>\n",
       "      <td>1</td>\n",
       "      <td>2</td>\n",
       "      <td>4</td>\n",
       "    </tr>\n",
       "    <tr>\n",
       "      <th>9</th>\n",
       "      <td>1</td>\n",
       "      <td>2</td>\n",
       "      <td>4</td>\n",
       "      <td>1</td>\n",
       "      <td>4</td>\n",
       "    </tr>\n",
       "    <tr>\n",
       "      <th>10</th>\n",
       "      <td>2</td>\n",
       "      <td>3</td>\n",
       "      <td>4</td>\n",
       "      <td>1</td>\n",
       "      <td>3</td>\n",
       "    </tr>\n",
       "  </tbody>\n",
       "</table>\n",
       "</div>"
      ],
      "text/plain": [
       "    c1  c2  c3  c4  c5\n",
       "1    2   4   1   3   2\n",
       "2    4   2   3   1   2\n",
       "3    3   2   4   3   2\n",
       "4    2   2   2   4   2\n",
       "5    1   1   2   3   3\n",
       "6    2   1   2   1   3\n",
       "7    1   4   1   4   2\n",
       "8    1   3   1   2   4\n",
       "9    1   2   4   1   4\n",
       "10   2   3   4   1   3"
      ]
     },
     "execution_count": 50,
     "metadata": {},
     "output_type": "execute_result"
    }
   ],
   "source": [
    "# 리스트 -> 데이터프레임(칼럼명 별도로 설정)\n",
    "\n",
    "a=np.random.randint(1,5, size=(10,5)) #배열생성\n",
    "#print(type(a))  type프린트 해보면 ndarray ->배열\n",
    "\n",
    "list1=a.tolist() # 배열형태를 리스트로 convert\n",
    "list1\n",
    "\n",
    "index =np.arange(1,11) # 리스트를 다시 데이터프레임으로\n",
    "df=pd.DataFrame(list1, index, columns =['c1','c2','c3','c4','c5'])\n",
    "df   "
   ]
  },
  {
   "cell_type": "code",
   "execution_count": 56,
   "id": "3468e6b1",
   "metadata": {},
   "outputs": [
    {
     "name": "stdout",
     "output_type": "stream",
     "text": [
      "[[2 4 1 3 2]\n",
      " [4 2 3 1 2]\n",
      " [3 2 4 3 2]\n",
      " [2 2 2 4 2]\n",
      " [1 1 2 3 3]\n",
      " [2 1 2 1 3]\n",
      " [1 4 1 4 2]\n",
      " [1 3 1 2 4]\n",
      " [1 2 4 1 4]\n",
      " [2 3 4 1 3]] <class 'numpy.ndarray'> \n",
      "\n",
      "[[2, 4, 1, 3, 2], [4, 2, 3, 1, 2], [3, 2, 4, 3, 2], [2, 2, 2, 4, 2], [1, 1, 2, 3, 3], [2, 1, 2, 1, 3], [1, 4, 1, 4, 2], [1, 3, 1, 2, 4], [1, 2, 4, 1, 4], [2, 3, 4, 1, 3]] <class 'list'> \n",
      "\n",
      "{'c1': [2, 4, 3, 2, 1, 2, 1, 1, 1, 2], 'c2': [4, 2, 2, 2, 1, 1, 4, 3, 2, 3], 'c3': [1, 3, 4, 2, 2, 2, 1, 1, 4, 4], 'c4': [3, 1, 3, 4, 3, 1, 4, 2, 1, 1], 'c5': [2, 2, 2, 2, 3, 3, 2, 4, 4, 3]} <class 'dict'>\n"
     ]
    }
   ],
   "source": [
    "# 데이터프레임 -> 배열, 리스트, 딕셔너리\n",
    "\n",
    "ar =df.values  # 데이터프레임.values -> 배열로 전환\n",
    "print(ar, type(ar),'\\n')\n",
    "\n",
    "li=df.values.tolist() # 리스트로 convert df.values.tolist()\n",
    "print(li,type(li),'\\n') # 직접 바꾸진 않고 배열로 바꾼다음 리스트로 바꿈\n",
    "\n",
    "dict=df.to_dict('list') # 딕셔너리 -> 딕셔너리의 key,value 중 key가 list이므로\n",
    "print(dict,type(dict))"
   ]
  },
  {
   "cell_type": "code",
   "execution_count": 90,
   "id": "adf49166",
   "metadata": {},
   "outputs": [
    {
     "name": "stdout",
     "output_type": "stream",
     "text": [
      "   col1  col2  col3\n",
      "0     1     1   NaN\n",
      "1     2     2   NaN\n",
      "2     3     3   NaN\n",
      "3     4     4   NaN <class 'pandas.core.frame.DataFrame'> \n",
      "\n",
      "[[ 1.  1. nan]\n",
      " [ 2.  2. nan]\n",
      " [ 3.  3. nan]\n",
      " [ 4.  4. nan]] <class 'numpy.ndarray'> \n",
      "\n",
      "[[1.0, 1.0, nan], [2.0, 2.0, nan], [3.0, 3.0, nan], [4.0, 4.0, nan]] <class 'list'> \n",
      "\n",
      "{'col1': [1, 2, 3, 4], 'col2': [1, 2, 3, 4], 'col3': [nan, nan, nan, nan]} <class 'dict'> \n",
      "\n"
     ]
    }
   ],
   "source": [
    "# 배열, 리스트, 딕셔너리로 데이터프레임을 생성한 후 다시 배열, 리스트, 딕셔너리로 변환하여 출력 \n",
    "# index는 따로 설정안해주면 0부터 시작\n",
    "\n",
    "ar=np.arange(1,5) # value 값을 1~5까지 무작위로 뿌려보림\n",
    "ar2=ar*2 # 배열 a1에 2 곱하기\n",
    "\n",
    "li=ar.tolist() # 배열 리스트로 변환\n",
    "df=pd.DataFrame({\n",
    "    'col1': ar,\n",
    "    'col2': li,\n",
    "    'col3':np.nan\n",
    "})\n",
    "\n",
    "print(df,type(df),'\\n') # 데이터프레임\n",
    "print(df.values, type(df.values),'\\n') # df.values는  배열임\n",
    "print(df.values.tolist(),type(df.values.tolist()),'\\n')# df.values.tolist 하면 리스트로 됨\n",
    "print(df.to_dict('list'),type(df.to_dict('list')), '\\n') # df.to_dict 하면 리스트로\n"
   ]
  },
  {
   "cell_type": "code",
   "execution_count": 79,
   "id": "3058fad5",
   "metadata": {},
   "outputs": [
    {
     "name": "stdout",
     "output_type": "stream",
     "text": [
      "      차림표\n",
      "메뉴1    냉면\n",
      "메뉴2   칼국수\n",
      "메뉴3  잔치국수\n",
      "메뉴4   수제비\n",
      "메뉴5    우동 \n",
      "\n",
      "[['냉면'], ['칼국수'], ['잔치국수'], ['수제비'], ['우동']] <class 'list'> \n",
      "\n",
      "      커피    쿠키   케이크\n",
      "가격  4000  3000  6500 \n",
      "\n",
      "{'커피': [4000], '쿠키': [3000], '케이크': [6500]} <class 'dict'> \n",
      "\n",
      "    달리기  줄다리기  무궁화\n",
      "1반    1     3    2\n",
      "2반    4     6    9\n",
      "3반    8     2    1 \n",
      "\n",
      "[[1 3 2]\n",
      " [4 6 9]\n",
      " [8 2 1]]\n"
     ]
    }
   ],
   "source": [
    "# 리스트\n",
    "li =['냉면','칼국수','잔치국수','수제비','우동']\n",
    "df1 = pd.DataFrame(li,index=['메뉴1','메뉴2','메뉴3','메뉴4','메뉴5'], columns=['차림표'])\n",
    "print(df1,'\\n')\n",
    "\n",
    "# 데이터프레임을 리스트로 convert\n",
    "print(df1.values.tolist(), type(df1.values.tolist()),'\\n')\n",
    "\n",
    "# 딕셔너리\n",
    "df2= pd.DataFrame({\n",
    "    '커피':4000,\n",
    "    '쿠키':3000,\n",
    "    '케이크':6500\n",
    "}, index=['가격'])\n",
    "\n",
    "print(df2,'\\n')\n",
    "print(df2.to_dict('list'), type(df2.to_dict('list')), '\\n')\n",
    "\n",
    "# 배열 \n",
    "df3=pd.DataFrame(np.random.randint(1,10,size=(3,3)),index=['1반','2반','3반'],\n",
    "                 columns=['달리기','줄다리기','무궁화'])\n",
    "print(df3,'\\n')\n",
    "print(df3.values)"
   ]
  },
  {
   "cell_type": "code",
   "execution_count": 17,
   "id": "460eec78",
   "metadata": {},
   "outputs": [
    {
     "name": "stdout",
     "output_type": "stream",
     "text": [
      "      차림표\n",
      "메뉴1    냉면\n",
      "메뉴2   칼국수\n",
      "메뉴3  잔치국수\n",
      "메뉴4   수제비\n",
      "메뉴5    우동\n"
     ]
    },
    {
     "data": {
      "text/html": [
       "<div>\n",
       "<style scoped>\n",
       "    .dataframe tbody tr th:only-of-type {\n",
       "        vertical-align: middle;\n",
       "    }\n",
       "\n",
       "    .dataframe tbody tr th {\n",
       "        vertical-align: top;\n",
       "    }\n",
       "\n",
       "    .dataframe thead th {\n",
       "        text-align: right;\n",
       "    }\n",
       "</style>\n",
       "<table border=\"1\" class=\"dataframe\">\n",
       "  <thead>\n",
       "    <tr style=\"text-align: right;\">\n",
       "      <th></th>\n",
       "      <th>Unnamed: 0</th>\n",
       "      <th>차림표</th>\n",
       "    </tr>\n",
       "  </thead>\n",
       "  <tbody>\n",
       "    <tr>\n",
       "      <th>0</th>\n",
       "      <td>메뉴1</td>\n",
       "      <td>냉면</td>\n",
       "    </tr>\n",
       "    <tr>\n",
       "      <th>1</th>\n",
       "      <td>메뉴2</td>\n",
       "      <td>칼국수</td>\n",
       "    </tr>\n",
       "    <tr>\n",
       "      <th>2</th>\n",
       "      <td>메뉴3</td>\n",
       "      <td>잔치국수</td>\n",
       "    </tr>\n",
       "    <tr>\n",
       "      <th>3</th>\n",
       "      <td>메뉴4</td>\n",
       "      <td>수제비</td>\n",
       "    </tr>\n",
       "    <tr>\n",
       "      <th>4</th>\n",
       "      <td>메뉴5</td>\n",
       "      <td>우동</td>\n",
       "    </tr>\n",
       "  </tbody>\n",
       "</table>\n",
       "</div>"
      ],
      "text/plain": [
       "  Unnamed: 0   차림표\n",
       "0        메뉴1    냉면\n",
       "1        메뉴2   칼국수\n",
       "2        메뉴3  잔치국수\n",
       "3        메뉴4   수제비\n",
       "4        메뉴5    우동"
      ]
     },
     "execution_count": 17,
     "metadata": {},
     "output_type": "execute_result"
    }
   ],
   "source": [
    "# file 생성, 저장, 읽기\n",
    "\n",
    "import pandas as pd\n",
    "li = ['냉면','칼국수','잔치국수','수제비','우동']\n",
    "df1 = pd.DataFrame(li,index=['메뉴1','메뉴2', '메뉴3','메뉴4','메뉴5'],columns=['차림표'])\n",
    "print(df1)\n",
    "\n",
    "df1.to_csv('./dataset/file_data.csv') \n",
    "file_data = pd.read_csv('./dataset/file_data.csv')\n",
    "# file_data = pd.read_csv('./dataset/file_data.csv',index_col=0) # 읽기\n",
    "file_data\n",
    "\n",
    "# 하나의 열 형태로 데이터프레임을 생성 할 수 있다  columns 해서 칼럼명을 주면 가능"
   ]
  },
  {
   "cell_type": "code",
   "execution_count": 15,
   "id": "032eda5e",
   "metadata": {},
   "outputs": [
    {
     "data": {
      "text/html": [
       "<div>\n",
       "<style scoped>\n",
       "    .dataframe tbody tr th:only-of-type {\n",
       "        vertical-align: middle;\n",
       "    }\n",
       "\n",
       "    .dataframe tbody tr th {\n",
       "        vertical-align: top;\n",
       "    }\n",
       "\n",
       "    .dataframe thead th {\n",
       "        text-align: right;\n",
       "    }\n",
       "</style>\n",
       "<table border=\"1\" class=\"dataframe\">\n",
       "  <thead>\n",
       "    <tr style=\"text-align: right;\">\n",
       "      <th></th>\n",
       "      <th>차림표</th>\n",
       "    </tr>\n",
       "  </thead>\n",
       "  <tbody>\n",
       "    <tr>\n",
       "      <th>0</th>\n",
       "      <td>냉면</td>\n",
       "    </tr>\n",
       "    <tr>\n",
       "      <th>1</th>\n",
       "      <td>칼국수</td>\n",
       "    </tr>\n",
       "    <tr>\n",
       "      <th>2</th>\n",
       "      <td>잔치국수</td>\n",
       "    </tr>\n",
       "    <tr>\n",
       "      <th>3</th>\n",
       "      <td>수제비</td>\n",
       "    </tr>\n",
       "    <tr>\n",
       "      <th>4</th>\n",
       "      <td>우동</td>\n",
       "    </tr>\n",
       "  </tbody>\n",
       "</table>\n",
       "</div>"
      ],
      "text/plain": [
       "    차림표\n",
       "0    냉면\n",
       "1   칼국수\n",
       "2  잔치국수\n",
       "3   수제비\n",
       "4    우동"
      ]
     },
     "execution_count": 15,
     "metadata": {},
     "output_type": "execute_result"
    }
   ],
   "source": [
    "df1.to_csv('./dataset/file_data.csv', index=None) \n",
    "file_data = pd.read_csv('./dataset/file_data.csv')\n",
    "file_data"
   ]
  },
  {
   "cell_type": "code",
   "execution_count": 19,
   "id": "37915748",
   "metadata": {},
   "outputs": [
    {
     "data": {
      "text/html": [
       "<div>\n",
       "<style scoped>\n",
       "    .dataframe tbody tr th:only-of-type {\n",
       "        vertical-align: middle;\n",
       "    }\n",
       "\n",
       "    .dataframe tbody tr th {\n",
       "        vertical-align: top;\n",
       "    }\n",
       "\n",
       "    .dataframe thead th {\n",
       "        text-align: right;\n",
       "    }\n",
       "</style>\n",
       "<table border=\"1\" class=\"dataframe\">\n",
       "  <thead>\n",
       "    <tr style=\"text-align: right;\">\n",
       "      <th></th>\n",
       "      <th>차림표</th>\n",
       "    </tr>\n",
       "  </thead>\n",
       "  <tbody>\n",
       "    <tr>\n",
       "      <th>메뉴1</th>\n",
       "      <td>냉면</td>\n",
       "    </tr>\n",
       "    <tr>\n",
       "      <th>메뉴2</th>\n",
       "      <td>칼국수</td>\n",
       "    </tr>\n",
       "    <tr>\n",
       "      <th>메뉴3</th>\n",
       "      <td>잔치국수</td>\n",
       "    </tr>\n",
       "    <tr>\n",
       "      <th>메뉴4</th>\n",
       "      <td>수제비</td>\n",
       "    </tr>\n",
       "    <tr>\n",
       "      <th>메뉴5</th>\n",
       "      <td>우동</td>\n",
       "    </tr>\n",
       "  </tbody>\n",
       "</table>\n",
       "</div>"
      ],
      "text/plain": [
       "      차림표\n",
       "메뉴1    냉면\n",
       "메뉴2   칼국수\n",
       "메뉴3  잔치국수\n",
       "메뉴4   수제비\n",
       "메뉴5    우동"
      ]
     },
     "execution_count": 19,
     "metadata": {},
     "output_type": "execute_result"
    }
   ],
   "source": [
    "file_data = pd.read_csv('./dataset/file_data.csv',index_col=0) # 0컬럼에 해당하는것을 index로 지정함\n",
    "file_data"
   ]
  },
  {
   "cell_type": "markdown",
   "id": "da882784",
   "metadata": {},
   "source": [
    "### 딕셔너리로 데이터프레임을 만들면 데이터프레임의 열(column)을 하나씩 세워가는 형태 (axis=1) 리스트로 만들면 행(row) 하나씩 아래로 적층 형태 (default, axis=0)\n",
    " - 딕셔너리 형태\n",
    "    - dict_data={'c0':[1,2,3], 'c1':[4,5,6], ... 'c4':[13,14,15]"
   ]
  },
  {
   "cell_type": "code",
   "execution_count": 1,
   "id": "b7c33a6f",
   "metadata": {},
   "outputs": [
    {
     "data": {
      "text/html": [
       "<div>\n",
       "<style scoped>\n",
       "    .dataframe tbody tr th:only-of-type {\n",
       "        vertical-align: middle;\n",
       "    }\n",
       "\n",
       "    .dataframe tbody tr th {\n",
       "        vertical-align: top;\n",
       "    }\n",
       "\n",
       "    .dataframe thead th {\n",
       "        text-align: right;\n",
       "    }\n",
       "</style>\n",
       "<table border=\"1\" class=\"dataframe\">\n",
       "  <thead>\n",
       "    <tr style=\"text-align: right;\">\n",
       "      <th></th>\n",
       "      <th>c0</th>\n",
       "      <th>c1</th>\n",
       "      <th>c2</th>\n",
       "      <th>c3</th>\n",
       "      <th>c4</th>\n",
       "    </tr>\n",
       "  </thead>\n",
       "  <tbody>\n",
       "    <tr>\n",
       "      <th>0</th>\n",
       "      <td>1</td>\n",
       "      <td>4</td>\n",
       "      <td>7</td>\n",
       "      <td>10</td>\n",
       "      <td>13</td>\n",
       "    </tr>\n",
       "    <tr>\n",
       "      <th>1</th>\n",
       "      <td>2</td>\n",
       "      <td>5</td>\n",
       "      <td>8</td>\n",
       "      <td>11</td>\n",
       "      <td>14</td>\n",
       "    </tr>\n",
       "    <tr>\n",
       "      <th>2</th>\n",
       "      <td>3</td>\n",
       "      <td>6</td>\n",
       "      <td>9</td>\n",
       "      <td>12</td>\n",
       "      <td>15</td>\n",
       "    </tr>\n",
       "  </tbody>\n",
       "</table>\n",
       "</div>"
      ],
      "text/plain": [
       "   c0  c1  c2  c3  c4\n",
       "0   1   4   7  10  13\n",
       "1   2   5   8  11  14\n",
       "2   3   6   9  12  15"
      ]
     },
     "execution_count": 1,
     "metadata": {},
     "output_type": "execute_result"
    }
   ],
   "source": [
    "import pandas as pd\n",
    "\n",
    "dict_data={'c0':[1,2,3],'c1':[4,5,6], 'c2':[7,8,9],'c3':[10,11,12],'c4':[13,14,15]}\n",
    "df=pd.DataFrame(dict_data)\n",
    "df "
   ]
  },
  {
   "cell_type": "code",
   "execution_count": 4,
   "id": "8c4b687a",
   "metadata": {},
   "outputs": [
    {
     "data": {
      "text/html": [
       "<div>\n",
       "<style scoped>\n",
       "    .dataframe tbody tr th:only-of-type {\n",
       "        vertical-align: middle;\n",
       "    }\n",
       "\n",
       "    .dataframe tbody tr th {\n",
       "        vertical-align: top;\n",
       "    }\n",
       "\n",
       "    .dataframe thead th {\n",
       "        text-align: right;\n",
       "    }\n",
       "</style>\n",
       "<table border=\"1\" class=\"dataframe\">\n",
       "  <thead>\n",
       "    <tr style=\"text-align: right;\">\n",
       "      <th></th>\n",
       "      <th>나이</th>\n",
       "      <th>성별</th>\n",
       "      <th>학교</th>\n",
       "    </tr>\n",
       "  </thead>\n",
       "  <tbody>\n",
       "    <tr>\n",
       "      <th>준서</th>\n",
       "      <td>14</td>\n",
       "      <td>남</td>\n",
       "      <td>엄경중</td>\n",
       "    </tr>\n",
       "    <tr>\n",
       "      <th>예은</th>\n",
       "      <td>17</td>\n",
       "      <td>여</td>\n",
       "      <td>양동중</td>\n",
       "    </tr>\n",
       "    <tr>\n",
       "      <th>무현</th>\n",
       "      <td>18</td>\n",
       "      <td>남</td>\n",
       "      <td>노무중</td>\n",
       "    </tr>\n",
       "  </tbody>\n",
       "</table>\n",
       "</div>"
      ],
      "text/plain": [
       "    나이 성별   학교\n",
       "준서  14  남  엄경중\n",
       "예은  17  여  양동중\n",
       "무현  18  남  노무중"
      ]
     },
     "execution_count": 4,
     "metadata": {},
     "output_type": "execute_result"
    }
   ],
   "source": [
    "# 리스트는 행 (가로 형태로 적재)\n",
    "df=pd.DataFrame([[14,'남','엄경중'],[17,'여','양동중'],[18,'남','노무중']],\n",
    "               index =['준서','예은','무현'],\n",
    "               columns =['나이','성별','학교'])\n",
    "df"
   ]
  }
 ],
 "metadata": {
  "kernelspec": {
   "display_name": "Python 3 (ipykernel)",
   "language": "python",
   "name": "python3"
  },
  "language_info": {
   "codemirror_mode": {
    "name": "ipython",
    "version": 3
   },
   "file_extension": ".py",
   "mimetype": "text/x-python",
   "name": "python",
   "nbconvert_exporter": "python",
   "pygments_lexer": "ipython3",
   "version": "3.8.12"
  }
 },
 "nbformat": 4,
 "nbformat_minor": 5
}
