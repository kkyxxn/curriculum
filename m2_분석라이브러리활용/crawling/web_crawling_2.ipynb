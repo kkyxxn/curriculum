{
 "cells": [
  {
   "cell_type": "markdown",
   "id": "394eceed",
   "metadata": {},
   "source": [
    "### selenlum 모듈\n",
    "- 웹 어플리케이션 테스트를 위한 프레임워크 : 홈페이지 테스트용으로 사용\n",
    "- 사용자가 아닌 프로그램이 웹 브라우저를 제어할 수 있도록 지원\n",
    "- 웹 브라우저마다 클라이언트 프로그램(Web Driver)이 별도로 필요\n",
    "- 크롤링 보다는 웹을 제어하는 목적이 더 큼\n",
    "- pip install selenium 으로 설치\n",
    "- web driver 설치(크롬 버전 확인)\n",
    "- 압축 해제한 후 chromedrive.ext를 적당한 경로로 이동\n",
    "- selenium 모듈 호출 후 설치한 web driver 경로를 지정\n",
    "\n",
    "이벤트로 제어하기 : 브라우저를 직접 제어하기 때문에 직접 컨트롤하여 마우스 클릭, 키보드 입력, 자바 스크립트로 이벤트 처리 가능\n",
    "- 마우스 클릭 : click()\n",
    "- 키보드 입력 : send_keys()\n",
    "- 자바스크립트 삽입 : execute_script()\n",
    "- 입력 양식 전송 : submit()\n",
    "- 스크린샷 : screenshot(파일이름)\n",
    "- 글자 지움 : clear()\n",
    "- 뒤로 가기 : back()\n",
    "- 앞으로 가기 : forward()"
   ]
  },
  {
   "cell_type": "code",
   "execution_count": 1,
   "id": "401443a1",
   "metadata": {},
   "outputs": [
    {
     "name": "stdout",
     "output_type": "stream",
     "text": [
      "Collecting selenium\n",
      "  Downloading selenium-4.1.0-py3-none-any.whl (958 kB)\n",
      "Requirement already satisfied: urllib3[secure]~=1.26 in c:\\users\\home\\anaconda3\\envs\\cakd5\\lib\\site-packages (from selenium) (1.26.8)\n",
      "Collecting trio-websocket~=0.9\n",
      "  Downloading trio_websocket-0.9.2-py3-none-any.whl (16 kB)\n",
      "Collecting trio~=0.17\n",
      "  Downloading trio-0.19.0-py3-none-any.whl (356 kB)\n",
      "Collecting outcome\n",
      "  Downloading outcome-1.1.0-py2.py3-none-any.whl (9.7 kB)\n",
      "Requirement already satisfied: cffi>=1.14 in c:\\users\\home\\anaconda3\\envs\\cakd5\\lib\\site-packages (from trio~=0.17->selenium) (1.15.0)\n",
      "Requirement already satisfied: idna in c:\\users\\home\\anaconda3\\envs\\cakd5\\lib\\site-packages (from trio~=0.17->selenium) (3.3)\n",
      "Requirement already satisfied: async-generator>=1.9 in c:\\users\\home\\anaconda3\\envs\\cakd5\\lib\\site-packages (from trio~=0.17->selenium) (1.10)\n",
      "Collecting sniffio\n",
      "  Downloading sniffio-1.2.0-py3-none-any.whl (10 kB)\n",
      "Requirement already satisfied: attrs>=19.2.0 in c:\\users\\home\\anaconda3\\envs\\cakd5\\lib\\site-packages (from trio~=0.17->selenium) (21.2.0)\n",
      "Collecting sortedcontainers\n",
      "  Downloading sortedcontainers-2.4.0-py2.py3-none-any.whl (29 kB)\n",
      "Requirement already satisfied: pycparser in c:\\users\\home\\anaconda3\\envs\\cakd5\\lib\\site-packages (from cffi>=1.14->trio~=0.17->selenium) (2.21)\n",
      "Collecting wsproto>=0.14\n",
      "  Downloading wsproto-1.0.0-py3-none-any.whl (24 kB)\n",
      "Collecting cryptography>=1.3.4\n",
      "  Downloading cryptography-36.0.1-cp36-abi3-win_amd64.whl (2.2 MB)\n",
      "Requirement already satisfied: certifi in c:\\users\\home\\anaconda3\\envs\\cakd5\\lib\\site-packages (from urllib3[secure]~=1.26->selenium) (2021.10.8)\n",
      "Collecting pyOpenSSL>=0.14\n",
      "  Downloading pyOpenSSL-22.0.0-py2.py3-none-any.whl (55 kB)\n",
      "Collecting h11<1,>=0.9.0\n",
      "  Downloading h11-0.13.0-py3-none-any.whl (58 kB)\n",
      "Installing collected packages: sortedcontainers, sniffio, outcome, h11, cryptography, wsproto, trio, pyOpenSSL, trio-websocket, selenium\n",
      "Successfully installed cryptography-36.0.1 h11-0.13.0 outcome-1.1.0 pyOpenSSL-22.0.0 selenium-4.1.0 sniffio-1.2.0 sortedcontainers-2.4.0 trio-0.19.0 trio-websocket-0.9.2 wsproto-1.0.0\n"
     ]
    }
   ],
   "source": [
    "!pip install selenium"
   ]
  },
  {
   "cell_type": "code",
   "execution_count": 7,
   "id": "56b78982",
   "metadata": {},
   "outputs": [
    {
     "name": "stderr",
     "output_type": "stream",
     "text": [
      "C:\\Users\\HOME\\AppData\\Local\\Temp/ipykernel_13360/3817009347.py:8: DeprecationWarning: executable_path has been deprecated, please pass in a Service object\n",
      "  driver = webdriver.Chrome(path)\n"
     ]
    }
   ],
   "source": [
    "# 네이버 사이트 불러오기\n",
    "import selenium\n",
    "from selenium import webdriver\n",
    "from selenium.webdriver.common.keys import Keys\n",
    "\n",
    "url ='https://naver.com'\n",
    "path = 'C:/tool/chromedriver.exe'\n",
    "driver = webdriver.Chrome(path)\n",
    "driver.get(url)"
   ]
  },
  {
   "cell_type": "code",
   "execution_count": 8,
   "id": "c42ed6fb",
   "metadata": {},
   "outputs": [
    {
     "name": "stdout",
     "output_type": "stream",
     "text": [
      "https://www.naver.com/\n"
     ]
    }
   ],
   "source": [
    "print(driver.current_url)"
   ]
  },
  {
   "cell_type": "code",
   "execution_count": 9,
   "id": "ededed1c",
   "metadata": {},
   "outputs": [],
   "source": [
    "driver.close()"
   ]
  },
  {
   "cell_type": "code",
   "execution_count": 12,
   "id": "a0d2dfa9",
   "metadata": {},
   "outputs": [
    {
     "name": "stderr",
     "output_type": "stream",
     "text": [
      "C:\\Users\\HOME\\AppData\\Local\\Temp/ipykernel_13360/1337090985.py:4: DeprecationWarning: executable_path has been deprecated, please pass in a Service object\n",
      "  driver = webdriver.Chrome('C:/tool/chromedriver.exe', options=options)\n"
     ]
    },
    {
     "name": "stdout",
     "output_type": "stream",
     "text": [
      "https://www.google.com/\n"
     ]
    }
   ],
   "source": [
    "# 브라우저 창을 띄우지 않고 수행\n",
    "options = webdriver.ChromeOptions()\n",
    "options.add_argument('headless')\n",
    "driver = webdriver.Chrome('C:/tool/chromedriver.exe', options=options)\n",
    "driver.get('https://google.com')\n",
    "print(driver.current_url)\n",
    "driver.close()"
   ]
  },
  {
   "cell_type": "code",
   "execution_count": 14,
   "id": "a0b1d306",
   "metadata": {},
   "outputs": [
    {
     "name": "stderr",
     "output_type": "stream",
     "text": [
      "C:\\Users\\HOME\\AppData\\Local\\Temp/ipykernel_13360/1193720389.py:2: DeprecationWarning: executable_path has been deprecated, please pass in a Service object\n",
      "  driver = webdriver.Chrome(path)\n"
     ]
    }
   ],
   "source": [
    "# 브루아주 최소화/최대화\n",
    "driver = webdriver.Chrome(path)\n",
    "driver.get('https://google.com')\n",
    "driver.maximize_window()"
   ]
  },
  {
   "cell_type": "code",
   "execution_count": 15,
   "id": "8570e78b",
   "metadata": {},
   "outputs": [],
   "source": [
    "driver.minimize_window()"
   ]
  },
  {
   "cell_type": "code",
   "execution_count": 16,
   "id": "f6f823d0",
   "metadata": {},
   "outputs": [
    {
     "name": "stderr",
     "output_type": "stream",
     "text": [
      "C:\\Users\\HOME\\AppData\\Local\\Temp/ipykernel_13360/3931386922.py:6: DeprecationWarning: executable_path has been deprecated, please pass in a Service object\n",
      "  driver = webdriver.Chrome(path)\n"
     ]
    }
   ],
   "source": [
    "# implicit Waits(암묵적 대기) : 찾으려는 element가 로드될 때까지 지정한 시간만큼 대기할 수 있도록 설정\n",
    "from selenium.webdriver.common.by import By\n",
    "from selenium.webdriver.support.ui import WebDriverWait\n",
    "from selenium.webdriver.support import expected_conditions as EC\n",
    "\n",
    "driver = webdriver.Chrome(path)\n",
    "driver.get('https://google.com')\n",
    "\n",
    "try:\n",
    "    element =WebDriverWait(driver, 5).until(\n",
    "    EC.presence_of_element_located((By.CLASS_NAME,'gLFyf')))\n",
    "finally:\n",
    "    driver.quit()"
   ]
  },
  {
   "cell_type": "code",
   "execution_count": 19,
   "id": "48061fe6",
   "metadata": {},
   "outputs": [
    {
     "name": "stderr",
     "output_type": "stream",
     "text": [
      "C:\\Users\\HOME\\AppData\\Local\\Temp/ipykernel_13360/1905649725.py:1: DeprecationWarning: executable_path has been deprecated, please pass in a Service object\n",
      "  driver = webdriver.Chrome(path)\n",
      "C:\\Users\\HOME\\AppData\\Local\\Temp/ipykernel_13360/1905649725.py:3: DeprecationWarning: find_element_by_* commands are deprecated. Please use find_element() instead\n",
      "  search_box = driver.find_element_by_xpath('//*[@id=\"query\"]')\n"
     ]
    }
   ],
   "source": [
    "from time import sleep\n",
    "driver = webdriver.Chrome(path)\n",
    "driver.get('https://naver.com')\n",
    "search_box = driver.find_element_by_xpath('//*[@id=\"query\"]')\n",
    "search_box.send_keys('빅데이터')\n",
    "search_box.send_keys(Keys.RETURN)\n",
    "\n",
    "# elements = driver.find_elements_by_xpath()"
   ]
  },
  {
   "cell_type": "code",
   "execution_count": null,
   "id": "f7971aaf",
   "metadata": {},
   "outputs": [],
   "source": [
    "# 빅데이터 관련 검색하여 출력한 후 구글 페이지로 이동\n",
    "import time\n",
    "driver = webdriver.Chorme(path)\n",
    "driver.get('https://naver.com')\n",
    "driver.maximize_window()\n",
    "driver.find_elment_by_css_selecotr('#NM_FAVORITE > div.group_nav > ul.list_nav.NM_FAVORITE_LIST > li:nth-child(2) > a')\n",
    "elements = find_elements_by_css\n",
    "#NM_FAVORITE > div.group_nav > ul.list_nav.NM_FAVORITE_LIST > li:nth-child(2) > a\n",
    "copy select"
   ]
  },
  {
   "cell_type": "code",
   "execution_count": null,
   "id": "632f9ef9",
   "metadata": {},
   "outputs": [],
   "source": []
  },
  {
   "cell_type": "code",
   "execution_count": null,
   "id": "cd11a9e7",
   "metadata": {},
   "outputs": [],
   "source": []
  },
  {
   "cell_type": "code",
   "execution_count": null,
   "id": "6d913eab",
   "metadata": {},
   "outputs": [],
   "source": []
  },
  {
   "cell_type": "code",
   "execution_count": null,
   "id": "042efd26",
   "metadata": {},
   "outputs": [],
   "source": []
  },
  {
   "cell_type": "code",
   "execution_count": null,
   "id": "f59a32db",
   "metadata": {},
   "outputs": [],
   "source": []
  }
 ],
 "metadata": {
  "kernelspec": {
   "display_name": "Python 3 (ipykernel)",
   "language": "python",
   "name": "python3"
  },
  "language_info": {
   "codemirror_mode": {
    "name": "ipython",
    "version": 3
   },
   "file_extension": ".py",
   "mimetype": "text/x-python",
   "name": "python",
   "nbconvert_exporter": "python",
   "pygments_lexer": "ipython3",
   "version": "3.8.12"
  }
 },
 "nbformat": 4,
 "nbformat_minor": 5
}
