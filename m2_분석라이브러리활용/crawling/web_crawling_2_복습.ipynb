{
 "cells": [
  {
   "cell_type": "markdown",
   "id": "f2df9bba",
   "metadata": {},
   "source": [
    "### selenium 모듈\n",
    "- 웹 어플리케이션 테스트를 위한 프레임워크 : 홈페이지 테스트용으로 사용\n",
    "- 사용자가 아닌 프로그램이 웹 브라우저를 제어할 수 있도록 지원\n",
    "- 웹 브라우저마다 클라이언트 프로그램(Web Driver)이 별도로 필요(웹 브라우저 <-> 프로그램간 통신 목적)\n",
    "- 크롤링 보다는 웹을 제어하는 목적이 더 큼\n",
    "- pip install selenium으로 설치\n",
    "- web driver 설치(크롬 버전 확인) : https://chromedriver.chromium.org/downloads\n",
    "- 압축 해제한 후 chromedrive.exe를 적당한 경로로 이동\n",
    "- selenium 모듈 호출 후 설치한 web driver 경로를 지정\n",
    "\n",
    "### 이벤트로 제어하기 : 브라우저를 직접 제어하기 때문에 직접 컨트롤하여 마우스 클릭, 키보드 입력, 자바 스크립트 이벤트 처리 가능\n",
    "- 마우스 클릭 : click()\n",
    "- 키보드 입력 : send_keys()\n",
    "- 자바스크립트 삽입 : execute_script()\n",
    "- 입력 양식 전송 : submit()\n",
    "- 스크린샷 : screenshot(파일이름)\n",
    "- 글자 지움 : clear()\n",
    "- 뒤로 가기 : back()\n",
    "- 앞으로 가기 : forward()\n",
    "\n",
    "### 셀레니움 함수\n",
    "- find_element_by_id : id속성을 사용하여 접근\n",
    "- find_element(s)_by_calss_name : 클래스를 사용하여 접근\n",
    "- find_element(s)_by_name : name 속성을 사용하여 접근\n",
    "- find_element(s)_by_xpath : xpath 속성을 사용하여 접근\n",
    "- find_element(s)_by_link_text : 앵커태그(a)에 사용되는 텍스트로 접근\n",
    "- find_element(s)_by_partial_link_text : 앵커태그(a)에 사용되는 일부 텍스트로 접근\n",
    "- find_element(s)_by_tag_name : 태그를 사용하여 접근\n",
    "- find_element(s)_by_css_selector : CSS 선택자를 사용하여 접근"
   ]
  },
  {
   "cell_type": "code",
   "execution_count": 1,
   "id": "8c747091",
   "metadata": {},
   "outputs": [
    {
     "name": "stdout",
     "output_type": "stream",
     "text": [
      "Requirement already satisfied: selenium in c:\\users\\home\\anaconda3\\envs\\cakd5\\lib\\site-packages (4.1.0)\n",
      "Requirement already satisfied: trio~=0.17 in c:\\users\\home\\anaconda3\\envs\\cakd5\\lib\\site-packages (from selenium) (0.19.0)\n",
      "Requirement already satisfied: trio-websocket~=0.9 in c:\\users\\home\\anaconda3\\envs\\cakd5\\lib\\site-packages (from selenium) (0.9.2)\n",
      "Requirement already satisfied: urllib3[secure]~=1.26 in c:\\users\\home\\anaconda3\\envs\\cakd5\\lib\\site-packages (from selenium) (1.26.8)\n",
      "Requirement already satisfied: cffi>=1.14 in c:\\users\\home\\anaconda3\\envs\\cakd5\\lib\\site-packages (from trio~=0.17->selenium) (1.15.0)\n",
      "Requirement already satisfied: async-generator>=1.9 in c:\\users\\home\\anaconda3\\envs\\cakd5\\lib\\site-packages (from trio~=0.17->selenium) (1.10)\n",
      "Requirement already satisfied: attrs>=19.2.0 in c:\\users\\home\\anaconda3\\envs\\cakd5\\lib\\site-packages (from trio~=0.17->selenium) (21.2.0)\n",
      "Requirement already satisfied: outcome in c:\\users\\home\\anaconda3\\envs\\cakd5\\lib\\site-packages (from trio~=0.17->selenium) (1.1.0)\n",
      "Requirement already satisfied: idna in c:\\users\\home\\anaconda3\\envs\\cakd5\\lib\\site-packages (from trio~=0.17->selenium) (3.3)\n",
      "Requirement already satisfied: sniffio in c:\\users\\home\\anaconda3\\envs\\cakd5\\lib\\site-packages (from trio~=0.17->selenium) (1.2.0)\n",
      "Requirement already satisfied: sortedcontainers in c:\\users\\home\\anaconda3\\envs\\cakd5\\lib\\site-packages (from trio~=0.17->selenium) (2.4.0)\n",
      "Requirement already satisfied: pycparser in c:\\users\\home\\anaconda3\\envs\\cakd5\\lib\\site-packages (from cffi>=1.14->trio~=0.17->selenium) (2.21)\n",
      "Requirement already satisfied: wsproto>=0.14 in c:\\users\\home\\anaconda3\\envs\\cakd5\\lib\\site-packages (from trio-websocket~=0.9->selenium) (1.0.0)\n",
      "Requirement already satisfied: cryptography>=1.3.4 in c:\\users\\home\\anaconda3\\envs\\cakd5\\lib\\site-packages (from urllib3[secure]~=1.26->selenium) (36.0.1)\n",
      "Requirement already satisfied: certifi in c:\\users\\home\\anaconda3\\envs\\cakd5\\lib\\site-packages (from urllib3[secure]~=1.26->selenium) (2021.10.8)\n",
      "Requirement already satisfied: pyOpenSSL>=0.14 in c:\\users\\home\\anaconda3\\envs\\cakd5\\lib\\site-packages (from urllib3[secure]~=1.26->selenium) (22.0.0)\n",
      "Requirement already satisfied: h11<1,>=0.9.0 in c:\\users\\home\\anaconda3\\envs\\cakd5\\lib\\site-packages (from wsproto>=0.14->trio-websocket~=0.9->selenium) (0.13.0)\n"
     ]
    }
   ],
   "source": [
    "! pip install selenium"
   ]
  },
  {
   "cell_type": "code",
   "execution_count": 6,
   "id": "747ed9c3",
   "metadata": {},
   "outputs": [],
   "source": [
    "# 네이버 사이트 불러오기\n",
    "import selenium\n",
    "from selenium import webdriver\n",
    "from selenium.webdriver.common.keys import Keys\n",
    "import warnings\n",
    "warnings.filterwarnings('ignore')\n",
    "\n",
    "url = 'https://naver.com'\n",
    "path = 'C:/tool/chromedriver.exe'\n",
    "driver = webdriver.Chrome(path)\n",
    "driver.get(url)"
   ]
  },
  {
   "cell_type": "code",
   "execution_count": 7,
   "id": "9d9ea781",
   "metadata": {},
   "outputs": [
    {
     "name": "stdout",
     "output_type": "stream",
     "text": [
      "https://www.naver.com/\n"
     ]
    }
   ],
   "source": [
    "print(driver.current_url)"
   ]
  },
  {
   "cell_type": "code",
   "execution_count": 8,
   "id": "5e203ba0",
   "metadata": {},
   "outputs": [],
   "source": [
    "driver.close()"
   ]
  },
  {
   "cell_type": "code",
   "execution_count": 10,
   "id": "91182803",
   "metadata": {},
   "outputs": [
    {
     "name": "stdout",
     "output_type": "stream",
     "text": [
      "https://www.google.com/\n"
     ]
    }
   ],
   "source": [
    "# 브라우저 창을 띄우지 않고 수행\n",
    "options = webdriver.ChromeOptions()\n",
    "options.add_argument('headless') # headless모드 브라우저가 뜨지 않고 실행됩니다.\n",
    "driver = webdriver.Chrome('C:/tool/chromedriver.exe',options=options)\n",
    "driver.get('https://google.com')\n",
    "print(driver.current_url)\n",
    "driver.close()"
   ]
  },
  {
   "cell_type": "code",
   "execution_count": 12,
   "id": "2eda8c6b",
   "metadata": {},
   "outputs": [],
   "source": [
    "# 브라우저 최소화/최대화\n",
    "driver = webdriver.Chrome(path)\n",
    "driver.get('https://google.com')\n",
    "driver.maximize_window() # 창 최대화\n",
    "driver.close()"
   ]
  },
  {
   "cell_type": "code",
   "execution_count": null,
   "id": "5d80871c",
   "metadata": {},
   "outputs": [],
   "source": [
    "driver.minimize_window() "
   ]
  },
  {
   "cell_type": "code",
   "execution_count": 14,
   "id": "a0ac244f",
   "metadata": {},
   "outputs": [],
   "source": [
    "# implicit Waits(암묵적 대기) : 찾으려는 element가 로드될 때까지 지정한 시간만큼 대기할 수 있도록 설정\n",
    "from selenium.webdriver.common.by import By\n",
    "from selenium.webdriver.support.ui import WebDriverWait\n",
    "from selenium.webdriver.support import expected_conditions as EC\n",
    "\n",
    "driver = webdriver.Chrome(path)\n",
    "driver.get('https://google.com')\n",
    "\n",
    "try: \n",
    "    element = WebDriverWait(driver, 5).until(\n",
    "    EC.presence_of_element_located((By.CLASS_NAME, 'gLFyf')))\n",
    "finally:\n",
    "    driver.quit()"
   ]
  },
  {
   "cell_type": "code",
   "execution_count": 16,
   "id": "858c5bdd",
   "metadata": {},
   "outputs": [
    {
     "name": "stdout",
     "output_type": "stream",
     "text": [
      "빅데이터란\n",
      "빅데이터\n",
      "빅데이터\n"
     ]
    }
   ],
   "source": [
    "from time import sleep\n",
    "driver = webdriver.Chrome(path)\n",
    "driver.get('https://naver.com')\n",
    "\n",
    "# 검색창 XPath //*[@id=\"query\"]\n",
    "search_box = driver.find_element_by_xpath('//*[@id=\"query\"]')\n",
    "search_box.send_keys('빅데이터')\n",
    "search_box.send_keys(Keys.RETURN)\n",
    "\n",
    "elements = driver.find_elements_by_xpath('//*[@id=\"main_pack\"]/section/div/div/div/div/h3/a')\n",
    "\n",
    "for element in elements:\n",
    "    print(element.text)\n",
    "    print(element.text, file=open('test_set1.txt','w', encoding='utf-8'))\n",
    "sleep(3)\n",
    "driver.close()\n",
    "# //*[@id=\"main_pack\"]/section[2]/div/div[2]/div[1]/div[1]/h3/a"
   ]
  },
  {
   "cell_type": "code",
   "execution_count": 22,
   "id": "fc5ac934",
   "metadata": {},
   "outputs": [
    {
     "name": "stdout",
     "output_type": "stream",
     "text": [
      "https://search.naver.com/search.naver?where=nexearch&sm=top_hty&fbm=0&ie=utf8&query=#lnb\n",
      "https://search.naver.com/search.naver?where=nexearch&sm=top_hty&fbm=0&ie=utf8&query=#content\n",
      "https://www.naver.com/\n",
      "https://search.naver.com/search.naver?where=nexearch&sm=top_hty&fbm=0&ie=utf8&query=#\n",
      "https://search.naver.com/search.naver?where=nexearch&sm=top_hty&fbm=0&ie=utf8&query=#\n",
      "https://search.naver.com/search.naver?where=nexearch&sm=top_hty&fbm=0&ie=utf8&query=#\n",
      "https://search.naver.com/search.naver?where=nexearch&sm=top_hty&fbm=0&ie=utf8&query=#\n",
      "https://search.naver.com/search.naver?where=nexearch&sm=top_hty&fbm=0&ie=utf8&query=#\n",
      "https://help.naver.com/support/alias/search/word/word_29.naver\n",
      "https://help.naver.com/support/alias/search/word/word_29.naver\n",
      "https://help.naver.com/support/alias/search/word/word_29.naver\n",
      "https://search.naver.com/search.naver?where=nexearch&sm=top_hty&fbm=0&ie=utf8&query=#\n",
      "https://search.naver.com/search.naver?where=nexearch&sm=top_hty&fbm=0&ie=utf8&query=#\n",
      "https://help.naver.com/support/alias/search/word/word_16.naver\n",
      "https://search.naver.com/search.naver?where=nexearch&sm=top_hty&fbm=0&ie=utf8&query=#\n",
      "https://help.naver.com/support/alias/search/word/word_16.naver\n",
      "https://nid.naver.com/nidlogin.login?url=https%3A%2F%2Fsearch.naver.com%2Fsearch.naver%3Fwhere%3Dnexearch%26sm%3Dtop_hty%26fbm%3D0%26ie%3Dutf8%26query%3D\n",
      "https://help.naver.com/support/alias/search/word/word_16.naver\n",
      "https://search.naver.com/search.naver?where=nexearch&sm=top_hty&fbm=0&ie=utf8&query=#\n",
      "https://help.naver.com/support/alias/search/word/word_17.naver\n",
      "https://help.naver.com/support/alias/search/word/word_18.naver\n",
      "https://search.naver.com/search.naver?where=nexearch&sm=top_hty&fbm=0&ie=utf8&query=#\n",
      "https://search.naver.com/search.naver?where=nexearch&sm=tab_jum&query=\n",
      "https://search.naver.com/search.naver?where=view&sm=tab_jum&query=\n",
      "https://search.naver.com/search.naver?where=image&sm=tab_jum&query=\n",
      "https://search.naver.com/search.naver?where=kin&sm=tab_jum&query=\n",
      "https://search.naver.com/search.naver?where=influencer&sm=tab_jum&query=\n",
      "https://search.naver.com/search.naver?where=video&sm=tab_jum&query=\n",
      "https://search.shopping.naver.com/search/all?where=all&frm=NVSCTAB&query=\n",
      "https://search.naver.com/search.naver?where=news&sm=tab_jum&query=\n",
      "https://dict.naver.com/search.nhn?dicQuery=&query=&target=dic&query_utf=&isOnlyViewEE=\n",
      "https://map.naver.com/v5/search/\n",
      "https://search.naver.com/search.naver?where=nexearch&sm=top_hty&fbm=0&ie=utf8&query=#\n",
      "https://book.naver.com/search/search.nhn?query=\n",
      "https://vibe.naver.com/search?query=\n",
      "https://search.naver.com/search.naver?where=kdic&sm=tab_jum&query=\n",
      "https://audioclip.naver.com/search/all?keyword=\n",
      "https://academic.naver.com/search.naver?field=0&query=\n",
      "https://search.naver.com/search.naver?where=nexearch&sm=top_hty&fbm=0&ie=utf8&query=#\n",
      "https://search.naver.com/search.naver?where=nexearch&sm=top_hty&fbm=0&ie=utf8&query=#\n",
      "https://search.naver.com/search.naver?where=nexearch&sm=tab_opt&query=&nso=so%3Ar&nso_open=1\n",
      "https://search.naver.com/search.naver?where=nexearch&sm=tab_opt&query=&nso=so%3Add&nso_open=1\n",
      "https://search.naver.com/search.naver?where=nexearch&sm=tab_opt&query=&nso=p%3Aall&nso_open=1\n",
      "https://search.naver.com/search.naver?where=nexearch&sm=tab_opt&query=&nso=p%3A1h&nso_open=1\n",
      "https://search.naver.com/search.naver?where=nexearch&sm=tab_opt&query=&nso=p%3A1d&nso_open=1\n",
      "https://search.naver.com/search.naver?where=nexearch&sm=tab_opt&query=&nso=p%3A1w&nso_open=1\n",
      "https://search.naver.com/search.naver?where=nexearch&sm=tab_opt&query=&nso=p%3A1m&nso_open=1\n",
      "https://search.naver.com/search.naver?where=nexearch&sm=tab_opt&query=&nso=p%3A3m&nso_open=1\n",
      "https://search.naver.com/search.naver?where=nexearch&sm=tab_opt&query=&nso=p%3A6m&nso_open=1\n",
      "https://search.naver.com/search.naver?where=nexearch&sm=tab_opt&query=&nso=p%3A1y&nso_open=1\n",
      "https://search.naver.com/search.naver?where=nexearch&sm=top_hty&fbm=0&ie=utf8&query=#\n",
      "https://search.naver.com/search.naver?where=nexearch&sm=top_hty&fbm=0&ie=utf8&query=#\n",
      "https://search.naver.com/search.naver?where=nexearch&sm=top_hty&fbm=0&ie=utf8&query=#\n",
      "https://search.naver.com/search.naver?where=nexearch&sm=tab_opt&query=&nso_open=1\n",
      "https://help.naver.com/support/alias/search/integration/intergration_84.naver\n",
      "https://kin.naver.com/qna/question.naver\n",
      "https://kin.naver.com/qna/detail.naver?d1id=2&dirId=20413&docId=312335838&qb=MTAwMDAwMDlfMDAwMDEyOWRkZGRlIDEwMDAwMDA5XzAwMDAxNjAwMzU3MyAxMDAwMDAwOV8yYzU3NDU3YTM5MDIgMTAwMDAwMDlfMmNkYzdjOTQxZDI3&enc=utf8&section=kin.ext&rank=1&search_sort=0&spq=0\n",
      "https://kin.naver.com/search/one2oneLink?dirId=20413&docId=312335838&answerNo=1\n",
      "https://kin.naver.com/search/profileLink?dirId=20413&docId=312335838&answerNo=1\n",
      "https://kin.naver.com/qna/detail.naver?d1id=2&dirId=20413&docId=312335838&qb=MTAwMDAwMDlfMDAwMDEyOWRkZGRlIDEwMDAwMDA5XzAwMDAxNjAwMzU3MyAxMDAwMDAwOV8yYzU3NDU3YTM5MDIgMTAwMDAwMDlfMmNkYzdjOTQxZDI3&enc=utf8&section=kin.ext&rank=1&search_sort=0&spq=0\n",
      "https://search.naver.com/search.naver?where=nexearch&query=%ED%94%BC%EC%B9%B4%EC%B8%84%EC%9D%98+%EC%9D%B4%EB%A6%84%EC%9D%80+%EC%96%B4%EB%94%94%EC%84%9C+%EC%9C%A0%EB%9E%98%ED%95%9C+%EA%B2%83%EC%9D%B8%EA%B0%80%EC%9A%94%3F&x_kin=%7B%22random_search%22%3A+%7B%22gdid%22%3A%2210000009_0000129dddde%22%7D%7D&mra=S05J&sm=tab_rnd.more\n",
      "https://search.naver.com/search.naver?where=nexearch&&query=&sm=tab_rnd.another\n",
      "https://search.naver.com/search.naver?where=nexearch&sm=tab_knw&query=%EB%B0%B8%EB%9F%B0%ED%83%80%EC%9D%B8%EB%8D%B0%EC%9D%B4&qdt=0&mra=S0NE\n",
      "https://search.naver.com/search.naver?where=nexearch&sm=tab_knw&query=%EC%BB%AC%EB%A7%81&qdt=0&mra=S0NE\n",
      "https://search.naver.com/search.naver?where=nexearch&sm=tab_knw&query=%EC%9A%B0%ED%81%AC%EB%9D%BC%EC%9D%B4%EB%82%98&qdt=0&mra=S0NE\n",
      "https://search.naver.com/search.naver?where=nexearch&sm=tab_knw&query=%ED%81%B4%EB%9D%BC%EC%9D%B8%ED%8E%A0%ED%84%B0+%EC%A6%9D%ED%9B%84%EA%B5%B0&qdt=0&mra=S0NE\n",
      "https://search.naver.com/search.naver?where=nexearch&sm=tab_knw&query=%EB%B3%B4%EC%9D%B4%EC%BD%A7&qdt=0&mra=S0NE\n",
      "https://search.naver.com/search.naver?where=nexearch&sm=tab_knw&query=ROC&qdt=0&mra=S0NE\n",
      "https://search.naver.com/search.naver?where=nexearch&sm=tab_knw&query=%EB%8C%80%EB%B3%B4%EB%A6%84&qdt=0&mra=S0NE\n",
      "https://search.naver.com/search.naver?where=nexearch&sm=tab_knw&query=%EC%84%B1%EC%9D%B8+ADHD&qdt=0&mra=S0NE\n",
      "https://search.naver.com/search.naver?where=nexearch&sm=tab_knw&query=%EB%82%98%ED%86%A0&qdt=0&mra=S0NE\n",
      "https://search.naver.com/search.naver?where=nexearch&sm=tab_knw&query=MBTI&qdt=0&mra=S0NE\n",
      "https://search.naver.com/search.naver?where=nexearch&sm=top_hty&fbm=0&ie=utf8&query=#\n",
      "https://search.naver.com/search.naver?where=nexearch&sm=top_hty&fbm=0&ie=utf8&query=#\n",
      "https://help.naver.com/support/alias/search/word/word_30.naver\n",
      "https://m.news.naver.com/covid19/index.nhn\n",
      "https://search.naver.com/search.naver?where=nexearch&query=%EC%BD%94%EB%A1%9C%EB%82%9819+%EC%84%A0%EB%B3%84%EC%A7%84%EB%A3%8C%EC%86%8C&sm=tab_etc\n",
      "https://news.naver.com/main/factcheck/main.nhn?section=%C4%DA%B7%CE%B3%AA%B9%E9%BD%C5\n",
      "https://search.naver.com/search.naver?where=nexearch&query=%EC%9A%B0%EB%A6%AC%EB%8F%99%EB%84%A4+%EB%B0%B1%EC%8B%A0%EC%95%8C%EB%A6%BC&sm=tab_etc\n",
      "https://search.naver.com/search.naver?where=nexearch&query=%EC%BD%94%EB%A1%9C%EB%82%9819+%EB%B3%91%EC%83%81%EA%B0%80%EB%8F%99%EB%A5%A0&sm=tab_etc\n",
      "https://search.naver.com/search.naver?where=nexearch&sm=top_hty&fbm=0&ie=utf8&query=#\n",
      "https://www.naver.com/more.html\n",
      "https://policy.naver.com/policy/service.html\n",
      "https://policy.naver.com/policy/privacy.html\n",
      "https://help.naver.com/support/alias/search/integration/integration_1.naver\n",
      "https://www.navercorp.com/\n",
      "86\n"
     ]
    }
   ],
   "source": [
    "import time\n",
    "driver = webdriver.Chrome(path)\n",
    "driver.get('https://naver.com')\n",
    "driver.maximize_window()\n",
    "driver.find_element_by_class_name('link_login').click()  # class=\"link_login\" 클릭\n",
    "time.sleep(1)\n",
    "driver.back() # 뒤로가기(back)\n",
    "driver.forward()  # 앞으로 가기(forward)\n",
    "driver.refresh() # 새로고침을 실행\n",
    "time.sleep(2)\n",
    "driver.back()\n",
    "elem = driver.find_element_by_id('query') \n",
    "elem.send_keys(Keys.ENTER)\n",
    "els = driver.find_elements_by_tag_name('a') # 이해안감\n",
    "for e in els:\n",
    "    print(e.get_attribute('href'))\n",
    "driver.close()\n",
    "print(len(els)) # 86개"
   ]
  },
  {
   "cell_type": "code",
   "execution_count": 24,
   "id": "e88fc9fd",
   "metadata": {},
   "outputs": [
    {
     "name": "stdout",
     "output_type": "stream",
     "text": [
      "https://search.naver.com/search.naver?where=nexearch&sm=top_hty&fbm=0&ie=utf8&query=#lnb\n",
      "https://search.naver.com/search.naver?where=nexearch&sm=top_hty&fbm=0&ie=utf8&query=#content\n",
      "https://www.naver.com/\n",
      "https://search.naver.com/search.naver?where=nexearch&sm=top_hty&fbm=0&ie=utf8&query=#\n",
      "https://search.naver.com/search.naver?where=nexearch&sm=top_hty&fbm=0&ie=utf8&query=#\n"
     ]
    }
   ],
   "source": [
    "import time\n",
    "driver = webdriver.Chrome(path)\n",
    "driver.get('https://naver.com')\n",
    "driver.maximize_window()\n",
    "driver.find_element_by_class_name('link_login').click()\n",
    "time.sleep(1)\n",
    "driver.back()\n",
    "elem = driver.find_element_by_id('query')\n",
    "elem.send_keys(Keys.ENTER)\n",
    "els = driver.find_elements_by_tag_name('a')\n",
    "for i, e in enumerate(els):\n",
    "    if i < 5:\n",
    "        print(e.get_attribute('href'))\n",
    "    else:\n",
    "        pass\n",
    "driver.refresh()\n",
    "driver.get('https://daum.net')\n",
    "driver.close()"
   ]
  },
  {
   "cell_type": "code",
   "execution_count": null,
   "id": "cfaddac3",
   "metadata": {},
   "outputs": [],
   "source": [
    "# Q. 다음사이트에서 빅데이터 관련 검색하여 출력한 후 구글 페이지로 이동"
   ]
  },
  {
   "cell_type": "code",
   "execution_count": 28,
   "id": "f3f97e05",
   "metadata": {},
   "outputs": [
    {
     "name": "stdout",
     "output_type": "stream",
     "text": [
      "백과사전\n",
      "빅데이터\n",
      "빅데이터(big data)란 복잡하고 다양한 대규모 데이터세트 자체는 물론 이 데이터세트로부터 정보를 추출하고 결과를 분석하여 더 큰 가치를 창출하는 기술을 뜻한다. 수치 데이터 등 기존의 정형화된 정보뿐 아니라 텍스트 ・ 이미지 ・ 오디오 ・ 로그기...\n",
      "경제금융용어 700선\n",
      "빅데이터\n",
      "빅데이터의 등장 오늘날 정보 통신 분야에서의 화두는 단연 빅데이터이다. 빅데이터는 기존 데이터보다 너무 방대하여 기존의 방법이나 도구로 수집/저장/분석 등이 어려운 정형 및 비정형 데이터들을 의미한다. 아래 그림에서 보여주듯 1분 동안 구글에서...\n",
      "국립중앙과학관：빅데이터 과학관\n",
      "왜 한국을 ‘이 세상에서 가장 흥미로운 장소’라고 하는가? , 빅 데이터\n",
      "가장 작은 데이터 단위는 0 혹은 1을 나타낼 수 있는 비트(bit)며, 8개의 비트가 모여 1바이트(byte)가 된다. 이후 1,024를 곱할 때마다 킬로바이트(KB) · 메가바이트(MB) · 기가바이트(GB) · 테라바이트(TB) · 페타바이트(PB) · 엑사바이트(EB) · ...\n",
      "재미있는 영어 인문학 이야기 2\n",
      "백과사전 더보기\n"
     ]
    }
   ],
   "source": [
    "driver = webdriver.Chrome(path)\n",
    "driver.get('http://daum.net')\n",
    "driver.maximize_window()\n",
    "\n",
    "search_box = driver.find_element_by_xpath('//*[@id=\"q\"]')\n",
    "search_box.send_keys('빅데이터')\n",
    "search_box.send_keys(Keys.ENTER)\n",
    "\n",
    "# driver.find_element_by_xpath('//*[@id=\"pediaColl\"]/div[2]/ul/li[1]/div/div/div[1]/a').click()\n",
    "els = driver.find_elements_by_xpath('//*[@id=\"pediaColl\"]')\n",
    "for i in els:\n",
    "    print(i.text)\n",
    "    \n",
    "driver.refresh()\n",
    "driver.get('http://google.com')\n",
    "time.sleep(1)\n",
    "driver.close()"
   ]
  },
  {
   "cell_type": "code",
   "execution_count": 29,
   "id": "db9cb817",
   "metadata": {},
   "outputs": [
    {
     "name": "stdout",
     "output_type": "stream",
     "text": [
      "‘황대헌처럼 ‘치킨 연금’”…최민정 돌발 발언에 BBQ 회장 한 말\n",
      "윤석열 제외 이재명·심상정·안철수 \"언론자율규제기구 찬성\"\n",
      "서민 교수, 文 저격 “적폐청산 ‘내로남불’”…김정숙 여사엔 “어찌나 패션쇼 해댔는지”\n",
      "'3% 표심' 강원도, 대선 전략적 요충지 부상\n",
      "'최민정 막판 질주' 여자 쇼트트랙 3천m 계주 값진 은메달\n"
     ]
    }
   ],
   "source": [
    "import time\n",
    "driver = webdriver.Chrome(path)\n",
    "driver.get('https://naver.com')\n",
    "driver.maximize_window()\n",
    "\n",
    "# selector는 > 사용하여 자식으로 이동가능\n",
    "driver.find_element_by_css_selector('#NM_FAVORITE > div.group_nav > ul.list_nav.NM_FAVORITE_LIST > li:nth-child(2) > a').click()\n",
    "# div id=\"ct\" > div > section class=\"main_content\"> div class=\"main_brick\"\n",
    "elements = driver.find_elements_by_css_selector('#ct > div > section.main_content > div.main_brick > div > div> div > div > div > div> a > div> div')\n",
    "\n",
    "for i,e in enumerate(elements):\n",
    "    if i < 5:\n",
    "        print(e.text)\n",
    "    else:\n",
    "        pass\n",
    "driver.close()      "
   ]
  }
 ],
 "metadata": {
  "kernelspec": {
   "display_name": "Python 3 (ipykernel)",
   "language": "python",
   "name": "python3"
  },
  "language_info": {
   "codemirror_mode": {
    "name": "ipython",
    "version": 3
   },
   "file_extension": ".py",
   "mimetype": "text/x-python",
   "name": "python",
   "nbconvert_exporter": "python",
   "pygments_lexer": "ipython3",
   "version": "3.8.12"
  }
 },
 "nbformat": 4,
 "nbformat_minor": 5
}
