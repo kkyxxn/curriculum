{
 "cells": [
  {
   "cell_type": "markdown",
   "id": "f21b007e",
   "metadata": {},
   "source": [
    "## 네이버 검색  API 서비스"
   ]
  },
  {
   "cell_type": "markdown",
   "id": "6dba8796",
   "metadata": {},
   "source": [
    "네이버 웹문서 검색 API"
   ]
  },
  {
   "cell_type": "code",
   "execution_count": null,
   "id": "272a0951",
   "metadata": {},
   "outputs": [],
   "source": [
    "# 네이버 검색 API예제는 블로그를 비롯 전문자료까지 호출방법이 동일하므로 blog검색만 대표로 예제를 올렸습니다.\n",
    "# 네이버 검색 Open API 예제 - 블로그 검색\n",
    "import os\n",
    "import sys\n",
    "import urllib.request\n",
    "import pandas as pd\n",
    "import json\n",
    "import re\n",
    "\n",
    "client_id = \"UN9dlIt_KlBFwo6rbK2U\"\n",
    "client_secret = \"eq59xGLLYe\"\n",
    "\n",
    "query = urllib.parse.quote(input(\"검색 질의: \"))\n",
    "# encText = urllib.parse.quote(\"빅데이터\") # utf-8 형태로 인코딩\n",
    "idx = 0\n",
    "display = 100\n",
    "start = 1\n",
    "end = 1000\n",
    "\n",
    "web_df = pd.DataFrame(columns=('Title','Link','Description'))\n",
    "\n",
    "for start_index in range(start, end, display):\n",
    "\n",
    "    url = \"https://openapi.naver.com/v1/search/webkr?query=\" + query \\\n",
    "    + \"&display=\" + str(display) \\\n",
    "    + \"&start=\" + str(start_index)\n",
    "    # url = \"https://openapi.naver.com/v1/search/blog.xml?query=\" + encText # xml 결과\n",
    "\n",
    "    request = urllib.request.Request(url)\n",
    "    request.add_header(\"X-Naver-Client-Id\",client_id)\n",
    "    request.add_header(\"X-Naver-Client-Secret\",client_secret)\n",
    "    response = urllib.request.urlopen(request)\n",
    "    rescode = response.getcode()\n",
    "    if(rescode==200):\n",
    "        response_body = response.read()\n",
    "        response_dict = json.loads(response_body.decode('utf-8'))\n",
    "        items = response_dict['items']\n",
    "        for item_index in range(0,len(items)):\n",
    "            remove_tag = re.compile('<.*?>')\n",
    "            title = re.sub(remove_tag, \"\", items[item_index]['title'])\n",
    "            link = items[item_index]['link']\n",
    "            description = re.sub(remove_tag, '', items[item_index]['description'])\n",
    "            web_df.loc[idx] = [title, link, description]\n",
    "            idx += 1        \n",
    "    else:\n",
    "        print(\"Error Code:\" + rescode)\n",
    "web_df"
   ]
  },
  {
   "cell_type": "markdown",
   "id": "86638051",
   "metadata": {},
   "source": [
    "[과제] 2개 이상의 카테고리에 대하여 데이터 수집"
   ]
  },
  {
   "cell_type": "markdown",
   "id": "e8b88e9a",
   "metadata": {},
   "source": [
    "[과제] 아래사항에 유의하여 OpenWeatherMap 날씨정보를 웹 API로 가져와서 출력하세요\n",
    "* https://openweathermap.org/api 사이트에서 Current Weather data에 대한 API doc 내용을 파악\n",
    "* 개발자 등록을 하고 API 키 발급 받음(https://home.openweathermap.org/users/sign_up)\n",
    "* New Account 등록 후 API Keys라는 탭에서 API Key 확인 가능\n",
    "* 기본적으로 유료 사이트이지만 현재 날씨, 5일까지의 날씨는 무료로 사용할 수 있음(단 1분에 60번만 호출 가능)\n",
    "* 서울, 토쿄, 뉴욕의 날씨를 가져오는 프로그램 작성(text로 가져와서 json으로 변환하여 일차 출력)\n",
    "  - cities = [\"Seoul,KR\", \"Tokyo,JP\", \"New York,US\"]\n",
    "  - 가져올 정보 : 도시별 날씨(description), 최저 기온(temp_min), 최고 기온(temp_max), 습도(humidity), 기압(pressure), 풍속(speed)\n",
    "  - 기온 데이터는 켈빈 온도로 되어 있으며 섭씨 온도로 변환해서 출력\n",
    "* json 포멧으로 출력 데이터를 아래와 같이 가독력 있게 출력(소수점 2번째에서 반올림 처리)\n",
    "\n",
    "+ 도시 = Seoul\n",
    "| 날씨 = broken clouds\n",
    "| 최저 기온 = -1.0 2\n",
    "| 최고 기온 = 2.0 2\n",
    "| 습도 = 74\n",
    "| 기압 = 1023\n",
    "| 풍속 = 0.5"
   ]
  },
  {
   "cell_type": "markdown",
   "id": "b46aca97",
   "metadata": {},
   "source": [
    "[팀과제] 관심 주제에 대한 사이트 API 학습 및 실사례 소개"
   ]
  }
 ],
 "metadata": {
  "kernelspec": {
   "display_name": "Python 3 (ipykernel)",
   "language": "python",
   "name": "python3"
  },
  "language_info": {
   "codemirror_mode": {
    "name": "ipython",
    "version": 3
   },
   "file_extension": ".py",
   "mimetype": "text/x-python",
   "name": "python",
   "nbconvert_exporter": "python",
   "pygments_lexer": "ipython3",
   "version": "3.8.12"
  }
 },
 "nbformat": 4,
 "nbformat_minor": 5
}
