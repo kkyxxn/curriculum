{
 "cells": [
  {
   "cell_type": "markdown",
   "id": "97b73e81",
   "metadata": {},
   "source": [
    "## Python Numpy 선형대수\n",
    "\n",
    "- 단위행렬 (Unit matrix): np.eye(n)\n",
    "- 대각행렬 (Diagonal matrix): np.diag(x)\n",
    "- 내적 (Dot product, Inner product): np.dot(a, b)\n",
    "- 대각합 (Trace): np.trace(x)\n",
    "- 행렬식 (Matrix Determinant): np.linalg.det(x)\n",
    "- 역행렬 (Inverse of a matrix): np.linalg.inv(x)\n",
    "- 고유값 (Eigenvalue), 고유벡터 (Eigenvector): w, v = np.linalg.eig(x)\n",
    "- 특이값 분해 (Singular Value Decomposition): u, s, vh = np.linalg.svd(A)\n",
    "- 연립방정식 해 풀기 (Solve a linear matrix equation): np.linalg.solve(a, b)\n",
    "- 최소자승 해 풀기 (Compute the Least-squares solution): m, c = np.linalg.lstsq(A, y, rcond=None)[0]\n",
    "\n",
    "https://rfriend.tistory.com/380\n"
   ]
  },
  {
   "cell_type": "code",
   "execution_count": 1,
   "id": "cb71509f",
   "metadata": {},
   "outputs": [
    {
     "data": {
      "text/plain": [
       "array([[0, 1, 2],\n",
       "       [3, 4, 5],\n",
       "       [6, 7, 8]])"
      ]
     },
     "execution_count": 1,
     "metadata": {},
     "output_type": "execute_result"
    }
   ],
   "source": [
    "# 정방행렬/정사각형 행렬 : 같은 수의 행과 열을 갖는 행렬(m * n 행렬)\n",
    "import numpy as np\n",
    "np.arange(9).reshape(3,3)"
   ]
  },
  {
   "cell_type": "code",
   "execution_count": 2,
   "id": "b223693e",
   "metadata": {},
   "outputs": [
    {
     "data": {
      "text/plain": [
       "array([[1, 0, 0],\n",
       "       [0, 2, 0],\n",
       "       [0, 0, 3]])"
      ]
     },
     "execution_count": 2,
     "metadata": {},
     "output_type": "execute_result"
    }
   ],
   "source": [
    "# 대각 정방행렬 : 주대각선 원소외에 모두 0인 정방행렬\n",
    "np.diag([1,2,3])"
   ]
  },
  {
   "cell_type": "code",
   "execution_count": null,
   "id": "94553c8e",
   "metadata": {},
   "outputs": [],
   "source": []
  }
 ],
 "metadata": {
  "kernelspec": {
   "display_name": "Python 3 (ipykernel)",
   "language": "python",
   "name": "python3"
  },
  "language_info": {
   "codemirror_mode": {
    "name": "ipython",
    "version": 3
   },
   "file_extension": ".py",
   "mimetype": "text/x-python",
   "name": "python",
   "nbconvert_exporter": "python",
   "pygments_lexer": "ipython3",
   "version": "3.8.12"
  }
 },
 "nbformat": 4,
 "nbformat_minor": 5
}
