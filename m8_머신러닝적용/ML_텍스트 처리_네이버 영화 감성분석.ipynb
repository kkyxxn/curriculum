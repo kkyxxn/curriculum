{
 "cells": [
  {
   "cell_type": "markdown",
   "id": "e5cdc90d",
   "metadata": {},
   "source": [
    "konlpy 설치\n",
    "- 환경변수 편집 jvm.dll 경로 확인 : C:\\Program Files\\Java\\jdk1.8.0_261\\jre\\bin\\server\n",
    "\n",
    "\n",
    "https://data-scientist-brian-kim.tistory.com/79"
   ]
  },
  {
   "cell_type": "code",
   "execution_count": 1,
   "id": "60455316",
   "metadata": {},
   "outputs": [
    {
     "name": "stdout",
     "output_type": "stream",
     "text": [
      "Collecting konlpy\n",
      "  Downloading konlpy-0.6.0-py2.py3-none-any.whl (19.4 MB)\n",
      "Requirement already satisfied: JPype1>=0.7.0 in c:\\users\\home\\anaconda3\\envs\\cakd5\\lib\\site-packages (from konlpy) (1.3.0)\n",
      "Requirement already satisfied: numpy>=1.6 in c:\\users\\home\\anaconda3\\envs\\cakd5\\lib\\site-packages (from konlpy) (1.22.2)\n",
      "Requirement already satisfied: lxml>=4.1.0 in c:\\users\\home\\anaconda3\\envs\\cakd5\\lib\\site-packages (from konlpy) (4.7.1)\n",
      "Installing collected packages: konlpy\n",
      "Successfully installed konlpy-0.6.0\n"
     ]
    }
   ],
   "source": [
    "!pip install konlpy"
   ]
  },
  {
   "cell_type": "code",
   "execution_count": 2,
   "id": "f0392ff1",
   "metadata": {},
   "outputs": [],
   "source": [
    "import konlpy"
   ]
  },
  {
   "cell_type": "code",
   "execution_count": 10,
   "id": "b9f4e679",
   "metadata": {},
   "outputs": [
    {
     "data": {
      "text/html": [
       "<div>\n",
       "<style scoped>\n",
       "    .dataframe tbody tr th:only-of-type {\n",
       "        vertical-align: middle;\n",
       "    }\n",
       "\n",
       "    .dataframe tbody tr th {\n",
       "        vertical-align: top;\n",
       "    }\n",
       "\n",
       "    .dataframe thead th {\n",
       "        text-align: right;\n",
       "    }\n",
       "</style>\n",
       "<table border=\"1\" class=\"dataframe\">\n",
       "  <thead>\n",
       "    <tr style=\"text-align: right;\">\n",
       "      <th></th>\n",
       "      <th>id</th>\n",
       "      <th>document</th>\n",
       "      <th>label</th>\n",
       "    </tr>\n",
       "  </thead>\n",
       "  <tbody>\n",
       "    <tr>\n",
       "      <th>0</th>\n",
       "      <td>9976970</td>\n",
       "      <td>아 더빙.. 진짜 짜증나네요 목소리</td>\n",
       "      <td>0</td>\n",
       "    </tr>\n",
       "    <tr>\n",
       "      <th>1</th>\n",
       "      <td>3819312</td>\n",
       "      <td>흠...포스터보고 초딩영화줄....오버연기조차 가볍지 않구나</td>\n",
       "      <td>1</td>\n",
       "    </tr>\n",
       "    <tr>\n",
       "      <th>2</th>\n",
       "      <td>10265843</td>\n",
       "      <td>너무재밓었다그래서보는것을추천한다</td>\n",
       "      <td>0</td>\n",
       "    </tr>\n",
       "    <tr>\n",
       "      <th>3</th>\n",
       "      <td>9045019</td>\n",
       "      <td>교도소 이야기구먼 ..솔직히 재미는 없다..평점 조정</td>\n",
       "      <td>0</td>\n",
       "    </tr>\n",
       "    <tr>\n",
       "      <th>4</th>\n",
       "      <td>6483659</td>\n",
       "      <td>사이몬페그의 익살스런 연기가 돋보였던 영화!스파이더맨에서 늙어보이기만 했던 커스틴 ...</td>\n",
       "      <td>1</td>\n",
       "    </tr>\n",
       "  </tbody>\n",
       "</table>\n",
       "</div>"
      ],
      "text/plain": [
       "         id                                           document  label\n",
       "0   9976970                                아 더빙.. 진짜 짜증나네요 목소리      0\n",
       "1   3819312                  흠...포스터보고 초딩영화줄....오버연기조차 가볍지 않구나      1\n",
       "2  10265843                                  너무재밓었다그래서보는것을추천한다      0\n",
       "3   9045019                      교도소 이야기구먼 ..솔직히 재미는 없다..평점 조정      0\n",
       "4   6483659  사이몬페그의 익살스런 연기가 돋보였던 영화!스파이더맨에서 늙어보이기만 했던 커스틴 ...      1"
      ]
     },
     "execution_count": 10,
     "metadata": {},
     "output_type": "execute_result"
    }
   ],
   "source": [
    "import pandas as pd\n",
    "\n",
    "train_df = pd.read_csv('./dataset/ratings_train.txt', sep ='\\t')\n",
    "train_df.head()"
   ]
  },
  {
   "cell_type": "code",
   "execution_count": 11,
   "id": "c1ee6b59",
   "metadata": {},
   "outputs": [
    {
     "data": {
      "text/plain": [
       "id                                                    6483659\n",
       "document    사이몬페그의 익살스런 연기가 돋보였던 영화!스파이더맨에서 늙어보이기만 했던 커스틴 ...\n",
       "label                                                       1\n",
       "Name: 4, dtype: object"
      ]
     },
     "execution_count": 11,
     "metadata": {},
     "output_type": "execute_result"
    }
   ],
   "source": [
    "train_df.loc[4,:]"
   ]
  },
  {
   "cell_type": "code",
   "execution_count": 13,
   "id": "e362cba0",
   "metadata": {},
   "outputs": [
    {
     "data": {
      "text/plain": [
       "'사이몬페그의 익살스런 연기가 돋보였던 영화!스파이더맨에서 늙어보이기만 했던 커스틴 던스트가 너무나도 이뻐보였다'"
      ]
     },
     "execution_count": 13,
     "metadata": {},
     "output_type": "execute_result"
    }
   ],
   "source": [
    "train_df.loc[4,:].document"
   ]
  },
  {
   "cell_type": "code",
   "execution_count": 15,
   "id": "87d2f01e",
   "metadata": {},
   "outputs": [
    {
     "data": {
      "text/plain": [
       "0    75173\n",
       "1    74827\n",
       "Name: label, dtype: int64"
      ]
     },
     "execution_count": 15,
     "metadata": {},
     "output_type": "execute_result"
    }
   ],
   "source": [
    "# 부정 0 -> 75173개, 긍정 1 -> 74827개\n",
    "train_df.label.value_counts()"
   ]
  },
  {
   "cell_type": "code",
   "execution_count": 11,
   "id": "86cf9dfb",
   "metadata": {},
   "outputs": [],
   "source": [
    "# 데이터 전처리 Cleansing -> Tokenization\n",
    "import re\n",
    "# null값있는 경우 공백으로 처리\n",
    "train_df = train_df.fillna('') \n",
    "\n",
    "# sub -> substitute 대체  \n",
    "# r 이스케이프 문자를 있는 그대로 쓰는 형식\n",
    "# \\d+ 숫자 한개 이상\n",
    "# x에 대해서 숫자를 공백으로 바꿔주는 lambda 함수\n",
    "train_df['document'] = train_df['document'].apply(lambda x:re.sub(r\"\\d+\",\" \",x))\n",
    "test_df = pd.read_csv('./dataset/ratings_test.txt',sep='\\t')\n",
    "test_df = test_df.fillna(' ')\n",
    "test_df['document'] = test_df['document'].apply(lambda x:re.sub(r\"\\d+\",\" \",x))\n",
    "\n",
    "train_df.drop('id', axis=1,inplace=True)\n",
    "test_df.drop('id',axis=1, inplace=True)"
   ]
  },
  {
   "cell_type": "code",
   "execution_count": 12,
   "id": "71ab2d1f",
   "metadata": {},
   "outputs": [],
   "source": [
    "from konlpy.tag import Okt\n",
    "import konlpy\n",
    "okt = Okt()\n",
    "\n",
    "def okt_tokenizer(text):\n",
    "    # 입력 인자로 들어온 text를 형태소 단어로 토큰화하여 list 객체 반환\n",
    "    tokens_ko = okt.morphs(text)\n",
    "    return tokens_ko"
   ]
  },
  {
   "cell_type": "markdown",
   "id": "7d94338c",
   "metadata": {},
   "source": [
    "### 텍스트 전처리 순서\n",
    "- 클렌징 > 토큰화 > 벡터화(CountVectorizer, Term Frequency - Inverse Document Frequency)"
   ]
  },
  {
   "cell_type": "code",
   "execution_count": null,
   "id": "002e85d6",
   "metadata": {},
   "outputs": [
    {
     "name": "stderr",
     "output_type": "stream",
     "text": [
      "C:\\Users\\HOME\\anaconda3\\envs\\cakd5\\lib\\site-packages\\sklearn\\feature_extraction\\text.py:516: UserWarning: The parameter 'token_pattern' will not be used since 'tokenizer' is not None'\n",
      "  warnings.warn(\n"
     ]
    }
   ],
   "source": [
    "from sklearn.feature_extraction.text import TfidfVectorizer\n",
    "from sklearn.linear_model import LogisticRegression\n",
    "from sklearn.model_selection import GridSearchCV\n",
    "import warnings \n",
    "warnings.filterwarnings('ignore')\n",
    "\n",
    "# max_df 빈도수 0 ~ 90%까지의 단어만 피처로 추출 -> 상위 10%는 피처로 추출하지 않는다\n",
    "# min_df 전체 문서에 걸쳐서 3번 이하로 나타나는 단어는 피처로 추출하지 않는다\n",
    "# n_gram_range BOW모델의 단어 순서를 어느 정도 보강하기 위한 n_garm 범위 설정 -> 튜플 형태로 (범위 최솟값, 최대값) 지정\n",
    "tfidf_vect = TfidfVectorizer(tokenizer=okt_tokenizer, ngram_range=(1,2), min_df=3, max_df=0.9)\n",
    "tfidf_vect.fit(train_df['document'])\n",
    "tfidf_matrix_train = tfidf_vect.transform(train_df['document'])"
   ]
  },
  {
   "cell_type": "code",
   "execution_count": null,
   "id": "20b8603b",
   "metadata": {},
   "outputs": [],
   "source": [
    "# [과제] lr으로 모델링 및 하이퍼 파라미터 튜닝후 테스트 데이터로 평가하세요."
   ]
  }
 ],
 "metadata": {
  "kernelspec": {
   "display_name": "Python 3 (ipykernel)",
   "language": "python",
   "name": "python3"
  },
  "language_info": {
   "codemirror_mode": {
    "name": "ipython",
    "version": 3
   },
   "file_extension": ".py",
   "mimetype": "text/x-python",
   "name": "python",
   "nbconvert_exporter": "python",
   "pygments_lexer": "ipython3",
   "version": "3.8.12"
  }
 },
 "nbformat": 4,
 "nbformat_minor": 5
}
